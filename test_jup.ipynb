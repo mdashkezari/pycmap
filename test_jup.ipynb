{
 "cells": [
  {
   "cell_type": "code",
   "execution_count": 1,
   "metadata": {},
   "outputs": [],
   "source": [
    "# def __init__(self,\n",
    "#              token=None,\n",
    "#              baseURL=None,\n",
    "#              headers=None,\n",
    "#              vizEngine=None,\n",
    "#              exportDir=None,\n",
    "#              exportFormat=None,\n",
    "#              figureDir=None,\n",
    "#              ):\n",
    "#     \"\"\"\n",
    "#     :param str token: access token to make client requests.\n",
    "#     :param str baseURL: root endpoint of Simons CMAP API.\n",
    "#     :param dict headers: additional headers to add to requests.\n",
    "#     :param str vizEngine: data visualization library used to render the graphs.\n",
    "#     :param str exportDir: path to local directory where the exported data are stored.\n",
    "#     :param str exportFormat: file format of the exported files.\n",
    "#     \"\"\"\n",
    "\n"
   ]
  },
  {
   "cell_type": "code",
   "execution_count": 2,
   "metadata": {},
   "outputs": [],
   "source": [
    "import pycmap\n",
    "api = pycmap.API(token='08d91d80-ae64-11e9-8f77-f3e8f5c1f730', vizEngine='plotly')\n"
   ]
  },
  {
   "cell_type": "markdown",
   "metadata": {},
   "source": [
    "# catalog"
   ]
  },
  {
   "cell_type": "code",
   "execution_count": null,
   "metadata": {},
   "outputs": [],
   "source": [
    "api.get_catalog()\n"
   ]
  },
  {
   "cell_type": "markdown",
   "metadata": {},
   "source": [
    "# metadata"
   ]
  },
  {
   "cell_type": "code",
   "execution_count": null,
   "metadata": {},
   "outputs": [],
   "source": [
    "api.get_metadata(['tblsst_AVHRR_OI_NRT', 'tblArgoMerge_REP'], ['sst', 'argo_merge_salinity_adj'])"
   ]
  },
  {
   "cell_type": "markdown",
   "metadata": {},
   "source": [
    "# dataset head"
   ]
  },
  {
   "cell_type": "code",
   "execution_count": null,
   "metadata": {},
   "outputs": [],
   "source": [
    "api.head('tblFlombaum')"
   ]
  },
  {
   "cell_type": "markdown",
   "metadata": {},
   "source": [
    "# data set columns"
   ]
  },
  {
   "cell_type": "code",
   "execution_count": null,
   "metadata": {},
   "outputs": [],
   "source": [
    "api.columns('tblAMT13_Chisholm')"
   ]
  },
  {
   "cell_type": "markdown",
   "metadata": {},
   "source": [
    "# cruise list"
   ]
  },
  {
   "cell_type": "code",
   "execution_count": null,
   "metadata": {},
   "outputs": [],
   "source": [
    "api.cruises()"
   ]
  },
  {
   "cell_type": "markdown",
   "metadata": {},
   "source": [
    "# cruise track"
   ]
  },
  {
   "cell_type": "code",
   "execution_count": null,
   "metadata": {
    "scrolled": true
   },
   "outputs": [],
   "source": [
    "api.cruise_trajectory('diel')"
   ]
  },
  {
   "cell_type": "markdown",
   "metadata": {},
   "source": [
    "# cruise bounds"
   ]
  },
  {
   "cell_type": "code",
   "execution_count": null,
   "metadata": {},
   "outputs": [],
   "source": [
    "api.cruise_bounds('KOK1606')"
   ]
  },
  {
   "cell_type": "markdown",
   "metadata": {},
   "source": [
    "# custom query"
   ]
  },
  {
   "cell_type": "code",
   "execution_count": null,
   "metadata": {},
   "outputs": [],
   "source": [
    "api.query('select * from tblSensors')"
   ]
  },
  {
   "cell_type": "markdown",
   "metadata": {},
   "source": [
    "# stored procedure"
   ]
  },
  {
   "cell_type": "code",
   "execution_count": null,
   "metadata": {},
   "outputs": [],
   "source": [
    "\n",
    "api.subset(\n",
    "          spName='uspSpaceTime', \n",
    "          table='tblCHL_REP', \n",
    "          variable='chl', \n",
    "          dt1='2016-04-30', \n",
    "          dt2='2016-04-30', \n",
    "          lat1=10, \n",
    "          lat2=70, \n",
    "          lon1=-180, \n",
    "          lon2=-80, \n",
    "          depth1=0, \n",
    "          depth2=0.5\n",
    "          )\n"
   ]
  },
  {
   "cell_type": "code",
   "execution_count": null,
   "metadata": {},
   "outputs": [],
   "source": [
    "api.time_series(\n",
    "               table='tblCHL_REP', \n",
    "               variable='chl', \n",
    "               dt1='2014-04-30', \n",
    "               dt2='2017-04-30', \n",
    "               lat1=10, \n",
    "               lat2=70, \n",
    "               lon1=-180, \n",
    "               lon2=-80, \n",
    "               depth1=0, \n",
    "               depth2=0.5,\n",
    "               interval='y'  \n",
    "               )\n"
   ]
  },
  {
   "cell_type": "code",
   "execution_count": null,
   "metadata": {
    "scrolled": false
   },
   "outputs": [],
   "source": [
    "api.match(\n",
    "         sourceTable='tblSeaFlow', \n",
    "         sourceVar='synecho_abundance', \n",
    "         targetTables=['tblCHL_REP', 'tblPisces_NRT'], \n",
    "         targetVars=['chl', 'Fe'], \n",
    "         dt1='2016-04-20', \n",
    "         dt2='2016-05-04', \n",
    "         lat1=20, \n",
    "         lat2=40, \n",
    "         lon1=-160, \n",
    "         lon2=-157, \n",
    "         depth1=0, \n",
    "         depth2=5, \n",
    "         temporalTolerance=4, \n",
    "         latTolerance=0.5, \n",
    "         lonTolerance=0.5, \n",
    "         depthTolerance=5\n",
    "         )"
   ]
  },
  {
   "cell_type": "markdown",
   "metadata": {},
   "source": [
    "# along cruise track"
   ]
  },
  {
   "cell_type": "code",
   "execution_count": null,
   "metadata": {
    "scrolled": true
   },
   "outputs": [],
   "source": [
    "\n",
    "# along = api.along_track(\n",
    "#                         cruise='KOK1606', \n",
    "#                         tables=['tblSeaFlow', 'tblSSS_NRT', 'tblCHL_REP'], \n",
    "#                         variables=['synecho_abundance', 'sss', 'chl'], \n",
    "#                         temporalTolerance=[1, 1, 4], \n",
    "#                         latTolerance=[0.1, 0.25, 0.25], \n",
    "#                         lonTolerance=[0.1, 0.25, 0.25], \n",
    "#                         depthTolerance=5\n",
    "#                         )\n",
    "\n",
    "\n",
    "along = api.along_track(\n",
    "                        cruise='KOK1606', \n",
    "                        tables=['tblCHL_REP', 'tblSSS_NRT'], \n",
    "                        variables=['chl', 'sss'], \n",
    "                        temporalTolerance=[4, 1],\n",
    "                        depth1=0,\n",
    "                        depth2=5,\n",
    "                        latTolerance=[ 0.25, 0.25], \n",
    "                        lonTolerance=[0.25, 0.25], \n",
    "                        depthTolerance=5\n",
    "                        )\n",
    "\n",
    "\n",
    "along\n",
    "\n",
    "\n"
   ]
  },
  {
   "cell_type": "code",
   "execution_count": null,
   "metadata": {
    "scrolled": true
   },
   "outputs": [],
   "source": [
    "along = api.along_track(\n",
    "                        cruise='Gradients_2', \n",
    "                        tables=['tblSSS_NRT'], \n",
    "                        variables=['sss'], \n",
    "    depth1=0,\n",
    "    depth2=5,\n",
    "                        temporalTolerance=[1], \n",
    "                        latTolerance=[  0.25], \n",
    "                        lonTolerance=[0.25], \n",
    "                        depthTolerance=5\n",
    "                        )\n",
    "\n",
    "\n",
    "along"
   ]
  },
  {
   "cell_type": "markdown",
   "metadata": {},
   "source": [
    "<br>\n",
    "<br>\n",
    "<br>\n",
    "<br>\n",
    "<br>\n",
    "<br>\n",
    "<h1> Visualization </h1>\n",
    "<br>\n",
    "<br>\n",
    "<br>\n",
    "<br>\n",
    "<br>\n",
    "<br>\n"
   ]
  },
  {
   "cell_type": "markdown",
   "metadata": {},
   "source": [
    "# histogram"
   ]
  },
  {
   "cell_type": "code",
   "execution_count": null,
   "metadata": {},
   "outputs": [],
   "source": [
    "\n",
    "from pycmap.viz import plot_hist\n",
    "\n",
    "go = plot_hist(\n",
    "              tables=['tblArgoMerge_REP'], \n",
    "              variables=['argo_merge_salinity_adj'], \n",
    "              dt1='2016-04-30', \n",
    "              dt2='2016-06-30', \n",
    "              lat1=10, \n",
    "              lat2=70, \n",
    "              lon1=-180, \n",
    "              lon2=-80, \n",
    "              depth1=0, \n",
    "              depth2=100, \n",
    "              exportDataFlag=False,\n",
    "              show=True  \n",
    "              )"
   ]
  },
  {
   "cell_type": "code",
   "execution_count": null,
   "metadata": {},
   "outputs": [],
   "source": [
    "go[0].pdf=True\n",
    "go[0].xlabel = 'change xlable'\n",
    "go[0].title='change title'\n",
    "go[0].width = 500\n",
    "go[0].height = 500\n",
    "go[0].render()"
   ]
  },
  {
   "cell_type": "markdown",
   "metadata": {},
   "source": [
    "# time series"
   ]
  },
  {
   "cell_type": "code",
   "execution_count": null,
   "metadata": {},
   "outputs": [],
   "source": [
    "from pycmap.viz import plot_timeseries\n",
    "\n",
    "go = plot_timeseries(\n",
    "                    tables=['tblAltimetry_REP'], \n",
    "                    variables=['adt'], \n",
    "                    dt1='2016-04-30', \n",
    "                    dt2='2017-04-30', \n",
    "                    lat1=30, \n",
    "                    lat2=32, \n",
    "                    lon1=-160, \n",
    "                    lon2=-158, \n",
    "                    depth1=0, \n",
    "                    depth2=5, \n",
    "                    exportDataFlag=False,\n",
    "                    show=True  \n",
    "                    )\n"
   ]
  },
  {
   "cell_type": "code",
   "execution_count": null,
   "metadata": {},
   "outputs": [],
   "source": [
    "go[0].xlabel = 'change xlabel'\n",
    "go[0].ylabel = 'change ylabel'\n",
    "go[0].title='change title'\n",
    "go[0].width = 500\n",
    "go[0].height = 500\n",
    "go[0].msize= 5\n",
    "go[0].fillAlpha=0.8\n",
    "go[0].render()"
   ]
  },
  {
   "cell_type": "code",
   "execution_count": null,
   "metadata": {},
   "outputs": [],
   "source": [
    "from pycmap.viz import plot_timeseries\n",
    "\n",
    "go = plot_timeseries(\n",
    "                    tables=['tblAltimetry_REP'], \n",
    "                    variables=['adt'], \n",
    "                    dt1='1993-01-01', \n",
    "                    dt2='2018-12-31', \n",
    "                    lat1=30, \n",
    "                    lat2=32, \n",
    "                    lon1=-160, \n",
    "                    lon2=-158, \n",
    "                    depth1=0, \n",
    "                    depth2=5, \n",
    "                    exportDataFlag=False,\n",
    "                    show=True,\n",
    "                    interval='y'    \n",
    "                    )\n",
    "\n",
    "\n",
    "\n",
    "# interval options:\n",
    "# a/y/year/yearly/annual \n",
    "# q/s/season/seasonal/seasonality/quarterly  \n",
    "# m/month/monthly \n",
    "# w/week/weekly\n",
    "# '' (empty string for original temporal resolution)"
   ]
  },
  {
   "cell_type": "markdown",
   "metadata": {},
   "source": [
    "# plot XY"
   ]
  },
  {
   "cell_type": "code",
   "execution_count": null,
   "metadata": {
    "scrolled": true
   },
   "outputs": [],
   "source": [
    "from pycmap.viz import plot_xy\n",
    "go = plot_xy(\n",
    "            xTables=['tblsst_AVHRR_OI_NRT', 'tblPisces_NRT'], \n",
    "            xVars=['sst', 'NO3'],\n",
    "            yTables=['tblAltimetry_REP', 'tblsst_AVHRR_OI_NRT'], \n",
    "            yVars=['adt', 'sst'], \n",
    "            dt1='2016-04-20', \n",
    "            dt2='2016-05-20', \n",
    "            lat1=30, \n",
    "            lat2=32, \n",
    "            lon1=-160, \n",
    "            lon2=-158, \n",
    "            depth1=0, \n",
    "            depth2=0.5, \n",
    "            temporalTolerances=[4, 4],\n",
    "            latTolerances=[0.125, 0.125],\n",
    "            lonTolerances=[0.125, 0.125],\n",
    "            depthTolerances=[0.5, 0.5],\n",
    "            method='spearman', \n",
    "            exportDataFlag=False, \n",
    "            show=True\n",
    "            )\n",
    "\n",
    "# go[0].xlabel = 'change xlabel'\n",
    "# go[0].title='new title'\n",
    "# go[0].width = 300\n",
    "# go[0].height = 300\n",
    "# go[0].msize=10\n",
    "# go[0].fillAlpha=0.7\n",
    "# go[0].render()"
   ]
  },
  {
   "cell_type": "markdown",
   "metadata": {},
   "source": [
    "# cruise track"
   ]
  },
  {
   "cell_type": "code",
   "execution_count": null,
   "metadata": {},
   "outputs": [],
   "source": [
    "from pycmap.viz import plot_cruise_track\n",
    "plot_cruise_track('KM13')\n"
   ]
  },
  {
   "cell_type": "markdown",
   "metadata": {},
   "source": [
    "# basic regional map"
   ]
  },
  {
   "cell_type": "code",
   "execution_count": null,
   "metadata": {
    "scrolled": false
   },
   "outputs": [],
   "source": [
    "from pycmap.viz import plot_map\n",
    "\n",
    "go = plot_map(\n",
    "             tables=['tblsst_A\n",
    "             dt1='2016-04-30', VHRR_OI_NRT', 'tblPisces_NRT', 'tblWOA_Climatology'], \n",
    "             variables=['sst', 'Fe', 'phosphate_WOA_clim'], \n",
    "             dt2='2016-04-30', \n",
    "             lat1=10, \n",
    "             lat2=70, \n",
    "             lon1=-180, \n",
    "             lon2=-80, \n",
    "             depth1=0, \n",
    "             depth2=0.5, \n",
    "             exportDataFlag=False,\n",
    "             show=True\n",
    "             )"
   ]
  },
  {
   "cell_type": "code",
   "execution_count": null,
   "metadata": {},
   "outputs": [],
   "source": [
    "# change colormap: any matplotlib or cmocean colormap works\n",
    "# https://matplotlib.org/3.1.0/tutorials/colors/colormaps.html\n",
    "# https://matplotlib.org/cmocean/\n",
    "# go[1].cmap = cmocean.cm.thermal\n",
    "\n",
    "\n",
    "go[1].cmap = 'PRGn'\n",
    "go[1].vmin = 0\n",
    "go[1].vmax = 5e-5\n",
    "go[1].width = 900\n",
    "go[1].height = 700\n",
    "go[1].render()"
   ]
  },
  {
   "cell_type": "markdown",
   "metadata": {},
   "source": [
    "# conour"
   ]
  },
  {
   "cell_type": "code",
   "execution_count": null,
   "metadata": {
    "scrolled": false
   },
   "outputs": [],
   "source": [
    "\n",
    "from pycmap.viz import plot_map\n",
    "\n",
    "go = plot_map(\n",
    "             tables=['tblsst_AVHRR_OI_NRT'], \n",
    "             variables=['sst'], \n",
    "             dt1='2016-04-30', \n",
    "             dt2='2016-04-30', \n",
    "             lat1=10, \n",
    "             lat2=70, \n",
    "             lon1=-180, \n",
    "             lon2=-80, \n",
    "             depth1=0, \n",
    "             depth2=500, \n",
    "             exportDataFlag=False,\n",
    "             show=True,   \n",
    "             levels=10\n",
    "             )"
   ]
  },
  {
   "cell_type": "markdown",
   "metadata": {},
   "source": [
    "# 3D surface"
   ]
  },
  {
   "cell_type": "code",
   "execution_count": null,
   "metadata": {
    "scrolled": false
   },
   "outputs": [],
   "source": [
    "\n",
    "from pycmap.viz import plot_map\n",
    "\n",
    "go = plot_map(\n",
    "             tables=['tblPisces_NRT', 'tblWOA_Climatology', 'tblAltimetry_REP', 'tblsst_AVHRR_OI_NRT'], \n",
    "             variables=['NO3', 'density_WOA_clim', 'adt', 'sst'], \n",
    "             dt1='2016-04-30', \n",
    "             dt2='2016-04-30', \n",
    "             lat1=-90, \n",
    "             lat2=90, \n",
    "             lon1=-180, \n",
    "             lon2=180, \n",
    "             depth1=0, \n",
    "             depth2=0.5, \n",
    "             exportDataFlag=False, \n",
    "             show=True,   \n",
    "             surface3D=True\n",
    "             )"
   ]
  },
  {
   "cell_type": "markdown",
   "metadata": {},
   "source": [
    "# section"
   ]
  },
  {
   "cell_type": "code",
   "execution_count": null,
   "metadata": {},
   "outputs": [],
   "source": [
    "from pycmap.viz import plot_section\n",
    "\n",
    "go = plot_section(\n",
    "                 tables=['tblPisces_NRT'], \n",
    "                 variables=['NO3'], \n",
    "                 dt1='2016-04-30', \n",
    "                 dt2='2016-04-30', \n",
    "                 lat1=10, \n",
    "                 lat2=60, \n",
    "                 lon1=-160, \n",
    "                 lon2=-158, \n",
    "                 depth1=0, \n",
    "                 depth2=5000, \n",
    "                 exportDataFlag=False, \n",
    "                 show=True\n",
    "                 )"
   ]
  },
  {
   "cell_type": "markdown",
   "metadata": {},
   "source": [
    "# section contour"
   ]
  },
  {
   "cell_type": "code",
   "execution_count": null,
   "metadata": {},
   "outputs": [],
   "source": [
    "from pycmap.viz import plot_section\n",
    "\n",
    "go = plot_section(\n",
    "                 tables=['tblPisces_NRT'], \n",
    "                 variables=['NO3'], \n",
    "                 dt1='2016-04-30', \n",
    "                 dt2='2016-04-30', \n",
    "                 lat1=10, \n",
    "                 lat2=60, \n",
    "                 lon1=-160, \n",
    "                 lon2=-158, \n",
    "                 depth1=0, \n",
    "                 depth2=5000, \n",
    "                 exportDataFlag=False, \n",
    "                 show=True,\n",
    "                 levels=10\n",
    "                 )"
   ]
  },
  {
   "cell_type": "code",
   "execution_count": null,
   "metadata": {},
   "outputs": [],
   "source": [
    "go[0].width = 800\n",
    "go[0].height = 700\n",
    "go[0].vmin = 5\n",
    "go[0].vmax = 40\n",
    "go[0].levels=20\n",
    "go[0].render()\n"
   ]
  },
  {
   "cell_type": "markdown",
   "metadata": {},
   "source": [
    "# correlation map"
   ]
  },
  {
   "cell_type": "code",
   "execution_count": null,
   "metadata": {},
   "outputs": [],
   "source": [
    "from pycmap.viz import plot_corr_map\n",
    "\n",
    "# grad1 cruise\n",
    "go = plot_corr_map(\n",
    "                sourceTable='tblSeaFlow', \n",
    "                sourceVar='synecho_abundance',\n",
    "                targetTables=['tblCHL_REP', 'tblPisces_NRT', 'tblPisces_NRT', 'tblSSS_NRT'], \n",
    "                targetVars=['chl', 'Fe', 'NO3', 'SSS'], \n",
    "                dt1='2016-04-20', \n",
    "                dt2='2016-05-04', \n",
    "                lat1=20, \n",
    "                lat2=40, \n",
    "                lon1=-160, \n",
    "                lon2=-157, \n",
    "                depth1=0, \n",
    "                depth2=5, \n",
    "                temporalTolerance=4,\n",
    "                latTolerance=0.25, \n",
    "                lonTolerance=0.25, \n",
    "                depthTolerance=5,\n",
    "                method='spearman', \n",
    "                exportDataFlag=False, \n",
    "                show=True\n",
    "                )"
   ]
  },
  {
   "cell_type": "code",
   "execution_count": null,
   "metadata": {},
   "outputs": [],
   "source": [
    "from pycmap.viz import plot_corr_map\n",
    "\n",
    "# grad1 cruise\n",
    "go = plot_corr_map(\n",
    "                sourceTable='tblSeaFlow', \n",
    "                sourceVar='synecho_abundance',\n",
    "                targetTables=['tblCHL_REP', 'tblPisces_NRT', 'tblPisces_NRT', 'tblSSS_NRT'], \n",
    "                targetVars=['chl', 'Fe', 'NO3', 'SSS'], \n",
    "                dt1='2016-04-20', \n",
    "                dt2='2016-05-04', \n",
    "                lat1=20, \n",
    "                lat2=40, \n",
    "                lon1=-160, \n",
    "                lon2=-157, \n",
    "                depth1=0, \n",
    "                depth2=5, \n",
    "                temporalTolerance=[\n",
    "                                  4, # tblCHL_REP\n",
    "                                  4, # tblPisces_NRT  \n",
    "                                  4, # tblPisces_NRT  \n",
    "                                  0 # tblSSS_NRT  \n",
    "                                  ],\n",
    "                latTolerance=[\n",
    "                             0.125, # tblCHL_REP\n",
    "                             0.25,  # tblPisces_NRT\n",
    "                             0.25,  # tblPisces_NRT\n",
    "                             0.125  # tblSSS_NRT\n",
    "                             ],\n",
    "                lonTolerance=[\n",
    "                             0.125, # tblCHL_REP\n",
    "                             0.25,  # tblPisces_NRT\n",
    "                             0.25,  # tblPisces_NRT\n",
    "                             0.125  # tblSSS_NRT\n",
    "                             ],\n",
    "                depthTolerance=[\n",
    "                               0, # tblCHL_REP\n",
    "                               5, # tblPisces_NRT  \n",
    "                               5, # tblPisces_NRT  \n",
    "                               0 # tblSSS_NRT  \n",
    "                               ],\n",
    "                method='spearman', \n",
    "                exportDataFlag=False, \n",
    "                show=True\n",
    "                )"
   ]
  },
  {
   "cell_type": "code",
   "execution_count": null,
   "metadata": {},
   "outputs": [],
   "source": [
    "from pycmap.viz import plot_corr_map\n",
    "\n",
    "# AMT13 cruise\n",
    "go = plot_corr_map(\n",
    "                sourceTable='tblAMT13_Chisholm', \n",
    "                sourceVar='MIT9313PCR_Chisholm',\n",
    "                targetTables=[\n",
    "                             'tblAMT13_Chisholm', \n",
    "                             'tblAMT13_Chisholm', \n",
    "                             'tblAMT13_Chisholm', \n",
    "                             'tblAMT13_Chisholm', \n",
    "                             'tblAMT13_Chisholm', \n",
    "                             'tblAMT13_Chisholm', \n",
    "                             'tblAMT13_Chisholm', \n",
    "                             'tblAMT13_Chisholm', \n",
    "                             'tblAMT13_Chisholm', \n",
    "                             'tblWOA_Climatology', \n",
    "                             'tblWOA_Climatology', \n",
    "                             'tblWOA_Climatology'\n",
    "                             ], \n",
    "                targetVars=[\n",
    "                           'TQPCR_MED4_MIT9312_MIT9211_NATL2A_SS120_MIT9313_Chisholm', \n",
    "                           'MIT9312PCR_Chisholm', \n",
    "                           'MED4PCR_Chisholm', \n",
    "                           'NATL2APCR_Chisholm', \n",
    "                           'SS120PCR_Chisholm', \n",
    "                           'sbact_Chisholm', \n",
    "                           'temp_C_AMT13', \n",
    "                           'Light_Quanta_m2_sec_AMT13', \n",
    "                           'chlA_AMT13', \n",
    "                           'nitrate_WOA_clim', \n",
    "                           'phosphate_WOA_clim', \n",
    "                           'silicate_WOA_clim'\n",
    "                           ], \n",
    "                dt1='2003-09-14', \n",
    "                dt2='2003-10-12', \n",
    "                lat1=-48, \n",
    "                lat2=48, \n",
    "                lon1=-52, \n",
    "                lon2=-11, \n",
    "                depth1=0, \n",
    "                depth2=240, \n",
    "                temporalTolerance=[\n",
    "                                  0,\n",
    "                                  0,\n",
    "                                  0,\n",
    "                                  0,\n",
    "                                  0,\n",
    "                                  0,\n",
    "                                  0,\n",
    "                                  0,\n",
    "                                  0,\n",
    "                                  0,\n",
    "                                  0,\n",
    "                                  0  \n",
    "                                  ],\n",
    "                latTolerance=[\n",
    "                             0, \n",
    "                             0,  \n",
    "                             0,  \n",
    "                             0,\n",
    "                             0, \n",
    "                             0,  \n",
    "                             0,  \n",
    "                             0,\n",
    "                             0,   \n",
    "                             0.5,   \n",
    "                             0.5,   \n",
    "                             0.5   \n",
    "                             ],\n",
    "                lonTolerance=[\n",
    "                             0, \n",
    "                             0,  \n",
    "                             0,  \n",
    "                             0,\n",
    "                             0,\n",
    "                             0, \n",
    "                             0, \n",
    "                             0,\n",
    "                             0,   \n",
    "                             0.5,   \n",
    "                             0.5,   \n",
    "                             0.5   \n",
    "                             ],\n",
    "                depthTolerance=[\n",
    "                               0,\n",
    "                               0,\n",
    "                               0,\n",
    "                               0,\n",
    "                               0,\n",
    "                               0,\n",
    "                               0,\n",
    "                               0,\n",
    "                               0,\n",
    "                               5, \n",
    "                               5, \n",
    "                               5 \n",
    "                               ],\n",
    "                method='spearman', \n",
    "                exportDataFlag=True, \n",
    "                show=True\n",
    "                )"
   ]
  },
  {
   "cell_type": "code",
   "execution_count": null,
   "metadata": {},
   "outputs": [],
   "source": [
    "# print correlation values\n",
    "# print(go.z)\n",
    "# print(go.x)\n",
    "# print(go.y)\n",
    "import numpy as np\n",
    "\n",
    "go.z = np.abs(go.z)\n",
    "go.cmap = 'Greys'\n",
    "go.width = 1000\n",
    "go.height = 1000\n",
    "go.render()"
   ]
  },
  {
   "cell_type": "markdown",
   "metadata": {},
   "source": [
    "# Correlation Map (along Cruise Track)"
   ]
  },
  {
   "cell_type": "code",
   "execution_count": null,
   "metadata": {},
   "outputs": [],
   "source": [
    "from pycmap.viz import plot_cruise_corr_map\n",
    "\n",
    "go = plot_cruise_corr_map(\n",
    "                    cruise='Gradients_2', \n",
    "                    targetTables=['tblSeaFlow', 'tblSeaFlow', 'tblSeaFlow', 'tblSST_AVHRR_OI_NRT', 'tblSSS_NRT', 'tblCHL_REP', 'tblPisces_NRT', 'tblPisces_NRT', 'tblPisces_NRT', 'tblPisces_NRT', 'tblWOA_Climatology', 'tblWOA_Climatology', 'tblWOA_Climatology', 'tblWOA_Climatology'], \n",
    "                    targetVars=['synecho_abundance', 'picoeuk_abundance', 'prochloro_abundance', 'sst', 'sss', 'chl', 'NO3', 'Fe', 'O2', 'PO4', 'density_WOA_clim', 'nitrate_WOA_clim', 'phosphate_WOA_clim', 'silicate_WOA_clim'], \n",
    "                    depth1 = 0,\n",
    "                    depth2 = 5,\n",
    "                    temporalTolerance=[0, 0, 0, 1, 1, 4, 4, 4, 4, 4, 0, 0, 0, 0], \n",
    "                    latTolerance=[0.1, 0.1, 0.1, 0.25, 0.25, 0.25, 0.5, 0.5, 0.5, 0.5, 0.5, 0.5, 0.5, 0.5], \n",
    "                    lonTolerance=[0.1,0.1, 0.1, 0.25, 0.25, 0.25, 0.5, 0.5, 0.5, 0.5, 0.5, 0.5, 0.5, 0.5], \n",
    "                    depthTolerance=5,\n",
    "                    method='spearman', \n",
    "                    exportDataFlag=False, \n",
    "                    show=True\n",
    "                 )"
   ]
  },
  {
   "cell_type": "markdown",
   "metadata": {},
   "source": [
    "<br>\n",
    "<br>\n",
    "<br>\n",
    "<br>\n",
    "<br>\n",
    "<br>\n",
    "<h1> Analysis (deepC) </h1>\n",
    "<br>\n",
    "<br>\n",
    "<br>\n",
    "<br>\n",
    "<br>\n",
    "<br>\n"
   ]
  },
  {
   "cell_type": "code",
   "execution_count": 30,
   "metadata": {
    "scrolled": false
   },
   "outputs": [
    {
     "name": "stdout",
     "output_type": "stream",
     "text": [
      "****************\n",
      "Preparing Gradients_1 cruise...\n",
      "****************\n"
     ]
    },
    {
     "data": {
      "application/vnd.jupyter.widget-view+json": {
       "model_id": "e185c997d0a0495ca27e38e0154aafe3",
       "version_major": 2,
       "version_minor": 0
      },
      "text/plain": [
       "HBox(children=(IntProgress(value=0, description='overall', max=14, style=ProgressStyle(description_width='init…"
      ]
     },
     "metadata": {},
     "output_type": "display_data"
    },
    {
     "name": "stdout",
     "output_type": "stream",
     "text": [
      "\n",
      "1: synecho_abundance matched.\n",
      "\n",
      "2: picoeuk_abundance matched.\n",
      "\n",
      "3: prochloro_abundance matched.\n",
      "\n",
      "4: sst matched.\n",
      "\n",
      "5: sss matched.\n",
      "\n",
      "6: chl matched.\n",
      "\n",
      "7: NO3 matched.\n",
      "\n",
      "8: Fe matched.\n",
      "\n",
      "9: O2 matched.\n",
      "\n",
      "10: PO4 matched.\n",
      "\n",
      "11: density_WOA_clim matched.\n",
      "\n",
      "12: nitrate_WOA_clim matched.\n",
      "\n",
      "13: phosphate_WOA_clim matched.\n",
      "\n",
      "14: silicate_WOA_clim matched.\n",
      "****************\n",
      "Preparing Gradients_2 cruise...\n",
      "****************\n"
     ]
    },
    {
     "data": {
      "application/vnd.jupyter.widget-view+json": {
       "model_id": "7f221951ac6247d58540b1fe9663d3b6",
       "version_major": 2,
       "version_minor": 0
      },
      "text/plain": [
       "HBox(children=(IntProgress(value=0, description='overall', max=14, style=ProgressStyle(description_width='init…"
      ]
     },
     "metadata": {},
     "output_type": "display_data"
    },
    {
     "name": "stdout",
     "output_type": "stream",
     "text": [
      "\n",
      "1: synecho_abundance matched.\n",
      "\n",
      "2: picoeuk_abundance matched.\n",
      "\n",
      "3: prochloro_abundance matched.\n",
      "\n",
      "4: sst matched.\n",
      "\n",
      "5: sss matched.\n",
      "\n",
      "6: chl matched.\n",
      "\n",
      "7: NO3 matched.\n",
      "\n",
      "8: Fe matched.\n",
      "\n",
      "9: O2 matched.\n",
      "\n",
      "10: PO4 matched.\n",
      "\n",
      "11: density_WOA_clim matched.\n",
      "\n",
      "12: nitrate_WOA_clim matched.\n",
      "\n",
      "13: phosphate_WOA_clim matched.\n",
      "\n",
      "14: silicate_WOA_clim matched.\n",
      "****************\n",
      "Preparing diel cruise...\n",
      "****************\n"
     ]
    },
    {
     "data": {
      "application/vnd.jupyter.widget-view+json": {
       "model_id": "f375bdda58f0467b88c4e71e30a3147d",
       "version_major": 2,
       "version_minor": 0
      },
      "text/plain": [
       "HBox(children=(IntProgress(value=0, description='overall', max=14, style=ProgressStyle(description_width='init…"
      ]
     },
     "metadata": {},
     "output_type": "display_data"
    },
    {
     "name": "stdout",
     "output_type": "stream",
     "text": [
      "\n",
      "1: synecho_abundance matched.\n",
      "\n",
      "2: picoeuk_abundance matched.\n",
      "\n",
      "3: prochloro_abundance matched.\n",
      "\n",
      "4: sst matched.\n",
      "\n",
      "5: sss matched.\n",
      "\n",
      "6: chl matched.\n",
      "\n",
      "7: NO3 matched.\n",
      "\n",
      "8: Fe matched.\n",
      "\n",
      "9: O2 matched.\n",
      "\n",
      "10: PO4 matched.\n",
      "\n",
      "11: density_WOA_clim matched.\n",
      "\n",
      "12: nitrate_WOA_clim matched.\n",
      "\n",
      "13: phosphate_WOA_clim matched.\n",
      "\n",
      "14: silicate_WOA_clim matched.\n"
     ]
    }
   ],
   "source": [
    "\n",
    "import pandas as pd\n",
    "from pycmap.clean import Clean\n",
    "\n",
    "\n",
    "cruises = ['Gradients_1', 'Gradients_2', 'diel']\n",
    "df = pd.DataFrame({})\n",
    "for cruise in cruises:\n",
    "    prinr('')\n",
    "    print('****************')\n",
    "    print('Preparing %s cruise...' % cruise)\n",
    "    print('****************')\n",
    "    data = api.along_track(\n",
    "                          cruise=cruise,     \n",
    "                          tables=['tblSeaFlow', 'tblSeaFlow', 'tblSeaFlow', 'tblSST_AVHRR_OI_NRT', 'tblSSS_NRT', 'tblCHL_REP', 'tblPisces_NRT', 'tblPisces_NRT', 'tblPisces_NRT', 'tblPisces_NRT', 'tblWOA_Climatology', 'tblWOA_Climatology', 'tblWOA_Climatology', 'tblWOA_Climatology'], \n",
    "                          variables=['synecho_abundance', 'picoeuk_abundance', 'prochloro_abundance', 'sst', 'sss', 'chl', 'NO3', 'Fe', 'O2', 'PO4', 'density_WOA_clim', 'nitrate_WOA_clim', 'phosphate_WOA_clim', 'silicate_WOA_clim'], \n",
    "                          depth1 = 0,\n",
    "                          depth2 = 5,\n",
    "                          temporalTolerance=[0, 0, 0, 1, 1, 4, 4, 4, 4, 4, 0, 0, 0, 0], \n",
    "                          latTolerance=[0.1, 0.1, 0.1, 0.25, 0.25, 0.25, 0.5, 0.5, 0.5, 0.5, 0.5, 0.5, 0.5, 0.5], \n",
    "                          lonTolerance=[0.1,0.1, 0.1, 0.25, 0.25, 0.25, 0.5, 0.5, 0.5, 0.5, 0.5, 0.5, 0.5, 0.5], \n",
    "                          depthTolerance=5\n",
    "                          )\n",
    "\n",
    "    if len(df) < 1:\n",
    "        df = data\n",
    "    else:\n",
    "        df = pd.concat([df, data], ignore_index=True)"
   ]
  },
  {
   "cell_type": "code",
   "execution_count": 31,
   "metadata": {},
   "outputs": [],
   "source": [
    "df = Clean(df).remove_nan_time_std()"
   ]
  },
  {
   "cell_type": "code",
   "execution_count": 32,
   "metadata": {},
   "outputs": [
    {
     "data": {
      "text/html": [
       "        <script type=\"text/javascript\">\n",
       "        window.PlotlyConfig = {MathJaxConfig: 'local'};\n",
       "        if (window.MathJax) {MathJax.Hub.Config({SVG: {font: \"STIX-Web\"}});}\n",
       "        if (typeof require !== 'undefined') {\n",
       "        require.undef(\"plotly\");\n",
       "        requirejs.config({\n",
       "            paths: {\n",
       "                'plotly': ['https://cdn.plot.ly/plotly-latest.min']\n",
       "            }\n",
       "        });\n",
       "        require(['plotly'], function(Plotly) {\n",
       "            window._Plotly = Plotly;\n",
       "        });\n",
       "        }\n",
       "        </script>\n",
       "        "
      ]
     },
     "metadata": {},
     "output_type": "display_data"
    },
    {
     "data": {
      "application/vnd.plotly.v1+json": {
       "config": {
        "editable": false,
        "linkText": "Export to plot.ly",
        "plotlyServerURL": "https://plot.ly",
        "showLink": true,
        "staticPlot": false
       },
       "data": [
        {
         "error_y": {
          "array": [
           0.010144847970337899,
           0.00528364222212924,
           0.007465329703270526,
           0.005886332515062096,
           0.01076948504612134,
           0.007264128391988155,
           0.009826300847446609,
           0.00968999480121607,
           0.004752061600660595,
           0.005072032572931363,
           0.00571549661046368,
           0.00611071172109806,
           0.001243465628092568,
           0.004484467782470526,
           0.0019035507549869535
          ],
          "color": "rgba(7, 7, 7, .2)",
          "type": "data",
          "visible": true
         },
         "marker": {
          "color": "purple",
          "opacity": 0.6,
          "size": 15
         },
         "mode": "lines+markers",
         "name": "",
         "opacity": 0.6,
         "type": "scatter",
         "uid": "bc5fb601-3e81-4b4b-9704-4510544d772a",
         "x": [
          "sst",
          "density_WOA_clim",
          "prochloro_abundance",
          "picoeuk_abundance",
          "lat",
          "NO3",
          "chl",
          "sss",
          "PO4",
          "Fe",
          "phosphate_WOA_clim",
          "O2",
          "lon",
          "nitrate_WOA_clim",
          "silicate_WOA_clim"
         ],
         "y": [
          0.5372119831252324,
          0.15475579754299448,
          0.09885344634039207,
          0.07257643232972641,
          0.03047950637440223,
          0.024127784140813627,
          0.02408626901752336,
          0.021486782160302337,
          0.014417784619435934,
          0.007352358585333167,
          0.004268455143378188,
          0.003923082897657488,
          0.003054788879798721,
          0.0021210228578084273,
          0.0012845059852010488
         ]
        }
       ],
       "layout": {
        "autosize": false,
        "height": 400,
        "title": {
         "text": "Predictors For synecho_abundance"
        },
        "width": 800,
        "xaxis": {
         "title": {
          "text": ""
         }
        },
        "yaxis": {
         "title": {
          "text": "Feature Importance"
         }
        }
       }
      },
      "text/html": [
       "<div>\n",
       "        \n",
       "        \n",
       "            <div id=\"0c5f9059-675f-4f58-a571-a411949cfd85\" class=\"plotly-graph-div\" style=\"height:400px; width:800px;\"></div>\n",
       "            <script type=\"text/javascript\">\n",
       "                require([\"plotly\"], function(Plotly) {\n",
       "                    window.PLOTLYENV=window.PLOTLYENV || {};\n",
       "                    window.PLOTLYENV.BASE_URL='https://plot.ly';\n",
       "                    \n",
       "                if (document.getElementById(\"0c5f9059-675f-4f58-a571-a411949cfd85\")) {\n",
       "                    Plotly.newPlot(\n",
       "                        '0c5f9059-675f-4f58-a571-a411949cfd85',\n",
       "                        [{\"error_y\": {\"array\": [0.010144847970337899, 0.00528364222212924, 0.007465329703270526, 0.005886332515062096, 0.01076948504612134, 0.007264128391988155, 0.009826300847446609, 0.00968999480121607, 0.004752061600660595, 0.005072032572931363, 0.00571549661046368, 0.00611071172109806, 0.001243465628092568, 0.004484467782470526, 0.0019035507549869535], \"color\": \"rgba(7, 7, 7, .2)\", \"type\": \"data\", \"visible\": true}, \"marker\": {\"color\": \"purple\", \"opacity\": 0.6, \"size\": 15}, \"mode\": \"lines+markers\", \"name\": \"\", \"opacity\": 0.6, \"type\": \"scatter\", \"uid\": \"bc5fb601-3e81-4b4b-9704-4510544d772a\", \"x\": [\"sst\", \"density_WOA_clim\", \"prochloro_abundance\", \"picoeuk_abundance\", \"lat\", \"NO3\", \"chl\", \"sss\", \"PO4\", \"Fe\", \"phosphate_WOA_clim\", \"O2\", \"lon\", \"nitrate_WOA_clim\", \"silicate_WOA_clim\"], \"y\": [0.5372119831252324, 0.15475579754299448, 0.09885344634039207, 0.07257643232972641, 0.03047950637440223, 0.024127784140813627, 0.02408626901752336, 0.021486782160302337, 0.014417784619435934, 0.007352358585333167, 0.004268455143378188, 0.003923082897657488, 0.003054788879798721, 0.0021210228578084273, 0.0012845059852010488]}],\n",
       "                        {\"autosize\": false, \"height\": 400, \"title\": {\"text\": \"Predictors For synecho_abundance\"}, \"width\": 800, \"xaxis\": {\"title\": {\"text\": \"\"}}, \"yaxis\": {\"title\": {\"text\": \"Feature Importance\"}}},\n",
       "                        {\"showLink\": true, \"editable\": false, \"staticPlot\": false, \"linkText\": \"Export to plot.ly\", \"plotlyServerURL\": \"https://plot.ly\", \"responsive\": true}\n",
       "                    ).then(function(){\n",
       "                            \n",
       "var gd = document.getElementById('0c5f9059-675f-4f58-a571-a411949cfd85');\n",
       "var x = new MutationObserver(function (mutations, observer) {{\n",
       "        var display = window.getComputedStyle(gd).display;\n",
       "        if (!display || display === 'none') {{\n",
       "            console.log([gd, 'removed!']);\n",
       "            Plotly.purge(gd);\n",
       "            observer.disconnect();\n",
       "        }}\n",
       "}});\n",
       "\n",
       "// Listen for the removal of the full notebook cells\n",
       "var notebookContainer = gd.closest('#notebook-container');\n",
       "if (notebookContainer) {{\n",
       "    x.observe(notebookContainer, {childList: true});\n",
       "}}\n",
       "\n",
       "// Listen for the clearing of the current output cell\n",
       "var outputEl = gd.closest('.output');\n",
       "if (outputEl) {{\n",
       "    x.observe(outputEl, {childList: true});\n",
       "}}\n",
       "\n",
       "                        })\n",
       "                };\n",
       "                });\n",
       "            </script>\n",
       "        </div>"
      ]
     },
     "metadata": {},
     "output_type": "display_data"
    },
    {
     "name": "stdout",
     "output_type": "stream",
     "text": [
      "************************************\n",
      "Test size proportion: 0.20\n",
      "XTrain shape: (14359, 15)\n",
      "yTrain shape: (14359,)\n",
      "XTest shape: (3590, 15)\n",
      "yTest shape: (3590,)\n",
      "\n",
      "Evaluation Results:\n",
      "\n",
      "\tRoot Mean Squared Error: 0.41\n",
      "\tEvaluation Using split (R^2 on test set): 0.9994\n",
      "************************************\n"
     ]
    }
   ],
   "source": [
    "from pycmap.supervised import RandomForest\n",
    "\n",
    "model = RandomForest(df, 'synecho_abundance')\n",
    "model.learn()\n",
    "model.plot_feature_importance()\n",
    "model.report()"
   ]
  },
  {
   "cell_type": "code",
   "execution_count": 33,
   "metadata": {},
   "outputs": [
    {
     "data": {
      "text/html": [
       "        <script type=\"text/javascript\">\n",
       "        window.PlotlyConfig = {MathJaxConfig: 'local'};\n",
       "        if (window.MathJax) {MathJax.Hub.Config({SVG: {font: \"STIX-Web\"}});}\n",
       "        if (typeof require !== 'undefined') {\n",
       "        require.undef(\"plotly\");\n",
       "        requirejs.config({\n",
       "            paths: {\n",
       "                'plotly': ['https://cdn.plot.ly/plotly-latest.min']\n",
       "            }\n",
       "        });\n",
       "        require(['plotly'], function(Plotly) {\n",
       "            window._Plotly = Plotly;\n",
       "        });\n",
       "        }\n",
       "        </script>\n",
       "        "
      ]
     },
     "metadata": {},
     "output_type": "display_data"
    },
    {
     "data": {
      "application/vnd.plotly.v1+json": {
       "config": {
        "editable": false,
        "linkText": "Export to plot.ly",
        "plotlyServerURL": "https://plot.ly",
        "showLink": true,
        "staticPlot": false
       },
       "data": [
        {
         "error_y": {
          "array": [
           0.005475419976058217,
           0.015931768994057065,
           0.011856796139106743,
           0.004936359847301498,
           0.003766377725845805,
           0.002298034391550554,
           0.0017557197024905386,
           0.002468404886981293,
           0.0015546334665752027,
           0.002290009301617926,
           0.0028771530245961176,
           0.0028465226987667916,
           0.0028542004891101416,
           0.0012780559538079495,
           0.001957213983565659
          ],
          "color": "rgba(7, 7, 7, .2)",
          "type": "data",
          "visible": true
         },
         "marker": {
          "color": "purple",
          "opacity": 0.6,
          "size": 15
         },
         "mode": "lines+markers",
         "name": "",
         "opacity": 0.6,
         "type": "scatter",
         "uid": "b92cc9b0-7678-4844-8f7b-053965d134f5",
         "x": [
          "density_WOA_clim",
          "prochloro_abundance",
          "chl",
          "sst",
          "synecho_abundance",
          "lat",
          "lon",
          "sss",
          "Fe",
          "silicate_WOA_clim",
          "phosphate_WOA_clim",
          "O2",
          "NO3",
          "PO4",
          "nitrate_WOA_clim"
         ],
         "y": [
          0.8187230782217811,
          0.06600204501590808,
          0.02880910856661334,
          0.028733686559567907,
          0.01968109160433801,
          0.00821064571978149,
          0.0064987631079755515,
          0.006385751382037127,
          0.004058517492608518,
          0.0030761427974601713,
          0.002746181841304751,
          0.002015695509107345,
          0.0019212492432869844,
          0.0017977031076662512,
          0.001340339830563325
         ]
        }
       ],
       "layout": {
        "autosize": false,
        "height": 400,
        "title": {
         "text": "Predictors For picoeuk_abundance"
        },
        "width": 800,
        "xaxis": {
         "title": {
          "text": ""
         }
        },
        "yaxis": {
         "title": {
          "text": "Feature Importance"
         }
        }
       }
      },
      "text/html": [
       "<div>\n",
       "        \n",
       "        \n",
       "            <div id=\"55ae590c-de4f-4ef3-90d5-652ccc5de9bb\" class=\"plotly-graph-div\" style=\"height:400px; width:800px;\"></div>\n",
       "            <script type=\"text/javascript\">\n",
       "                require([\"plotly\"], function(Plotly) {\n",
       "                    window.PLOTLYENV=window.PLOTLYENV || {};\n",
       "                    window.PLOTLYENV.BASE_URL='https://plot.ly';\n",
       "                    \n",
       "                if (document.getElementById(\"55ae590c-de4f-4ef3-90d5-652ccc5de9bb\")) {\n",
       "                    Plotly.newPlot(\n",
       "                        '55ae590c-de4f-4ef3-90d5-652ccc5de9bb',\n",
       "                        [{\"error_y\": {\"array\": [0.005475419976058217, 0.015931768994057065, 0.011856796139106743, 0.004936359847301498, 0.003766377725845805, 0.002298034391550554, 0.0017557197024905386, 0.002468404886981293, 0.0015546334665752027, 0.002290009301617926, 0.0028771530245961176, 0.0028465226987667916, 0.0028542004891101416, 0.0012780559538079495, 0.001957213983565659], \"color\": \"rgba(7, 7, 7, .2)\", \"type\": \"data\", \"visible\": true}, \"marker\": {\"color\": \"purple\", \"opacity\": 0.6, \"size\": 15}, \"mode\": \"lines+markers\", \"name\": \"\", \"opacity\": 0.6, \"type\": \"scatter\", \"uid\": \"b92cc9b0-7678-4844-8f7b-053965d134f5\", \"x\": [\"density_WOA_clim\", \"prochloro_abundance\", \"chl\", \"sst\", \"synecho_abundance\", \"lat\", \"lon\", \"sss\", \"Fe\", \"silicate_WOA_clim\", \"phosphate_WOA_clim\", \"O2\", \"NO3\", \"PO4\", \"nitrate_WOA_clim\"], \"y\": [0.8187230782217811, 0.06600204501590808, 0.02880910856661334, 0.028733686559567907, 0.01968109160433801, 0.00821064571978149, 0.0064987631079755515, 0.006385751382037127, 0.004058517492608518, 0.0030761427974601713, 0.002746181841304751, 0.002015695509107345, 0.0019212492432869844, 0.0017977031076662512, 0.001340339830563325]}],\n",
       "                        {\"autosize\": false, \"height\": 400, \"title\": {\"text\": \"Predictors For picoeuk_abundance\"}, \"width\": 800, \"xaxis\": {\"title\": {\"text\": \"\"}}, \"yaxis\": {\"title\": {\"text\": \"Feature Importance\"}}},\n",
       "                        {\"showLink\": true, \"editable\": false, \"staticPlot\": false, \"linkText\": \"Export to plot.ly\", \"plotlyServerURL\": \"https://plot.ly\", \"responsive\": true}\n",
       "                    ).then(function(){\n",
       "                            \n",
       "var gd = document.getElementById('55ae590c-de4f-4ef3-90d5-652ccc5de9bb');\n",
       "var x = new MutationObserver(function (mutations, observer) {{\n",
       "        var display = window.getComputedStyle(gd).display;\n",
       "        if (!display || display === 'none') {{\n",
       "            console.log([gd, 'removed!']);\n",
       "            Plotly.purge(gd);\n",
       "            observer.disconnect();\n",
       "        }}\n",
       "}});\n",
       "\n",
       "// Listen for the removal of the full notebook cells\n",
       "var notebookContainer = gd.closest('#notebook-container');\n",
       "if (notebookContainer) {{\n",
       "    x.observe(notebookContainer, {childList: true});\n",
       "}}\n",
       "\n",
       "// Listen for the clearing of the current output cell\n",
       "var outputEl = gd.closest('.output');\n",
       "if (outputEl) {{\n",
       "    x.observe(outputEl, {childList: true});\n",
       "}}\n",
       "\n",
       "                        })\n",
       "                };\n",
       "                });\n",
       "            </script>\n",
       "        </div>"
      ]
     },
     "metadata": {},
     "output_type": "display_data"
    },
    {
     "name": "stdout",
     "output_type": "stream",
     "text": [
      "************************************\n",
      "Test size proportion: 0.20\n",
      "XTrain shape: (14359, 15)\n",
      "yTrain shape: (14359,)\n",
      "XTest shape: (3590, 15)\n",
      "yTest shape: (3590,)\n",
      "\n",
      "Evaluation Results:\n",
      "\n",
      "\tRoot Mean Squared Error: 0.13\n",
      "\tEvaluation Using split (R^2 on test set): 0.9996\n",
      "************************************\n"
     ]
    }
   ],
   "source": [
    "from pycmap.supervised import RandomForest\n",
    "\n",
    "model = RandomForest(df, 'picoeuk_abundance')\n",
    "model.learn()\n",
    "model.plot_feature_importance()\n",
    "model.report()"
   ]
  },
  {
   "cell_type": "code",
   "execution_count": 34,
   "metadata": {},
   "outputs": [
    {
     "data": {
      "text/html": [
       "        <script type=\"text/javascript\">\n",
       "        window.PlotlyConfig = {MathJaxConfig: 'local'};\n",
       "        if (window.MathJax) {MathJax.Hub.Config({SVG: {font: \"STIX-Web\"}});}\n",
       "        if (typeof require !== 'undefined') {\n",
       "        require.undef(\"plotly\");\n",
       "        requirejs.config({\n",
       "            paths: {\n",
       "                'plotly': ['https://cdn.plot.ly/plotly-latest.min']\n",
       "            }\n",
       "        });\n",
       "        require(['plotly'], function(Plotly) {\n",
       "            window._Plotly = Plotly;\n",
       "        });\n",
       "        }\n",
       "        </script>\n",
       "        "
      ]
     },
     "metadata": {},
     "output_type": "display_data"
    },
    {
     "data": {
      "application/vnd.plotly.v1+json": {
       "config": {
        "editable": false,
        "linkText": "Export to plot.ly",
        "plotlyServerURL": "https://plot.ly",
        "showLink": true,
        "staticPlot": false
       },
       "data": [
        {
         "error_y": {
          "array": [
           0.009012906814285222,
           0.0030629571273335585,
           0.01024408437096057,
           0.004448645153857065,
           0.003511171225832343,
           0.006173409998512273,
           0.004745256277117596,
           0.003585217244576594,
           0.006699899705170406,
           0.0030134607913008607,
           0.002554059473906551,
           0.002911934200144442,
           0.004084932974292686,
           0.0014110339843844048,
           0.001330628644052528
          ],
          "color": "rgba(7, 7, 7, .2)",
          "type": "data",
          "visible": true
         },
         "marker": {
          "color": "purple",
          "opacity": 0.6,
          "size": 15
         },
         "mode": "lines+markers",
         "name": "",
         "opacity": 0.6,
         "type": "scatter",
         "uid": "2ef65bc9-1be1-4fba-b0ec-c87eea11d30b",
         "x": [
          "sss",
          "lon",
          "lat",
          "picoeuk_abundance",
          "synecho_abundance",
          "chl",
          "Fe",
          "sst",
          "density_WOA_clim",
          "O2",
          "NO3",
          "PO4",
          "silicate_WOA_clim",
          "nitrate_WOA_clim",
          "phosphate_WOA_clim"
         ],
         "y": [
          0.7318838334648303,
          0.1356222194650648,
          0.04027231041000411,
          0.026742766703257714,
          0.0251111136576608,
          0.009482225834416073,
          0.008316262897124858,
          0.005580934098509166,
          0.0037020856602199602,
          0.003413442173702073,
          0.003116744061010251,
          0.002680837244237199,
          0.0016600594455905887,
          0.0013184810919575191,
          0.0010966837924142982
         ]
        }
       ],
       "layout": {
        "autosize": false,
        "height": 400,
        "title": {
         "text": "Predictors For prochloro_abundance"
        },
        "width": 800,
        "xaxis": {
         "title": {
          "text": ""
         }
        },
        "yaxis": {
         "title": {
          "text": "Feature Importance"
         }
        }
       }
      },
      "text/html": [
       "<div>\n",
       "        \n",
       "        \n",
       "            <div id=\"954c63e8-5f66-45b0-b0cf-f3df2b9e6102\" class=\"plotly-graph-div\" style=\"height:400px; width:800px;\"></div>\n",
       "            <script type=\"text/javascript\">\n",
       "                require([\"plotly\"], function(Plotly) {\n",
       "                    window.PLOTLYENV=window.PLOTLYENV || {};\n",
       "                    window.PLOTLYENV.BASE_URL='https://plot.ly';\n",
       "                    \n",
       "                if (document.getElementById(\"954c63e8-5f66-45b0-b0cf-f3df2b9e6102\")) {\n",
       "                    Plotly.newPlot(\n",
       "                        '954c63e8-5f66-45b0-b0cf-f3df2b9e6102',\n",
       "                        [{\"error_y\": {\"array\": [0.009012906814285222, 0.0030629571273335585, 0.01024408437096057, 0.004448645153857065, 0.003511171225832343, 0.006173409998512273, 0.004745256277117596, 0.003585217244576594, 0.006699899705170406, 0.0030134607913008607, 0.002554059473906551, 0.002911934200144442, 0.004084932974292686, 0.0014110339843844048, 0.001330628644052528], \"color\": \"rgba(7, 7, 7, .2)\", \"type\": \"data\", \"visible\": true}, \"marker\": {\"color\": \"purple\", \"opacity\": 0.6, \"size\": 15}, \"mode\": \"lines+markers\", \"name\": \"\", \"opacity\": 0.6, \"type\": \"scatter\", \"uid\": \"2ef65bc9-1be1-4fba-b0ec-c87eea11d30b\", \"x\": [\"sss\", \"lon\", \"lat\", \"picoeuk_abundance\", \"synecho_abundance\", \"chl\", \"Fe\", \"sst\", \"density_WOA_clim\", \"O2\", \"NO3\", \"PO4\", \"silicate_WOA_clim\", \"nitrate_WOA_clim\", \"phosphate_WOA_clim\"], \"y\": [0.7318838334648303, 0.1356222194650648, 0.04027231041000411, 0.026742766703257714, 0.0251111136576608, 0.009482225834416073, 0.008316262897124858, 0.005580934098509166, 0.0037020856602199602, 0.003413442173702073, 0.003116744061010251, 0.002680837244237199, 0.0016600594455905887, 0.0013184810919575191, 0.0010966837924142982]}],\n",
       "                        {\"autosize\": false, \"height\": 400, \"title\": {\"text\": \"Predictors For prochloro_abundance\"}, \"width\": 800, \"xaxis\": {\"title\": {\"text\": \"\"}}, \"yaxis\": {\"title\": {\"text\": \"Feature Importance\"}}},\n",
       "                        {\"showLink\": true, \"editable\": false, \"staticPlot\": false, \"linkText\": \"Export to plot.ly\", \"plotlyServerURL\": \"https://plot.ly\", \"responsive\": true}\n",
       "                    ).then(function(){\n",
       "                            \n",
       "var gd = document.getElementById('954c63e8-5f66-45b0-b0cf-f3df2b9e6102');\n",
       "var x = new MutationObserver(function (mutations, observer) {{\n",
       "        var display = window.getComputedStyle(gd).display;\n",
       "        if (!display || display === 'none') {{\n",
       "            console.log([gd, 'removed!']);\n",
       "            Plotly.purge(gd);\n",
       "            observer.disconnect();\n",
       "        }}\n",
       "}});\n",
       "\n",
       "// Listen for the removal of the full notebook cells\n",
       "var notebookContainer = gd.closest('#notebook-container');\n",
       "if (notebookContainer) {{\n",
       "    x.observe(notebookContainer, {childList: true});\n",
       "}}\n",
       "\n",
       "// Listen for the clearing of the current output cell\n",
       "var outputEl = gd.closest('.output');\n",
       "if (outputEl) {{\n",
       "    x.observe(outputEl, {childList: true});\n",
       "}}\n",
       "\n",
       "                        })\n",
       "                };\n",
       "                });\n",
       "            </script>\n",
       "        </div>"
      ]
     },
     "metadata": {},
     "output_type": "display_data"
    },
    {
     "name": "stdout",
     "output_type": "stream",
     "text": [
      "************************************\n",
      "Test size proportion: 0.20\n",
      "XTrain shape: (14359, 15)\n",
      "yTrain shape: (14359,)\n",
      "XTest shape: (3590, 15)\n",
      "yTest shape: (3590,)\n",
      "\n",
      "Evaluation Results:\n",
      "\n",
      "\tRoot Mean Squared Error: 1.37\n",
      "\tEvaluation Using split (R^2 on test set): 0.9995\n",
      "************************************\n"
     ]
    }
   ],
   "source": [
    "from pycmap.supervised import RandomForest\n",
    "\n",
    "model = RandomForest(df, 'prochloro_abundance')\n",
    "model.learn()\n",
    "model.plot_feature_importance()\n",
    "model.report()"
   ]
  },
  {
   "cell_type": "code",
   "execution_count": 37,
   "metadata": {},
   "outputs": [
    {
     "data": {
      "text/html": [
       "        <script type=\"text/javascript\">\n",
       "        window.PlotlyConfig = {MathJaxConfig: 'local'};\n",
       "        if (window.MathJax) {MathJax.Hub.Config({SVG: {font: \"STIX-Web\"}});}\n",
       "        if (typeof require !== 'undefined') {\n",
       "        require.undef(\"plotly\");\n",
       "        requirejs.config({\n",
       "            paths: {\n",
       "                'plotly': ['https://cdn.plot.ly/plotly-latest.min']\n",
       "            }\n",
       "        });\n",
       "        require(['plotly'], function(Plotly) {\n",
       "            window._Plotly = Plotly;\n",
       "        });\n",
       "        }\n",
       "        </script>\n",
       "        "
      ]
     },
     "metadata": {},
     "output_type": "display_data"
    },
    {
     "data": {
      "application/vnd.plotly.v1+json": {
       "config": {
        "editable": false,
        "linkText": "Export to plot.ly",
        "plotlyServerURL": "https://plot.ly",
        "showLink": true,
        "staticPlot": false
       },
       "data": [
        {
         "colorscale": [
          [
           0,
           "rgb(58, 76, 192)"
          ],
          [
           0.003937007874015748,
           "rgb(59, 77, 193)"
          ],
          [
           0.007874015748031496,
           "rgb(60, 79, 195)"
          ],
          [
           0.011811023622047244,
           "rgb(62, 81, 196)"
          ],
          [
           0.015748031496062992,
           "rgb(63, 83, 198)"
          ],
          [
           0.01968503937007874,
           "rgb(64, 84, 199)"
          ],
          [
           0.023622047244094488,
           "rgb(65, 86, 201)"
          ],
          [
           0.027559055118110236,
           "rgb(66, 88, 202)"
          ],
          [
           0.031496062992125984,
           "rgb(67, 90, 204)"
          ],
          [
           0.03543307086614173,
           "rgb(69, 91, 205)"
          ],
          [
           0.03937007874015748,
           "rgb(70, 93, 207)"
          ],
          [
           0.04330708661417323,
           "rgb(71, 95, 208)"
          ],
          [
           0.047244094488188976,
           "rgb(72, 96, 209)"
          ],
          [
           0.051181102362204724,
           "rgb(73, 98, 211)"
          ],
          [
           0.05511811023622047,
           "rgb(75, 100, 212)"
          ],
          [
           0.05905511811023622,
           "rgb(76, 102, 214)"
          ],
          [
           0.06299212598425197,
           "rgb(77, 103, 215)"
          ],
          [
           0.06692913385826771,
           "rgb(78, 105, 216)"
          ],
          [
           0.07086614173228346,
           "rgb(80, 107, 218)"
          ],
          [
           0.07480314960629922,
           "rgb(81, 108, 219)"
          ],
          [
           0.07874015748031496,
           "rgb(82, 110, 220)"
          ],
          [
           0.0826771653543307,
           "rgb(83, 112, 221)"
          ],
          [
           0.08661417322834646,
           "rgb(85, 113, 222)"
          ],
          [
           0.09055118110236221,
           "rgb(86, 115, 224)"
          ],
          [
           0.09448818897637795,
           "rgb(87, 117, 225)"
          ],
          [
           0.09842519685039369,
           "rgb(88, 118, 226)"
          ],
          [
           0.10236220472440945,
           "rgb(90, 120, 227)"
          ],
          [
           0.1062992125984252,
           "rgb(91, 121, 228)"
          ],
          [
           0.11023622047244094,
           "rgb(92, 123, 229)"
          ],
          [
           0.11417322834645668,
           "rgb(93, 125, 230)"
          ],
          [
           0.11811023622047244,
           "rgb(95, 126, 231)"
          ],
          [
           0.1220472440944882,
           "rgb(96, 128, 232)"
          ],
          [
           0.12598425196850394,
           "rgb(97, 130, 234)"
          ],
          [
           0.12992125984251968,
           "rgb(99, 131, 234)"
          ],
          [
           0.13385826771653542,
           "rgb(100, 133, 235)"
          ],
          [
           0.1377952755905512,
           "rgb(101, 134, 236)"
          ],
          [
           0.14173228346456693,
           "rgb(103, 136, 237)"
          ],
          [
           0.14566929133858267,
           "rgb(104, 137, 238)"
          ],
          [
           0.14960629921259844,
           "rgb(105, 139, 239)"
          ],
          [
           0.15354330708661418,
           "rgb(107, 141, 240)"
          ],
          [
           0.15748031496062992,
           "rgb(108, 142, 241)"
          ],
          [
           0.16141732283464566,
           "rgb(109, 144, 241)"
          ],
          [
           0.1653543307086614,
           "rgb(111, 145, 242)"
          ],
          [
           0.16929133858267717,
           "rgb(112, 147, 243)"
          ],
          [
           0.1732283464566929,
           "rgb(113, 148, 244)"
          ],
          [
           0.17716535433070865,
           "rgb(115, 149, 244)"
          ],
          [
           0.18110236220472442,
           "rgb(116, 151, 245)"
          ],
          [
           0.18503937007874016,
           "rgb(117, 152, 246)"
          ],
          [
           0.1889763779527559,
           "rgb(119, 154, 246)"
          ],
          [
           0.19291338582677164,
           "rgb(120, 155, 247)"
          ],
          [
           0.19685039370078738,
           "rgb(122, 157, 248)"
          ],
          [
           0.20078740157480315,
           "rgb(123, 158, 248)"
          ],
          [
           0.2047244094488189,
           "rgb(124, 160, 249)"
          ],
          [
           0.20866141732283464,
           "rgb(126, 161, 249)"
          ],
          [
           0.2125984251968504,
           "rgb(127, 162, 250)"
          ],
          [
           0.21653543307086615,
           "rgb(128, 164, 250)"
          ],
          [
           0.2204724409448819,
           "rgb(130, 165, 251)"
          ],
          [
           0.22440944881889763,
           "rgb(131, 166, 251)"
          ],
          [
           0.22834645669291337,
           "rgb(133, 168, 251)"
          ],
          [
           0.23228346456692914,
           "rgb(134, 169, 252)"
          ],
          [
           0.23622047244094488,
           "rgb(135, 170, 252)"
          ],
          [
           0.24015748031496062,
           "rgb(137, 172, 252)"
          ],
          [
           0.2440944881889764,
           "rgb(138, 173, 253)"
          ],
          [
           0.24803149606299213,
           "rgb(139, 174, 253)"
          ],
          [
           0.25196850393700787,
           "rgb(141, 175, 253)"
          ],
          [
           0.2559055118110236,
           "rgb(142, 177, 253)"
          ],
          [
           0.25984251968503935,
           "rgb(144, 178, 254)"
          ],
          [
           0.2637795275590551,
           "rgb(145, 179, 254)"
          ],
          [
           0.26771653543307083,
           "rgb(146, 180, 254)"
          ],
          [
           0.27165354330708663,
           "rgb(148, 181, 254)"
          ],
          [
           0.2755905511811024,
           "rgb(149, 183, 254)"
          ],
          [
           0.2795275590551181,
           "rgb(151, 184, 254)"
          ],
          [
           0.28346456692913385,
           "rgb(152, 185, 254)"
          ],
          [
           0.2874015748031496,
           "rgb(153, 186, 254)"
          ],
          [
           0.29133858267716534,
           "rgb(155, 187, 254)"
          ],
          [
           0.2952755905511811,
           "rgb(156, 188, 254)"
          ],
          [
           0.2992125984251969,
           "rgb(157, 189, 254)"
          ],
          [
           0.3031496062992126,
           "rgb(159, 190, 254)"
          ],
          [
           0.30708661417322836,
           "rgb(160, 191, 254)"
          ],
          [
           0.3110236220472441,
           "rgb(162, 192, 254)"
          ],
          [
           0.31496062992125984,
           "rgb(163, 193, 254)"
          ],
          [
           0.3188976377952756,
           "rgb(164, 194, 254)"
          ],
          [
           0.3228346456692913,
           "rgb(166, 195, 253)"
          ],
          [
           0.32677165354330706,
           "rgb(167, 196, 253)"
          ],
          [
           0.3307086614173228,
           "rgb(168, 197, 253)"
          ],
          [
           0.3346456692913386,
           "rgb(170, 198, 253)"
          ],
          [
           0.33858267716535434,
           "rgb(171, 199, 252)"
          ],
          [
           0.3425196850393701,
           "rgb(172, 200, 252)"
          ],
          [
           0.3464566929133858,
           "rgb(174, 201, 252)"
          ],
          [
           0.35039370078740156,
           "rgb(175, 202, 251)"
          ],
          [
           0.3543307086614173,
           "rgb(176, 203, 251)"
          ],
          [
           0.35826771653543305,
           "rgb(178, 203, 251)"
          ],
          [
           0.36220472440944884,
           "rgb(179, 204, 250)"
          ],
          [
           0.3661417322834646,
           "rgb(180, 205, 250)"
          ],
          [
           0.3700787401574803,
           "rgb(182, 206, 249)"
          ],
          [
           0.37401574803149606,
           "rgb(183, 207, 249)"
          ],
          [
           0.3779527559055118,
           "rgb(184, 207, 248)"
          ],
          [
           0.38188976377952755,
           "rgb(185, 208, 248)"
          ],
          [
           0.3858267716535433,
           "rgb(187, 209, 247)"
          ],
          [
           0.38976377952755903,
           "rgb(188, 209, 246)"
          ],
          [
           0.39370078740157477,
           "rgb(189, 210, 246)"
          ],
          [
           0.39763779527559057,
           "rgb(190, 211, 245)"
          ],
          [
           0.4015748031496063,
           "rgb(192, 211, 245)"
          ],
          [
           0.40551181102362205,
           "rgb(193, 212, 244)"
          ],
          [
           0.4094488188976378,
           "rgb(194, 212, 243)"
          ],
          [
           0.41338582677165353,
           "rgb(195, 213, 242)"
          ],
          [
           0.41732283464566927,
           "rgb(197, 213, 242)"
          ],
          [
           0.421259842519685,
           "rgb(198, 214, 241)"
          ],
          [
           0.4251968503937008,
           "rgb(199, 214, 240)"
          ],
          [
           0.42913385826771655,
           "rgb(200, 215, 239)"
          ],
          [
           0.4330708661417323,
           "rgb(201, 215, 238)"
          ],
          [
           0.43700787401574803,
           "rgb(202, 216, 238)"
          ],
          [
           0.4409448818897638,
           "rgb(204, 216, 237)"
          ],
          [
           0.4448818897637795,
           "rgb(205, 217, 236)"
          ],
          [
           0.44881889763779526,
           "rgb(206, 217, 235)"
          ],
          [
           0.452755905511811,
           "rgb(207, 217, 234)"
          ],
          [
           0.45669291338582674,
           "rgb(208, 218, 233)"
          ],
          [
           0.46062992125984253,
           "rgb(209, 218, 232)"
          ],
          [
           0.4645669291338583,
           "rgb(210, 218, 231)"
          ],
          [
           0.468503937007874,
           "rgb(211, 219, 230)"
          ],
          [
           0.47244094488188976,
           "rgb(213, 219, 229)"
          ],
          [
           0.4763779527559055,
           "rgb(214, 219, 228)"
          ],
          [
           0.48031496062992124,
           "rgb(215, 219, 226)"
          ],
          [
           0.484251968503937,
           "rgb(216, 219, 225)"
          ],
          [
           0.4881889763779528,
           "rgb(217, 220, 224)"
          ],
          [
           0.4921259842519685,
           "rgb(218, 220, 223)"
          ],
          [
           0.49606299212598426,
           "rgb(219, 220, 222)"
          ],
          [
           0.5,
           "rgb(221, 220, 219)"
          ],
          [
           0.5039370078740157,
           "rgb(222, 219, 218)"
          ],
          [
           0.5078740157480315,
           "rgb(223, 219, 217)"
          ],
          [
           0.5118110236220472,
           "rgb(224, 218, 215)"
          ],
          [
           0.515748031496063,
           "rgb(225, 218, 214)"
          ],
          [
           0.5196850393700787,
           "rgb(226, 217, 212)"
          ],
          [
           0.5236220472440944,
           "rgb(227, 217, 211)"
          ],
          [
           0.5275590551181102,
           "rgb(228, 216, 209)"
          ],
          [
           0.5314960629921259,
           "rgb(229, 216, 208)"
          ],
          [
           0.5354330708661417,
           "rgb(230, 215, 207)"
          ],
          [
           0.5393700787401575,
           "rgb(231, 214, 205)"
          ],
          [
           0.5433070866141733,
           "rgb(231, 214, 204)"
          ],
          [
           0.547244094488189,
           "rgb(232, 213, 202)"
          ],
          [
           0.5511811023622047,
           "rgb(233, 212, 201)"
          ],
          [
           0.5551181102362205,
           "rgb(234, 211, 199)"
          ],
          [
           0.5590551181102362,
           "rgb(235, 211, 198)"
          ],
          [
           0.562992125984252,
           "rgb(236, 210, 196)"
          ],
          [
           0.5669291338582677,
           "rgb(236, 209, 195)"
          ],
          [
           0.5708661417322834,
           "rgb(237, 208, 193)"
          ],
          [
           0.5748031496062992,
           "rgb(237, 207, 192)"
          ],
          [
           0.5787401574803149,
           "rgb(238, 207, 190)"
          ],
          [
           0.5826771653543307,
           "rgb(239, 206, 188)"
          ],
          [
           0.5866141732283464,
           "rgb(239, 205, 187)"
          ],
          [
           0.5905511811023622,
           "rgb(240, 204, 185)"
          ],
          [
           0.5944881889763779,
           "rgb(241, 203, 184)"
          ],
          [
           0.5984251968503937,
           "rgb(241, 202, 182)"
          ],
          [
           0.6023622047244095,
           "rgb(242, 201, 181)"
          ],
          [
           0.6062992125984252,
           "rgb(242, 200, 179)"
          ],
          [
           0.610236220472441,
           "rgb(242, 199, 178)"
          ],
          [
           0.6141732283464567,
           "rgb(243, 198, 176)"
          ],
          [
           0.6181102362204725,
           "rgb(243, 197, 175)"
          ],
          [
           0.6220472440944882,
           "rgb(244, 196, 173)"
          ],
          [
           0.6259842519685039,
           "rgb(244, 195, 171)"
          ],
          [
           0.6299212598425197,
           "rgb(244, 194, 170)"
          ],
          [
           0.6338582677165354,
           "rgb(245, 193, 168)"
          ],
          [
           0.6377952755905512,
           "rgb(245, 192, 167)"
          ],
          [
           0.6417322834645669,
           "rgb(245, 191, 165)"
          ],
          [
           0.6456692913385826,
           "rgb(246, 189, 164)"
          ],
          [
           0.6496062992125984,
           "rgb(246, 188, 162)"
          ],
          [
           0.6535433070866141,
           "rgb(246, 187, 160)"
          ],
          [
           0.6574803149606299,
           "rgb(246, 186, 159)"
          ],
          [
           0.6614173228346456,
           "rgb(246, 185, 157)"
          ],
          [
           0.6653543307086615,
           "rgb(246, 183, 156)"
          ],
          [
           0.6692913385826772,
           "rgb(246, 182, 154)"
          ],
          [
           0.6732283464566929,
           "rgb(247, 181, 152)"
          ],
          [
           0.6771653543307087,
           "rgb(247, 179, 151)"
          ],
          [
           0.6811023622047244,
           "rgb(247, 178, 149)"
          ],
          [
           0.6850393700787402,
           "rgb(247, 177, 148)"
          ],
          [
           0.6889763779527559,
           "rgb(247, 176, 146)"
          ],
          [
           0.6929133858267716,
           "rgb(247, 174, 145)"
          ],
          [
           0.6968503937007874,
           "rgb(247, 173, 143)"
          ],
          [
           0.7007874015748031,
           "rgb(246, 171, 141)"
          ],
          [
           0.7047244094488189,
           "rgb(246, 170, 140)"
          ],
          [
           0.7086614173228346,
           "rgb(246, 169, 138)"
          ],
          [
           0.7125984251968503,
           "rgb(246, 167, 137)"
          ],
          [
           0.7165354330708661,
           "rgb(246, 166, 135)"
          ],
          [
           0.7204724409448818,
           "rgb(246, 164, 134)"
          ],
          [
           0.7244094488188977,
           "rgb(246, 163, 132)"
          ],
          [
           0.7283464566929134,
           "rgb(245, 161, 130)"
          ],
          [
           0.7322834645669292,
           "rgb(245, 160, 129)"
          ],
          [
           0.7362204724409449,
           "rgb(245, 158, 127)"
          ],
          [
           0.7401574803149606,
           "rgb(244, 157, 126)"
          ],
          [
           0.7440944881889764,
           "rgb(244, 155, 124)"
          ],
          [
           0.7480314960629921,
           "rgb(244, 154, 123)"
          ],
          [
           0.7519685039370079,
           "rgb(243, 152, 121)"
          ],
          [
           0.7559055118110236,
           "rgb(243, 150, 120)"
          ],
          [
           0.7598425196850394,
           "rgb(243, 149, 118)"
          ],
          [
           0.7637795275590551,
           "rgb(242, 147, 117)"
          ],
          [
           0.7677165354330708,
           "rgb(242, 145, 115)"
          ],
          [
           0.7716535433070866,
           "rgb(241, 144, 114)"
          ],
          [
           0.7755905511811023,
           "rgb(241, 142, 112)"
          ],
          [
           0.7795275590551181,
           "rgb(240, 141, 111)"
          ],
          [
           0.7834645669291338,
           "rgb(240, 139, 109)"
          ],
          [
           0.7874015748031495,
           "rgb(239, 137, 108)"
          ],
          [
           0.7913385826771654,
           "rgb(238, 135, 106)"
          ],
          [
           0.7952755905511811,
           "rgb(238, 134, 105)"
          ],
          [
           0.7992125984251969,
           "rgb(237, 132, 103)"
          ],
          [
           0.8031496062992126,
           "rgb(236, 130, 102)"
          ],
          [
           0.8070866141732284,
           "rgb(236, 128, 100)"
          ],
          [
           0.8110236220472441,
           "rgb(235, 127, 99)"
          ],
          [
           0.8149606299212598,
           "rgb(234, 125, 97)"
          ],
          [
           0.8188976377952756,
           "rgb(234, 123, 96)"
          ],
          [
           0.8228346456692913,
           "rgb(233, 121, 94)"
          ],
          [
           0.8267716535433071,
           "rgb(232, 119, 93)"
          ],
          [
           0.8307086614173228,
           "rgb(231, 117, 92)"
          ],
          [
           0.8346456692913385,
           "rgb(230, 116, 90)"
          ],
          [
           0.8385826771653543,
           "rgb(230, 114, 89)"
          ],
          [
           0.84251968503937,
           "rgb(229, 112, 87)"
          ],
          [
           0.8464566929133858,
           "rgb(228, 110, 86)"
          ],
          [
           0.8503937007874016,
           "rgb(227, 108, 84)"
          ],
          [
           0.8543307086614174,
           "rgb(226, 106, 83)"
          ],
          [
           0.8582677165354331,
           "rgb(225, 104, 82)"
          ],
          [
           0.8622047244094488,
           "rgb(224, 102, 80)"
          ],
          [
           0.8661417322834646,
           "rgb(223, 100, 79)"
          ],
          [
           0.8700787401574803,
           "rgb(222, 98, 78)"
          ],
          [
           0.8740157480314961,
           "rgb(221, 96, 76)"
          ],
          [
           0.8779527559055118,
           "rgb(220, 94, 75)"
          ],
          [
           0.8818897637795275,
           "rgb(219, 92, 74)"
          ],
          [
           0.8858267716535433,
           "rgb(218, 90, 72)"
          ],
          [
           0.889763779527559,
           "rgb(217, 88, 71)"
          ],
          [
           0.8937007874015748,
           "rgb(216, 86, 70)"
          ],
          [
           0.8976377952755905,
           "rgb(215, 84, 68)"
          ],
          [
           0.9015748031496063,
           "rgb(214, 82, 67)"
          ],
          [
           0.905511811023622,
           "rgb(212, 79, 66)"
          ],
          [
           0.9094488188976377,
           "rgb(211, 77, 64)"
          ],
          [
           0.9133858267716535,
           "rgb(210, 75, 63)"
          ],
          [
           0.9173228346456693,
           "rgb(209, 73, 62)"
          ],
          [
           0.9212598425196851,
           "rgb(207, 70, 61)"
          ],
          [
           0.9251968503937008,
           "rgb(206, 68, 60)"
          ],
          [
           0.9291338582677166,
           "rgb(205, 66, 58)"
          ],
          [
           0.9330708661417323,
           "rgb(204, 63, 57)"
          ],
          [
           0.937007874015748,
           "rgb(202, 61, 56)"
          ],
          [
           0.9409448818897638,
           "rgb(201, 59, 55)"
          ],
          [
           0.9448818897637795,
           "rgb(200, 56, 53)"
          ],
          [
           0.9488188976377953,
           "rgb(198, 53, 52)"
          ],
          [
           0.952755905511811,
           "rgb(197, 50, 51)"
          ],
          [
           0.9566929133858267,
           "rgb(196, 48, 50)"
          ],
          [
           0.9606299212598425,
           "rgb(194, 45, 49)"
          ],
          [
           0.9645669291338582,
           "rgb(193, 42, 48)"
          ],
          [
           0.968503937007874,
           "rgb(191, 40, 46)"
          ],
          [
           0.9724409448818897,
           "rgb(190, 35, 45)"
          ],
          [
           0.9763779527559056,
           "rgb(188, 31, 44)"
          ],
          [
           0.9803149606299213,
           "rgb(187, 26, 43)"
          ],
          [
           0.984251968503937,
           "rgb(185, 22, 42)"
          ],
          [
           0.9881889763779528,
           "rgb(184, 17, 41)"
          ],
          [
           0.9921259842519685,
           "rgb(182, 13, 40)"
          ],
          [
           0.9960629921259843,
           "rgb(181, 8, 39)"
          ],
          [
           1,
           "rgb(179, 3, 38)"
          ]
         ],
         "reversescale": false,
         "showscale": false,
         "type": "heatmap",
         "uid": "87140d29-6d46-43b9-b090-cdce77128319",
         "x": [
          "lat",
          "lon",
          "synecho_abundance",
          "picoeuk_abundance",
          "prochloro_abundance",
          "sst",
          "sss",
          "chl",
          "NO3",
          "Fe",
          "O2",
          "PO4",
          "density_WOA_clim",
          "nitrate_WOA_clim",
          "phosphate_WOA_clim",
          "silicate_WOA_clim"
         ],
         "y": [
          "lat",
          "lon",
          "synecho_abundance",
          "picoeuk_abundance",
          "prochloro_abundance",
          "sst",
          "sss",
          "chl",
          "NO3",
          "Fe",
          "O2",
          "PO4",
          "density_WOA_clim",
          "nitrate_WOA_clim",
          "phosphate_WOA_clim",
          "silicate_WOA_clim"
         ],
         "z": [
          [
           1,
           -0.4773061536254826,
           0.8116252524190434,
           0.7383262637415199,
           -0.7385526881479009,
           -0.912855194085508,
           -0.8632830634856213,
           0.545906466775718,
           0.9159156298198696,
           -0.795546102229255,
           0.9322830333753509,
           0.6188185010685879,
           0.8914014602076372,
           0.760520527547355,
           0.7823851925832905,
           0.7347327355404681
          ],
          [
           -0.4773061536254826,
           1,
           -0.5814826788579057,
           -0.5460257146075012,
           0.5563895643522975,
           0.5593226633633414,
           0.4222687066175769,
           -0.1269110135918843,
           -0.5414811303591802,
           0.5672633368242316,
           -0.5666099431299559,
           -0.03660615823825034,
           -0.5735808866187141,
           -0.5381680097517658,
           -0.4564186830725532,
           -0.47524552073289106
          ],
          [
           0.8116252524190434,
           -0.5814826788579057,
           1,
           0.7890936002730103,
           -0.7567947925290531,
           -0.8378253790657136,
           -0.731343483043329,
           0.3992600481353626,
           0.8406190975482994,
           -0.8373436404396778,
           0.8347953298055547,
           0.4176777356036095,
           0.805813082113007,
           0.6047758283122012,
           0.6799166013654173,
           0.7938451872321306
          ],
          [
           0.7383262637415199,
           -0.5460257146075012,
           0.7890936002730103,
           1,
           -0.7250924330217221,
           -0.863824335346632,
           -0.6844434988925502,
           0.6421529365424281,
           0.8636404083592666,
           -0.5910643186059321,
           0.8562682400590226,
           0.4425382945126009,
           0.906524345341126,
           0.6005557990553331,
           0.8182905200026726,
           0.7415683538536657
          ],
          [
           -0.7385526881479009,
           0.5563895643522975,
           -0.7567947925290531,
           -0.7250924330217221,
           1,
           0.8141410245961691,
           0.7148857852435102,
           -0.4592951287565346,
           -0.7469821838270801,
           0.6037704603252947,
           -0.8168929333676881,
           -0.41540443091882373,
           -0.773343529751008,
           -0.6760392107918048,
           -0.6660935175971229,
           -0.48025768660946755
          ],
          [
           -0.912855194085508,
           0.5593226633633414,
           -0.8378253790657136,
           -0.863824335346632,
           0.8141410245961691,
           1,
           0.8595655793975534,
           -0.582882167405538,
           -0.9687581113701881,
           0.7638029322357114,
           -0.9864232580585302,
           -0.6062212555888863,
           -0.9416896534268031,
           -0.7461974824762075,
           -0.8324000171525054,
           -0.7919510653144057
          ],
          [
           -0.8632830634856213,
           0.4222687066175769,
           -0.731343483043329,
           -0.6844434988925502,
           0.7148857852435102,
           0.8595655793975534,
           1,
           -0.3921039547203263,
           -0.8759066930968976,
           0.7146251229729306,
           -0.8742319526935189,
           -0.7279299139776323,
           -0.807994856167861,
           -0.617944596845346,
           -0.610570703569916,
           -0.636485287987845
          ],
          [
           0.545906466775718,
           -0.1269110135918843,
           0.3992600481353626,
           0.6421529365424281,
           -0.4592951287565346,
           -0.582882167405538,
           -0.3921039547203263,
           1,
           0.5429473173653279,
           -0.22338899023748562,
           0.5789945154707155,
           0.48377694336716187,
           0.6281907967539353,
           0.37869712531544614,
           0.6990814565858083,
           0.38652932011345703
          ],
          [
           0.9159156298198696,
           -0.5414811303591802,
           0.8406190975482994,
           0.8636404083592666,
           -0.7469821838270801,
           -0.9687581113701881,
           -0.8759066930968976,
           0.5429473173653279,
           1,
           -0.7571314808013959,
           0.9650966121398346,
           0.603555267043958,
           0.9332622907758359,
           0.7439717227549287,
           0.8261060551731417,
           0.8281757331762759
          ],
          [
           -0.795546102229255,
           0.5672633368242316,
           -0.8373436404396778,
           -0.5910643186059321,
           0.6037704603252947,
           0.7638029322357114,
           0.7146251229729306,
           -0.22338899023748562,
           -0.7571314808013959,
           1,
           -0.7682551451101869,
           -0.3360135457967689,
           -0.7466780186408941,
           -0.5349298375311247,
           -0.5315735645388097,
           -0.8304585759676765
          ],
          [
           0.9322830333753509,
           -0.5666099431299559,
           0.8347953298055547,
           0.8562682400590226,
           -0.8168929333676881,
           -0.9864232580585302,
           -0.8742319526935189,
           0.5789945154707155,
           0.9650966121398346,
           -0.7682551451101869,
           1,
           0.6148208481700762,
           0.9566267808741011,
           0.7384045810156841,
           0.8140132567176394,
           0.7773122394086519
          ],
          [
           0.6188185010685879,
           -0.03660615823825034,
           0.4176777356036095,
           0.4425382945126009,
           -0.41540443091882373,
           -0.6062212555888863,
           -0.7279299139776323,
           0.48377694336716187,
           0.603555267043958,
           -0.3360135457967689,
           0.6148208481700762,
           1,
           0.5361961651365207,
           0.21238934722237043,
           0.46619802106447145,
           0.3676115841691701
          ],
          [
           0.8914014602076372,
           -0.5735808866187141,
           0.805813082113007,
           0.906524345341126,
           -0.773343529751008,
           -0.9416896534268031,
           -0.807994856167861,
           0.6281907967539353,
           0.9332622907758359,
           -0.7466780186408941,
           0.9566267808741011,
           0.5361961651365207,
           1,
           0.6899019760127079,
           0.8448827635669474,
           0.8007710505612224
          ],
          [
           0.760520527547355,
           -0.5381680097517658,
           0.6047758283122012,
           0.6005557990553331,
           -0.6760392107918048,
           -0.7461974824762075,
           -0.617944596845346,
           0.37869712531544614,
           0.7439717227549287,
           -0.5349298375311247,
           0.7384045810156841,
           0.21238934722237043,
           0.6899019760127079,
           1,
           0.7149217503168029,
           0.5171471908059102
          ],
          [
           0.7823851925832905,
           -0.4564186830725532,
           0.6799166013654173,
           0.8182905200026726,
           -0.6660935175971229,
           -0.8324000171525054,
           -0.610570703569916,
           0.6990814565858083,
           0.8261060551731417,
           -0.5315735645388097,
           0.8140132567176394,
           0.46619802106447145,
           0.8448827635669474,
           0.7149217503168029,
           1,
           0.7132543743897015
          ],
          [
           0.7347327355404681,
           -0.47524552073289106,
           0.7938451872321306,
           0.7415683538536657,
           -0.48025768660946755,
           -0.7919510653144057,
           -0.636485287987845,
           0.38652932011345703,
           0.8281757331762759,
           -0.8304585759676765,
           0.7773122394086519,
           0.3676115841691701,
           0.8007710505612224,
           0.5171471908059102,
           0.7132543743897015,
           1
          ]
         ],
         "zmax": 1,
         "zmin": -1
        }
       ],
       "layout": {
        "annotations": [
         {
          "font": {
           "color": "#FFFFFF"
          },
          "showarrow": false,
          "text": "1.0",
          "x": "lat",
          "xref": "x",
          "y": "lat",
          "yref": "y"
         },
         {
          "font": {
           "color": "#FFFFFF"
          },
          "showarrow": false,
          "text": "-0.48",
          "x": "lon",
          "xref": "x",
          "y": "lat",
          "yref": "y"
         },
         {
          "font": {
           "color": "#FFFFFF"
          },
          "showarrow": false,
          "text": "0.81",
          "x": "synecho_abundance",
          "xref": "x",
          "y": "lat",
          "yref": "y"
         },
         {
          "font": {
           "color": "#FFFFFF"
          },
          "showarrow": false,
          "text": "0.74",
          "x": "picoeuk_abundance",
          "xref": "x",
          "y": "lat",
          "yref": "y"
         },
         {
          "font": {
           "color": "#FFFFFF"
          },
          "showarrow": false,
          "text": "-0.74",
          "x": "prochloro_abundance",
          "xref": "x",
          "y": "lat",
          "yref": "y"
         },
         {
          "font": {
           "color": "#FFFFFF"
          },
          "showarrow": false,
          "text": "-0.91",
          "x": "sst",
          "xref": "x",
          "y": "lat",
          "yref": "y"
         },
         {
          "font": {
           "color": "#FFFFFF"
          },
          "showarrow": false,
          "text": "-0.86",
          "x": "sss",
          "xref": "x",
          "y": "lat",
          "yref": "y"
         },
         {
          "font": {
           "color": "#FFFFFF"
          },
          "showarrow": false,
          "text": "0.55",
          "x": "chl",
          "xref": "x",
          "y": "lat",
          "yref": "y"
         },
         {
          "font": {
           "color": "#FFFFFF"
          },
          "showarrow": false,
          "text": "0.92",
          "x": "NO3",
          "xref": "x",
          "y": "lat",
          "yref": "y"
         },
         {
          "font": {
           "color": "#FFFFFF"
          },
          "showarrow": false,
          "text": "-0.8",
          "x": "Fe",
          "xref": "x",
          "y": "lat",
          "yref": "y"
         },
         {
          "font": {
           "color": "#FFFFFF"
          },
          "showarrow": false,
          "text": "0.93",
          "x": "O2",
          "xref": "x",
          "y": "lat",
          "yref": "y"
         },
         {
          "font": {
           "color": "#FFFFFF"
          },
          "showarrow": false,
          "text": "0.62",
          "x": "PO4",
          "xref": "x",
          "y": "lat",
          "yref": "y"
         },
         {
          "font": {
           "color": "#FFFFFF"
          },
          "showarrow": false,
          "text": "0.89",
          "x": "density_WOA_clim",
          "xref": "x",
          "y": "lat",
          "yref": "y"
         },
         {
          "font": {
           "color": "#FFFFFF"
          },
          "showarrow": false,
          "text": "0.76",
          "x": "nitrate_WOA_clim",
          "xref": "x",
          "y": "lat",
          "yref": "y"
         },
         {
          "font": {
           "color": "#FFFFFF"
          },
          "showarrow": false,
          "text": "0.78",
          "x": "phosphate_WOA_clim",
          "xref": "x",
          "y": "lat",
          "yref": "y"
         },
         {
          "font": {
           "color": "#FFFFFF"
          },
          "showarrow": false,
          "text": "0.73",
          "x": "silicate_WOA_clim",
          "xref": "x",
          "y": "lat",
          "yref": "y"
         },
         {
          "font": {
           "color": "#FFFFFF"
          },
          "showarrow": false,
          "text": "-0.48",
          "x": "lat",
          "xref": "x",
          "y": "lon",
          "yref": "y"
         },
         {
          "font": {
           "color": "#FFFFFF"
          },
          "showarrow": false,
          "text": "1.0",
          "x": "lon",
          "xref": "x",
          "y": "lon",
          "yref": "y"
         },
         {
          "font": {
           "color": "#FFFFFF"
          },
          "showarrow": false,
          "text": "-0.58",
          "x": "synecho_abundance",
          "xref": "x",
          "y": "lon",
          "yref": "y"
         },
         {
          "font": {
           "color": "#FFFFFF"
          },
          "showarrow": false,
          "text": "-0.55",
          "x": "picoeuk_abundance",
          "xref": "x",
          "y": "lon",
          "yref": "y"
         },
         {
          "font": {
           "color": "#FFFFFF"
          },
          "showarrow": false,
          "text": "0.56",
          "x": "prochloro_abundance",
          "xref": "x",
          "y": "lon",
          "yref": "y"
         },
         {
          "font": {
           "color": "#FFFFFF"
          },
          "showarrow": false,
          "text": "0.56",
          "x": "sst",
          "xref": "x",
          "y": "lon",
          "yref": "y"
         },
         {
          "font": {
           "color": "#FFFFFF"
          },
          "showarrow": false,
          "text": "0.42",
          "x": "sss",
          "xref": "x",
          "y": "lon",
          "yref": "y"
         },
         {
          "font": {
           "color": "#FFFFFF"
          },
          "showarrow": false,
          "text": "-0.13",
          "x": "chl",
          "xref": "x",
          "y": "lon",
          "yref": "y"
         },
         {
          "font": {
           "color": "#FFFFFF"
          },
          "showarrow": false,
          "text": "-0.54",
          "x": "NO3",
          "xref": "x",
          "y": "lon",
          "yref": "y"
         },
         {
          "font": {
           "color": "#FFFFFF"
          },
          "showarrow": false,
          "text": "0.57",
          "x": "Fe",
          "xref": "x",
          "y": "lon",
          "yref": "y"
         },
         {
          "font": {
           "color": "#FFFFFF"
          },
          "showarrow": false,
          "text": "-0.57",
          "x": "O2",
          "xref": "x",
          "y": "lon",
          "yref": "y"
         },
         {
          "font": {
           "color": "#FFFFFF"
          },
          "showarrow": false,
          "text": "-0.04",
          "x": "PO4",
          "xref": "x",
          "y": "lon",
          "yref": "y"
         },
         {
          "font": {
           "color": "#FFFFFF"
          },
          "showarrow": false,
          "text": "-0.57",
          "x": "density_WOA_clim",
          "xref": "x",
          "y": "lon",
          "yref": "y"
         },
         {
          "font": {
           "color": "#FFFFFF"
          },
          "showarrow": false,
          "text": "-0.54",
          "x": "nitrate_WOA_clim",
          "xref": "x",
          "y": "lon",
          "yref": "y"
         },
         {
          "font": {
           "color": "#FFFFFF"
          },
          "showarrow": false,
          "text": "-0.46",
          "x": "phosphate_WOA_clim",
          "xref": "x",
          "y": "lon",
          "yref": "y"
         },
         {
          "font": {
           "color": "#FFFFFF"
          },
          "showarrow": false,
          "text": "-0.48",
          "x": "silicate_WOA_clim",
          "xref": "x",
          "y": "lon",
          "yref": "y"
         },
         {
          "font": {
           "color": "#FFFFFF"
          },
          "showarrow": false,
          "text": "0.81",
          "x": "lat",
          "xref": "x",
          "y": "synecho_abundance",
          "yref": "y"
         },
         {
          "font": {
           "color": "#FFFFFF"
          },
          "showarrow": false,
          "text": "-0.58",
          "x": "lon",
          "xref": "x",
          "y": "synecho_abundance",
          "yref": "y"
         },
         {
          "font": {
           "color": "#FFFFFF"
          },
          "showarrow": false,
          "text": "1.0",
          "x": "synecho_abundance",
          "xref": "x",
          "y": "synecho_abundance",
          "yref": "y"
         },
         {
          "font": {
           "color": "#FFFFFF"
          },
          "showarrow": false,
          "text": "0.79",
          "x": "picoeuk_abundance",
          "xref": "x",
          "y": "synecho_abundance",
          "yref": "y"
         },
         {
          "font": {
           "color": "#FFFFFF"
          },
          "showarrow": false,
          "text": "-0.76",
          "x": "prochloro_abundance",
          "xref": "x",
          "y": "synecho_abundance",
          "yref": "y"
         },
         {
          "font": {
           "color": "#FFFFFF"
          },
          "showarrow": false,
          "text": "-0.84",
          "x": "sst",
          "xref": "x",
          "y": "synecho_abundance",
          "yref": "y"
         },
         {
          "font": {
           "color": "#FFFFFF"
          },
          "showarrow": false,
          "text": "-0.73",
          "x": "sss",
          "xref": "x",
          "y": "synecho_abundance",
          "yref": "y"
         },
         {
          "font": {
           "color": "#FFFFFF"
          },
          "showarrow": false,
          "text": "0.4",
          "x": "chl",
          "xref": "x",
          "y": "synecho_abundance",
          "yref": "y"
         },
         {
          "font": {
           "color": "#FFFFFF"
          },
          "showarrow": false,
          "text": "0.84",
          "x": "NO3",
          "xref": "x",
          "y": "synecho_abundance",
          "yref": "y"
         },
         {
          "font": {
           "color": "#FFFFFF"
          },
          "showarrow": false,
          "text": "-0.84",
          "x": "Fe",
          "xref": "x",
          "y": "synecho_abundance",
          "yref": "y"
         },
         {
          "font": {
           "color": "#FFFFFF"
          },
          "showarrow": false,
          "text": "0.83",
          "x": "O2",
          "xref": "x",
          "y": "synecho_abundance",
          "yref": "y"
         },
         {
          "font": {
           "color": "#FFFFFF"
          },
          "showarrow": false,
          "text": "0.42",
          "x": "PO4",
          "xref": "x",
          "y": "synecho_abundance",
          "yref": "y"
         },
         {
          "font": {
           "color": "#FFFFFF"
          },
          "showarrow": false,
          "text": "0.81",
          "x": "density_WOA_clim",
          "xref": "x",
          "y": "synecho_abundance",
          "yref": "y"
         },
         {
          "font": {
           "color": "#FFFFFF"
          },
          "showarrow": false,
          "text": "0.6",
          "x": "nitrate_WOA_clim",
          "xref": "x",
          "y": "synecho_abundance",
          "yref": "y"
         },
         {
          "font": {
           "color": "#FFFFFF"
          },
          "showarrow": false,
          "text": "0.68",
          "x": "phosphate_WOA_clim",
          "xref": "x",
          "y": "synecho_abundance",
          "yref": "y"
         },
         {
          "font": {
           "color": "#FFFFFF"
          },
          "showarrow": false,
          "text": "0.79",
          "x": "silicate_WOA_clim",
          "xref": "x",
          "y": "synecho_abundance",
          "yref": "y"
         },
         {
          "font": {
           "color": "#FFFFFF"
          },
          "showarrow": false,
          "text": "0.74",
          "x": "lat",
          "xref": "x",
          "y": "picoeuk_abundance",
          "yref": "y"
         },
         {
          "font": {
           "color": "#FFFFFF"
          },
          "showarrow": false,
          "text": "-0.55",
          "x": "lon",
          "xref": "x",
          "y": "picoeuk_abundance",
          "yref": "y"
         },
         {
          "font": {
           "color": "#FFFFFF"
          },
          "showarrow": false,
          "text": "0.79",
          "x": "synecho_abundance",
          "xref": "x",
          "y": "picoeuk_abundance",
          "yref": "y"
         },
         {
          "font": {
           "color": "#FFFFFF"
          },
          "showarrow": false,
          "text": "1.0",
          "x": "picoeuk_abundance",
          "xref": "x",
          "y": "picoeuk_abundance",
          "yref": "y"
         },
         {
          "font": {
           "color": "#FFFFFF"
          },
          "showarrow": false,
          "text": "-0.73",
          "x": "prochloro_abundance",
          "xref": "x",
          "y": "picoeuk_abundance",
          "yref": "y"
         },
         {
          "font": {
           "color": "#FFFFFF"
          },
          "showarrow": false,
          "text": "-0.86",
          "x": "sst",
          "xref": "x",
          "y": "picoeuk_abundance",
          "yref": "y"
         },
         {
          "font": {
           "color": "#FFFFFF"
          },
          "showarrow": false,
          "text": "-0.68",
          "x": "sss",
          "xref": "x",
          "y": "picoeuk_abundance",
          "yref": "y"
         },
         {
          "font": {
           "color": "#FFFFFF"
          },
          "showarrow": false,
          "text": "0.64",
          "x": "chl",
          "xref": "x",
          "y": "picoeuk_abundance",
          "yref": "y"
         },
         {
          "font": {
           "color": "#FFFFFF"
          },
          "showarrow": false,
          "text": "0.86",
          "x": "NO3",
          "xref": "x",
          "y": "picoeuk_abundance",
          "yref": "y"
         },
         {
          "font": {
           "color": "#FFFFFF"
          },
          "showarrow": false,
          "text": "-0.59",
          "x": "Fe",
          "xref": "x",
          "y": "picoeuk_abundance",
          "yref": "y"
         },
         {
          "font": {
           "color": "#FFFFFF"
          },
          "showarrow": false,
          "text": "0.86",
          "x": "O2",
          "xref": "x",
          "y": "picoeuk_abundance",
          "yref": "y"
         },
         {
          "font": {
           "color": "#FFFFFF"
          },
          "showarrow": false,
          "text": "0.44",
          "x": "PO4",
          "xref": "x",
          "y": "picoeuk_abundance",
          "yref": "y"
         },
         {
          "font": {
           "color": "#FFFFFF"
          },
          "showarrow": false,
          "text": "0.91",
          "x": "density_WOA_clim",
          "xref": "x",
          "y": "picoeuk_abundance",
          "yref": "y"
         },
         {
          "font": {
           "color": "#FFFFFF"
          },
          "showarrow": false,
          "text": "0.6",
          "x": "nitrate_WOA_clim",
          "xref": "x",
          "y": "picoeuk_abundance",
          "yref": "y"
         },
         {
          "font": {
           "color": "#FFFFFF"
          },
          "showarrow": false,
          "text": "0.82",
          "x": "phosphate_WOA_clim",
          "xref": "x",
          "y": "picoeuk_abundance",
          "yref": "y"
         },
         {
          "font": {
           "color": "#FFFFFF"
          },
          "showarrow": false,
          "text": "0.74",
          "x": "silicate_WOA_clim",
          "xref": "x",
          "y": "picoeuk_abundance",
          "yref": "y"
         },
         {
          "font": {
           "color": "#FFFFFF"
          },
          "showarrow": false,
          "text": "-0.74",
          "x": "lat",
          "xref": "x",
          "y": "prochloro_abundance",
          "yref": "y"
         },
         {
          "font": {
           "color": "#FFFFFF"
          },
          "showarrow": false,
          "text": "0.56",
          "x": "lon",
          "xref": "x",
          "y": "prochloro_abundance",
          "yref": "y"
         },
         {
          "font": {
           "color": "#FFFFFF"
          },
          "showarrow": false,
          "text": "-0.76",
          "x": "synecho_abundance",
          "xref": "x",
          "y": "prochloro_abundance",
          "yref": "y"
         },
         {
          "font": {
           "color": "#FFFFFF"
          },
          "showarrow": false,
          "text": "-0.73",
          "x": "picoeuk_abundance",
          "xref": "x",
          "y": "prochloro_abundance",
          "yref": "y"
         },
         {
          "font": {
           "color": "#FFFFFF"
          },
          "showarrow": false,
          "text": "1.0",
          "x": "prochloro_abundance",
          "xref": "x",
          "y": "prochloro_abundance",
          "yref": "y"
         },
         {
          "font": {
           "color": "#FFFFFF"
          },
          "showarrow": false,
          "text": "0.81",
          "x": "sst",
          "xref": "x",
          "y": "prochloro_abundance",
          "yref": "y"
         },
         {
          "font": {
           "color": "#FFFFFF"
          },
          "showarrow": false,
          "text": "0.71",
          "x": "sss",
          "xref": "x",
          "y": "prochloro_abundance",
          "yref": "y"
         },
         {
          "font": {
           "color": "#FFFFFF"
          },
          "showarrow": false,
          "text": "-0.46",
          "x": "chl",
          "xref": "x",
          "y": "prochloro_abundance",
          "yref": "y"
         },
         {
          "font": {
           "color": "#FFFFFF"
          },
          "showarrow": false,
          "text": "-0.75",
          "x": "NO3",
          "xref": "x",
          "y": "prochloro_abundance",
          "yref": "y"
         },
         {
          "font": {
           "color": "#FFFFFF"
          },
          "showarrow": false,
          "text": "0.6",
          "x": "Fe",
          "xref": "x",
          "y": "prochloro_abundance",
          "yref": "y"
         },
         {
          "font": {
           "color": "#FFFFFF"
          },
          "showarrow": false,
          "text": "-0.82",
          "x": "O2",
          "xref": "x",
          "y": "prochloro_abundance",
          "yref": "y"
         },
         {
          "font": {
           "color": "#FFFFFF"
          },
          "showarrow": false,
          "text": "-0.42",
          "x": "PO4",
          "xref": "x",
          "y": "prochloro_abundance",
          "yref": "y"
         },
         {
          "font": {
           "color": "#FFFFFF"
          },
          "showarrow": false,
          "text": "-0.77",
          "x": "density_WOA_clim",
          "xref": "x",
          "y": "prochloro_abundance",
          "yref": "y"
         },
         {
          "font": {
           "color": "#FFFFFF"
          },
          "showarrow": false,
          "text": "-0.68",
          "x": "nitrate_WOA_clim",
          "xref": "x",
          "y": "prochloro_abundance",
          "yref": "y"
         },
         {
          "font": {
           "color": "#FFFFFF"
          },
          "showarrow": false,
          "text": "-0.67",
          "x": "phosphate_WOA_clim",
          "xref": "x",
          "y": "prochloro_abundance",
          "yref": "y"
         },
         {
          "font": {
           "color": "#FFFFFF"
          },
          "showarrow": false,
          "text": "-0.48",
          "x": "silicate_WOA_clim",
          "xref": "x",
          "y": "prochloro_abundance",
          "yref": "y"
         },
         {
          "font": {
           "color": "#FFFFFF"
          },
          "showarrow": false,
          "text": "-0.91",
          "x": "lat",
          "xref": "x",
          "y": "sst",
          "yref": "y"
         },
         {
          "font": {
           "color": "#FFFFFF"
          },
          "showarrow": false,
          "text": "0.56",
          "x": "lon",
          "xref": "x",
          "y": "sst",
          "yref": "y"
         },
         {
          "font": {
           "color": "#FFFFFF"
          },
          "showarrow": false,
          "text": "-0.84",
          "x": "synecho_abundance",
          "xref": "x",
          "y": "sst",
          "yref": "y"
         },
         {
          "font": {
           "color": "#FFFFFF"
          },
          "showarrow": false,
          "text": "-0.86",
          "x": "picoeuk_abundance",
          "xref": "x",
          "y": "sst",
          "yref": "y"
         },
         {
          "font": {
           "color": "#FFFFFF"
          },
          "showarrow": false,
          "text": "0.81",
          "x": "prochloro_abundance",
          "xref": "x",
          "y": "sst",
          "yref": "y"
         },
         {
          "font": {
           "color": "#FFFFFF"
          },
          "showarrow": false,
          "text": "1.0",
          "x": "sst",
          "xref": "x",
          "y": "sst",
          "yref": "y"
         },
         {
          "font": {
           "color": "#FFFFFF"
          },
          "showarrow": false,
          "text": "0.86",
          "x": "sss",
          "xref": "x",
          "y": "sst",
          "yref": "y"
         },
         {
          "font": {
           "color": "#FFFFFF"
          },
          "showarrow": false,
          "text": "-0.58",
          "x": "chl",
          "xref": "x",
          "y": "sst",
          "yref": "y"
         },
         {
          "font": {
           "color": "#FFFFFF"
          },
          "showarrow": false,
          "text": "-0.97",
          "x": "NO3",
          "xref": "x",
          "y": "sst",
          "yref": "y"
         },
         {
          "font": {
           "color": "#FFFFFF"
          },
          "showarrow": false,
          "text": "0.76",
          "x": "Fe",
          "xref": "x",
          "y": "sst",
          "yref": "y"
         },
         {
          "font": {
           "color": "#FFFFFF"
          },
          "showarrow": false,
          "text": "-0.99",
          "x": "O2",
          "xref": "x",
          "y": "sst",
          "yref": "y"
         },
         {
          "font": {
           "color": "#FFFFFF"
          },
          "showarrow": false,
          "text": "-0.61",
          "x": "PO4",
          "xref": "x",
          "y": "sst",
          "yref": "y"
         },
         {
          "font": {
           "color": "#FFFFFF"
          },
          "showarrow": false,
          "text": "-0.94",
          "x": "density_WOA_clim",
          "xref": "x",
          "y": "sst",
          "yref": "y"
         },
         {
          "font": {
           "color": "#FFFFFF"
          },
          "showarrow": false,
          "text": "-0.75",
          "x": "nitrate_WOA_clim",
          "xref": "x",
          "y": "sst",
          "yref": "y"
         },
         {
          "font": {
           "color": "#FFFFFF"
          },
          "showarrow": false,
          "text": "-0.83",
          "x": "phosphate_WOA_clim",
          "xref": "x",
          "y": "sst",
          "yref": "y"
         },
         {
          "font": {
           "color": "#FFFFFF"
          },
          "showarrow": false,
          "text": "-0.79",
          "x": "silicate_WOA_clim",
          "xref": "x",
          "y": "sst",
          "yref": "y"
         },
         {
          "font": {
           "color": "#FFFFFF"
          },
          "showarrow": false,
          "text": "-0.86",
          "x": "lat",
          "xref": "x",
          "y": "sss",
          "yref": "y"
         },
         {
          "font": {
           "color": "#FFFFFF"
          },
          "showarrow": false,
          "text": "0.42",
          "x": "lon",
          "xref": "x",
          "y": "sss",
          "yref": "y"
         },
         {
          "font": {
           "color": "#FFFFFF"
          },
          "showarrow": false,
          "text": "-0.73",
          "x": "synecho_abundance",
          "xref": "x",
          "y": "sss",
          "yref": "y"
         },
         {
          "font": {
           "color": "#FFFFFF"
          },
          "showarrow": false,
          "text": "-0.68",
          "x": "picoeuk_abundance",
          "xref": "x",
          "y": "sss",
          "yref": "y"
         },
         {
          "font": {
           "color": "#FFFFFF"
          },
          "showarrow": false,
          "text": "0.71",
          "x": "prochloro_abundance",
          "xref": "x",
          "y": "sss",
          "yref": "y"
         },
         {
          "font": {
           "color": "#FFFFFF"
          },
          "showarrow": false,
          "text": "0.86",
          "x": "sst",
          "xref": "x",
          "y": "sss",
          "yref": "y"
         },
         {
          "font": {
           "color": "#FFFFFF"
          },
          "showarrow": false,
          "text": "1.0",
          "x": "sss",
          "xref": "x",
          "y": "sss",
          "yref": "y"
         },
         {
          "font": {
           "color": "#FFFFFF"
          },
          "showarrow": false,
          "text": "-0.39",
          "x": "chl",
          "xref": "x",
          "y": "sss",
          "yref": "y"
         },
         {
          "font": {
           "color": "#FFFFFF"
          },
          "showarrow": false,
          "text": "-0.88",
          "x": "NO3",
          "xref": "x",
          "y": "sss",
          "yref": "y"
         },
         {
          "font": {
           "color": "#FFFFFF"
          },
          "showarrow": false,
          "text": "0.71",
          "x": "Fe",
          "xref": "x",
          "y": "sss",
          "yref": "y"
         },
         {
          "font": {
           "color": "#FFFFFF"
          },
          "showarrow": false,
          "text": "-0.87",
          "x": "O2",
          "xref": "x",
          "y": "sss",
          "yref": "y"
         },
         {
          "font": {
           "color": "#FFFFFF"
          },
          "showarrow": false,
          "text": "-0.73",
          "x": "PO4",
          "xref": "x",
          "y": "sss",
          "yref": "y"
         },
         {
          "font": {
           "color": "#FFFFFF"
          },
          "showarrow": false,
          "text": "-0.81",
          "x": "density_WOA_clim",
          "xref": "x",
          "y": "sss",
          "yref": "y"
         },
         {
          "font": {
           "color": "#FFFFFF"
          },
          "showarrow": false,
          "text": "-0.62",
          "x": "nitrate_WOA_clim",
          "xref": "x",
          "y": "sss",
          "yref": "y"
         },
         {
          "font": {
           "color": "#FFFFFF"
          },
          "showarrow": false,
          "text": "-0.61",
          "x": "phosphate_WOA_clim",
          "xref": "x",
          "y": "sss",
          "yref": "y"
         },
         {
          "font": {
           "color": "#FFFFFF"
          },
          "showarrow": false,
          "text": "-0.64",
          "x": "silicate_WOA_clim",
          "xref": "x",
          "y": "sss",
          "yref": "y"
         },
         {
          "font": {
           "color": "#FFFFFF"
          },
          "showarrow": false,
          "text": "0.55",
          "x": "lat",
          "xref": "x",
          "y": "chl",
          "yref": "y"
         },
         {
          "font": {
           "color": "#FFFFFF"
          },
          "showarrow": false,
          "text": "-0.13",
          "x": "lon",
          "xref": "x",
          "y": "chl",
          "yref": "y"
         },
         {
          "font": {
           "color": "#FFFFFF"
          },
          "showarrow": false,
          "text": "0.4",
          "x": "synecho_abundance",
          "xref": "x",
          "y": "chl",
          "yref": "y"
         },
         {
          "font": {
           "color": "#FFFFFF"
          },
          "showarrow": false,
          "text": "0.64",
          "x": "picoeuk_abundance",
          "xref": "x",
          "y": "chl",
          "yref": "y"
         },
         {
          "font": {
           "color": "#FFFFFF"
          },
          "showarrow": false,
          "text": "-0.46",
          "x": "prochloro_abundance",
          "xref": "x",
          "y": "chl",
          "yref": "y"
         },
         {
          "font": {
           "color": "#FFFFFF"
          },
          "showarrow": false,
          "text": "-0.58",
          "x": "sst",
          "xref": "x",
          "y": "chl",
          "yref": "y"
         },
         {
          "font": {
           "color": "#FFFFFF"
          },
          "showarrow": false,
          "text": "-0.39",
          "x": "sss",
          "xref": "x",
          "y": "chl",
          "yref": "y"
         },
         {
          "font": {
           "color": "#FFFFFF"
          },
          "showarrow": false,
          "text": "1.0",
          "x": "chl",
          "xref": "x",
          "y": "chl",
          "yref": "y"
         },
         {
          "font": {
           "color": "#FFFFFF"
          },
          "showarrow": false,
          "text": "0.54",
          "x": "NO3",
          "xref": "x",
          "y": "chl",
          "yref": "y"
         },
         {
          "font": {
           "color": "#FFFFFF"
          },
          "showarrow": false,
          "text": "-0.22",
          "x": "Fe",
          "xref": "x",
          "y": "chl",
          "yref": "y"
         },
         {
          "font": {
           "color": "#FFFFFF"
          },
          "showarrow": false,
          "text": "0.58",
          "x": "O2",
          "xref": "x",
          "y": "chl",
          "yref": "y"
         },
         {
          "font": {
           "color": "#FFFFFF"
          },
          "showarrow": false,
          "text": "0.48",
          "x": "PO4",
          "xref": "x",
          "y": "chl",
          "yref": "y"
         },
         {
          "font": {
           "color": "#FFFFFF"
          },
          "showarrow": false,
          "text": "0.63",
          "x": "density_WOA_clim",
          "xref": "x",
          "y": "chl",
          "yref": "y"
         },
         {
          "font": {
           "color": "#FFFFFF"
          },
          "showarrow": false,
          "text": "0.38",
          "x": "nitrate_WOA_clim",
          "xref": "x",
          "y": "chl",
          "yref": "y"
         },
         {
          "font": {
           "color": "#FFFFFF"
          },
          "showarrow": false,
          "text": "0.7",
          "x": "phosphate_WOA_clim",
          "xref": "x",
          "y": "chl",
          "yref": "y"
         },
         {
          "font": {
           "color": "#FFFFFF"
          },
          "showarrow": false,
          "text": "0.39",
          "x": "silicate_WOA_clim",
          "xref": "x",
          "y": "chl",
          "yref": "y"
         },
         {
          "font": {
           "color": "#FFFFFF"
          },
          "showarrow": false,
          "text": "0.92",
          "x": "lat",
          "xref": "x",
          "y": "NO3",
          "yref": "y"
         },
         {
          "font": {
           "color": "#FFFFFF"
          },
          "showarrow": false,
          "text": "-0.54",
          "x": "lon",
          "xref": "x",
          "y": "NO3",
          "yref": "y"
         },
         {
          "font": {
           "color": "#FFFFFF"
          },
          "showarrow": false,
          "text": "0.84",
          "x": "synecho_abundance",
          "xref": "x",
          "y": "NO3",
          "yref": "y"
         },
         {
          "font": {
           "color": "#FFFFFF"
          },
          "showarrow": false,
          "text": "0.86",
          "x": "picoeuk_abundance",
          "xref": "x",
          "y": "NO3",
          "yref": "y"
         },
         {
          "font": {
           "color": "#FFFFFF"
          },
          "showarrow": false,
          "text": "-0.75",
          "x": "prochloro_abundance",
          "xref": "x",
          "y": "NO3",
          "yref": "y"
         },
         {
          "font": {
           "color": "#FFFFFF"
          },
          "showarrow": false,
          "text": "-0.97",
          "x": "sst",
          "xref": "x",
          "y": "NO3",
          "yref": "y"
         },
         {
          "font": {
           "color": "#FFFFFF"
          },
          "showarrow": false,
          "text": "-0.88",
          "x": "sss",
          "xref": "x",
          "y": "NO3",
          "yref": "y"
         },
         {
          "font": {
           "color": "#FFFFFF"
          },
          "showarrow": false,
          "text": "0.54",
          "x": "chl",
          "xref": "x",
          "y": "NO3",
          "yref": "y"
         },
         {
          "font": {
           "color": "#FFFFFF"
          },
          "showarrow": false,
          "text": "1.0",
          "x": "NO3",
          "xref": "x",
          "y": "NO3",
          "yref": "y"
         },
         {
          "font": {
           "color": "#FFFFFF"
          },
          "showarrow": false,
          "text": "-0.76",
          "x": "Fe",
          "xref": "x",
          "y": "NO3",
          "yref": "y"
         },
         {
          "font": {
           "color": "#FFFFFF"
          },
          "showarrow": false,
          "text": "0.97",
          "x": "O2",
          "xref": "x",
          "y": "NO3",
          "yref": "y"
         },
         {
          "font": {
           "color": "#FFFFFF"
          },
          "showarrow": false,
          "text": "0.6",
          "x": "PO4",
          "xref": "x",
          "y": "NO3",
          "yref": "y"
         },
         {
          "font": {
           "color": "#FFFFFF"
          },
          "showarrow": false,
          "text": "0.93",
          "x": "density_WOA_clim",
          "xref": "x",
          "y": "NO3",
          "yref": "y"
         },
         {
          "font": {
           "color": "#FFFFFF"
          },
          "showarrow": false,
          "text": "0.74",
          "x": "nitrate_WOA_clim",
          "xref": "x",
          "y": "NO3",
          "yref": "y"
         },
         {
          "font": {
           "color": "#FFFFFF"
          },
          "showarrow": false,
          "text": "0.83",
          "x": "phosphate_WOA_clim",
          "xref": "x",
          "y": "NO3",
          "yref": "y"
         },
         {
          "font": {
           "color": "#FFFFFF"
          },
          "showarrow": false,
          "text": "0.83",
          "x": "silicate_WOA_clim",
          "xref": "x",
          "y": "NO3",
          "yref": "y"
         },
         {
          "font": {
           "color": "#FFFFFF"
          },
          "showarrow": false,
          "text": "-0.8",
          "x": "lat",
          "xref": "x",
          "y": "Fe",
          "yref": "y"
         },
         {
          "font": {
           "color": "#FFFFFF"
          },
          "showarrow": false,
          "text": "0.57",
          "x": "lon",
          "xref": "x",
          "y": "Fe",
          "yref": "y"
         },
         {
          "font": {
           "color": "#FFFFFF"
          },
          "showarrow": false,
          "text": "-0.84",
          "x": "synecho_abundance",
          "xref": "x",
          "y": "Fe",
          "yref": "y"
         },
         {
          "font": {
           "color": "#FFFFFF"
          },
          "showarrow": false,
          "text": "-0.59",
          "x": "picoeuk_abundance",
          "xref": "x",
          "y": "Fe",
          "yref": "y"
         },
         {
          "font": {
           "color": "#FFFFFF"
          },
          "showarrow": false,
          "text": "0.6",
          "x": "prochloro_abundance",
          "xref": "x",
          "y": "Fe",
          "yref": "y"
         },
         {
          "font": {
           "color": "#FFFFFF"
          },
          "showarrow": false,
          "text": "0.76",
          "x": "sst",
          "xref": "x",
          "y": "Fe",
          "yref": "y"
         },
         {
          "font": {
           "color": "#FFFFFF"
          },
          "showarrow": false,
          "text": "0.71",
          "x": "sss",
          "xref": "x",
          "y": "Fe",
          "yref": "y"
         },
         {
          "font": {
           "color": "#FFFFFF"
          },
          "showarrow": false,
          "text": "-0.22",
          "x": "chl",
          "xref": "x",
          "y": "Fe",
          "yref": "y"
         },
         {
          "font": {
           "color": "#FFFFFF"
          },
          "showarrow": false,
          "text": "-0.76",
          "x": "NO3",
          "xref": "x",
          "y": "Fe",
          "yref": "y"
         },
         {
          "font": {
           "color": "#FFFFFF"
          },
          "showarrow": false,
          "text": "1.0",
          "x": "Fe",
          "xref": "x",
          "y": "Fe",
          "yref": "y"
         },
         {
          "font": {
           "color": "#FFFFFF"
          },
          "showarrow": false,
          "text": "-0.77",
          "x": "O2",
          "xref": "x",
          "y": "Fe",
          "yref": "y"
         },
         {
          "font": {
           "color": "#FFFFFF"
          },
          "showarrow": false,
          "text": "-0.34",
          "x": "PO4",
          "xref": "x",
          "y": "Fe",
          "yref": "y"
         },
         {
          "font": {
           "color": "#FFFFFF"
          },
          "showarrow": false,
          "text": "-0.75",
          "x": "density_WOA_clim",
          "xref": "x",
          "y": "Fe",
          "yref": "y"
         },
         {
          "font": {
           "color": "#FFFFFF"
          },
          "showarrow": false,
          "text": "-0.53",
          "x": "nitrate_WOA_clim",
          "xref": "x",
          "y": "Fe",
          "yref": "y"
         },
         {
          "font": {
           "color": "#FFFFFF"
          },
          "showarrow": false,
          "text": "-0.53",
          "x": "phosphate_WOA_clim",
          "xref": "x",
          "y": "Fe",
          "yref": "y"
         },
         {
          "font": {
           "color": "#FFFFFF"
          },
          "showarrow": false,
          "text": "-0.83",
          "x": "silicate_WOA_clim",
          "xref": "x",
          "y": "Fe",
          "yref": "y"
         },
         {
          "font": {
           "color": "#FFFFFF"
          },
          "showarrow": false,
          "text": "0.93",
          "x": "lat",
          "xref": "x",
          "y": "O2",
          "yref": "y"
         },
         {
          "font": {
           "color": "#FFFFFF"
          },
          "showarrow": false,
          "text": "-0.57",
          "x": "lon",
          "xref": "x",
          "y": "O2",
          "yref": "y"
         },
         {
          "font": {
           "color": "#FFFFFF"
          },
          "showarrow": false,
          "text": "0.83",
          "x": "synecho_abundance",
          "xref": "x",
          "y": "O2",
          "yref": "y"
         },
         {
          "font": {
           "color": "#FFFFFF"
          },
          "showarrow": false,
          "text": "0.86",
          "x": "picoeuk_abundance",
          "xref": "x",
          "y": "O2",
          "yref": "y"
         },
         {
          "font": {
           "color": "#FFFFFF"
          },
          "showarrow": false,
          "text": "-0.82",
          "x": "prochloro_abundance",
          "xref": "x",
          "y": "O2",
          "yref": "y"
         },
         {
          "font": {
           "color": "#FFFFFF"
          },
          "showarrow": false,
          "text": "-0.99",
          "x": "sst",
          "xref": "x",
          "y": "O2",
          "yref": "y"
         },
         {
          "font": {
           "color": "#FFFFFF"
          },
          "showarrow": false,
          "text": "-0.87",
          "x": "sss",
          "xref": "x",
          "y": "O2",
          "yref": "y"
         },
         {
          "font": {
           "color": "#FFFFFF"
          },
          "showarrow": false,
          "text": "0.58",
          "x": "chl",
          "xref": "x",
          "y": "O2",
          "yref": "y"
         },
         {
          "font": {
           "color": "#FFFFFF"
          },
          "showarrow": false,
          "text": "0.97",
          "x": "NO3",
          "xref": "x",
          "y": "O2",
          "yref": "y"
         },
         {
          "font": {
           "color": "#FFFFFF"
          },
          "showarrow": false,
          "text": "-0.77",
          "x": "Fe",
          "xref": "x",
          "y": "O2",
          "yref": "y"
         },
         {
          "font": {
           "color": "#FFFFFF"
          },
          "showarrow": false,
          "text": "1.0",
          "x": "O2",
          "xref": "x",
          "y": "O2",
          "yref": "y"
         },
         {
          "font": {
           "color": "#FFFFFF"
          },
          "showarrow": false,
          "text": "0.61",
          "x": "PO4",
          "xref": "x",
          "y": "O2",
          "yref": "y"
         },
         {
          "font": {
           "color": "#FFFFFF"
          },
          "showarrow": false,
          "text": "0.96",
          "x": "density_WOA_clim",
          "xref": "x",
          "y": "O2",
          "yref": "y"
         },
         {
          "font": {
           "color": "#FFFFFF"
          },
          "showarrow": false,
          "text": "0.74",
          "x": "nitrate_WOA_clim",
          "xref": "x",
          "y": "O2",
          "yref": "y"
         },
         {
          "font": {
           "color": "#FFFFFF"
          },
          "showarrow": false,
          "text": "0.81",
          "x": "phosphate_WOA_clim",
          "xref": "x",
          "y": "O2",
          "yref": "y"
         },
         {
          "font": {
           "color": "#FFFFFF"
          },
          "showarrow": false,
          "text": "0.78",
          "x": "silicate_WOA_clim",
          "xref": "x",
          "y": "O2",
          "yref": "y"
         },
         {
          "font": {
           "color": "#FFFFFF"
          },
          "showarrow": false,
          "text": "0.62",
          "x": "lat",
          "xref": "x",
          "y": "PO4",
          "yref": "y"
         },
         {
          "font": {
           "color": "#FFFFFF"
          },
          "showarrow": false,
          "text": "-0.04",
          "x": "lon",
          "xref": "x",
          "y": "PO4",
          "yref": "y"
         },
         {
          "font": {
           "color": "#FFFFFF"
          },
          "showarrow": false,
          "text": "0.42",
          "x": "synecho_abundance",
          "xref": "x",
          "y": "PO4",
          "yref": "y"
         },
         {
          "font": {
           "color": "#FFFFFF"
          },
          "showarrow": false,
          "text": "0.44",
          "x": "picoeuk_abundance",
          "xref": "x",
          "y": "PO4",
          "yref": "y"
         },
         {
          "font": {
           "color": "#FFFFFF"
          },
          "showarrow": false,
          "text": "-0.42",
          "x": "prochloro_abundance",
          "xref": "x",
          "y": "PO4",
          "yref": "y"
         },
         {
          "font": {
           "color": "#FFFFFF"
          },
          "showarrow": false,
          "text": "-0.61",
          "x": "sst",
          "xref": "x",
          "y": "PO4",
          "yref": "y"
         },
         {
          "font": {
           "color": "#FFFFFF"
          },
          "showarrow": false,
          "text": "-0.73",
          "x": "sss",
          "xref": "x",
          "y": "PO4",
          "yref": "y"
         },
         {
          "font": {
           "color": "#FFFFFF"
          },
          "showarrow": false,
          "text": "0.48",
          "x": "chl",
          "xref": "x",
          "y": "PO4",
          "yref": "y"
         },
         {
          "font": {
           "color": "#FFFFFF"
          },
          "showarrow": false,
          "text": "0.6",
          "x": "NO3",
          "xref": "x",
          "y": "PO4",
          "yref": "y"
         },
         {
          "font": {
           "color": "#FFFFFF"
          },
          "showarrow": false,
          "text": "-0.34",
          "x": "Fe",
          "xref": "x",
          "y": "PO4",
          "yref": "y"
         },
         {
          "font": {
           "color": "#FFFFFF"
          },
          "showarrow": false,
          "text": "0.61",
          "x": "O2",
          "xref": "x",
          "y": "PO4",
          "yref": "y"
         },
         {
          "font": {
           "color": "#FFFFFF"
          },
          "showarrow": false,
          "text": "1.0",
          "x": "PO4",
          "xref": "x",
          "y": "PO4",
          "yref": "y"
         },
         {
          "font": {
           "color": "#FFFFFF"
          },
          "showarrow": false,
          "text": "0.54",
          "x": "density_WOA_clim",
          "xref": "x",
          "y": "PO4",
          "yref": "y"
         },
         {
          "font": {
           "color": "#FFFFFF"
          },
          "showarrow": false,
          "text": "0.21",
          "x": "nitrate_WOA_clim",
          "xref": "x",
          "y": "PO4",
          "yref": "y"
         },
         {
          "font": {
           "color": "#FFFFFF"
          },
          "showarrow": false,
          "text": "0.47",
          "x": "phosphate_WOA_clim",
          "xref": "x",
          "y": "PO4",
          "yref": "y"
         },
         {
          "font": {
           "color": "#FFFFFF"
          },
          "showarrow": false,
          "text": "0.37",
          "x": "silicate_WOA_clim",
          "xref": "x",
          "y": "PO4",
          "yref": "y"
         },
         {
          "font": {
           "color": "#FFFFFF"
          },
          "showarrow": false,
          "text": "0.89",
          "x": "lat",
          "xref": "x",
          "y": "density_WOA_clim",
          "yref": "y"
         },
         {
          "font": {
           "color": "#FFFFFF"
          },
          "showarrow": false,
          "text": "-0.57",
          "x": "lon",
          "xref": "x",
          "y": "density_WOA_clim",
          "yref": "y"
         },
         {
          "font": {
           "color": "#FFFFFF"
          },
          "showarrow": false,
          "text": "0.81",
          "x": "synecho_abundance",
          "xref": "x",
          "y": "density_WOA_clim",
          "yref": "y"
         },
         {
          "font": {
           "color": "#FFFFFF"
          },
          "showarrow": false,
          "text": "0.91",
          "x": "picoeuk_abundance",
          "xref": "x",
          "y": "density_WOA_clim",
          "yref": "y"
         },
         {
          "font": {
           "color": "#FFFFFF"
          },
          "showarrow": false,
          "text": "-0.77",
          "x": "prochloro_abundance",
          "xref": "x",
          "y": "density_WOA_clim",
          "yref": "y"
         },
         {
          "font": {
           "color": "#FFFFFF"
          },
          "showarrow": false,
          "text": "-0.94",
          "x": "sst",
          "xref": "x",
          "y": "density_WOA_clim",
          "yref": "y"
         },
         {
          "font": {
           "color": "#FFFFFF"
          },
          "showarrow": false,
          "text": "-0.81",
          "x": "sss",
          "xref": "x",
          "y": "density_WOA_clim",
          "yref": "y"
         },
         {
          "font": {
           "color": "#FFFFFF"
          },
          "showarrow": false,
          "text": "0.63",
          "x": "chl",
          "xref": "x",
          "y": "density_WOA_clim",
          "yref": "y"
         },
         {
          "font": {
           "color": "#FFFFFF"
          },
          "showarrow": false,
          "text": "0.93",
          "x": "NO3",
          "xref": "x",
          "y": "density_WOA_clim",
          "yref": "y"
         },
         {
          "font": {
           "color": "#FFFFFF"
          },
          "showarrow": false,
          "text": "-0.75",
          "x": "Fe",
          "xref": "x",
          "y": "density_WOA_clim",
          "yref": "y"
         },
         {
          "font": {
           "color": "#FFFFFF"
          },
          "showarrow": false,
          "text": "0.96",
          "x": "O2",
          "xref": "x",
          "y": "density_WOA_clim",
          "yref": "y"
         },
         {
          "font": {
           "color": "#FFFFFF"
          },
          "showarrow": false,
          "text": "0.54",
          "x": "PO4",
          "xref": "x",
          "y": "density_WOA_clim",
          "yref": "y"
         },
         {
          "font": {
           "color": "#FFFFFF"
          },
          "showarrow": false,
          "text": "1.0",
          "x": "density_WOA_clim",
          "xref": "x",
          "y": "density_WOA_clim",
          "yref": "y"
         },
         {
          "font": {
           "color": "#FFFFFF"
          },
          "showarrow": false,
          "text": "0.69",
          "x": "nitrate_WOA_clim",
          "xref": "x",
          "y": "density_WOA_clim",
          "yref": "y"
         },
         {
          "font": {
           "color": "#FFFFFF"
          },
          "showarrow": false,
          "text": "0.84",
          "x": "phosphate_WOA_clim",
          "xref": "x",
          "y": "density_WOA_clim",
          "yref": "y"
         },
         {
          "font": {
           "color": "#FFFFFF"
          },
          "showarrow": false,
          "text": "0.8",
          "x": "silicate_WOA_clim",
          "xref": "x",
          "y": "density_WOA_clim",
          "yref": "y"
         },
         {
          "font": {
           "color": "#FFFFFF"
          },
          "showarrow": false,
          "text": "0.76",
          "x": "lat",
          "xref": "x",
          "y": "nitrate_WOA_clim",
          "yref": "y"
         },
         {
          "font": {
           "color": "#FFFFFF"
          },
          "showarrow": false,
          "text": "-0.54",
          "x": "lon",
          "xref": "x",
          "y": "nitrate_WOA_clim",
          "yref": "y"
         },
         {
          "font": {
           "color": "#FFFFFF"
          },
          "showarrow": false,
          "text": "0.6",
          "x": "synecho_abundance",
          "xref": "x",
          "y": "nitrate_WOA_clim",
          "yref": "y"
         },
         {
          "font": {
           "color": "#FFFFFF"
          },
          "showarrow": false,
          "text": "0.6",
          "x": "picoeuk_abundance",
          "xref": "x",
          "y": "nitrate_WOA_clim",
          "yref": "y"
         },
         {
          "font": {
           "color": "#FFFFFF"
          },
          "showarrow": false,
          "text": "-0.68",
          "x": "prochloro_abundance",
          "xref": "x",
          "y": "nitrate_WOA_clim",
          "yref": "y"
         },
         {
          "font": {
           "color": "#FFFFFF"
          },
          "showarrow": false,
          "text": "-0.75",
          "x": "sst",
          "xref": "x",
          "y": "nitrate_WOA_clim",
          "yref": "y"
         },
         {
          "font": {
           "color": "#FFFFFF"
          },
          "showarrow": false,
          "text": "-0.62",
          "x": "sss",
          "xref": "x",
          "y": "nitrate_WOA_clim",
          "yref": "y"
         },
         {
          "font": {
           "color": "#FFFFFF"
          },
          "showarrow": false,
          "text": "0.38",
          "x": "chl",
          "xref": "x",
          "y": "nitrate_WOA_clim",
          "yref": "y"
         },
         {
          "font": {
           "color": "#FFFFFF"
          },
          "showarrow": false,
          "text": "0.74",
          "x": "NO3",
          "xref": "x",
          "y": "nitrate_WOA_clim",
          "yref": "y"
         },
         {
          "font": {
           "color": "#FFFFFF"
          },
          "showarrow": false,
          "text": "-0.53",
          "x": "Fe",
          "xref": "x",
          "y": "nitrate_WOA_clim",
          "yref": "y"
         },
         {
          "font": {
           "color": "#FFFFFF"
          },
          "showarrow": false,
          "text": "0.74",
          "x": "O2",
          "xref": "x",
          "y": "nitrate_WOA_clim",
          "yref": "y"
         },
         {
          "font": {
           "color": "#FFFFFF"
          },
          "showarrow": false,
          "text": "0.21",
          "x": "PO4",
          "xref": "x",
          "y": "nitrate_WOA_clim",
          "yref": "y"
         },
         {
          "font": {
           "color": "#FFFFFF"
          },
          "showarrow": false,
          "text": "0.69",
          "x": "density_WOA_clim",
          "xref": "x",
          "y": "nitrate_WOA_clim",
          "yref": "y"
         },
         {
          "font": {
           "color": "#FFFFFF"
          },
          "showarrow": false,
          "text": "1.0",
          "x": "nitrate_WOA_clim",
          "xref": "x",
          "y": "nitrate_WOA_clim",
          "yref": "y"
         },
         {
          "font": {
           "color": "#FFFFFF"
          },
          "showarrow": false,
          "text": "0.71",
          "x": "phosphate_WOA_clim",
          "xref": "x",
          "y": "nitrate_WOA_clim",
          "yref": "y"
         },
         {
          "font": {
           "color": "#FFFFFF"
          },
          "showarrow": false,
          "text": "0.52",
          "x": "silicate_WOA_clim",
          "xref": "x",
          "y": "nitrate_WOA_clim",
          "yref": "y"
         },
         {
          "font": {
           "color": "#FFFFFF"
          },
          "showarrow": false,
          "text": "0.78",
          "x": "lat",
          "xref": "x",
          "y": "phosphate_WOA_clim",
          "yref": "y"
         },
         {
          "font": {
           "color": "#FFFFFF"
          },
          "showarrow": false,
          "text": "-0.46",
          "x": "lon",
          "xref": "x",
          "y": "phosphate_WOA_clim",
          "yref": "y"
         },
         {
          "font": {
           "color": "#FFFFFF"
          },
          "showarrow": false,
          "text": "0.68",
          "x": "synecho_abundance",
          "xref": "x",
          "y": "phosphate_WOA_clim",
          "yref": "y"
         },
         {
          "font": {
           "color": "#FFFFFF"
          },
          "showarrow": false,
          "text": "0.82",
          "x": "picoeuk_abundance",
          "xref": "x",
          "y": "phosphate_WOA_clim",
          "yref": "y"
         },
         {
          "font": {
           "color": "#FFFFFF"
          },
          "showarrow": false,
          "text": "-0.67",
          "x": "prochloro_abundance",
          "xref": "x",
          "y": "phosphate_WOA_clim",
          "yref": "y"
         },
         {
          "font": {
           "color": "#FFFFFF"
          },
          "showarrow": false,
          "text": "-0.83",
          "x": "sst",
          "xref": "x",
          "y": "phosphate_WOA_clim",
          "yref": "y"
         },
         {
          "font": {
           "color": "#FFFFFF"
          },
          "showarrow": false,
          "text": "-0.61",
          "x": "sss",
          "xref": "x",
          "y": "phosphate_WOA_clim",
          "yref": "y"
         },
         {
          "font": {
           "color": "#FFFFFF"
          },
          "showarrow": false,
          "text": "0.7",
          "x": "chl",
          "xref": "x",
          "y": "phosphate_WOA_clim",
          "yref": "y"
         },
         {
          "font": {
           "color": "#FFFFFF"
          },
          "showarrow": false,
          "text": "0.83",
          "x": "NO3",
          "xref": "x",
          "y": "phosphate_WOA_clim",
          "yref": "y"
         },
         {
          "font": {
           "color": "#FFFFFF"
          },
          "showarrow": false,
          "text": "-0.53",
          "x": "Fe",
          "xref": "x",
          "y": "phosphate_WOA_clim",
          "yref": "y"
         },
         {
          "font": {
           "color": "#FFFFFF"
          },
          "showarrow": false,
          "text": "0.81",
          "x": "O2",
          "xref": "x",
          "y": "phosphate_WOA_clim",
          "yref": "y"
         },
         {
          "font": {
           "color": "#FFFFFF"
          },
          "showarrow": false,
          "text": "0.47",
          "x": "PO4",
          "xref": "x",
          "y": "phosphate_WOA_clim",
          "yref": "y"
         },
         {
          "font": {
           "color": "#FFFFFF"
          },
          "showarrow": false,
          "text": "0.84",
          "x": "density_WOA_clim",
          "xref": "x",
          "y": "phosphate_WOA_clim",
          "yref": "y"
         },
         {
          "font": {
           "color": "#FFFFFF"
          },
          "showarrow": false,
          "text": "0.71",
          "x": "nitrate_WOA_clim",
          "xref": "x",
          "y": "phosphate_WOA_clim",
          "yref": "y"
         },
         {
          "font": {
           "color": "#FFFFFF"
          },
          "showarrow": false,
          "text": "1.0",
          "x": "phosphate_WOA_clim",
          "xref": "x",
          "y": "phosphate_WOA_clim",
          "yref": "y"
         },
         {
          "font": {
           "color": "#FFFFFF"
          },
          "showarrow": false,
          "text": "0.71",
          "x": "silicate_WOA_clim",
          "xref": "x",
          "y": "phosphate_WOA_clim",
          "yref": "y"
         },
         {
          "font": {
           "color": "#FFFFFF"
          },
          "showarrow": false,
          "text": "0.73",
          "x": "lat",
          "xref": "x",
          "y": "silicate_WOA_clim",
          "yref": "y"
         },
         {
          "font": {
           "color": "#FFFFFF"
          },
          "showarrow": false,
          "text": "-0.48",
          "x": "lon",
          "xref": "x",
          "y": "silicate_WOA_clim",
          "yref": "y"
         },
         {
          "font": {
           "color": "#FFFFFF"
          },
          "showarrow": false,
          "text": "0.79",
          "x": "synecho_abundance",
          "xref": "x",
          "y": "silicate_WOA_clim",
          "yref": "y"
         },
         {
          "font": {
           "color": "#FFFFFF"
          },
          "showarrow": false,
          "text": "0.74",
          "x": "picoeuk_abundance",
          "xref": "x",
          "y": "silicate_WOA_clim",
          "yref": "y"
         },
         {
          "font": {
           "color": "#FFFFFF"
          },
          "showarrow": false,
          "text": "-0.48",
          "x": "prochloro_abundance",
          "xref": "x",
          "y": "silicate_WOA_clim",
          "yref": "y"
         },
         {
          "font": {
           "color": "#FFFFFF"
          },
          "showarrow": false,
          "text": "-0.79",
          "x": "sst",
          "xref": "x",
          "y": "silicate_WOA_clim",
          "yref": "y"
         },
         {
          "font": {
           "color": "#FFFFFF"
          },
          "showarrow": false,
          "text": "-0.64",
          "x": "sss",
          "xref": "x",
          "y": "silicate_WOA_clim",
          "yref": "y"
         },
         {
          "font": {
           "color": "#FFFFFF"
          },
          "showarrow": false,
          "text": "0.39",
          "x": "chl",
          "xref": "x",
          "y": "silicate_WOA_clim",
          "yref": "y"
         },
         {
          "font": {
           "color": "#FFFFFF"
          },
          "showarrow": false,
          "text": "0.83",
          "x": "NO3",
          "xref": "x",
          "y": "silicate_WOA_clim",
          "yref": "y"
         },
         {
          "font": {
           "color": "#FFFFFF"
          },
          "showarrow": false,
          "text": "-0.83",
          "x": "Fe",
          "xref": "x",
          "y": "silicate_WOA_clim",
          "yref": "y"
         },
         {
          "font": {
           "color": "#FFFFFF"
          },
          "showarrow": false,
          "text": "0.78",
          "x": "O2",
          "xref": "x",
          "y": "silicate_WOA_clim",
          "yref": "y"
         },
         {
          "font": {
           "color": "#FFFFFF"
          },
          "showarrow": false,
          "text": "0.37",
          "x": "PO4",
          "xref": "x",
          "y": "silicate_WOA_clim",
          "yref": "y"
         },
         {
          "font": {
           "color": "#FFFFFF"
          },
          "showarrow": false,
          "text": "0.8",
          "x": "density_WOA_clim",
          "xref": "x",
          "y": "silicate_WOA_clim",
          "yref": "y"
         },
         {
          "font": {
           "color": "#FFFFFF"
          },
          "showarrow": false,
          "text": "0.52",
          "x": "nitrate_WOA_clim",
          "xref": "x",
          "y": "silicate_WOA_clim",
          "yref": "y"
         },
         {
          "font": {
           "color": "#FFFFFF"
          },
          "showarrow": false,
          "text": "0.71",
          "x": "phosphate_WOA_clim",
          "xref": "x",
          "y": "silicate_WOA_clim",
          "yref": "y"
         },
         {
          "font": {
           "color": "#FFFFFF"
          },
          "showarrow": false,
          "text": "1.0",
          "x": "silicate_WOA_clim",
          "xref": "x",
          "y": "silicate_WOA_clim",
          "yref": "y"
         }
        ],
        "autosize": false,
        "height": 700,
        "title": {
         "text": ""
        },
        "width": 700,
        "xaxis": {
         "dtick": 1,
         "gridcolor": "rgb(0, 0, 0)",
         "side": "top",
         "ticks": "",
         "title": {
          "text": ""
         }
        },
        "yaxis": {
         "autorange": "reversed",
         "dtick": 1,
         "ticks": "",
         "ticksuffix": "  ",
         "title": {
          "text": ""
         }
        }
       }
      },
      "text/html": [
       "<div>\n",
       "        \n",
       "        \n",
       "            <div id=\"99c3a8e6-2fa6-4681-b88a-74cb34423758\" class=\"plotly-graph-div\" style=\"height:700px; width:700px;\"></div>\n",
       "            <script type=\"text/javascript\">\n",
       "                require([\"plotly\"], function(Plotly) {\n",
       "                    window.PLOTLYENV=window.PLOTLYENV || {};\n",
       "                    window.PLOTLYENV.BASE_URL='https://plot.ly';\n",
       "                    \n",
       "                if (document.getElementById(\"99c3a8e6-2fa6-4681-b88a-74cb34423758\")) {\n",
       "                    Plotly.newPlot(\n",
       "                        '99c3a8e6-2fa6-4681-b88a-74cb34423758',\n",
       "                        [{\"colorscale\": [[0.0, \"rgb(58, 76, 192)\"], [0.003937007874015748, \"rgb(59, 77, 193)\"], [0.007874015748031496, \"rgb(60, 79, 195)\"], [0.011811023622047244, \"rgb(62, 81, 196)\"], [0.015748031496062992, \"rgb(63, 83, 198)\"], [0.01968503937007874, \"rgb(64, 84, 199)\"], [0.023622047244094488, \"rgb(65, 86, 201)\"], [0.027559055118110236, \"rgb(66, 88, 202)\"], [0.031496062992125984, \"rgb(67, 90, 204)\"], [0.03543307086614173, \"rgb(69, 91, 205)\"], [0.03937007874015748, \"rgb(70, 93, 207)\"], [0.04330708661417323, \"rgb(71, 95, 208)\"], [0.047244094488188976, \"rgb(72, 96, 209)\"], [0.051181102362204724, \"rgb(73, 98, 211)\"], [0.05511811023622047, \"rgb(75, 100, 212)\"], [0.05905511811023622, \"rgb(76, 102, 214)\"], [0.06299212598425197, \"rgb(77, 103, 215)\"], [0.06692913385826771, \"rgb(78, 105, 216)\"], [0.07086614173228346, \"rgb(80, 107, 218)\"], [0.07480314960629922, \"rgb(81, 108, 219)\"], [0.07874015748031496, \"rgb(82, 110, 220)\"], [0.0826771653543307, \"rgb(83, 112, 221)\"], [0.08661417322834646, \"rgb(85, 113, 222)\"], [0.09055118110236221, \"rgb(86, 115, 224)\"], [0.09448818897637795, \"rgb(87, 117, 225)\"], [0.09842519685039369, \"rgb(88, 118, 226)\"], [0.10236220472440945, \"rgb(90, 120, 227)\"], [0.1062992125984252, \"rgb(91, 121, 228)\"], [0.11023622047244094, \"rgb(92, 123, 229)\"], [0.11417322834645668, \"rgb(93, 125, 230)\"], [0.11811023622047244, \"rgb(95, 126, 231)\"], [0.1220472440944882, \"rgb(96, 128, 232)\"], [0.12598425196850394, \"rgb(97, 130, 234)\"], [0.12992125984251968, \"rgb(99, 131, 234)\"], [0.13385826771653542, \"rgb(100, 133, 235)\"], [0.1377952755905512, \"rgb(101, 134, 236)\"], [0.14173228346456693, \"rgb(103, 136, 237)\"], [0.14566929133858267, \"rgb(104, 137, 238)\"], [0.14960629921259844, \"rgb(105, 139, 239)\"], [0.15354330708661418, \"rgb(107, 141, 240)\"], [0.15748031496062992, \"rgb(108, 142, 241)\"], [0.16141732283464566, \"rgb(109, 144, 241)\"], [0.1653543307086614, \"rgb(111, 145, 242)\"], [0.16929133858267717, \"rgb(112, 147, 243)\"], [0.1732283464566929, \"rgb(113, 148, 244)\"], [0.17716535433070865, \"rgb(115, 149, 244)\"], [0.18110236220472442, \"rgb(116, 151, 245)\"], [0.18503937007874016, \"rgb(117, 152, 246)\"], [0.1889763779527559, \"rgb(119, 154, 246)\"], [0.19291338582677164, \"rgb(120, 155, 247)\"], [0.19685039370078738, \"rgb(122, 157, 248)\"], [0.20078740157480315, \"rgb(123, 158, 248)\"], [0.2047244094488189, \"rgb(124, 160, 249)\"], [0.20866141732283464, \"rgb(126, 161, 249)\"], [0.2125984251968504, \"rgb(127, 162, 250)\"], [0.21653543307086615, \"rgb(128, 164, 250)\"], [0.2204724409448819, \"rgb(130, 165, 251)\"], [0.22440944881889763, \"rgb(131, 166, 251)\"], [0.22834645669291337, \"rgb(133, 168, 251)\"], [0.23228346456692914, \"rgb(134, 169, 252)\"], [0.23622047244094488, \"rgb(135, 170, 252)\"], [0.24015748031496062, \"rgb(137, 172, 252)\"], [0.2440944881889764, \"rgb(138, 173, 253)\"], [0.24803149606299213, \"rgb(139, 174, 253)\"], [0.25196850393700787, \"rgb(141, 175, 253)\"], [0.2559055118110236, \"rgb(142, 177, 253)\"], [0.25984251968503935, \"rgb(144, 178, 254)\"], [0.2637795275590551, \"rgb(145, 179, 254)\"], [0.26771653543307083, \"rgb(146, 180, 254)\"], [0.27165354330708663, \"rgb(148, 181, 254)\"], [0.2755905511811024, \"rgb(149, 183, 254)\"], [0.2795275590551181, \"rgb(151, 184, 254)\"], [0.28346456692913385, \"rgb(152, 185, 254)\"], [0.2874015748031496, \"rgb(153, 186, 254)\"], [0.29133858267716534, \"rgb(155, 187, 254)\"], [0.2952755905511811, \"rgb(156, 188, 254)\"], [0.2992125984251969, \"rgb(157, 189, 254)\"], [0.3031496062992126, \"rgb(159, 190, 254)\"], [0.30708661417322836, \"rgb(160, 191, 254)\"], [0.3110236220472441, \"rgb(162, 192, 254)\"], [0.31496062992125984, \"rgb(163, 193, 254)\"], [0.3188976377952756, \"rgb(164, 194, 254)\"], [0.3228346456692913, \"rgb(166, 195, 253)\"], [0.32677165354330706, \"rgb(167, 196, 253)\"], [0.3307086614173228, \"rgb(168, 197, 253)\"], [0.3346456692913386, \"rgb(170, 198, 253)\"], [0.33858267716535434, \"rgb(171, 199, 252)\"], [0.3425196850393701, \"rgb(172, 200, 252)\"], [0.3464566929133858, \"rgb(174, 201, 252)\"], [0.35039370078740156, \"rgb(175, 202, 251)\"], [0.3543307086614173, \"rgb(176, 203, 251)\"], [0.35826771653543305, \"rgb(178, 203, 251)\"], [0.36220472440944884, \"rgb(179, 204, 250)\"], [0.3661417322834646, \"rgb(180, 205, 250)\"], [0.3700787401574803, \"rgb(182, 206, 249)\"], [0.37401574803149606, \"rgb(183, 207, 249)\"], [0.3779527559055118, \"rgb(184, 207, 248)\"], [0.38188976377952755, \"rgb(185, 208, 248)\"], [0.3858267716535433, \"rgb(187, 209, 247)\"], [0.38976377952755903, \"rgb(188, 209, 246)\"], [0.39370078740157477, \"rgb(189, 210, 246)\"], [0.39763779527559057, \"rgb(190, 211, 245)\"], [0.4015748031496063, \"rgb(192, 211, 245)\"], [0.40551181102362205, \"rgb(193, 212, 244)\"], [0.4094488188976378, \"rgb(194, 212, 243)\"], [0.41338582677165353, \"rgb(195, 213, 242)\"], [0.41732283464566927, \"rgb(197, 213, 242)\"], [0.421259842519685, \"rgb(198, 214, 241)\"], [0.4251968503937008, \"rgb(199, 214, 240)\"], [0.42913385826771655, \"rgb(200, 215, 239)\"], [0.4330708661417323, \"rgb(201, 215, 238)\"], [0.43700787401574803, \"rgb(202, 216, 238)\"], [0.4409448818897638, \"rgb(204, 216, 237)\"], [0.4448818897637795, \"rgb(205, 217, 236)\"], [0.44881889763779526, \"rgb(206, 217, 235)\"], [0.452755905511811, \"rgb(207, 217, 234)\"], [0.45669291338582674, \"rgb(208, 218, 233)\"], [0.46062992125984253, \"rgb(209, 218, 232)\"], [0.4645669291338583, \"rgb(210, 218, 231)\"], [0.468503937007874, \"rgb(211, 219, 230)\"], [0.47244094488188976, \"rgb(213, 219, 229)\"], [0.4763779527559055, \"rgb(214, 219, 228)\"], [0.48031496062992124, \"rgb(215, 219, 226)\"], [0.484251968503937, \"rgb(216, 219, 225)\"], [0.4881889763779528, \"rgb(217, 220, 224)\"], [0.4921259842519685, \"rgb(218, 220, 223)\"], [0.49606299212598426, \"rgb(219, 220, 222)\"], [0.5, \"rgb(221, 220, 219)\"], [0.5039370078740157, \"rgb(222, 219, 218)\"], [0.5078740157480315, \"rgb(223, 219, 217)\"], [0.5118110236220472, \"rgb(224, 218, 215)\"], [0.515748031496063, \"rgb(225, 218, 214)\"], [0.5196850393700787, \"rgb(226, 217, 212)\"], [0.5236220472440944, \"rgb(227, 217, 211)\"], [0.5275590551181102, \"rgb(228, 216, 209)\"], [0.5314960629921259, \"rgb(229, 216, 208)\"], [0.5354330708661417, \"rgb(230, 215, 207)\"], [0.5393700787401575, \"rgb(231, 214, 205)\"], [0.5433070866141733, \"rgb(231, 214, 204)\"], [0.547244094488189, \"rgb(232, 213, 202)\"], [0.5511811023622047, \"rgb(233, 212, 201)\"], [0.5551181102362205, \"rgb(234, 211, 199)\"], [0.5590551181102362, \"rgb(235, 211, 198)\"], [0.562992125984252, \"rgb(236, 210, 196)\"], [0.5669291338582677, \"rgb(236, 209, 195)\"], [0.5708661417322834, \"rgb(237, 208, 193)\"], [0.5748031496062992, \"rgb(237, 207, 192)\"], [0.5787401574803149, \"rgb(238, 207, 190)\"], [0.5826771653543307, \"rgb(239, 206, 188)\"], [0.5866141732283464, \"rgb(239, 205, 187)\"], [0.5905511811023622, \"rgb(240, 204, 185)\"], [0.5944881889763779, \"rgb(241, 203, 184)\"], [0.5984251968503937, \"rgb(241, 202, 182)\"], [0.6023622047244095, \"rgb(242, 201, 181)\"], [0.6062992125984252, \"rgb(242, 200, 179)\"], [0.610236220472441, \"rgb(242, 199, 178)\"], [0.6141732283464567, \"rgb(243, 198, 176)\"], [0.6181102362204725, \"rgb(243, 197, 175)\"], [0.6220472440944882, \"rgb(244, 196, 173)\"], [0.6259842519685039, \"rgb(244, 195, 171)\"], [0.6299212598425197, \"rgb(244, 194, 170)\"], [0.6338582677165354, \"rgb(245, 193, 168)\"], [0.6377952755905512, \"rgb(245, 192, 167)\"], [0.6417322834645669, \"rgb(245, 191, 165)\"], [0.6456692913385826, \"rgb(246, 189, 164)\"], [0.6496062992125984, \"rgb(246, 188, 162)\"], [0.6535433070866141, \"rgb(246, 187, 160)\"], [0.6574803149606299, \"rgb(246, 186, 159)\"], [0.6614173228346456, \"rgb(246, 185, 157)\"], [0.6653543307086615, \"rgb(246, 183, 156)\"], [0.6692913385826772, \"rgb(246, 182, 154)\"], [0.6732283464566929, \"rgb(247, 181, 152)\"], [0.6771653543307087, \"rgb(247, 179, 151)\"], [0.6811023622047244, \"rgb(247, 178, 149)\"], [0.6850393700787402, \"rgb(247, 177, 148)\"], [0.6889763779527559, \"rgb(247, 176, 146)\"], [0.6929133858267716, \"rgb(247, 174, 145)\"], [0.6968503937007874, \"rgb(247, 173, 143)\"], [0.7007874015748031, \"rgb(246, 171, 141)\"], [0.7047244094488189, \"rgb(246, 170, 140)\"], [0.7086614173228346, \"rgb(246, 169, 138)\"], [0.7125984251968503, \"rgb(246, 167, 137)\"], [0.7165354330708661, \"rgb(246, 166, 135)\"], [0.7204724409448818, \"rgb(246, 164, 134)\"], [0.7244094488188977, \"rgb(246, 163, 132)\"], [0.7283464566929134, \"rgb(245, 161, 130)\"], [0.7322834645669292, \"rgb(245, 160, 129)\"], [0.7362204724409449, \"rgb(245, 158, 127)\"], [0.7401574803149606, \"rgb(244, 157, 126)\"], [0.7440944881889764, \"rgb(244, 155, 124)\"], [0.7480314960629921, \"rgb(244, 154, 123)\"], [0.7519685039370079, \"rgb(243, 152, 121)\"], [0.7559055118110236, \"rgb(243, 150, 120)\"], [0.7598425196850394, \"rgb(243, 149, 118)\"], [0.7637795275590551, \"rgb(242, 147, 117)\"], [0.7677165354330708, \"rgb(242, 145, 115)\"], [0.7716535433070866, \"rgb(241, 144, 114)\"], [0.7755905511811023, \"rgb(241, 142, 112)\"], [0.7795275590551181, \"rgb(240, 141, 111)\"], [0.7834645669291338, \"rgb(240, 139, 109)\"], [0.7874015748031495, \"rgb(239, 137, 108)\"], [0.7913385826771654, \"rgb(238, 135, 106)\"], [0.7952755905511811, \"rgb(238, 134, 105)\"], [0.7992125984251969, \"rgb(237, 132, 103)\"], [0.8031496062992126, \"rgb(236, 130, 102)\"], [0.8070866141732284, \"rgb(236, 128, 100)\"], [0.8110236220472441, \"rgb(235, 127, 99)\"], [0.8149606299212598, \"rgb(234, 125, 97)\"], [0.8188976377952756, \"rgb(234, 123, 96)\"], [0.8228346456692913, \"rgb(233, 121, 94)\"], [0.8267716535433071, \"rgb(232, 119, 93)\"], [0.8307086614173228, \"rgb(231, 117, 92)\"], [0.8346456692913385, \"rgb(230, 116, 90)\"], [0.8385826771653543, \"rgb(230, 114, 89)\"], [0.84251968503937, \"rgb(229, 112, 87)\"], [0.8464566929133858, \"rgb(228, 110, 86)\"], [0.8503937007874016, \"rgb(227, 108, 84)\"], [0.8543307086614174, \"rgb(226, 106, 83)\"], [0.8582677165354331, \"rgb(225, 104, 82)\"], [0.8622047244094488, \"rgb(224, 102, 80)\"], [0.8661417322834646, \"rgb(223, 100, 79)\"], [0.8700787401574803, \"rgb(222, 98, 78)\"], [0.8740157480314961, \"rgb(221, 96, 76)\"], [0.8779527559055118, \"rgb(220, 94, 75)\"], [0.8818897637795275, \"rgb(219, 92, 74)\"], [0.8858267716535433, \"rgb(218, 90, 72)\"], [0.889763779527559, \"rgb(217, 88, 71)\"], [0.8937007874015748, \"rgb(216, 86, 70)\"], [0.8976377952755905, \"rgb(215, 84, 68)\"], [0.9015748031496063, \"rgb(214, 82, 67)\"], [0.905511811023622, \"rgb(212, 79, 66)\"], [0.9094488188976377, \"rgb(211, 77, 64)\"], [0.9133858267716535, \"rgb(210, 75, 63)\"], [0.9173228346456693, \"rgb(209, 73, 62)\"], [0.9212598425196851, \"rgb(207, 70, 61)\"], [0.9251968503937008, \"rgb(206, 68, 60)\"], [0.9291338582677166, \"rgb(205, 66, 58)\"], [0.9330708661417323, \"rgb(204, 63, 57)\"], [0.937007874015748, \"rgb(202, 61, 56)\"], [0.9409448818897638, \"rgb(201, 59, 55)\"], [0.9448818897637795, \"rgb(200, 56, 53)\"], [0.9488188976377953, \"rgb(198, 53, 52)\"], [0.952755905511811, \"rgb(197, 50, 51)\"], [0.9566929133858267, \"rgb(196, 48, 50)\"], [0.9606299212598425, \"rgb(194, 45, 49)\"], [0.9645669291338582, \"rgb(193, 42, 48)\"], [0.968503937007874, \"rgb(191, 40, 46)\"], [0.9724409448818897, \"rgb(190, 35, 45)\"], [0.9763779527559056, \"rgb(188, 31, 44)\"], [0.9803149606299213, \"rgb(187, 26, 43)\"], [0.984251968503937, \"rgb(185, 22, 42)\"], [0.9881889763779528, \"rgb(184, 17, 41)\"], [0.9921259842519685, \"rgb(182, 13, 40)\"], [0.9960629921259843, \"rgb(181, 8, 39)\"], [1.0, \"rgb(179, 3, 38)\"]], \"reversescale\": false, \"showscale\": false, \"type\": \"heatmap\", \"uid\": \"87140d29-6d46-43b9-b090-cdce77128319\", \"x\": [\"lat\", \"lon\", \"synecho_abundance\", \"picoeuk_abundance\", \"prochloro_abundance\", \"sst\", \"sss\", \"chl\", \"NO3\", \"Fe\", \"O2\", \"PO4\", \"density_WOA_clim\", \"nitrate_WOA_clim\", \"phosphate_WOA_clim\", \"silicate_WOA_clim\"], \"y\": [\"lat\", \"lon\", \"synecho_abundance\", \"picoeuk_abundance\", \"prochloro_abundance\", \"sst\", \"sss\", \"chl\", \"NO3\", \"Fe\", \"O2\", \"PO4\", \"density_WOA_clim\", \"nitrate_WOA_clim\", \"phosphate_WOA_clim\", \"silicate_WOA_clim\"], \"z\": [[1.0, -0.4773061536254826, 0.8116252524190434, 0.7383262637415199, -0.7385526881479009, -0.912855194085508, -0.8632830634856213, 0.545906466775718, 0.9159156298198696, -0.795546102229255, 0.9322830333753509, 0.6188185010685879, 0.8914014602076372, 0.760520527547355, 0.7823851925832905, 0.7347327355404681], [-0.4773061536254826, 1.0, -0.5814826788579057, -0.5460257146075012, 0.5563895643522975, 0.5593226633633414, 0.4222687066175769, -0.1269110135918843, -0.5414811303591802, 0.5672633368242316, -0.5666099431299559, -0.03660615823825034, -0.5735808866187141, -0.5381680097517658, -0.4564186830725532, -0.47524552073289106], [0.8116252524190434, -0.5814826788579057, 1.0, 0.7890936002730103, -0.7567947925290531, -0.8378253790657136, -0.731343483043329, 0.3992600481353626, 0.8406190975482994, -0.8373436404396778, 0.8347953298055547, 0.4176777356036095, 0.805813082113007, 0.6047758283122012, 0.6799166013654173, 0.7938451872321306], [0.7383262637415199, -0.5460257146075012, 0.7890936002730103, 1.0, -0.7250924330217221, -0.863824335346632, -0.6844434988925502, 0.6421529365424281, 0.8636404083592666, -0.5910643186059321, 0.8562682400590226, 0.4425382945126009, 0.906524345341126, 0.6005557990553331, 0.8182905200026726, 0.7415683538536657], [-0.7385526881479009, 0.5563895643522975, -0.7567947925290531, -0.7250924330217221, 1.0, 0.8141410245961691, 0.7148857852435102, -0.4592951287565346, -0.7469821838270801, 0.6037704603252947, -0.8168929333676881, -0.41540443091882373, -0.773343529751008, -0.6760392107918048, -0.6660935175971229, -0.48025768660946755], [-0.912855194085508, 0.5593226633633414, -0.8378253790657136, -0.863824335346632, 0.8141410245961691, 1.0, 0.8595655793975534, -0.582882167405538, -0.9687581113701881, 0.7638029322357114, -0.9864232580585302, -0.6062212555888863, -0.9416896534268031, -0.7461974824762075, -0.8324000171525054, -0.7919510653144057], [-0.8632830634856213, 0.4222687066175769, -0.731343483043329, -0.6844434988925502, 0.7148857852435102, 0.8595655793975534, 1.0, -0.3921039547203263, -0.8759066930968976, 0.7146251229729306, -0.8742319526935189, -0.7279299139776323, -0.807994856167861, -0.617944596845346, -0.610570703569916, -0.636485287987845], [0.545906466775718, -0.1269110135918843, 0.3992600481353626, 0.6421529365424281, -0.4592951287565346, -0.582882167405538, -0.3921039547203263, 1.0, 0.5429473173653279, -0.22338899023748562, 0.5789945154707155, 0.48377694336716187, 0.6281907967539353, 0.37869712531544614, 0.6990814565858083, 0.38652932011345703], [0.9159156298198696, -0.5414811303591802, 0.8406190975482994, 0.8636404083592666, -0.7469821838270801, -0.9687581113701881, -0.8759066930968976, 0.5429473173653279, 1.0, -0.7571314808013959, 0.9650966121398346, 0.603555267043958, 0.9332622907758359, 0.7439717227549287, 0.8261060551731417, 0.8281757331762759], [-0.795546102229255, 0.5672633368242316, -0.8373436404396778, -0.5910643186059321, 0.6037704603252947, 0.7638029322357114, 0.7146251229729306, -0.22338899023748562, -0.7571314808013959, 1.0, -0.7682551451101869, -0.3360135457967689, -0.7466780186408941, -0.5349298375311247, -0.5315735645388097, -0.8304585759676765], [0.9322830333753509, -0.5666099431299559, 0.8347953298055547, 0.8562682400590226, -0.8168929333676881, -0.9864232580585302, -0.8742319526935189, 0.5789945154707155, 0.9650966121398346, -0.7682551451101869, 1.0, 0.6148208481700762, 0.9566267808741011, 0.7384045810156841, 0.8140132567176394, 0.7773122394086519], [0.6188185010685879, -0.03660615823825034, 0.4176777356036095, 0.4425382945126009, -0.41540443091882373, -0.6062212555888863, -0.7279299139776323, 0.48377694336716187, 0.603555267043958, -0.3360135457967689, 0.6148208481700762, 1.0, 0.5361961651365207, 0.21238934722237043, 0.46619802106447145, 0.3676115841691701], [0.8914014602076372, -0.5735808866187141, 0.805813082113007, 0.906524345341126, -0.773343529751008, -0.9416896534268031, -0.807994856167861, 0.6281907967539353, 0.9332622907758359, -0.7466780186408941, 0.9566267808741011, 0.5361961651365207, 1.0, 0.6899019760127079, 0.8448827635669474, 0.8007710505612224], [0.760520527547355, -0.5381680097517658, 0.6047758283122012, 0.6005557990553331, -0.6760392107918048, -0.7461974824762075, -0.617944596845346, 0.37869712531544614, 0.7439717227549287, -0.5349298375311247, 0.7384045810156841, 0.21238934722237043, 0.6899019760127079, 1.0, 0.7149217503168029, 0.5171471908059102], [0.7823851925832905, -0.4564186830725532, 0.6799166013654173, 0.8182905200026726, -0.6660935175971229, -0.8324000171525054, -0.610570703569916, 0.6990814565858083, 0.8261060551731417, -0.5315735645388097, 0.8140132567176394, 0.46619802106447145, 0.8448827635669474, 0.7149217503168029, 1.0, 0.7132543743897015], [0.7347327355404681, -0.47524552073289106, 0.7938451872321306, 0.7415683538536657, -0.48025768660946755, -0.7919510653144057, -0.636485287987845, 0.38652932011345703, 0.8281757331762759, -0.8304585759676765, 0.7773122394086519, 0.3676115841691701, 0.8007710505612224, 0.5171471908059102, 0.7132543743897015, 1.0]], \"zmax\": 1, \"zmin\": -1}],\n",
       "                        {\"annotations\": [{\"font\": {\"color\": \"#FFFFFF\"}, \"showarrow\": false, \"text\": \"1.0\", \"x\": \"lat\", \"xref\": \"x\", \"y\": \"lat\", \"yref\": \"y\"}, {\"font\": {\"color\": \"#FFFFFF\"}, \"showarrow\": false, \"text\": \"-0.48\", \"x\": \"lon\", \"xref\": \"x\", \"y\": \"lat\", \"yref\": \"y\"}, {\"font\": {\"color\": \"#FFFFFF\"}, \"showarrow\": false, \"text\": \"0.81\", \"x\": \"synecho_abundance\", \"xref\": \"x\", \"y\": \"lat\", \"yref\": \"y\"}, {\"font\": {\"color\": \"#FFFFFF\"}, \"showarrow\": false, \"text\": \"0.74\", \"x\": \"picoeuk_abundance\", \"xref\": \"x\", \"y\": \"lat\", \"yref\": \"y\"}, {\"font\": {\"color\": \"#FFFFFF\"}, \"showarrow\": false, \"text\": \"-0.74\", \"x\": \"prochloro_abundance\", \"xref\": \"x\", \"y\": \"lat\", \"yref\": \"y\"}, {\"font\": {\"color\": \"#FFFFFF\"}, \"showarrow\": false, \"text\": \"-0.91\", \"x\": \"sst\", \"xref\": \"x\", \"y\": \"lat\", \"yref\": \"y\"}, {\"font\": {\"color\": \"#FFFFFF\"}, \"showarrow\": false, \"text\": \"-0.86\", \"x\": \"sss\", \"xref\": \"x\", \"y\": \"lat\", \"yref\": \"y\"}, {\"font\": {\"color\": \"#FFFFFF\"}, \"showarrow\": false, \"text\": \"0.55\", \"x\": \"chl\", \"xref\": \"x\", \"y\": \"lat\", \"yref\": \"y\"}, {\"font\": {\"color\": \"#FFFFFF\"}, \"showarrow\": false, \"text\": \"0.92\", \"x\": \"NO3\", \"xref\": \"x\", \"y\": \"lat\", \"yref\": \"y\"}, {\"font\": {\"color\": \"#FFFFFF\"}, \"showarrow\": false, \"text\": \"-0.8\", \"x\": \"Fe\", \"xref\": \"x\", \"y\": \"lat\", \"yref\": \"y\"}, {\"font\": {\"color\": \"#FFFFFF\"}, \"showarrow\": false, \"text\": \"0.93\", \"x\": \"O2\", \"xref\": \"x\", \"y\": \"lat\", \"yref\": \"y\"}, {\"font\": {\"color\": \"#FFFFFF\"}, \"showarrow\": false, \"text\": \"0.62\", \"x\": \"PO4\", \"xref\": \"x\", \"y\": \"lat\", \"yref\": \"y\"}, {\"font\": {\"color\": \"#FFFFFF\"}, \"showarrow\": false, \"text\": \"0.89\", \"x\": \"density_WOA_clim\", \"xref\": \"x\", \"y\": \"lat\", \"yref\": \"y\"}, {\"font\": {\"color\": \"#FFFFFF\"}, \"showarrow\": false, \"text\": \"0.76\", \"x\": \"nitrate_WOA_clim\", \"xref\": \"x\", \"y\": \"lat\", \"yref\": \"y\"}, {\"font\": {\"color\": \"#FFFFFF\"}, \"showarrow\": false, \"text\": \"0.78\", \"x\": \"phosphate_WOA_clim\", \"xref\": \"x\", \"y\": \"lat\", \"yref\": \"y\"}, {\"font\": {\"color\": \"#FFFFFF\"}, \"showarrow\": false, \"text\": \"0.73\", \"x\": \"silicate_WOA_clim\", \"xref\": \"x\", \"y\": \"lat\", \"yref\": \"y\"}, {\"font\": {\"color\": \"#FFFFFF\"}, \"showarrow\": false, \"text\": \"-0.48\", \"x\": \"lat\", \"xref\": \"x\", \"y\": \"lon\", \"yref\": \"y\"}, {\"font\": {\"color\": \"#FFFFFF\"}, \"showarrow\": false, \"text\": \"1.0\", \"x\": \"lon\", \"xref\": \"x\", \"y\": \"lon\", \"yref\": \"y\"}, {\"font\": {\"color\": \"#FFFFFF\"}, \"showarrow\": false, \"text\": \"-0.58\", \"x\": \"synecho_abundance\", \"xref\": \"x\", \"y\": \"lon\", \"yref\": \"y\"}, {\"font\": {\"color\": \"#FFFFFF\"}, \"showarrow\": false, \"text\": \"-0.55\", \"x\": \"picoeuk_abundance\", \"xref\": \"x\", \"y\": \"lon\", \"yref\": \"y\"}, {\"font\": {\"color\": \"#FFFFFF\"}, \"showarrow\": false, \"text\": \"0.56\", \"x\": \"prochloro_abundance\", \"xref\": \"x\", \"y\": \"lon\", \"yref\": \"y\"}, {\"font\": {\"color\": \"#FFFFFF\"}, \"showarrow\": false, \"text\": \"0.56\", \"x\": \"sst\", \"xref\": \"x\", \"y\": \"lon\", \"yref\": \"y\"}, {\"font\": {\"color\": \"#FFFFFF\"}, \"showarrow\": false, \"text\": \"0.42\", \"x\": \"sss\", \"xref\": \"x\", \"y\": \"lon\", \"yref\": \"y\"}, {\"font\": {\"color\": \"#FFFFFF\"}, \"showarrow\": false, \"text\": \"-0.13\", \"x\": \"chl\", \"xref\": \"x\", \"y\": \"lon\", \"yref\": \"y\"}, {\"font\": {\"color\": \"#FFFFFF\"}, \"showarrow\": false, \"text\": \"-0.54\", \"x\": \"NO3\", \"xref\": \"x\", \"y\": \"lon\", \"yref\": \"y\"}, {\"font\": {\"color\": \"#FFFFFF\"}, \"showarrow\": false, \"text\": \"0.57\", \"x\": \"Fe\", \"xref\": \"x\", \"y\": \"lon\", \"yref\": \"y\"}, {\"font\": {\"color\": \"#FFFFFF\"}, \"showarrow\": false, \"text\": \"-0.57\", \"x\": \"O2\", \"xref\": \"x\", \"y\": \"lon\", \"yref\": \"y\"}, {\"font\": {\"color\": \"#FFFFFF\"}, \"showarrow\": false, \"text\": \"-0.04\", \"x\": \"PO4\", \"xref\": \"x\", \"y\": \"lon\", \"yref\": \"y\"}, {\"font\": {\"color\": \"#FFFFFF\"}, \"showarrow\": false, \"text\": \"-0.57\", \"x\": \"density_WOA_clim\", \"xref\": \"x\", \"y\": \"lon\", \"yref\": \"y\"}, {\"font\": {\"color\": \"#FFFFFF\"}, \"showarrow\": false, \"text\": \"-0.54\", \"x\": \"nitrate_WOA_clim\", \"xref\": \"x\", \"y\": \"lon\", \"yref\": \"y\"}, {\"font\": {\"color\": \"#FFFFFF\"}, \"showarrow\": false, \"text\": \"-0.46\", \"x\": \"phosphate_WOA_clim\", \"xref\": \"x\", \"y\": \"lon\", \"yref\": \"y\"}, {\"font\": {\"color\": \"#FFFFFF\"}, \"showarrow\": false, \"text\": \"-0.48\", \"x\": \"silicate_WOA_clim\", \"xref\": \"x\", \"y\": \"lon\", \"yref\": \"y\"}, {\"font\": {\"color\": \"#FFFFFF\"}, \"showarrow\": false, \"text\": \"0.81\", \"x\": \"lat\", \"xref\": \"x\", \"y\": \"synecho_abundance\", \"yref\": \"y\"}, {\"font\": {\"color\": \"#FFFFFF\"}, \"showarrow\": false, \"text\": \"-0.58\", \"x\": \"lon\", \"xref\": \"x\", \"y\": \"synecho_abundance\", \"yref\": \"y\"}, {\"font\": {\"color\": \"#FFFFFF\"}, \"showarrow\": false, \"text\": \"1.0\", \"x\": \"synecho_abundance\", \"xref\": \"x\", \"y\": \"synecho_abundance\", \"yref\": \"y\"}, {\"font\": {\"color\": \"#FFFFFF\"}, \"showarrow\": false, \"text\": \"0.79\", \"x\": \"picoeuk_abundance\", \"xref\": \"x\", \"y\": \"synecho_abundance\", \"yref\": \"y\"}, {\"font\": {\"color\": \"#FFFFFF\"}, \"showarrow\": false, \"text\": \"-0.76\", \"x\": \"prochloro_abundance\", \"xref\": \"x\", \"y\": \"synecho_abundance\", \"yref\": \"y\"}, {\"font\": {\"color\": \"#FFFFFF\"}, \"showarrow\": false, \"text\": \"-0.84\", \"x\": \"sst\", \"xref\": \"x\", \"y\": \"synecho_abundance\", \"yref\": \"y\"}, {\"font\": {\"color\": \"#FFFFFF\"}, \"showarrow\": false, \"text\": \"-0.73\", \"x\": \"sss\", \"xref\": \"x\", \"y\": \"synecho_abundance\", \"yref\": \"y\"}, {\"font\": {\"color\": \"#FFFFFF\"}, \"showarrow\": false, \"text\": \"0.4\", \"x\": \"chl\", \"xref\": \"x\", \"y\": \"synecho_abundance\", \"yref\": \"y\"}, {\"font\": {\"color\": \"#FFFFFF\"}, \"showarrow\": false, \"text\": \"0.84\", \"x\": \"NO3\", \"xref\": \"x\", \"y\": \"synecho_abundance\", \"yref\": \"y\"}, {\"font\": {\"color\": \"#FFFFFF\"}, \"showarrow\": false, \"text\": \"-0.84\", \"x\": \"Fe\", \"xref\": \"x\", \"y\": \"synecho_abundance\", \"yref\": \"y\"}, {\"font\": {\"color\": \"#FFFFFF\"}, \"showarrow\": false, \"text\": \"0.83\", \"x\": \"O2\", \"xref\": \"x\", \"y\": \"synecho_abundance\", \"yref\": \"y\"}, {\"font\": {\"color\": \"#FFFFFF\"}, \"showarrow\": false, \"text\": \"0.42\", \"x\": \"PO4\", \"xref\": \"x\", \"y\": \"synecho_abundance\", \"yref\": \"y\"}, {\"font\": {\"color\": \"#FFFFFF\"}, \"showarrow\": false, \"text\": \"0.81\", \"x\": \"density_WOA_clim\", \"xref\": \"x\", \"y\": \"synecho_abundance\", \"yref\": \"y\"}, {\"font\": {\"color\": \"#FFFFFF\"}, \"showarrow\": false, \"text\": \"0.6\", \"x\": \"nitrate_WOA_clim\", \"xref\": \"x\", \"y\": \"synecho_abundance\", \"yref\": \"y\"}, {\"font\": {\"color\": \"#FFFFFF\"}, \"showarrow\": false, \"text\": \"0.68\", \"x\": \"phosphate_WOA_clim\", \"xref\": \"x\", \"y\": \"synecho_abundance\", \"yref\": \"y\"}, {\"font\": {\"color\": \"#FFFFFF\"}, \"showarrow\": false, \"text\": \"0.79\", \"x\": \"silicate_WOA_clim\", \"xref\": \"x\", \"y\": \"synecho_abundance\", \"yref\": \"y\"}, {\"font\": {\"color\": \"#FFFFFF\"}, \"showarrow\": false, \"text\": \"0.74\", \"x\": \"lat\", \"xref\": \"x\", \"y\": \"picoeuk_abundance\", \"yref\": \"y\"}, {\"font\": {\"color\": \"#FFFFFF\"}, \"showarrow\": false, \"text\": \"-0.55\", \"x\": \"lon\", \"xref\": \"x\", \"y\": \"picoeuk_abundance\", \"yref\": \"y\"}, {\"font\": {\"color\": \"#FFFFFF\"}, \"showarrow\": false, \"text\": \"0.79\", \"x\": \"synecho_abundance\", \"xref\": \"x\", \"y\": \"picoeuk_abundance\", \"yref\": \"y\"}, {\"font\": {\"color\": \"#FFFFFF\"}, \"showarrow\": false, \"text\": \"1.0\", \"x\": \"picoeuk_abundance\", \"xref\": \"x\", \"y\": \"picoeuk_abundance\", \"yref\": \"y\"}, {\"font\": {\"color\": \"#FFFFFF\"}, \"showarrow\": false, \"text\": \"-0.73\", \"x\": \"prochloro_abundance\", \"xref\": \"x\", \"y\": \"picoeuk_abundance\", \"yref\": \"y\"}, {\"font\": {\"color\": \"#FFFFFF\"}, \"showarrow\": false, \"text\": \"-0.86\", \"x\": \"sst\", \"xref\": \"x\", \"y\": \"picoeuk_abundance\", \"yref\": \"y\"}, {\"font\": {\"color\": \"#FFFFFF\"}, \"showarrow\": false, \"text\": \"-0.68\", \"x\": \"sss\", \"xref\": \"x\", \"y\": \"picoeuk_abundance\", \"yref\": \"y\"}, {\"font\": {\"color\": \"#FFFFFF\"}, \"showarrow\": false, \"text\": \"0.64\", \"x\": \"chl\", \"xref\": \"x\", \"y\": \"picoeuk_abundance\", \"yref\": \"y\"}, {\"font\": {\"color\": \"#FFFFFF\"}, \"showarrow\": false, \"text\": \"0.86\", \"x\": \"NO3\", \"xref\": \"x\", \"y\": \"picoeuk_abundance\", \"yref\": \"y\"}, {\"font\": {\"color\": \"#FFFFFF\"}, \"showarrow\": false, \"text\": \"-0.59\", \"x\": \"Fe\", \"xref\": \"x\", \"y\": \"picoeuk_abundance\", \"yref\": \"y\"}, {\"font\": {\"color\": \"#FFFFFF\"}, \"showarrow\": false, \"text\": \"0.86\", \"x\": \"O2\", \"xref\": \"x\", \"y\": \"picoeuk_abundance\", \"yref\": \"y\"}, {\"font\": {\"color\": \"#FFFFFF\"}, \"showarrow\": false, \"text\": \"0.44\", \"x\": \"PO4\", \"xref\": \"x\", \"y\": \"picoeuk_abundance\", \"yref\": \"y\"}, {\"font\": {\"color\": \"#FFFFFF\"}, \"showarrow\": false, \"text\": \"0.91\", \"x\": \"density_WOA_clim\", \"xref\": \"x\", \"y\": \"picoeuk_abundance\", \"yref\": \"y\"}, {\"font\": {\"color\": \"#FFFFFF\"}, \"showarrow\": false, \"text\": \"0.6\", \"x\": \"nitrate_WOA_clim\", \"xref\": \"x\", \"y\": \"picoeuk_abundance\", \"yref\": \"y\"}, {\"font\": {\"color\": \"#FFFFFF\"}, \"showarrow\": false, \"text\": \"0.82\", \"x\": \"phosphate_WOA_clim\", \"xref\": \"x\", \"y\": \"picoeuk_abundance\", \"yref\": \"y\"}, {\"font\": {\"color\": \"#FFFFFF\"}, \"showarrow\": false, \"text\": \"0.74\", \"x\": \"silicate_WOA_clim\", \"xref\": \"x\", \"y\": \"picoeuk_abundance\", \"yref\": \"y\"}, {\"font\": {\"color\": \"#FFFFFF\"}, \"showarrow\": false, \"text\": \"-0.74\", \"x\": \"lat\", \"xref\": \"x\", \"y\": \"prochloro_abundance\", \"yref\": \"y\"}, {\"font\": {\"color\": \"#FFFFFF\"}, \"showarrow\": false, \"text\": \"0.56\", \"x\": \"lon\", \"xref\": \"x\", \"y\": \"prochloro_abundance\", \"yref\": \"y\"}, {\"font\": {\"color\": \"#FFFFFF\"}, \"showarrow\": false, \"text\": \"-0.76\", \"x\": \"synecho_abundance\", \"xref\": \"x\", \"y\": \"prochloro_abundance\", \"yref\": \"y\"}, {\"font\": {\"color\": \"#FFFFFF\"}, \"showarrow\": false, \"text\": \"-0.73\", \"x\": \"picoeuk_abundance\", \"xref\": \"x\", \"y\": \"prochloro_abundance\", \"yref\": \"y\"}, {\"font\": {\"color\": \"#FFFFFF\"}, \"showarrow\": false, \"text\": \"1.0\", \"x\": \"prochloro_abundance\", \"xref\": \"x\", \"y\": \"prochloro_abundance\", \"yref\": \"y\"}, {\"font\": {\"color\": \"#FFFFFF\"}, \"showarrow\": false, \"text\": \"0.81\", \"x\": \"sst\", \"xref\": \"x\", \"y\": \"prochloro_abundance\", \"yref\": \"y\"}, {\"font\": {\"color\": \"#FFFFFF\"}, \"showarrow\": false, \"text\": \"0.71\", \"x\": \"sss\", \"xref\": \"x\", \"y\": \"prochloro_abundance\", \"yref\": \"y\"}, {\"font\": {\"color\": \"#FFFFFF\"}, \"showarrow\": false, \"text\": \"-0.46\", \"x\": \"chl\", \"xref\": \"x\", \"y\": \"prochloro_abundance\", \"yref\": \"y\"}, {\"font\": {\"color\": \"#FFFFFF\"}, \"showarrow\": false, \"text\": \"-0.75\", \"x\": \"NO3\", \"xref\": \"x\", \"y\": \"prochloro_abundance\", \"yref\": \"y\"}, {\"font\": {\"color\": \"#FFFFFF\"}, \"showarrow\": false, \"text\": \"0.6\", \"x\": \"Fe\", \"xref\": \"x\", \"y\": \"prochloro_abundance\", \"yref\": \"y\"}, {\"font\": {\"color\": \"#FFFFFF\"}, \"showarrow\": false, \"text\": \"-0.82\", \"x\": \"O2\", \"xref\": \"x\", \"y\": \"prochloro_abundance\", \"yref\": \"y\"}, {\"font\": {\"color\": \"#FFFFFF\"}, \"showarrow\": false, \"text\": \"-0.42\", \"x\": \"PO4\", \"xref\": \"x\", \"y\": \"prochloro_abundance\", \"yref\": \"y\"}, {\"font\": {\"color\": \"#FFFFFF\"}, \"showarrow\": false, \"text\": \"-0.77\", \"x\": \"density_WOA_clim\", \"xref\": \"x\", \"y\": \"prochloro_abundance\", \"yref\": \"y\"}, {\"font\": {\"color\": \"#FFFFFF\"}, \"showarrow\": false, \"text\": \"-0.68\", \"x\": \"nitrate_WOA_clim\", \"xref\": \"x\", \"y\": \"prochloro_abundance\", \"yref\": \"y\"}, {\"font\": {\"color\": \"#FFFFFF\"}, \"showarrow\": false, \"text\": \"-0.67\", \"x\": \"phosphate_WOA_clim\", \"xref\": \"x\", \"y\": \"prochloro_abundance\", \"yref\": \"y\"}, {\"font\": {\"color\": \"#FFFFFF\"}, \"showarrow\": false, \"text\": \"-0.48\", \"x\": \"silicate_WOA_clim\", \"xref\": \"x\", \"y\": \"prochloro_abundance\", \"yref\": \"y\"}, {\"font\": {\"color\": \"#FFFFFF\"}, \"showarrow\": false, \"text\": \"-0.91\", \"x\": \"lat\", \"xref\": \"x\", \"y\": \"sst\", \"yref\": \"y\"}, {\"font\": {\"color\": \"#FFFFFF\"}, \"showarrow\": false, \"text\": \"0.56\", \"x\": \"lon\", \"xref\": \"x\", \"y\": \"sst\", \"yref\": \"y\"}, {\"font\": {\"color\": \"#FFFFFF\"}, \"showarrow\": false, \"text\": \"-0.84\", \"x\": \"synecho_abundance\", \"xref\": \"x\", \"y\": \"sst\", \"yref\": \"y\"}, {\"font\": {\"color\": \"#FFFFFF\"}, \"showarrow\": false, \"text\": \"-0.86\", \"x\": \"picoeuk_abundance\", \"xref\": \"x\", \"y\": \"sst\", \"yref\": \"y\"}, {\"font\": {\"color\": \"#FFFFFF\"}, \"showarrow\": false, \"text\": \"0.81\", \"x\": \"prochloro_abundance\", \"xref\": \"x\", \"y\": \"sst\", \"yref\": \"y\"}, {\"font\": {\"color\": \"#FFFFFF\"}, \"showarrow\": false, \"text\": \"1.0\", \"x\": \"sst\", \"xref\": \"x\", \"y\": \"sst\", \"yref\": \"y\"}, {\"font\": {\"color\": \"#FFFFFF\"}, \"showarrow\": false, \"text\": \"0.86\", \"x\": \"sss\", \"xref\": \"x\", \"y\": \"sst\", \"yref\": \"y\"}, {\"font\": {\"color\": \"#FFFFFF\"}, \"showarrow\": false, \"text\": \"-0.58\", \"x\": \"chl\", \"xref\": \"x\", \"y\": \"sst\", \"yref\": \"y\"}, {\"font\": {\"color\": \"#FFFFFF\"}, \"showarrow\": false, \"text\": \"-0.97\", \"x\": \"NO3\", \"xref\": \"x\", \"y\": \"sst\", \"yref\": \"y\"}, {\"font\": {\"color\": \"#FFFFFF\"}, \"showarrow\": false, \"text\": \"0.76\", \"x\": \"Fe\", \"xref\": \"x\", \"y\": \"sst\", \"yref\": \"y\"}, {\"font\": {\"color\": \"#FFFFFF\"}, \"showarrow\": false, \"text\": \"-0.99\", \"x\": \"O2\", \"xref\": \"x\", \"y\": \"sst\", \"yref\": \"y\"}, {\"font\": {\"color\": \"#FFFFFF\"}, \"showarrow\": false, \"text\": \"-0.61\", \"x\": \"PO4\", \"xref\": \"x\", \"y\": \"sst\", \"yref\": \"y\"}, {\"font\": {\"color\": \"#FFFFFF\"}, \"showarrow\": false, \"text\": \"-0.94\", \"x\": \"density_WOA_clim\", \"xref\": \"x\", \"y\": \"sst\", \"yref\": \"y\"}, {\"font\": {\"color\": \"#FFFFFF\"}, \"showarrow\": false, \"text\": \"-0.75\", \"x\": \"nitrate_WOA_clim\", \"xref\": \"x\", \"y\": \"sst\", \"yref\": \"y\"}, {\"font\": {\"color\": \"#FFFFFF\"}, \"showarrow\": false, \"text\": \"-0.83\", \"x\": \"phosphate_WOA_clim\", \"xref\": \"x\", \"y\": \"sst\", \"yref\": \"y\"}, {\"font\": {\"color\": \"#FFFFFF\"}, \"showarrow\": false, \"text\": \"-0.79\", \"x\": \"silicate_WOA_clim\", \"xref\": \"x\", \"y\": \"sst\", \"yref\": \"y\"}, {\"font\": {\"color\": \"#FFFFFF\"}, \"showarrow\": false, \"text\": \"-0.86\", \"x\": \"lat\", \"xref\": \"x\", \"y\": \"sss\", \"yref\": \"y\"}, {\"font\": {\"color\": \"#FFFFFF\"}, \"showarrow\": false, \"text\": \"0.42\", \"x\": \"lon\", \"xref\": \"x\", \"y\": \"sss\", \"yref\": \"y\"}, {\"font\": {\"color\": \"#FFFFFF\"}, \"showarrow\": false, \"text\": \"-0.73\", \"x\": \"synecho_abundance\", \"xref\": \"x\", \"y\": \"sss\", \"yref\": \"y\"}, {\"font\": {\"color\": \"#FFFFFF\"}, \"showarrow\": false, \"text\": \"-0.68\", \"x\": \"picoeuk_abundance\", \"xref\": \"x\", \"y\": \"sss\", \"yref\": \"y\"}, {\"font\": {\"color\": \"#FFFFFF\"}, \"showarrow\": false, \"text\": \"0.71\", \"x\": \"prochloro_abundance\", \"xref\": \"x\", \"y\": \"sss\", \"yref\": \"y\"}, {\"font\": {\"color\": \"#FFFFFF\"}, \"showarrow\": false, \"text\": \"0.86\", \"x\": \"sst\", \"xref\": \"x\", \"y\": \"sss\", \"yref\": \"y\"}, {\"font\": {\"color\": \"#FFFFFF\"}, \"showarrow\": false, \"text\": \"1.0\", \"x\": \"sss\", \"xref\": \"x\", \"y\": \"sss\", \"yref\": \"y\"}, {\"font\": {\"color\": \"#FFFFFF\"}, \"showarrow\": false, \"text\": \"-0.39\", \"x\": \"chl\", \"xref\": \"x\", \"y\": \"sss\", \"yref\": \"y\"}, {\"font\": {\"color\": \"#FFFFFF\"}, \"showarrow\": false, \"text\": \"-0.88\", \"x\": \"NO3\", \"xref\": \"x\", \"y\": \"sss\", \"yref\": \"y\"}, {\"font\": {\"color\": \"#FFFFFF\"}, \"showarrow\": false, \"text\": \"0.71\", \"x\": \"Fe\", \"xref\": \"x\", \"y\": \"sss\", \"yref\": \"y\"}, {\"font\": {\"color\": \"#FFFFFF\"}, \"showarrow\": false, \"text\": \"-0.87\", \"x\": \"O2\", \"xref\": \"x\", \"y\": \"sss\", \"yref\": \"y\"}, {\"font\": {\"color\": \"#FFFFFF\"}, \"showarrow\": false, \"text\": \"-0.73\", \"x\": \"PO4\", \"xref\": \"x\", \"y\": \"sss\", \"yref\": \"y\"}, {\"font\": {\"color\": \"#FFFFFF\"}, \"showarrow\": false, \"text\": \"-0.81\", \"x\": \"density_WOA_clim\", \"xref\": \"x\", \"y\": \"sss\", \"yref\": \"y\"}, {\"font\": {\"color\": \"#FFFFFF\"}, \"showarrow\": false, \"text\": \"-0.62\", \"x\": \"nitrate_WOA_clim\", \"xref\": \"x\", \"y\": \"sss\", \"yref\": \"y\"}, {\"font\": {\"color\": \"#FFFFFF\"}, \"showarrow\": false, \"text\": \"-0.61\", \"x\": \"phosphate_WOA_clim\", \"xref\": \"x\", \"y\": \"sss\", \"yref\": \"y\"}, {\"font\": {\"color\": \"#FFFFFF\"}, \"showarrow\": false, \"text\": \"-0.64\", \"x\": \"silicate_WOA_clim\", \"xref\": \"x\", \"y\": \"sss\", \"yref\": \"y\"}, {\"font\": {\"color\": \"#FFFFFF\"}, \"showarrow\": false, \"text\": \"0.55\", \"x\": \"lat\", \"xref\": \"x\", \"y\": \"chl\", \"yref\": \"y\"}, {\"font\": {\"color\": \"#FFFFFF\"}, \"showarrow\": false, \"text\": \"-0.13\", \"x\": \"lon\", \"xref\": \"x\", \"y\": \"chl\", \"yref\": \"y\"}, {\"font\": {\"color\": \"#FFFFFF\"}, \"showarrow\": false, \"text\": \"0.4\", \"x\": \"synecho_abundance\", \"xref\": \"x\", \"y\": \"chl\", \"yref\": \"y\"}, {\"font\": {\"color\": \"#FFFFFF\"}, \"showarrow\": false, \"text\": \"0.64\", \"x\": \"picoeuk_abundance\", \"xref\": \"x\", \"y\": \"chl\", \"yref\": \"y\"}, {\"font\": {\"color\": \"#FFFFFF\"}, \"showarrow\": false, \"text\": \"-0.46\", \"x\": \"prochloro_abundance\", \"xref\": \"x\", \"y\": \"chl\", \"yref\": \"y\"}, {\"font\": {\"color\": \"#FFFFFF\"}, \"showarrow\": false, \"text\": \"-0.58\", \"x\": \"sst\", \"xref\": \"x\", \"y\": \"chl\", \"yref\": \"y\"}, {\"font\": {\"color\": \"#FFFFFF\"}, \"showarrow\": false, \"text\": \"-0.39\", \"x\": \"sss\", \"xref\": \"x\", \"y\": \"chl\", \"yref\": \"y\"}, {\"font\": {\"color\": \"#FFFFFF\"}, \"showarrow\": false, \"text\": \"1.0\", \"x\": \"chl\", \"xref\": \"x\", \"y\": \"chl\", \"yref\": \"y\"}, {\"font\": {\"color\": \"#FFFFFF\"}, \"showarrow\": false, \"text\": \"0.54\", \"x\": \"NO3\", \"xref\": \"x\", \"y\": \"chl\", \"yref\": \"y\"}, {\"font\": {\"color\": \"#FFFFFF\"}, \"showarrow\": false, \"text\": \"-0.22\", \"x\": \"Fe\", \"xref\": \"x\", \"y\": \"chl\", \"yref\": \"y\"}, {\"font\": {\"color\": \"#FFFFFF\"}, \"showarrow\": false, \"text\": \"0.58\", \"x\": \"O2\", \"xref\": \"x\", \"y\": \"chl\", \"yref\": \"y\"}, {\"font\": {\"color\": \"#FFFFFF\"}, \"showarrow\": false, \"text\": \"0.48\", \"x\": \"PO4\", \"xref\": \"x\", \"y\": \"chl\", \"yref\": \"y\"}, {\"font\": {\"color\": \"#FFFFFF\"}, \"showarrow\": false, \"text\": \"0.63\", \"x\": \"density_WOA_clim\", \"xref\": \"x\", \"y\": \"chl\", \"yref\": \"y\"}, {\"font\": {\"color\": \"#FFFFFF\"}, \"showarrow\": false, \"text\": \"0.38\", \"x\": \"nitrate_WOA_clim\", \"xref\": \"x\", \"y\": \"chl\", \"yref\": \"y\"}, {\"font\": {\"color\": \"#FFFFFF\"}, \"showarrow\": false, \"text\": \"0.7\", \"x\": \"phosphate_WOA_clim\", \"xref\": \"x\", \"y\": \"chl\", \"yref\": \"y\"}, {\"font\": {\"color\": \"#FFFFFF\"}, \"showarrow\": false, \"text\": \"0.39\", \"x\": \"silicate_WOA_clim\", \"xref\": \"x\", \"y\": \"chl\", \"yref\": \"y\"}, {\"font\": {\"color\": \"#FFFFFF\"}, \"showarrow\": false, \"text\": \"0.92\", \"x\": \"lat\", \"xref\": \"x\", \"y\": \"NO3\", \"yref\": \"y\"}, {\"font\": {\"color\": \"#FFFFFF\"}, \"showarrow\": false, \"text\": \"-0.54\", \"x\": \"lon\", \"xref\": \"x\", \"y\": \"NO3\", \"yref\": \"y\"}, {\"font\": {\"color\": \"#FFFFFF\"}, \"showarrow\": false, \"text\": \"0.84\", \"x\": \"synecho_abundance\", \"xref\": \"x\", \"y\": \"NO3\", \"yref\": \"y\"}, {\"font\": {\"color\": \"#FFFFFF\"}, \"showarrow\": false, \"text\": \"0.86\", \"x\": \"picoeuk_abundance\", \"xref\": \"x\", \"y\": \"NO3\", \"yref\": \"y\"}, {\"font\": {\"color\": \"#FFFFFF\"}, \"showarrow\": false, \"text\": \"-0.75\", \"x\": \"prochloro_abundance\", \"xref\": \"x\", \"y\": \"NO3\", \"yref\": \"y\"}, {\"font\": {\"color\": \"#FFFFFF\"}, \"showarrow\": false, \"text\": \"-0.97\", \"x\": \"sst\", \"xref\": \"x\", \"y\": \"NO3\", \"yref\": \"y\"}, {\"font\": {\"color\": \"#FFFFFF\"}, \"showarrow\": false, \"text\": \"-0.88\", \"x\": \"sss\", \"xref\": \"x\", \"y\": \"NO3\", \"yref\": \"y\"}, {\"font\": {\"color\": \"#FFFFFF\"}, \"showarrow\": false, \"text\": \"0.54\", \"x\": \"chl\", \"xref\": \"x\", \"y\": \"NO3\", \"yref\": \"y\"}, {\"font\": {\"color\": \"#FFFFFF\"}, \"showarrow\": false, \"text\": \"1.0\", \"x\": \"NO3\", \"xref\": \"x\", \"y\": \"NO3\", \"yref\": \"y\"}, {\"font\": {\"color\": \"#FFFFFF\"}, \"showarrow\": false, \"text\": \"-0.76\", \"x\": \"Fe\", \"xref\": \"x\", \"y\": \"NO3\", \"yref\": \"y\"}, {\"font\": {\"color\": \"#FFFFFF\"}, \"showarrow\": false, \"text\": \"0.97\", \"x\": \"O2\", \"xref\": \"x\", \"y\": \"NO3\", \"yref\": \"y\"}, {\"font\": {\"color\": \"#FFFFFF\"}, \"showarrow\": false, \"text\": \"0.6\", \"x\": \"PO4\", \"xref\": \"x\", \"y\": \"NO3\", \"yref\": \"y\"}, {\"font\": {\"color\": \"#FFFFFF\"}, \"showarrow\": false, \"text\": \"0.93\", \"x\": \"density_WOA_clim\", \"xref\": \"x\", \"y\": \"NO3\", \"yref\": \"y\"}, {\"font\": {\"color\": \"#FFFFFF\"}, \"showarrow\": false, \"text\": \"0.74\", \"x\": \"nitrate_WOA_clim\", \"xref\": \"x\", \"y\": \"NO3\", \"yref\": \"y\"}, {\"font\": {\"color\": \"#FFFFFF\"}, \"showarrow\": false, \"text\": \"0.83\", \"x\": \"phosphate_WOA_clim\", \"xref\": \"x\", \"y\": \"NO3\", \"yref\": \"y\"}, {\"font\": {\"color\": \"#FFFFFF\"}, \"showarrow\": false, \"text\": \"0.83\", \"x\": \"silicate_WOA_clim\", \"xref\": \"x\", \"y\": \"NO3\", \"yref\": \"y\"}, {\"font\": {\"color\": \"#FFFFFF\"}, \"showarrow\": false, \"text\": \"-0.8\", \"x\": \"lat\", \"xref\": \"x\", \"y\": \"Fe\", \"yref\": \"y\"}, {\"font\": {\"color\": \"#FFFFFF\"}, \"showarrow\": false, \"text\": \"0.57\", \"x\": \"lon\", \"xref\": \"x\", \"y\": \"Fe\", \"yref\": \"y\"}, {\"font\": {\"color\": \"#FFFFFF\"}, \"showarrow\": false, \"text\": \"-0.84\", \"x\": \"synecho_abundance\", \"xref\": \"x\", \"y\": \"Fe\", \"yref\": \"y\"}, {\"font\": {\"color\": \"#FFFFFF\"}, \"showarrow\": false, \"text\": \"-0.59\", \"x\": \"picoeuk_abundance\", \"xref\": \"x\", \"y\": \"Fe\", \"yref\": \"y\"}, {\"font\": {\"color\": \"#FFFFFF\"}, \"showarrow\": false, \"text\": \"0.6\", \"x\": \"prochloro_abundance\", \"xref\": \"x\", \"y\": \"Fe\", \"yref\": \"y\"}, {\"font\": {\"color\": \"#FFFFFF\"}, \"showarrow\": false, \"text\": \"0.76\", \"x\": \"sst\", \"xref\": \"x\", \"y\": \"Fe\", \"yref\": \"y\"}, {\"font\": {\"color\": \"#FFFFFF\"}, \"showarrow\": false, \"text\": \"0.71\", \"x\": \"sss\", \"xref\": \"x\", \"y\": \"Fe\", \"yref\": \"y\"}, {\"font\": {\"color\": \"#FFFFFF\"}, \"showarrow\": false, \"text\": \"-0.22\", \"x\": \"chl\", \"xref\": \"x\", \"y\": \"Fe\", \"yref\": \"y\"}, {\"font\": {\"color\": \"#FFFFFF\"}, \"showarrow\": false, \"text\": \"-0.76\", \"x\": \"NO3\", \"xref\": \"x\", \"y\": \"Fe\", \"yref\": \"y\"}, {\"font\": {\"color\": \"#FFFFFF\"}, \"showarrow\": false, \"text\": \"1.0\", \"x\": \"Fe\", \"xref\": \"x\", \"y\": \"Fe\", \"yref\": \"y\"}, {\"font\": {\"color\": \"#FFFFFF\"}, \"showarrow\": false, \"text\": \"-0.77\", \"x\": \"O2\", \"xref\": \"x\", \"y\": \"Fe\", \"yref\": \"y\"}, {\"font\": {\"color\": \"#FFFFFF\"}, \"showarrow\": false, \"text\": \"-0.34\", \"x\": \"PO4\", \"xref\": \"x\", \"y\": \"Fe\", \"yref\": \"y\"}, {\"font\": {\"color\": \"#FFFFFF\"}, \"showarrow\": false, \"text\": \"-0.75\", \"x\": \"density_WOA_clim\", \"xref\": \"x\", \"y\": \"Fe\", \"yref\": \"y\"}, {\"font\": {\"color\": \"#FFFFFF\"}, \"showarrow\": false, \"text\": \"-0.53\", \"x\": \"nitrate_WOA_clim\", \"xref\": \"x\", \"y\": \"Fe\", \"yref\": \"y\"}, {\"font\": {\"color\": \"#FFFFFF\"}, \"showarrow\": false, \"text\": \"-0.53\", \"x\": \"phosphate_WOA_clim\", \"xref\": \"x\", \"y\": \"Fe\", \"yref\": \"y\"}, {\"font\": {\"color\": \"#FFFFFF\"}, \"showarrow\": false, \"text\": \"-0.83\", \"x\": \"silicate_WOA_clim\", \"xref\": \"x\", \"y\": \"Fe\", \"yref\": \"y\"}, {\"font\": {\"color\": \"#FFFFFF\"}, \"showarrow\": false, \"text\": \"0.93\", \"x\": \"lat\", \"xref\": \"x\", \"y\": \"O2\", \"yref\": \"y\"}, {\"font\": {\"color\": \"#FFFFFF\"}, \"showarrow\": false, \"text\": \"-0.57\", \"x\": \"lon\", \"xref\": \"x\", \"y\": \"O2\", \"yref\": \"y\"}, {\"font\": {\"color\": \"#FFFFFF\"}, \"showarrow\": false, \"text\": \"0.83\", \"x\": \"synecho_abundance\", \"xref\": \"x\", \"y\": \"O2\", \"yref\": \"y\"}, {\"font\": {\"color\": \"#FFFFFF\"}, \"showarrow\": false, \"text\": \"0.86\", \"x\": \"picoeuk_abundance\", \"xref\": \"x\", \"y\": \"O2\", \"yref\": \"y\"}, {\"font\": {\"color\": \"#FFFFFF\"}, \"showarrow\": false, \"text\": \"-0.82\", \"x\": \"prochloro_abundance\", \"xref\": \"x\", \"y\": \"O2\", \"yref\": \"y\"}, {\"font\": {\"color\": \"#FFFFFF\"}, \"showarrow\": false, \"text\": \"-0.99\", \"x\": \"sst\", \"xref\": \"x\", \"y\": \"O2\", \"yref\": \"y\"}, {\"font\": {\"color\": \"#FFFFFF\"}, \"showarrow\": false, \"text\": \"-0.87\", \"x\": \"sss\", \"xref\": \"x\", \"y\": \"O2\", \"yref\": \"y\"}, {\"font\": {\"color\": \"#FFFFFF\"}, \"showarrow\": false, \"text\": \"0.58\", \"x\": \"chl\", \"xref\": \"x\", \"y\": \"O2\", \"yref\": \"y\"}, {\"font\": {\"color\": \"#FFFFFF\"}, \"showarrow\": false, \"text\": \"0.97\", \"x\": \"NO3\", \"xref\": \"x\", \"y\": \"O2\", \"yref\": \"y\"}, {\"font\": {\"color\": \"#FFFFFF\"}, \"showarrow\": false, \"text\": \"-0.77\", \"x\": \"Fe\", \"xref\": \"x\", \"y\": \"O2\", \"yref\": \"y\"}, {\"font\": {\"color\": \"#FFFFFF\"}, \"showarrow\": false, \"text\": \"1.0\", \"x\": \"O2\", \"xref\": \"x\", \"y\": \"O2\", \"yref\": \"y\"}, {\"font\": {\"color\": \"#FFFFFF\"}, \"showarrow\": false, \"text\": \"0.61\", \"x\": \"PO4\", \"xref\": \"x\", \"y\": \"O2\", \"yref\": \"y\"}, {\"font\": {\"color\": \"#FFFFFF\"}, \"showarrow\": false, \"text\": \"0.96\", \"x\": \"density_WOA_clim\", \"xref\": \"x\", \"y\": \"O2\", \"yref\": \"y\"}, {\"font\": {\"color\": \"#FFFFFF\"}, \"showarrow\": false, \"text\": \"0.74\", \"x\": \"nitrate_WOA_clim\", \"xref\": \"x\", \"y\": \"O2\", \"yref\": \"y\"}, {\"font\": {\"color\": \"#FFFFFF\"}, \"showarrow\": false, \"text\": \"0.81\", \"x\": \"phosphate_WOA_clim\", \"xref\": \"x\", \"y\": \"O2\", \"yref\": \"y\"}, {\"font\": {\"color\": \"#FFFFFF\"}, \"showarrow\": false, \"text\": \"0.78\", \"x\": \"silicate_WOA_clim\", \"xref\": \"x\", \"y\": \"O2\", \"yref\": \"y\"}, {\"font\": {\"color\": \"#FFFFFF\"}, \"showarrow\": false, \"text\": \"0.62\", \"x\": \"lat\", \"xref\": \"x\", \"y\": \"PO4\", \"yref\": \"y\"}, {\"font\": {\"color\": \"#FFFFFF\"}, \"showarrow\": false, \"text\": \"-0.04\", \"x\": \"lon\", \"xref\": \"x\", \"y\": \"PO4\", \"yref\": \"y\"}, {\"font\": {\"color\": \"#FFFFFF\"}, \"showarrow\": false, \"text\": \"0.42\", \"x\": \"synecho_abundance\", \"xref\": \"x\", \"y\": \"PO4\", \"yref\": \"y\"}, {\"font\": {\"color\": \"#FFFFFF\"}, \"showarrow\": false, \"text\": \"0.44\", \"x\": \"picoeuk_abundance\", \"xref\": \"x\", \"y\": \"PO4\", \"yref\": \"y\"}, {\"font\": {\"color\": \"#FFFFFF\"}, \"showarrow\": false, \"text\": \"-0.42\", \"x\": \"prochloro_abundance\", \"xref\": \"x\", \"y\": \"PO4\", \"yref\": \"y\"}, {\"font\": {\"color\": \"#FFFFFF\"}, \"showarrow\": false, \"text\": \"-0.61\", \"x\": \"sst\", \"xref\": \"x\", \"y\": \"PO4\", \"yref\": \"y\"}, {\"font\": {\"color\": \"#FFFFFF\"}, \"showarrow\": false, \"text\": \"-0.73\", \"x\": \"sss\", \"xref\": \"x\", \"y\": \"PO4\", \"yref\": \"y\"}, {\"font\": {\"color\": \"#FFFFFF\"}, \"showarrow\": false, \"text\": \"0.48\", \"x\": \"chl\", \"xref\": \"x\", \"y\": \"PO4\", \"yref\": \"y\"}, {\"font\": {\"color\": \"#FFFFFF\"}, \"showarrow\": false, \"text\": \"0.6\", \"x\": \"NO3\", \"xref\": \"x\", \"y\": \"PO4\", \"yref\": \"y\"}, {\"font\": {\"color\": \"#FFFFFF\"}, \"showarrow\": false, \"text\": \"-0.34\", \"x\": \"Fe\", \"xref\": \"x\", \"y\": \"PO4\", \"yref\": \"y\"}, {\"font\": {\"color\": \"#FFFFFF\"}, \"showarrow\": false, \"text\": \"0.61\", \"x\": \"O2\", \"xref\": \"x\", \"y\": \"PO4\", \"yref\": \"y\"}, {\"font\": {\"color\": \"#FFFFFF\"}, \"showarrow\": false, \"text\": \"1.0\", \"x\": \"PO4\", \"xref\": \"x\", \"y\": \"PO4\", \"yref\": \"y\"}, {\"font\": {\"color\": \"#FFFFFF\"}, \"showarrow\": false, \"text\": \"0.54\", \"x\": \"density_WOA_clim\", \"xref\": \"x\", \"y\": \"PO4\", \"yref\": \"y\"}, {\"font\": {\"color\": \"#FFFFFF\"}, \"showarrow\": false, \"text\": \"0.21\", \"x\": \"nitrate_WOA_clim\", \"xref\": \"x\", \"y\": \"PO4\", \"yref\": \"y\"}, {\"font\": {\"color\": \"#FFFFFF\"}, \"showarrow\": false, \"text\": \"0.47\", \"x\": \"phosphate_WOA_clim\", \"xref\": \"x\", \"y\": \"PO4\", \"yref\": \"y\"}, {\"font\": {\"color\": \"#FFFFFF\"}, \"showarrow\": false, \"text\": \"0.37\", \"x\": \"silicate_WOA_clim\", \"xref\": \"x\", \"y\": \"PO4\", \"yref\": \"y\"}, {\"font\": {\"color\": \"#FFFFFF\"}, \"showarrow\": false, \"text\": \"0.89\", \"x\": \"lat\", \"xref\": \"x\", \"y\": \"density_WOA_clim\", \"yref\": \"y\"}, {\"font\": {\"color\": \"#FFFFFF\"}, \"showarrow\": false, \"text\": \"-0.57\", \"x\": \"lon\", \"xref\": \"x\", \"y\": \"density_WOA_clim\", \"yref\": \"y\"}, {\"font\": {\"color\": \"#FFFFFF\"}, \"showarrow\": false, \"text\": \"0.81\", \"x\": \"synecho_abundance\", \"xref\": \"x\", \"y\": \"density_WOA_clim\", \"yref\": \"y\"}, {\"font\": {\"color\": \"#FFFFFF\"}, \"showarrow\": false, \"text\": \"0.91\", \"x\": \"picoeuk_abundance\", \"xref\": \"x\", \"y\": \"density_WOA_clim\", \"yref\": \"y\"}, {\"font\": {\"color\": \"#FFFFFF\"}, \"showarrow\": false, \"text\": \"-0.77\", \"x\": \"prochloro_abundance\", \"xref\": \"x\", \"y\": \"density_WOA_clim\", \"yref\": \"y\"}, {\"font\": {\"color\": \"#FFFFFF\"}, \"showarrow\": false, \"text\": \"-0.94\", \"x\": \"sst\", \"xref\": \"x\", \"y\": \"density_WOA_clim\", \"yref\": \"y\"}, {\"font\": {\"color\": \"#FFFFFF\"}, \"showarrow\": false, \"text\": \"-0.81\", \"x\": \"sss\", \"xref\": \"x\", \"y\": \"density_WOA_clim\", \"yref\": \"y\"}, {\"font\": {\"color\": \"#FFFFFF\"}, \"showarrow\": false, \"text\": \"0.63\", \"x\": \"chl\", \"xref\": \"x\", \"y\": \"density_WOA_clim\", \"yref\": \"y\"}, {\"font\": {\"color\": \"#FFFFFF\"}, \"showarrow\": false, \"text\": \"0.93\", \"x\": \"NO3\", \"xref\": \"x\", \"y\": \"density_WOA_clim\", \"yref\": \"y\"}, {\"font\": {\"color\": \"#FFFFFF\"}, \"showarrow\": false, \"text\": \"-0.75\", \"x\": \"Fe\", \"xref\": \"x\", \"y\": \"density_WOA_clim\", \"yref\": \"y\"}, {\"font\": {\"color\": \"#FFFFFF\"}, \"showarrow\": false, \"text\": \"0.96\", \"x\": \"O2\", \"xref\": \"x\", \"y\": \"density_WOA_clim\", \"yref\": \"y\"}, {\"font\": {\"color\": \"#FFFFFF\"}, \"showarrow\": false, \"text\": \"0.54\", \"x\": \"PO4\", \"xref\": \"x\", \"y\": \"density_WOA_clim\", \"yref\": \"y\"}, {\"font\": {\"color\": \"#FFFFFF\"}, \"showarrow\": false, \"text\": \"1.0\", \"x\": \"density_WOA_clim\", \"xref\": \"x\", \"y\": \"density_WOA_clim\", \"yref\": \"y\"}, {\"font\": {\"color\": \"#FFFFFF\"}, \"showarrow\": false, \"text\": \"0.69\", \"x\": \"nitrate_WOA_clim\", \"xref\": \"x\", \"y\": \"density_WOA_clim\", \"yref\": \"y\"}, {\"font\": {\"color\": \"#FFFFFF\"}, \"showarrow\": false, \"text\": \"0.84\", \"x\": \"phosphate_WOA_clim\", \"xref\": \"x\", \"y\": \"density_WOA_clim\", \"yref\": \"y\"}, {\"font\": {\"color\": \"#FFFFFF\"}, \"showarrow\": false, \"text\": \"0.8\", \"x\": \"silicate_WOA_clim\", \"xref\": \"x\", \"y\": \"density_WOA_clim\", \"yref\": \"y\"}, {\"font\": {\"color\": \"#FFFFFF\"}, \"showarrow\": false, \"text\": \"0.76\", \"x\": \"lat\", \"xref\": \"x\", \"y\": \"nitrate_WOA_clim\", \"yref\": \"y\"}, {\"font\": {\"color\": \"#FFFFFF\"}, \"showarrow\": false, \"text\": \"-0.54\", \"x\": \"lon\", \"xref\": \"x\", \"y\": \"nitrate_WOA_clim\", \"yref\": \"y\"}, {\"font\": {\"color\": \"#FFFFFF\"}, \"showarrow\": false, \"text\": \"0.6\", \"x\": \"synecho_abundance\", \"xref\": \"x\", \"y\": \"nitrate_WOA_clim\", \"yref\": \"y\"}, {\"font\": {\"color\": \"#FFFFFF\"}, \"showarrow\": false, \"text\": \"0.6\", \"x\": \"picoeuk_abundance\", \"xref\": \"x\", \"y\": \"nitrate_WOA_clim\", \"yref\": \"y\"}, {\"font\": {\"color\": \"#FFFFFF\"}, \"showarrow\": false, \"text\": \"-0.68\", \"x\": \"prochloro_abundance\", \"xref\": \"x\", \"y\": \"nitrate_WOA_clim\", \"yref\": \"y\"}, {\"font\": {\"color\": \"#FFFFFF\"}, \"showarrow\": false, \"text\": \"-0.75\", \"x\": \"sst\", \"xref\": \"x\", \"y\": \"nitrate_WOA_clim\", \"yref\": \"y\"}, {\"font\": {\"color\": \"#FFFFFF\"}, \"showarrow\": false, \"text\": \"-0.62\", \"x\": \"sss\", \"xref\": \"x\", \"y\": \"nitrate_WOA_clim\", \"yref\": \"y\"}, {\"font\": {\"color\": \"#FFFFFF\"}, \"showarrow\": false, \"text\": \"0.38\", \"x\": \"chl\", \"xref\": \"x\", \"y\": \"nitrate_WOA_clim\", \"yref\": \"y\"}, {\"font\": {\"color\": \"#FFFFFF\"}, \"showarrow\": false, \"text\": \"0.74\", \"x\": \"NO3\", \"xref\": \"x\", \"y\": \"nitrate_WOA_clim\", \"yref\": \"y\"}, {\"font\": {\"color\": \"#FFFFFF\"}, \"showarrow\": false, \"text\": \"-0.53\", \"x\": \"Fe\", \"xref\": \"x\", \"y\": \"nitrate_WOA_clim\", \"yref\": \"y\"}, {\"font\": {\"color\": \"#FFFFFF\"}, \"showarrow\": false, \"text\": \"0.74\", \"x\": \"O2\", \"xref\": \"x\", \"y\": \"nitrate_WOA_clim\", \"yref\": \"y\"}, {\"font\": {\"color\": \"#FFFFFF\"}, \"showarrow\": false, \"text\": \"0.21\", \"x\": \"PO4\", \"xref\": \"x\", \"y\": \"nitrate_WOA_clim\", \"yref\": \"y\"}, {\"font\": {\"color\": \"#FFFFFF\"}, \"showarrow\": false, \"text\": \"0.69\", \"x\": \"density_WOA_clim\", \"xref\": \"x\", \"y\": \"nitrate_WOA_clim\", \"yref\": \"y\"}, {\"font\": {\"color\": \"#FFFFFF\"}, \"showarrow\": false, \"text\": \"1.0\", \"x\": \"nitrate_WOA_clim\", \"xref\": \"x\", \"y\": \"nitrate_WOA_clim\", \"yref\": \"y\"}, {\"font\": {\"color\": \"#FFFFFF\"}, \"showarrow\": false, \"text\": \"0.71\", \"x\": \"phosphate_WOA_clim\", \"xref\": \"x\", \"y\": \"nitrate_WOA_clim\", \"yref\": \"y\"}, {\"font\": {\"color\": \"#FFFFFF\"}, \"showarrow\": false, \"text\": \"0.52\", \"x\": \"silicate_WOA_clim\", \"xref\": \"x\", \"y\": \"nitrate_WOA_clim\", \"yref\": \"y\"}, {\"font\": {\"color\": \"#FFFFFF\"}, \"showarrow\": false, \"text\": \"0.78\", \"x\": \"lat\", \"xref\": \"x\", \"y\": \"phosphate_WOA_clim\", \"yref\": \"y\"}, {\"font\": {\"color\": \"#FFFFFF\"}, \"showarrow\": false, \"text\": \"-0.46\", \"x\": \"lon\", \"xref\": \"x\", \"y\": \"phosphate_WOA_clim\", \"yref\": \"y\"}, {\"font\": {\"color\": \"#FFFFFF\"}, \"showarrow\": false, \"text\": \"0.68\", \"x\": \"synecho_abundance\", \"xref\": \"x\", \"y\": \"phosphate_WOA_clim\", \"yref\": \"y\"}, {\"font\": {\"color\": \"#FFFFFF\"}, \"showarrow\": false, \"text\": \"0.82\", \"x\": \"picoeuk_abundance\", \"xref\": \"x\", \"y\": \"phosphate_WOA_clim\", \"yref\": \"y\"}, {\"font\": {\"color\": \"#FFFFFF\"}, \"showarrow\": false, \"text\": \"-0.67\", \"x\": \"prochloro_abundance\", \"xref\": \"x\", \"y\": \"phosphate_WOA_clim\", \"yref\": \"y\"}, {\"font\": {\"color\": \"#FFFFFF\"}, \"showarrow\": false, \"text\": \"-0.83\", \"x\": \"sst\", \"xref\": \"x\", \"y\": \"phosphate_WOA_clim\", \"yref\": \"y\"}, {\"font\": {\"color\": \"#FFFFFF\"}, \"showarrow\": false, \"text\": \"-0.61\", \"x\": \"sss\", \"xref\": \"x\", \"y\": \"phosphate_WOA_clim\", \"yref\": \"y\"}, {\"font\": {\"color\": \"#FFFFFF\"}, \"showarrow\": false, \"text\": \"0.7\", \"x\": \"chl\", \"xref\": \"x\", \"y\": \"phosphate_WOA_clim\", \"yref\": \"y\"}, {\"font\": {\"color\": \"#FFFFFF\"}, \"showarrow\": false, \"text\": \"0.83\", \"x\": \"NO3\", \"xref\": \"x\", \"y\": \"phosphate_WOA_clim\", \"yref\": \"y\"}, {\"font\": {\"color\": \"#FFFFFF\"}, \"showarrow\": false, \"text\": \"-0.53\", \"x\": \"Fe\", \"xref\": \"x\", \"y\": \"phosphate_WOA_clim\", \"yref\": \"y\"}, {\"font\": {\"color\": \"#FFFFFF\"}, \"showarrow\": false, \"text\": \"0.81\", \"x\": \"O2\", \"xref\": \"x\", \"y\": \"phosphate_WOA_clim\", \"yref\": \"y\"}, {\"font\": {\"color\": \"#FFFFFF\"}, \"showarrow\": false, \"text\": \"0.47\", \"x\": \"PO4\", \"xref\": \"x\", \"y\": \"phosphate_WOA_clim\", \"yref\": \"y\"}, {\"font\": {\"color\": \"#FFFFFF\"}, \"showarrow\": false, \"text\": \"0.84\", \"x\": \"density_WOA_clim\", \"xref\": \"x\", \"y\": \"phosphate_WOA_clim\", \"yref\": \"y\"}, {\"font\": {\"color\": \"#FFFFFF\"}, \"showarrow\": false, \"text\": \"0.71\", \"x\": \"nitrate_WOA_clim\", \"xref\": \"x\", \"y\": \"phosphate_WOA_clim\", \"yref\": \"y\"}, {\"font\": {\"color\": \"#FFFFFF\"}, \"showarrow\": false, \"text\": \"1.0\", \"x\": \"phosphate_WOA_clim\", \"xref\": \"x\", \"y\": \"phosphate_WOA_clim\", \"yref\": \"y\"}, {\"font\": {\"color\": \"#FFFFFF\"}, \"showarrow\": false, \"text\": \"0.71\", \"x\": \"silicate_WOA_clim\", \"xref\": \"x\", \"y\": \"phosphate_WOA_clim\", \"yref\": \"y\"}, {\"font\": {\"color\": \"#FFFFFF\"}, \"showarrow\": false, \"text\": \"0.73\", \"x\": \"lat\", \"xref\": \"x\", \"y\": \"silicate_WOA_clim\", \"yref\": \"y\"}, {\"font\": {\"color\": \"#FFFFFF\"}, \"showarrow\": false, \"text\": \"-0.48\", \"x\": \"lon\", \"xref\": \"x\", \"y\": \"silicate_WOA_clim\", \"yref\": \"y\"}, {\"font\": {\"color\": \"#FFFFFF\"}, \"showarrow\": false, \"text\": \"0.79\", \"x\": \"synecho_abundance\", \"xref\": \"x\", \"y\": \"silicate_WOA_clim\", \"yref\": \"y\"}, {\"font\": {\"color\": \"#FFFFFF\"}, \"showarrow\": false, \"text\": \"0.74\", \"x\": \"picoeuk_abundance\", \"xref\": \"x\", \"y\": \"silicate_WOA_clim\", \"yref\": \"y\"}, {\"font\": {\"color\": \"#FFFFFF\"}, \"showarrow\": false, \"text\": \"-0.48\", \"x\": \"prochloro_abundance\", \"xref\": \"x\", \"y\": \"silicate_WOA_clim\", \"yref\": \"y\"}, {\"font\": {\"color\": \"#FFFFFF\"}, \"showarrow\": false, \"text\": \"-0.79\", \"x\": \"sst\", \"xref\": \"x\", \"y\": \"silicate_WOA_clim\", \"yref\": \"y\"}, {\"font\": {\"color\": \"#FFFFFF\"}, \"showarrow\": false, \"text\": \"-0.64\", \"x\": \"sss\", \"xref\": \"x\", \"y\": \"silicate_WOA_clim\", \"yref\": \"y\"}, {\"font\": {\"color\": \"#FFFFFF\"}, \"showarrow\": false, \"text\": \"0.39\", \"x\": \"chl\", \"xref\": \"x\", \"y\": \"silicate_WOA_clim\", \"yref\": \"y\"}, {\"font\": {\"color\": \"#FFFFFF\"}, \"showarrow\": false, \"text\": \"0.83\", \"x\": \"NO3\", \"xref\": \"x\", \"y\": \"silicate_WOA_clim\", \"yref\": \"y\"}, {\"font\": {\"color\": \"#FFFFFF\"}, \"showarrow\": false, \"text\": \"-0.83\", \"x\": \"Fe\", \"xref\": \"x\", \"y\": \"silicate_WOA_clim\", \"yref\": \"y\"}, {\"font\": {\"color\": \"#FFFFFF\"}, \"showarrow\": false, \"text\": \"0.78\", \"x\": \"O2\", \"xref\": \"x\", \"y\": \"silicate_WOA_clim\", \"yref\": \"y\"}, {\"font\": {\"color\": \"#FFFFFF\"}, \"showarrow\": false, \"text\": \"0.37\", \"x\": \"PO4\", \"xref\": \"x\", \"y\": \"silicate_WOA_clim\", \"yref\": \"y\"}, {\"font\": {\"color\": \"#FFFFFF\"}, \"showarrow\": false, \"text\": \"0.8\", \"x\": \"density_WOA_clim\", \"xref\": \"x\", \"y\": \"silicate_WOA_clim\", \"yref\": \"y\"}, {\"font\": {\"color\": \"#FFFFFF\"}, \"showarrow\": false, \"text\": \"0.52\", \"x\": \"nitrate_WOA_clim\", \"xref\": \"x\", \"y\": \"silicate_WOA_clim\", \"yref\": \"y\"}, {\"font\": {\"color\": \"#FFFFFF\"}, \"showarrow\": false, \"text\": \"0.71\", \"x\": \"phosphate_WOA_clim\", \"xref\": \"x\", \"y\": \"silicate_WOA_clim\", \"yref\": \"y\"}, {\"font\": {\"color\": \"#FFFFFF\"}, \"showarrow\": false, \"text\": \"1.0\", \"x\": \"silicate_WOA_clim\", \"xref\": \"x\", \"y\": \"silicate_WOA_clim\", \"yref\": \"y\"}], \"autosize\": false, \"height\": 700, \"title\": {\"text\": \"\"}, \"width\": 700, \"xaxis\": {\"dtick\": 1, \"gridcolor\": \"rgb(0, 0, 0)\", \"side\": \"top\", \"ticks\": \"\", \"title\": {\"text\": \"\"}}, \"yaxis\": {\"autorange\": \"reversed\", \"dtick\": 1, \"ticks\": \"\", \"ticksuffix\": \"  \", \"title\": {\"text\": \"\"}}},\n",
       "                        {\"showLink\": true, \"editable\": false, \"staticPlot\": false, \"linkText\": \"Export to plot.ly\", \"plotlyServerURL\": \"https://plot.ly\", \"responsive\": true}\n",
       "                    ).then(function(){\n",
       "                            \n",
       "var gd = document.getElementById('99c3a8e6-2fa6-4681-b88a-74cb34423758');\n",
       "var x = new MutationObserver(function (mutations, observer) {{\n",
       "        var display = window.getComputedStyle(gd).display;\n",
       "        if (!display || display === 'none') {{\n",
       "            console.log([gd, 'removed!']);\n",
       "            Plotly.purge(gd);\n",
       "            observer.disconnect();\n",
       "        }}\n",
       "}});\n",
       "\n",
       "// Listen for the removal of the full notebook cells\n",
       "var notebookContainer = gd.closest('#notebook-container');\n",
       "if (notebookContainer) {{\n",
       "    x.observe(notebookContainer, {childList: true});\n",
       "}}\n",
       "\n",
       "// Listen for the clearing of the current output cell\n",
       "var outputEl = gd.closest('.output');\n",
       "if (outputEl) {{\n",
       "    x.observe(outputEl, {childList: true});\n",
       "}}\n",
       "\n",
       "                        })\n",
       "                };\n",
       "                });\n",
       "            </script>\n",
       "        </div>"
      ]
     },
     "metadata": {},
     "output_type": "display_data"
    }
   ],
   "source": [
    "from pycmap.annotatedHeatmap import AnnotatedHeatmap\n",
    "\n",
    "corr = df.corr(method='spearman')\n",
    "go = AnnotatedHeatmap().graph_obj()        \n",
    "go.x = list(corr.columns)\n",
    "go.y = list(corr.columns)\n",
    "go.z = corr.values\n",
    "go.cmap = 'coolwarm' \n",
    "go.vmin = -1\n",
    "go.vmax = 1\n",
    "go.variable = 'SeaFlow'\n",
    "go.xlabel = ''\n",
    "go.ylabel = ''\n",
    "go.width = 700\n",
    "go.height = 700\n",
    "go.render()"
   ]
  },
  {
   "cell_type": "code",
   "execution_count": null,
   "metadata": {},
   "outputs": [],
   "source": []
  },
  {
   "cell_type": "code",
   "execution_count": null,
   "metadata": {},
   "outputs": [],
   "source": []
  },
  {
   "cell_type": "code",
   "execution_count": null,
   "metadata": {},
   "outputs": [],
   "source": []
  },
  {
   "cell_type": "code",
   "execution_count": null,
   "metadata": {},
   "outputs": [],
   "source": []
  },
  {
   "cell_type": "code",
   "execution_count": 24,
   "metadata": {},
   "outputs": [
    {
     "data": {
      "text/html": [
       "        <script type=\"text/javascript\">\n",
       "        window.PlotlyConfig = {MathJaxConfig: 'local'};\n",
       "        if (window.MathJax) {MathJax.Hub.Config({SVG: {font: \"STIX-Web\"}});}\n",
       "        if (typeof require !== 'undefined') {\n",
       "        require.undef(\"plotly\");\n",
       "        requirejs.config({\n",
       "            paths: {\n",
       "                'plotly': ['https://cdn.plot.ly/plotly-latest.min']\n",
       "            }\n",
       "        });\n",
       "        require(['plotly'], function(Plotly) {\n",
       "            window._Plotly = Plotly;\n",
       "        });\n",
       "        }\n",
       "        </script>\n",
       "        "
      ]
     },
     "metadata": {},
     "output_type": "display_data"
    },
    {
     "data": {
      "application/vnd.plotly.v1+json": {
       "config": {
        "editable": false,
        "linkText": "Export to plot.ly",
        "plotlyServerURL": "https://plot.ly",
        "showLink": true,
        "staticPlot": false
       },
       "data": [
        {
         "error_y": {
          "array": [
           0.20693599350193767,
           0.18963982249671182,
           0.18448075295302377,
           0.0485611835332124,
           0.1269269224061921,
           0.1517181055212409,
           0.12194056853487534,
           0.07301851540020031,
           0.09509421956993594,
           0.021222933940059335,
           0.056352579738099956,
           0.026009329060288185,
           0.025996678427822356,
           0.020921041505834268,
           0.0021972079671735605
          ],
          "color": "rgba(7, 7, 7, .2)",
          "type": "data",
          "visible": true
         },
         "marker": {
          "color": "purple",
          "opacity": 0.6,
          "size": 15
         },
         "mode": "lines+markers",
         "name": "",
         "opacity": 0.6,
         "type": "scatter",
         "uid": "d45b4e2e-1025-4f05-bfe2-1651b259d6e8",
         "x": [
          "NO3",
          "sst",
          "O2",
          "prochloro_abundance",
          "Fe",
          "silicate_WOA_clim",
          "lat",
          "density_WOA_clim",
          "PO4",
          "picoeuk_abundance",
          "sss",
          "chl",
          "phosphate_WOA_clim",
          "nitrate_WOA_clim",
          "lon"
         ],
         "y": [
          0.15022762110333326,
          0.1327726405888148,
          0.12231564515366561,
          0.12077897415888782,
          0.07983561812707825,
          0.07175554091021157,
          0.06731858352597253,
          0.05786800384336204,
          0.0516289645478235,
          0.041550975001597365,
          0.03804561953303782,
          0.02620832027997695,
          0.021148214407307086,
          0.014652246347759912,
          0.0038930324711715435
         ]
        }
       ],
       "layout": {
        "autosize": false,
        "height": 400,
        "title": {
         "text": "Predictors For synecho_abundance"
        },
        "width": 800,
        "xaxis": {
         "title": {
          "text": ""
         }
        },
        "yaxis": {
         "title": {
          "text": "Feature Relative Importance"
         }
        }
       }
      },
      "text/html": [
       "<div>\n",
       "        \n",
       "        \n",
       "            <div id=\"a54f0408-1cca-421a-8794-c4f6b7d94230\" class=\"plotly-graph-div\" style=\"height:400px; width:800px;\"></div>\n",
       "            <script type=\"text/javascript\">\n",
       "                require([\"plotly\"], function(Plotly) {\n",
       "                    window.PLOTLYENV=window.PLOTLYENV || {};\n",
       "                    window.PLOTLYENV.BASE_URL='https://plot.ly';\n",
       "                    \n",
       "                if (document.getElementById(\"a54f0408-1cca-421a-8794-c4f6b7d94230\")) {\n",
       "                    Plotly.newPlot(\n",
       "                        'a54f0408-1cca-421a-8794-c4f6b7d94230',\n",
       "                        [{\"error_y\": {\"array\": [0.20693599350193767, 0.18963982249671182, 0.18448075295302377, 0.0485611835332124, 0.1269269224061921, 0.1517181055212409, 0.12194056853487534, 0.07301851540020031, 0.09509421956993594, 0.021222933940059335, 0.056352579738099956, 0.026009329060288185, 0.025996678427822356, 0.020921041505834268, 0.0021972079671735605], \"color\": \"rgba(7, 7, 7, .2)\", \"type\": \"data\", \"visible\": true}, \"marker\": {\"color\": \"purple\", \"opacity\": 0.6, \"size\": 15}, \"mode\": \"lines+markers\", \"name\": \"\", \"opacity\": 0.6, \"type\": \"scatter\", \"uid\": \"d45b4e2e-1025-4f05-bfe2-1651b259d6e8\", \"x\": [\"NO3\", \"sst\", \"O2\", \"prochloro_abundance\", \"Fe\", \"silicate_WOA_clim\", \"lat\", \"density_WOA_clim\", \"PO4\", \"picoeuk_abundance\", \"sss\", \"chl\", \"phosphate_WOA_clim\", \"nitrate_WOA_clim\", \"lon\"], \"y\": [0.15022762110333326, 0.1327726405888148, 0.12231564515366561, 0.12077897415888782, 0.07983561812707825, 0.07175554091021157, 0.06731858352597253, 0.05786800384336204, 0.0516289645478235, 0.041550975001597365, 0.03804561953303782, 0.02620832027997695, 0.021148214407307086, 0.014652246347759912, 0.0038930324711715435]}],\n",
       "                        {\"autosize\": false, \"height\": 400, \"title\": {\"text\": \"Predictors For synecho_abundance\"}, \"width\": 800, \"xaxis\": {\"title\": {\"text\": \"\"}}, \"yaxis\": {\"title\": {\"text\": \"Feature Relative Importance\"}}},\n",
       "                        {\"showLink\": true, \"editable\": false, \"staticPlot\": false, \"linkText\": \"Export to plot.ly\", \"plotlyServerURL\": \"https://plot.ly\", \"responsive\": true}\n",
       "                    ).then(function(){\n",
       "                            \n",
       "var gd = document.getElementById('a54f0408-1cca-421a-8794-c4f6b7d94230');\n",
       "var x = new MutationObserver(function (mutations, observer) {{\n",
       "        var display = window.getComputedStyle(gd).display;\n",
       "        if (!display || display === 'none') {{\n",
       "            console.log([gd, 'removed!']);\n",
       "            Plotly.purge(gd);\n",
       "            observer.disconnect();\n",
       "        }}\n",
       "}});\n",
       "\n",
       "// Listen for the removal of the full notebook cells\n",
       "var notebookContainer = gd.closest('#notebook-container');\n",
       "if (notebookContainer) {{\n",
       "    x.observe(notebookContainer, {childList: true});\n",
       "}}\n",
       "\n",
       "// Listen for the clearing of the current output cell\n",
       "var outputEl = gd.closest('.output');\n",
       "if (outputEl) {{\n",
       "    x.observe(outputEl, {childList: true});\n",
       "}}\n",
       "\n",
       "                        })\n",
       "                };\n",
       "                });\n",
       "            </script>\n",
       "        </div>"
      ]
     },
     "metadata": {},
     "output_type": "display_data"
    },
    {
     "name": "stdout",
     "output_type": "stream",
     "text": [
      "************************************\n",
      "Test size proportion: 0.20\n",
      "XTrain shape: (14359, 15)\n",
      "yTrain shape: (14359,)\n",
      "XTest shape: (3590, 15)\n",
      "yTest shape: (3590,)\n",
      "\n",
      "Evaluation Results:\n",
      "\n",
      "\tRoot Mean Squared Error: 0.24\n",
      "\tEvaluation Using split (R^2 on test set): 0.9998\n",
      "************************************\n"
     ]
    }
   ],
   "source": [
    "from pycmap.supervised import ExtraTrees\n",
    "\n",
    "model = ExtraTrees(df, 'synecho_abundance')\n",
    "model.learn()\n",
    "model.plot_feature_importance()\n",
    "model.report()"
   ]
  },
  {
   "cell_type": "code",
   "execution_count": 25,
   "metadata": {},
   "outputs": [
    {
     "data": {
      "text/html": [
       "        <script type=\"text/javascript\">\n",
       "        window.PlotlyConfig = {MathJaxConfig: 'local'};\n",
       "        if (window.MathJax) {MathJax.Hub.Config({SVG: {font: \"STIX-Web\"}});}\n",
       "        if (typeof require !== 'undefined') {\n",
       "        require.undef(\"plotly\");\n",
       "        requirejs.config({\n",
       "            paths: {\n",
       "                'plotly': ['https://cdn.plot.ly/plotly-latest.min']\n",
       "            }\n",
       "        });\n",
       "        require(['plotly'], function(Plotly) {\n",
       "            window._Plotly = Plotly;\n",
       "        });\n",
       "        }\n",
       "        </script>\n",
       "        "
      ]
     },
     "metadata": {},
     "output_type": "display_data"
    },
    {
     "data": {
      "application/vnd.plotly.v1+json": {
       "config": {
        "editable": false,
        "linkText": "Export to plot.ly",
        "plotlyServerURL": "https://plot.ly",
        "showLink": true,
        "staticPlot": false
       },
       "data": [
        {
         "error_y": {
          "array": [
           0.2788450971840557,
           0.19269892327499857,
           0.1869320882393181,
           0.1686747319697707,
           0.13187466317101673,
           0.1485527309216858,
           0.1369643610065397,
           0.10018897774237845,
           0.03424231126871348,
           0.03451220082896204,
           0.02878166627271291,
           0.01523132538868072,
           0.029395285583792095,
           0.025425756741543515,
           0.005410753192932919
          ],
          "color": "rgba(7, 7, 7, .2)",
          "type": "data",
          "visible": true
         },
         "marker": {
          "color": "purple",
          "opacity": 0.6,
          "size": 15
         },
         "mode": "lines+markers",
         "name": "",
         "opacity": 0.6,
         "type": "scatter",
         "uid": "d602e709-d61c-4990-9c61-c4c7dc61ae2a",
         "x": [
          "density_WOA_clim",
          "chl",
          "NO3",
          "phosphate_WOA_clim",
          "silicate_WOA_clim",
          "sst",
          "O2",
          "PO4",
          "nitrate_WOA_clim",
          "lat",
          "sss",
          "prochloro_abundance",
          "synecho_abundance",
          "Fe",
          "lon"
         ],
         "y": [
          0.29293386622776363,
          0.11466499114940429,
          0.11123754312994519,
          0.08682067181962642,
          0.08567268473963517,
          0.08424962865808984,
          0.0583521696883506,
          0.03239466562982616,
          0.026013798310570393,
          0.024888779447657973,
          0.02332707353429237,
          0.020798820550159705,
          0.01923195011320923,
          0.013445470179137846,
          0.005967886822331026
         ]
        }
       ],
       "layout": {
        "autosize": false,
        "height": 400,
        "title": {
         "text": "Predictors For picoeuk_abundance"
        },
        "width": 800,
        "xaxis": {
         "title": {
          "text": ""
         }
        },
        "yaxis": {
         "title": {
          "text": "Feature Relative Importance"
         }
        }
       }
      },
      "text/html": [
       "<div>\n",
       "        \n",
       "        \n",
       "            <div id=\"dcf2d85b-16c4-426f-a72c-eaab189338b2\" class=\"plotly-graph-div\" style=\"height:400px; width:800px;\"></div>\n",
       "            <script type=\"text/javascript\">\n",
       "                require([\"plotly\"], function(Plotly) {\n",
       "                    window.PLOTLYENV=window.PLOTLYENV || {};\n",
       "                    window.PLOTLYENV.BASE_URL='https://plot.ly';\n",
       "                    \n",
       "                if (document.getElementById(\"dcf2d85b-16c4-426f-a72c-eaab189338b2\")) {\n",
       "                    Plotly.newPlot(\n",
       "                        'dcf2d85b-16c4-426f-a72c-eaab189338b2',\n",
       "                        [{\"error_y\": {\"array\": [0.2788450971840557, 0.19269892327499857, 0.1869320882393181, 0.1686747319697707, 0.13187466317101673, 0.1485527309216858, 0.1369643610065397, 0.10018897774237845, 0.03424231126871348, 0.03451220082896204, 0.02878166627271291, 0.01523132538868072, 0.029395285583792095, 0.025425756741543515, 0.005410753192932919], \"color\": \"rgba(7, 7, 7, .2)\", \"type\": \"data\", \"visible\": true}, \"marker\": {\"color\": \"purple\", \"opacity\": 0.6, \"size\": 15}, \"mode\": \"lines+markers\", \"name\": \"\", \"opacity\": 0.6, \"type\": \"scatter\", \"uid\": \"d602e709-d61c-4990-9c61-c4c7dc61ae2a\", \"x\": [\"density_WOA_clim\", \"chl\", \"NO3\", \"phosphate_WOA_clim\", \"silicate_WOA_clim\", \"sst\", \"O2\", \"PO4\", \"nitrate_WOA_clim\", \"lat\", \"sss\", \"prochloro_abundance\", \"synecho_abundance\", \"Fe\", \"lon\"], \"y\": [0.29293386622776363, 0.11466499114940429, 0.11123754312994519, 0.08682067181962642, 0.08567268473963517, 0.08424962865808984, 0.0583521696883506, 0.03239466562982616, 0.026013798310570393, 0.024888779447657973, 0.02332707353429237, 0.020798820550159705, 0.01923195011320923, 0.013445470179137846, 0.005967886822331026]}],\n",
       "                        {\"autosize\": false, \"height\": 400, \"title\": {\"text\": \"Predictors For picoeuk_abundance\"}, \"width\": 800, \"xaxis\": {\"title\": {\"text\": \"\"}}, \"yaxis\": {\"title\": {\"text\": \"Feature Relative Importance\"}}},\n",
       "                        {\"showLink\": true, \"editable\": false, \"staticPlot\": false, \"linkText\": \"Export to plot.ly\", \"plotlyServerURL\": \"https://plot.ly\", \"responsive\": true}\n",
       "                    ).then(function(){\n",
       "                            \n",
       "var gd = document.getElementById('dcf2d85b-16c4-426f-a72c-eaab189338b2');\n",
       "var x = new MutationObserver(function (mutations, observer) {{\n",
       "        var display = window.getComputedStyle(gd).display;\n",
       "        if (!display || display === 'none') {{\n",
       "            console.log([gd, 'removed!']);\n",
       "            Plotly.purge(gd);\n",
       "            observer.disconnect();\n",
       "        }}\n",
       "}});\n",
       "\n",
       "// Listen for the removal of the full notebook cells\n",
       "var notebookContainer = gd.closest('#notebook-container');\n",
       "if (notebookContainer) {{\n",
       "    x.observe(notebookContainer, {childList: true});\n",
       "}}\n",
       "\n",
       "// Listen for the clearing of the current output cell\n",
       "var outputEl = gd.closest('.output');\n",
       "if (outputEl) {{\n",
       "    x.observe(outputEl, {childList: true});\n",
       "}}\n",
       "\n",
       "                        })\n",
       "                };\n",
       "                });\n",
       "            </script>\n",
       "        </div>"
      ]
     },
     "metadata": {},
     "output_type": "display_data"
    },
    {
     "name": "stdout",
     "output_type": "stream",
     "text": [
      "************************************\n",
      "Test size proportion: 0.20\n",
      "XTrain shape: (14359, 15)\n",
      "yTrain shape: (14359,)\n",
      "XTest shape: (3590, 15)\n",
      "yTest shape: (3590,)\n",
      "\n",
      "Evaluation Results:\n",
      "\n",
      "\tRoot Mean Squared Error: 0.10\n",
      "\tEvaluation Using split (R^2 on test set): 0.9998\n",
      "************************************\n"
     ]
    }
   ],
   "source": [
    "from pycmap.supervised import ExtraTrees\n",
    "\n",
    "model = ExtraTrees(df, 'picoeuk_abundance')\n",
    "model.learn()\n",
    "model.plot_feature_importance()\n",
    "model.report()"
   ]
  },
  {
   "cell_type": "code",
   "execution_count": 26,
   "metadata": {},
   "outputs": [
    {
     "data": {
      "text/html": [
       "        <script type=\"text/javascript\">\n",
       "        window.PlotlyConfig = {MathJaxConfig: 'local'};\n",
       "        if (window.MathJax) {MathJax.Hub.Config({SVG: {font: \"STIX-Web\"}});}\n",
       "        if (typeof require !== 'undefined') {\n",
       "        require.undef(\"plotly\");\n",
       "        requirejs.config({\n",
       "            paths: {\n",
       "                'plotly': ['https://cdn.plot.ly/plotly-latest.min']\n",
       "            }\n",
       "        });\n",
       "        require(['plotly'], function(Plotly) {\n",
       "            window._Plotly = Plotly;\n",
       "        });\n",
       "        }\n",
       "        </script>\n",
       "        "
      ]
     },
     "metadata": {},
     "output_type": "display_data"
    },
    {
     "data": {
      "application/vnd.plotly.v1+json": {
       "config": {
        "editable": false,
        "linkText": "Export to plot.ly",
        "plotlyServerURL": "https://plot.ly",
        "showLink": true,
        "staticPlot": false
       },
       "data": [
        {
         "error_y": {
          "array": [
           0.23034561703928078,
           0.2261834020328345,
           0.18168549976940176,
           0.18670447794894957,
           0.05202118341566851,
           0.17848462122497344,
           0.17745090411233974,
           0.05127984093558319,
           0.044840224568415354,
           0.05620368872717093,
           0.037551673907287024,
           0.033726688790100164,
           0.04764997040614131,
           0.010656075425513615,
           0.013939454260015508
          ],
          "color": "rgba(7, 7, 7, .2)",
          "type": "data",
          "visible": true
         },
         "marker": {
          "color": "purple",
          "opacity": 0.6,
          "size": 15
         },
         "mode": "lines+markers",
         "name": "",
         "opacity": 0.6,
         "type": "scatter",
         "uid": "8079761e-b60c-4a32-9686-36a6d53e3721",
         "x": [
          "sss",
          "lat",
          "sst",
          "O2",
          "lon",
          "NO3",
          "PO4",
          "silicate_WOA_clim",
          "synecho_abundance",
          "density_WOA_clim",
          "nitrate_WOA_clim",
          "picoeuk_abundance",
          "phosphate_WOA_clim",
          "chl",
          "Fe"
         ],
         "y": [
          0.16983907290143305,
          0.1554900553853291,
          0.10928220257839488,
          0.09432586079078095,
          0.0875770223412447,
          0.08562064188629118,
          0.08182009569541887,
          0.054614939019055474,
          0.0480789852000161,
          0.02574604173668618,
          0.024439568112245916,
          0.02342002953658453,
          0.021950973887832407,
          0.010191492798659996,
          0.007603018130026816
         ]
        }
       ],
       "layout": {
        "autosize": false,
        "height": 400,
        "title": {
         "text": "Predictors For prochloro_abundance"
        },
        "width": 800,
        "xaxis": {
         "title": {
          "text": ""
         }
        },
        "yaxis": {
         "title": {
          "text": "Feature Relative Importance"
         }
        }
       }
      },
      "text/html": [
       "<div>\n",
       "        \n",
       "        \n",
       "            <div id=\"6e17ddf8-315a-4c54-b45a-58b13074f27d\" class=\"plotly-graph-div\" style=\"height:400px; width:800px;\"></div>\n",
       "            <script type=\"text/javascript\">\n",
       "                require([\"plotly\"], function(Plotly) {\n",
       "                    window.PLOTLYENV=window.PLOTLYENV || {};\n",
       "                    window.PLOTLYENV.BASE_URL='https://plot.ly';\n",
       "                    \n",
       "                if (document.getElementById(\"6e17ddf8-315a-4c54-b45a-58b13074f27d\")) {\n",
       "                    Plotly.newPlot(\n",
       "                        '6e17ddf8-315a-4c54-b45a-58b13074f27d',\n",
       "                        [{\"error_y\": {\"array\": [0.23034561703928078, 0.2261834020328345, 0.18168549976940176, 0.18670447794894957, 0.05202118341566851, 0.17848462122497344, 0.17745090411233974, 0.05127984093558319, 0.044840224568415354, 0.05620368872717093, 0.037551673907287024, 0.033726688790100164, 0.04764997040614131, 0.010656075425513615, 0.013939454260015508], \"color\": \"rgba(7, 7, 7, .2)\", \"type\": \"data\", \"visible\": true}, \"marker\": {\"color\": \"purple\", \"opacity\": 0.6, \"size\": 15}, \"mode\": \"lines+markers\", \"name\": \"\", \"opacity\": 0.6, \"type\": \"scatter\", \"uid\": \"8079761e-b60c-4a32-9686-36a6d53e3721\", \"x\": [\"sss\", \"lat\", \"sst\", \"O2\", \"lon\", \"NO3\", \"PO4\", \"silicate_WOA_clim\", \"synecho_abundance\", \"density_WOA_clim\", \"nitrate_WOA_clim\", \"picoeuk_abundance\", \"phosphate_WOA_clim\", \"chl\", \"Fe\"], \"y\": [0.16983907290143305, 0.1554900553853291, 0.10928220257839488, 0.09432586079078095, 0.0875770223412447, 0.08562064188629118, 0.08182009569541887, 0.054614939019055474, 0.0480789852000161, 0.02574604173668618, 0.024439568112245916, 0.02342002953658453, 0.021950973887832407, 0.010191492798659996, 0.007603018130026816]}],\n",
       "                        {\"autosize\": false, \"height\": 400, \"title\": {\"text\": \"Predictors For prochloro_abundance\"}, \"width\": 800, \"xaxis\": {\"title\": {\"text\": \"\"}}, \"yaxis\": {\"title\": {\"text\": \"Feature Relative Importance\"}}},\n",
       "                        {\"showLink\": true, \"editable\": false, \"staticPlot\": false, \"linkText\": \"Export to plot.ly\", \"plotlyServerURL\": \"https://plot.ly\", \"responsive\": true}\n",
       "                    ).then(function(){\n",
       "                            \n",
       "var gd = document.getElementById('6e17ddf8-315a-4c54-b45a-58b13074f27d');\n",
       "var x = new MutationObserver(function (mutations, observer) {{\n",
       "        var display = window.getComputedStyle(gd).display;\n",
       "        if (!display || display === 'none') {{\n",
       "            console.log([gd, 'removed!']);\n",
       "            Plotly.purge(gd);\n",
       "            observer.disconnect();\n",
       "        }}\n",
       "}});\n",
       "\n",
       "// Listen for the removal of the full notebook cells\n",
       "var notebookContainer = gd.closest('#notebook-container');\n",
       "if (notebookContainer) {{\n",
       "    x.observe(notebookContainer, {childList: true});\n",
       "}}\n",
       "\n",
       "// Listen for the clearing of the current output cell\n",
       "var outputEl = gd.closest('.output');\n",
       "if (outputEl) {{\n",
       "    x.observe(outputEl, {childList: true});\n",
       "}}\n",
       "\n",
       "                        })\n",
       "                };\n",
       "                });\n",
       "            </script>\n",
       "        </div>"
      ]
     },
     "metadata": {},
     "output_type": "display_data"
    },
    {
     "name": "stdout",
     "output_type": "stream",
     "text": [
      "************************************\n",
      "Test size proportion: 0.20\n",
      "XTrain shape: (14359, 15)\n",
      "yTrain shape: (14359,)\n",
      "XTest shape: (3590, 15)\n",
      "yTest shape: (3590,)\n",
      "\n",
      "Evaluation Results:\n",
      "\n",
      "\tRoot Mean Squared Error: 0.40\n",
      "\tEvaluation Using split (R^2 on test set): 1.0000\n",
      "************************************\n"
     ]
    }
   ],
   "source": [
    "\n",
    "from pycmap.supervised import ExtraTrees\n",
    "\n",
    "model = ExtraTrees(df, 'prochloro_abundance')\n",
    "model.learn()\n",
    "model.plot_feature_importance()\n",
    "model.report()"
   ]
  },
  {
   "cell_type": "code",
   "execution_count": null,
   "metadata": {},
   "outputs": [],
   "source": [
    "from pycmap.supervised import GradientBoost\n",
    "\n",
    "model = GradientBoost(df, 'synecho_abundance')\n",
    "model.learn()\n",
    "\n",
    "model.report()"
   ]
  }
 ],
 "metadata": {
  "kernelspec": {
   "display_name": "Python 3",
   "language": "python",
   "name": "python3"
  },
  "language_info": {
   "codemirror_mode": {
    "name": "ipython",
    "version": 3
   },
   "file_extension": ".py",
   "mimetype": "text/x-python",
   "name": "python",
   "nbconvert_exporter": "python",
   "pygments_lexer": "ipython3",
   "version": "3.7.1"
  }
 },
 "nbformat": 4,
 "nbformat_minor": 2
}
