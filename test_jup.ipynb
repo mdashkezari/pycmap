{
 "cells": [
  {
   "cell_type": "code",
   "execution_count": null,
   "metadata": {},
   "outputs": [],
   "source": [
    "# def __init__(self,\n",
    "#              token=None,\n",
    "#              baseURL=None,\n",
    "#              headers=None,\n",
    "#              vizEngine=None,\n",
    "#              exportDir=None,\n",
    "#              exportFormat=None,\n",
    "#              figureDir=None,\n",
    "#              ):\n",
    "#     \"\"\"\n",
    "#     :param str token: access token to make client requests.\n",
    "#     :param str baseURL: root endpoint of Simons CMAP API.\n",
    "#     :param dict headers: additional headers to add to requests.\n",
    "#     :param str vizEngine: data visualization library used to render the graphs.\n",
    "#     :param str exportDir: path to local directory where the exported data are stored.\n",
    "#     :param str exportFormat: file format of the exported files.\n",
    "#     \"\"\"\n",
    "\n"
   ]
  },
  {
   "cell_type": "code",
   "execution_count": 1,
   "metadata": {},
   "outputs": [],
   "source": [
    "import pycmap\n",
    "api = pycmap.API(token='08d91d80-ae64-11e9-8f77-f3e8f5c1f730', vizEngine='plotly')\n"
   ]
  },
  {
   "cell_type": "markdown",
   "metadata": {},
   "source": [
    "# catalog"
   ]
  },
  {
   "cell_type": "code",
   "execution_count": null,
   "metadata": {},
   "outputs": [],
   "source": [
    "api.get_catalog()\n"
   ]
  },
  {
   "cell_type": "markdown",
   "metadata": {},
   "source": [
    "# metadata"
   ]
  },
  {
   "cell_type": "code",
   "execution_count": null,
   "metadata": {},
   "outputs": [],
   "source": [
    "api.get_metadata(['tblsst_AVHRR_OI_NRT', 'tblArgoMerge_REP'], ['sst', 'argo_merge_salinity_adj'])"
   ]
  },
  {
   "cell_type": "markdown",
   "metadata": {},
   "source": [
    "# dataset head"
   ]
  },
  {
   "cell_type": "code",
   "execution_count": null,
   "metadata": {},
   "outputs": [],
   "source": [
    "api.head('tblFlombaum')"
   ]
  },
  {
   "cell_type": "markdown",
   "metadata": {},
   "source": [
    "# data set columns"
   ]
  },
  {
   "cell_type": "code",
   "execution_count": null,
   "metadata": {},
   "outputs": [],
   "source": [
    "api.columns('tblAMT13_Chisholm')"
   ]
  },
  {
   "cell_type": "markdown",
   "metadata": {},
   "source": [
    "# cruise list"
   ]
  },
  {
   "cell_type": "code",
   "execution_count": null,
   "metadata": {},
   "outputs": [],
   "source": [
    "api.cruises()"
   ]
  },
  {
   "cell_type": "markdown",
   "metadata": {},
   "source": [
    "# cruise track"
   ]
  },
  {
   "cell_type": "code",
   "execution_count": null,
   "metadata": {
    "scrolled": true
   },
   "outputs": [],
   "source": [
    "api.cruise_trajectory('diel')"
   ]
  },
  {
   "cell_type": "markdown",
   "metadata": {},
   "source": [
    "# cruise bounds"
   ]
  },
  {
   "cell_type": "code",
   "execution_count": null,
   "metadata": {},
   "outputs": [],
   "source": [
    "api.cruise_bounds('KOK1606')"
   ]
  },
  {
   "cell_type": "markdown",
   "metadata": {},
   "source": [
    "# custom query"
   ]
  },
  {
   "cell_type": "code",
   "execution_count": null,
   "metadata": {},
   "outputs": [],
   "source": [
    "api.query('select * from tblSensors')"
   ]
  },
  {
   "cell_type": "markdown",
   "metadata": {},
   "source": [
    "# stored procedure"
   ]
  },
  {
   "cell_type": "code",
   "execution_count": null,
   "metadata": {},
   "outputs": [],
   "source": [
    "\n",
    "api.subset(\n",
    "          spName='uspSpaceTime', \n",
    "          table='tblCHL_REP', \n",
    "          variable='chl', \n",
    "          dt1='2016-04-30', \n",
    "          dt2='2016-04-30', \n",
    "          lat1=10, \n",
    "          lat2=70, \n",
    "          lon1=-180, \n",
    "          lon2=-80, \n",
    "          depth1=0, \n",
    "          depth2=0.5\n",
    "          )\n"
   ]
  },
  {
   "cell_type": "code",
   "execution_count": null,
   "metadata": {},
   "outputs": [],
   "source": [
    "api.time_series(\n",
    "               table='tblCHL_REP', \n",
    "               variable='chl', \n",
    "               dt1='2014-04-30', \n",
    "               dt2='2017-04-30', \n",
    "               lat1=10, \n",
    "               lat2=70, \n",
    "               lon1=-180, \n",
    "               lon2=-80, \n",
    "               depth1=0, \n",
    "               depth2=0.5,\n",
    "               interval='y'  \n",
    "               )\n"
   ]
  },
  {
   "cell_type": "code",
   "execution_count": null,
   "metadata": {
    "scrolled": false
   },
   "outputs": [],
   "source": [
    "api.match(\n",
    "         sourceTable='tblSeaFlow', \n",
    "         sourceVar='synecho_abundance', \n",
    "         targetTables=['tblCHL_REP', 'tblPisces_NRT'], \n",
    "         targetVars=['chl', 'Fe'], \n",
    "         dt1='2016-04-20', \n",
    "         dt2='2016-05-04', \n",
    "         lat1=20, \n",
    "         lat2=40, \n",
    "         lon1=-160, \n",
    "         lon2=-157, \n",
    "         depth1=0, \n",
    "         depth2=5, \n",
    "         temporalTolerance=4, \n",
    "         latTolerance=0.5, \n",
    "         lonTolerance=0.5, \n",
    "         depthTolerance=5\n",
    "         )"
   ]
  },
  {
   "cell_type": "markdown",
   "metadata": {},
   "source": [
    "# along cruise track"
   ]
  },
  {
   "cell_type": "code",
   "execution_count": null,
   "metadata": {
    "scrolled": true
   },
   "outputs": [],
   "source": [
    "\n",
    "# along = api.along_track(\n",
    "#                         cruise='KOK1606', \n",
    "#                         tables=['tblSeaFlow', 'tblSSS_NRT', 'tblCHL_REP'], \n",
    "#                         variables=['synecho_abundance', 'sss', 'chl'], \n",
    "#                         temporalTolerance=[1, 1, 4], \n",
    "#                         latTolerance=[0.1, 0.25, 0.25], \n",
    "#                         lonTolerance=[0.1, 0.25, 0.25], \n",
    "#                         depthTolerance=5\n",
    "#                         )\n",
    "\n",
    "\n",
    "along = api.along_track(\n",
    "                        cruise='KOK1606', \n",
    "                        tables=['tblCHL_REP', 'tblSSS_NRT'], \n",
    "                        variables=['chl', 'sss'], \n",
    "                        temporalTolerance=[4, 1],\n",
    "                        depth1=0,\n",
    "                        depth2=5,\n",
    "                        latTolerance=[ 0.25, 0.25], \n",
    "                        lonTolerance=[0.25, 0.25], \n",
    "                        depthTolerance=5\n",
    "                        )\n",
    "\n",
    "\n",
    "along\n",
    "\n",
    "\n"
   ]
  },
  {
   "cell_type": "code",
   "execution_count": null,
   "metadata": {
    "scrolled": true
   },
   "outputs": [],
   "source": [
    "along = api.along_track(\n",
    "                        cruise='Gradients_2', \n",
    "                        tables=['tblSSS_NRT'], \n",
    "                        variables=['sss'], \n",
    "    depth1=0,\n",
    "    depth2=5,\n",
    "                        temporalTolerance=[1], \n",
    "                        latTolerance=[  0.25], \n",
    "                        lonTolerance=[0.25], \n",
    "                        depthTolerance=5\n",
    "                        )\n",
    "\n",
    "\n",
    "along"
   ]
  },
  {
   "cell_type": "markdown",
   "metadata": {},
   "source": [
    "<br>\n",
    "<br>\n",
    "<br>\n",
    "<br>\n",
    "<br>\n",
    "<br>\n",
    "<h1> Visualization </h1>\n",
    "<br>\n",
    "<br>\n",
    "<br>\n",
    "<br>\n",
    "<br>\n",
    "<br>\n"
   ]
  },
  {
   "cell_type": "markdown",
   "metadata": {},
   "source": [
    "# histogram"
   ]
  },
  {
   "cell_type": "code",
   "execution_count": null,
   "metadata": {},
   "outputs": [],
   "source": [
    "\n",
    "from pycmap.viz import plot_hist\n",
    "\n",
    "go = plot_hist(\n",
    "              tables=['tblArgoMerge_REP'], \n",
    "              variables=['argo_merge_salinity_adj'], \n",
    "              dt1='2016-04-30', \n",
    "              dt2='2016-06-30', \n",
    "              lat1=10, \n",
    "              lat2=70, \n",
    "              lon1=-180, \n",
    "              lon2=-80, \n",
    "              depth1=0, \n",
    "              depth2=100, \n",
    "              exportDataFlag=False,\n",
    "              show=True  \n",
    "              )"
   ]
  },
  {
   "cell_type": "code",
   "execution_count": null,
   "metadata": {},
   "outputs": [],
   "source": [
    "go[0].pdf=True\n",
    "go[0].xlabel = 'change xlable'\n",
    "go[0].title='change title'\n",
    "go[0].width = 500\n",
    "go[0].height = 500\n",
    "go[0].render()"
   ]
  },
  {
   "cell_type": "markdown",
   "metadata": {},
   "source": [
    "# time series"
   ]
  },
  {
   "cell_type": "code",
   "execution_count": null,
   "metadata": {},
   "outputs": [],
   "source": [
    "from pycmap.viz import plot_timeseries\n",
    "\n",
    "go = plot_timeseries(\n",
    "                    tables=['tblAltimetry_REP'], \n",
    "                    variables=['adt'], \n",
    "                    dt1='2016-04-30', \n",
    "                    dt2='2017-04-30', \n",
    "                    lat1=30, \n",
    "                    lat2=32, \n",
    "                    lon1=-160, \n",
    "                    lon2=-158, \n",
    "                    depth1=0, \n",
    "                    depth2=5, \n",
    "                    exportDataFlag=False,\n",
    "                    show=True  \n",
    "                    )\n"
   ]
  },
  {
   "cell_type": "code",
   "execution_count": null,
   "metadata": {},
   "outputs": [],
   "source": [
    "go[0].xlabel = 'change xlabel'\n",
    "go[0].ylabel = 'change ylabel'\n",
    "go[0].title='change title'\n",
    "go[0].width = 500\n",
    "go[0].height = 500\n",
    "go[0].msize= 5\n",
    "go[0].fillAlpha=0.8\n",
    "go[0].render()"
   ]
  },
  {
   "cell_type": "code",
   "execution_count": null,
   "metadata": {},
   "outputs": [],
   "source": [
    "from pycmap.viz import plot_timeseries\n",
    "\n",
    "go = plot_timeseries(\n",
    "                    tables=['tblAltimetry_REP'], \n",
    "                    variables=['adt'], \n",
    "                    dt1='1993-01-01', \n",
    "                    dt2='2018-12-31', \n",
    "                    lat1=30, \n",
    "                    lat2=32, \n",
    "                    lon1=-160, \n",
    "                    lon2=-158, \n",
    "                    depth1=0, \n",
    "                    depth2=5, \n",
    "                    exportDataFlag=False,\n",
    "                    show=True,\n",
    "                    interval='y'    \n",
    "                    )\n",
    "\n",
    "\n",
    "\n",
    "# interval options:\n",
    "# a/y/year/yearly/annual \n",
    "# q/s/season/seasonal/seasonality/quarterly  \n",
    "# m/month/monthly \n",
    "# w/week/weekly\n",
    "# '' (empty string for original temporal resolution)"
   ]
  },
  {
   "cell_type": "markdown",
   "metadata": {},
   "source": [
    "# plot XY"
   ]
  },
  {
   "cell_type": "code",
   "execution_count": null,
   "metadata": {
    "scrolled": true
   },
   "outputs": [],
   "source": [
    "from pycmap.viz import plot_xy\n",
    "go = plot_xy(\n",
    "            xTables=['tblsst_AVHRR_OI_NRT', 'tblPisces_NRT'], \n",
    "            xVars=['sst', 'NO3'],\n",
    "            yTables=['tblAltimetry_REP', 'tblsst_AVHRR_OI_NRT'], \n",
    "            yVars=['adt', 'sst'], \n",
    "            dt1='2016-04-20', \n",
    "            dt2='2016-05-20', \n",
    "            lat1=30, \n",
    "            lat2=32, \n",
    "            lon1=-160, \n",
    "            lon2=-158, \n",
    "            depth1=0, \n",
    "            depth2=0.5, \n",
    "            temporalTolerances=[4, 4],\n",
    "            latTolerances=[0.125, 0.125],\n",
    "            lonTolerances=[0.125, 0.125],\n",
    "            depthTolerances=[0.5, 0.5],\n",
    "            method='spearman', \n",
    "            exportDataFlag=False, \n",
    "            show=True\n",
    "            )\n",
    "\n",
    "# go[0].xlabel = 'change xlabel'\n",
    "# go[0].title='new title'\n",
    "# go[0].width = 300\n",
    "# go[0].height = 300\n",
    "# go[0].msize=10\n",
    "# go[0].fillAlpha=0.7\n",
    "# go[0].render()"
   ]
  },
  {
   "cell_type": "markdown",
   "metadata": {},
   "source": [
    "# cruise track"
   ]
  },
  {
   "cell_type": "code",
   "execution_count": null,
   "metadata": {},
   "outputs": [],
   "source": [
    "from pycmap.viz import plot_cruise_track\n",
    "plot_cruise_track('KM13')\n"
   ]
  },
  {
   "cell_type": "markdown",
   "metadata": {},
   "source": [
    "# basic regional map"
   ]
  },
  {
   "cell_type": "code",
   "execution_count": null,
   "metadata": {
    "scrolled": false
   },
   "outputs": [],
   "source": [
    "from pycmap.viz import plot_map\n",
    "\n",
    "go = plot_map(\n",
    "             tables=['tblsst_A\n",
    "             dt1='2016-04-30', VHRR_OI_NRT', 'tblPisces_NRT', 'tblWOA_Climatology'], \n",
    "             variables=['sst', 'Fe', 'phosphate_WOA_clim'], \n",
    "             dt2='2016-04-30', \n",
    "             lat1=10, \n",
    "             lat2=70, \n",
    "             lon1=-180, \n",
    "             lon2=-80, \n",
    "             depth1=0, \n",
    "             depth2=0.5, \n",
    "             exportDataFlag=False,\n",
    "             show=True\n",
    "             )"
   ]
  },
  {
   "cell_type": "code",
   "execution_count": null,
   "metadata": {},
   "outputs": [],
   "source": [
    "# change colormap: any matplotlib or cmocean colormap works\n",
    "# https://matplotlib.org/3.1.0/tutorials/colors/colormaps.html\n",
    "# https://matplotlib.org/cmocean/\n",
    "# go[1].cmap = cmocean.cm.thermal\n",
    "\n",
    "\n",
    "go[1].cmap = 'PRGn'\n",
    "go[1].vmin = 0\n",
    "go[1].vmax = 5e-5\n",
    "go[1].width = 900\n",
    "go[1].height = 700\n",
    "go[1].render()"
   ]
  },
  {
   "cell_type": "markdown",
   "metadata": {},
   "source": [
    "# conour"
   ]
  },
  {
   "cell_type": "code",
   "execution_count": null,
   "metadata": {
    "scrolled": false
   },
   "outputs": [],
   "source": [
    "\n",
    "from pycmap.viz import plot_map\n",
    "\n",
    "go = plot_map(\n",
    "             tables=['tblsst_AVHRR_OI_NRT'], \n",
    "             variables=['sst'], \n",
    "             dt1='2016-04-30', \n",
    "             dt2='2016-04-30', \n",
    "             lat1=10, \n",
    "             lat2=70, \n",
    "             lon1=-180, \n",
    "             lon2=-80, \n",
    "             depth1=0, \n",
    "             depth2=500, \n",
    "             exportDataFlag=False,\n",
    "             show=True,   \n",
    "             levels=10\n",
    "             )"
   ]
  },
  {
   "cell_type": "markdown",
   "metadata": {},
   "source": [
    "# 3D surface"
   ]
  },
  {
   "cell_type": "code",
   "execution_count": null,
   "metadata": {
    "scrolled": false
   },
   "outputs": [],
   "source": [
    "\n",
    "from pycmap.viz import plot_map\n",
    "\n",
    "go = plot_map(\n",
    "             tables=['tblPisces_NRT', 'tblWOA_Climatology', 'tblAltimetry_REP', 'tblsst_AVHRR_OI_NRT'], \n",
    "             variables=['NO3', 'density_WOA_clim', 'adt', 'sst'], \n",
    "             dt1='2016-04-30', \n",
    "             dt2='2016-04-30', \n",
    "             lat1=-90, \n",
    "             lat2=90, \n",
    "             lon1=-180, \n",
    "             lon2=180, \n",
    "             depth1=0, \n",
    "             depth2=0.5, \n",
    "             exportDataFlag=False, \n",
    "             show=True,   \n",
    "             surface3D=True\n",
    "             )"
   ]
  },
  {
   "cell_type": "markdown",
   "metadata": {},
   "source": [
    "# section"
   ]
  },
  {
   "cell_type": "code",
   "execution_count": null,
   "metadata": {},
   "outputs": [],
   "source": [
    "from pycmap.viz import plot_section\n",
    "\n",
    "go = plot_section(\n",
    "                 tables=['tblPisces_NRT'], \n",
    "                 variables=['NO3'], \n",
    "                 dt1='2016-04-30', \n",
    "                 dt2='2016-04-30', \n",
    "                 lat1=10, \n",
    "                 lat2=60, \n",
    "                 lon1=-160, \n",
    "                 lon2=-158, \n",
    "                 depth1=0, \n",
    "                 depth2=5000, \n",
    "                 exportDataFlag=False, \n",
    "                 show=True\n",
    "                 )"
   ]
  },
  {
   "cell_type": "markdown",
   "metadata": {},
   "source": [
    "# section contour"
   ]
  },
  {
   "cell_type": "code",
   "execution_count": null,
   "metadata": {},
   "outputs": [],
   "source": [
    "from pycmap.viz import plot_section\n",
    "\n",
    "go = plot_section(\n",
    "                 tables=['tblPisces_NRT'], \n",
    "                 variables=['NO3'], \n",
    "                 dt1='2016-04-30', \n",
    "                 dt2='2016-04-30', \n",
    "                 lat1=10, \n",
    "                 lat2=60, \n",
    "                 lon1=-160, \n",
    "                 lon2=-158, \n",
    "                 depth1=0, \n",
    "                 depth2=5000, \n",
    "                 exportDataFlag=False, \n",
    "                 show=True,\n",
    "                 levels=10\n",
    "                 )"
   ]
  },
  {
   "cell_type": "code",
   "execution_count": null,
   "metadata": {},
   "outputs": [],
   "source": [
    "go[0].width = 800\n",
    "go[0].height = 700\n",
    "go[0].vmin = 5\n",
    "go[0].vmax = 40\n",
    "go[0].levels=20\n",
    "go[0].render()\n"
   ]
  },
  {
   "cell_type": "markdown",
   "metadata": {},
   "source": [
    "# correlation map"
   ]
  },
  {
   "cell_type": "code",
   "execution_count": null,
   "metadata": {},
   "outputs": [],
   "source": [
    "from pycmap.viz import plot_corr_map\n",
    "\n",
    "# grad1 cruise\n",
    "go = plot_corr_map(\n",
    "                sourceTable='tblSeaFlow', \n",
    "                sourceVar='synecho_abundance',\n",
    "                targetTables=['tblCHL_REP', 'tblPisces_NRT', 'tblPisces_NRT', 'tblSSS_NRT'], \n",
    "                targetVars=['chl', 'Fe', 'NO3', 'SSS'], \n",
    "                dt1='2016-04-20', \n",
    "                dt2='2016-05-04', \n",
    "                lat1=20, \n",
    "                lat2=40, \n",
    "                lon1=-160, \n",
    "                lon2=-157, \n",
    "                depth1=0, \n",
    "                depth2=5, \n",
    "                temporalTolerance=4,\n",
    "                latTolerance=0.25, \n",
    "                lonTolerance=0.25, \n",
    "                depthTolerance=5,\n",
    "                method='spearman', \n",
    "                exportDataFlag=False, \n",
    "                show=True\n",
    "                )"
   ]
  },
  {
   "cell_type": "code",
   "execution_count": null,
   "metadata": {},
   "outputs": [],
   "source": [
    "from pycmap.viz import plot_corr_map\n",
    "\n",
    "# grad1 cruise\n",
    "go = plot_corr_map(\n",
    "                sourceTable='tblSeaFlow', \n",
    "                sourceVar='synecho_abundance',\n",
    "                targetTables=['tblCHL_REP', 'tblPisces_NRT', 'tblPisces_NRT', 'tblSSS_NRT'], \n",
    "                targetVars=['chl', 'Fe', 'NO3', 'SSS'], \n",
    "                dt1='2016-04-20', \n",
    "                dt2='2016-05-04', \n",
    "                lat1=20, \n",
    "                lat2=40, \n",
    "                lon1=-160, \n",
    "                lon2=-157, \n",
    "                depth1=0, \n",
    "                depth2=5, \n",
    "                temporalTolerance=[\n",
    "                                  4, # tblCHL_REP\n",
    "                                  4, # tblPisces_NRT  \n",
    "                                  4, # tblPisces_NRT  \n",
    "                                  0 # tblSSS_NRT  \n",
    "                                  ],\n",
    "                latTolerance=[\n",
    "                             0.125, # tblCHL_REP\n",
    "                             0.25,  # tblPisces_NRT\n",
    "                             0.25,  # tblPisces_NRT\n",
    "                             0.125  # tblSSS_NRT\n",
    "                             ],\n",
    "                lonTolerance=[\n",
    "                             0.125, # tblCHL_REP\n",
    "                             0.25,  # tblPisces_NRT\n",
    "                             0.25,  # tblPisces_NRT\n",
    "                             0.125  # tblSSS_NRT\n",
    "                             ],\n",
    "                depthTolerance=[\n",
    "                               0, # tblCHL_REP\n",
    "                               5, # tblPisces_NRT  \n",
    "                               5, # tblPisces_NRT  \n",
    "                               0 # tblSSS_NRT  \n",
    "                               ],\n",
    "                method='spearman', \n",
    "                exportDataFlag=False, \n",
    "                show=True\n",
    "                )"
   ]
  },
  {
   "cell_type": "code",
   "execution_count": null,
   "metadata": {},
   "outputs": [],
   "source": [
    "from pycmap.viz import plot_corr_map\n",
    "\n",
    "# AMT13 cruise\n",
    "go = plot_corr_map(\n",
    "                sourceTable='tblAMT13_Chisholm', \n",
    "                sourceVar='MIT9313PCR_Chisholm',\n",
    "                targetTables=[\n",
    "                             'tblAMT13_Chisholm', \n",
    "                             'tblAMT13_Chisholm', \n",
    "                             'tblAMT13_Chisholm', \n",
    "                             'tblAMT13_Chisholm', \n",
    "                             'tblAMT13_Chisholm', \n",
    "                             'tblAMT13_Chisholm', \n",
    "                             'tblAMT13_Chisholm', \n",
    "                             'tblAMT13_Chisholm', \n",
    "                             'tblAMT13_Chisholm', \n",
    "                             'tblWOA_Climatology', \n",
    "                             'tblWOA_Climatology', \n",
    "                             'tblWOA_Climatology'\n",
    "                             ], \n",
    "                targetVars=[\n",
    "                           'TQPCR_MED4_MIT9312_MIT9211_NATL2A_SS120_MIT9313_Chisholm', \n",
    "                           'MIT9312PCR_Chisholm', \n",
    "                           'MED4PCR_Chisholm', \n",
    "                           'NATL2APCR_Chisholm', \n",
    "                           'SS120PCR_Chisholm', \n",
    "                           'sbact_Chisholm', \n",
    "                           'temp_C_AMT13', \n",
    "                           'Light_Quanta_m2_sec_AMT13', \n",
    "                           'chlA_AMT13', \n",
    "                           'nitrate_WOA_clim', \n",
    "                           'phosphate_WOA_clim', \n",
    "                           'silicate_WOA_clim'\n",
    "                           ], \n",
    "                dt1='2003-09-14', \n",
    "                dt2='2003-10-12', \n",
    "                lat1=-48, \n",
    "                lat2=48, \n",
    "                lon1=-52, \n",
    "                lon2=-11, \n",
    "                depth1=0, \n",
    "                depth2=240, \n",
    "                temporalTolerance=[\n",
    "                                  0,\n",
    "                                  0,\n",
    "                                  0,\n",
    "                                  0,\n",
    "                                  0,\n",
    "                                  0,\n",
    "                                  0,\n",
    "                                  0,\n",
    "                                  0,\n",
    "                                  0,\n",
    "                                  0,\n",
    "                                  0  \n",
    "                                  ],\n",
    "                latTolerance=[\n",
    "                             0, \n",
    "                             0,  \n",
    "                             0,  \n",
    "                             0,\n",
    "                             0, \n",
    "                             0,  \n",
    "                             0,  \n",
    "                             0,\n",
    "                             0,   \n",
    "                             0.5,   \n",
    "                             0.5,   \n",
    "                             0.5   \n",
    "                             ],\n",
    "                lonTolerance=[\n",
    "                             0, \n",
    "                             0,  \n",
    "                             0,  \n",
    "                             0,\n",
    "                             0,\n",
    "                             0, \n",
    "                             0, \n",
    "                             0,\n",
    "                             0,   \n",
    "                             0.5,   \n",
    "                             0.5,   \n",
    "                             0.5   \n",
    "                             ],\n",
    "                depthTolerance=[\n",
    "                               0,\n",
    "                               0,\n",
    "                               0,\n",
    "                               0,\n",
    "                               0,\n",
    "                               0,\n",
    "                               0,\n",
    "                               0,\n",
    "                               0,\n",
    "                               5, \n",
    "                               5, \n",
    "                               5 \n",
    "                               ],\n",
    "                method='spearman', \n",
    "                exportDataFlag=True, \n",
    "                show=True\n",
    "                )"
   ]
  },
  {
   "cell_type": "code",
   "execution_count": null,
   "metadata": {},
   "outputs": [],
   "source": [
    "# print correlation values\n",
    "# print(go.z)\n",
    "# print(go.x)\n",
    "# print(go.y)\n",
    "import numpy as np\n",
    "\n",
    "go.z = np.abs(go.z)\n",
    "go.cmap = 'Greys'\n",
    "go.width = 1000\n",
    "go.height = 1000\n",
    "go.render()"
   ]
  },
  {
   "cell_type": "markdown",
   "metadata": {},
   "source": [
    "# Correlation Map (along Cruise Track)"
   ]
  },
  {
   "cell_type": "code",
   "execution_count": 8,
   "metadata": {},
   "outputs": [
    {
     "data": {
      "application/vnd.jupyter.widget-view+json": {
       "model_id": "535584a9e677405e9cfd67c3e91cf712",
       "version_major": 2,
       "version_minor": 0
      },
      "text/plain": [
       "HBox(children=(IntProgress(value=0, description='overall', max=14, style=ProgressStyle(description_width='init…"
      ]
     },
     "metadata": {},
     "output_type": "display_data"
    },
    {
     "name": "stdout",
     "output_type": "stream",
     "text": [
      "\n",
      "1: synecho_abundance matched.\n",
      "\n",
      "2: picoeuk_abundance matched.\n",
      "\n",
      "3: prochloro_abundance matched.\n",
      "\n",
      "4: sst matched.\n",
      "\n",
      "5: sss matched.\n",
      "\n",
      "6: chl matched.\n",
      "\n",
      "7: NO3 matched.\n",
      "\n",
      "8: Fe matched.\n",
      "\n",
      "9: O2 matched.\n",
      "\n",
      "10: PO4 matched.\n",
      "\n",
      "11: density_WOA_clim matched.\n",
      "\n",
      "12: nitrate_WOA_clim matched.\n",
      "\n",
      "13: phosphate_WOA_clim matched.\n",
      "\n",
      "14: silicate_WOA_clim matched.\n",
      "\n"
     ]
    },
    {
     "data": {
      "text/html": [
       "        <script type=\"text/javascript\">\n",
       "        window.PlotlyConfig = {MathJaxConfig: 'local'};\n",
       "        if (window.MathJax) {MathJax.Hub.Config({SVG: {font: \"STIX-Web\"}});}\n",
       "        if (typeof require !== 'undefined') {\n",
       "        require.undef(\"plotly\");\n",
       "        requirejs.config({\n",
       "            paths: {\n",
       "                'plotly': ['https://cdn.plot.ly/plotly-latest.min']\n",
       "            }\n",
       "        });\n",
       "        require(['plotly'], function(Plotly) {\n",
       "            window._Plotly = Plotly;\n",
       "        });\n",
       "        }\n",
       "        </script>\n",
       "        "
      ]
     },
     "metadata": {},
     "output_type": "display_data"
    },
    {
     "data": {
      "application/vnd.plotly.v1+json": {
       "config": {
        "editable": false,
        "linkText": "Export to plot.ly",
        "plotlyServerURL": "https://plot.ly",
        "showLink": true,
        "staticPlot": false
       },
       "data": [
        {
         "colorscale": [
          [
           0,
           "rgb(58, 76, 192)"
          ],
          [
           0.003937007874015748,
           "rgb(59, 77, 193)"
          ],
          [
           0.007874015748031496,
           "rgb(60, 79, 195)"
          ],
          [
           0.011811023622047244,
           "rgb(62, 81, 196)"
          ],
          [
           0.015748031496062992,
           "rgb(63, 83, 198)"
          ],
          [
           0.01968503937007874,
           "rgb(64, 84, 199)"
          ],
          [
           0.023622047244094488,
           "rgb(65, 86, 201)"
          ],
          [
           0.027559055118110236,
           "rgb(66, 88, 202)"
          ],
          [
           0.031496062992125984,
           "rgb(67, 90, 204)"
          ],
          [
           0.03543307086614173,
           "rgb(69, 91, 205)"
          ],
          [
           0.03937007874015748,
           "rgb(70, 93, 207)"
          ],
          [
           0.04330708661417323,
           "rgb(71, 95, 208)"
          ],
          [
           0.047244094488188976,
           "rgb(72, 96, 209)"
          ],
          [
           0.051181102362204724,
           "rgb(73, 98, 211)"
          ],
          [
           0.05511811023622047,
           "rgb(75, 100, 212)"
          ],
          [
           0.05905511811023622,
           "rgb(76, 102, 214)"
          ],
          [
           0.06299212598425197,
           "rgb(77, 103, 215)"
          ],
          [
           0.06692913385826771,
           "rgb(78, 105, 216)"
          ],
          [
           0.07086614173228346,
           "rgb(80, 107, 218)"
          ],
          [
           0.07480314960629922,
           "rgb(81, 108, 219)"
          ],
          [
           0.07874015748031496,
           "rgb(82, 110, 220)"
          ],
          [
           0.0826771653543307,
           "rgb(83, 112, 221)"
          ],
          [
           0.08661417322834646,
           "rgb(85, 113, 222)"
          ],
          [
           0.09055118110236221,
           "rgb(86, 115, 224)"
          ],
          [
           0.09448818897637795,
           "rgb(87, 117, 225)"
          ],
          [
           0.09842519685039369,
           "rgb(88, 118, 226)"
          ],
          [
           0.10236220472440945,
           "rgb(90, 120, 227)"
          ],
          [
           0.1062992125984252,
           "rgb(91, 121, 228)"
          ],
          [
           0.11023622047244094,
           "rgb(92, 123, 229)"
          ],
          [
           0.11417322834645668,
           "rgb(93, 125, 230)"
          ],
          [
           0.11811023622047244,
           "rgb(95, 126, 231)"
          ],
          [
           0.1220472440944882,
           "rgb(96, 128, 232)"
          ],
          [
           0.12598425196850394,
           "rgb(97, 130, 234)"
          ],
          [
           0.12992125984251968,
           "rgb(99, 131, 234)"
          ],
          [
           0.13385826771653542,
           "rgb(100, 133, 235)"
          ],
          [
           0.1377952755905512,
           "rgb(101, 134, 236)"
          ],
          [
           0.14173228346456693,
           "rgb(103, 136, 237)"
          ],
          [
           0.14566929133858267,
           "rgb(104, 137, 238)"
          ],
          [
           0.14960629921259844,
           "rgb(105, 139, 239)"
          ],
          [
           0.15354330708661418,
           "rgb(107, 141, 240)"
          ],
          [
           0.15748031496062992,
           "rgb(108, 142, 241)"
          ],
          [
           0.16141732283464566,
           "rgb(109, 144, 241)"
          ],
          [
           0.1653543307086614,
           "rgb(111, 145, 242)"
          ],
          [
           0.16929133858267717,
           "rgb(112, 147, 243)"
          ],
          [
           0.1732283464566929,
           "rgb(113, 148, 244)"
          ],
          [
           0.17716535433070865,
           "rgb(115, 149, 244)"
          ],
          [
           0.18110236220472442,
           "rgb(116, 151, 245)"
          ],
          [
           0.18503937007874016,
           "rgb(117, 152, 246)"
          ],
          [
           0.1889763779527559,
           "rgb(119, 154, 246)"
          ],
          [
           0.19291338582677164,
           "rgb(120, 155, 247)"
          ],
          [
           0.19685039370078738,
           "rgb(122, 157, 248)"
          ],
          [
           0.20078740157480315,
           "rgb(123, 158, 248)"
          ],
          [
           0.2047244094488189,
           "rgb(124, 160, 249)"
          ],
          [
           0.20866141732283464,
           "rgb(126, 161, 249)"
          ],
          [
           0.2125984251968504,
           "rgb(127, 162, 250)"
          ],
          [
           0.21653543307086615,
           "rgb(128, 164, 250)"
          ],
          [
           0.2204724409448819,
           "rgb(130, 165, 251)"
          ],
          [
           0.22440944881889763,
           "rgb(131, 166, 251)"
          ],
          [
           0.22834645669291337,
           "rgb(133, 168, 251)"
          ],
          [
           0.23228346456692914,
           "rgb(134, 169, 252)"
          ],
          [
           0.23622047244094488,
           "rgb(135, 170, 252)"
          ],
          [
           0.24015748031496062,
           "rgb(137, 172, 252)"
          ],
          [
           0.2440944881889764,
           "rgb(138, 173, 253)"
          ],
          [
           0.24803149606299213,
           "rgb(139, 174, 253)"
          ],
          [
           0.25196850393700787,
           "rgb(141, 175, 253)"
          ],
          [
           0.2559055118110236,
           "rgb(142, 177, 253)"
          ],
          [
           0.25984251968503935,
           "rgb(144, 178, 254)"
          ],
          [
           0.2637795275590551,
           "rgb(145, 179, 254)"
          ],
          [
           0.26771653543307083,
           "rgb(146, 180, 254)"
          ],
          [
           0.27165354330708663,
           "rgb(148, 181, 254)"
          ],
          [
           0.2755905511811024,
           "rgb(149, 183, 254)"
          ],
          [
           0.2795275590551181,
           "rgb(151, 184, 254)"
          ],
          [
           0.28346456692913385,
           "rgb(152, 185, 254)"
          ],
          [
           0.2874015748031496,
           "rgb(153, 186, 254)"
          ],
          [
           0.29133858267716534,
           "rgb(155, 187, 254)"
          ],
          [
           0.2952755905511811,
           "rgb(156, 188, 254)"
          ],
          [
           0.2992125984251969,
           "rgb(157, 189, 254)"
          ],
          [
           0.3031496062992126,
           "rgb(159, 190, 254)"
          ],
          [
           0.30708661417322836,
           "rgb(160, 191, 254)"
          ],
          [
           0.3110236220472441,
           "rgb(162, 192, 254)"
          ],
          [
           0.31496062992125984,
           "rgb(163, 193, 254)"
          ],
          [
           0.3188976377952756,
           "rgb(164, 194, 254)"
          ],
          [
           0.3228346456692913,
           "rgb(166, 195, 253)"
          ],
          [
           0.32677165354330706,
           "rgb(167, 196, 253)"
          ],
          [
           0.3307086614173228,
           "rgb(168, 197, 253)"
          ],
          [
           0.3346456692913386,
           "rgb(170, 198, 253)"
          ],
          [
           0.33858267716535434,
           "rgb(171, 199, 252)"
          ],
          [
           0.3425196850393701,
           "rgb(172, 200, 252)"
          ],
          [
           0.3464566929133858,
           "rgb(174, 201, 252)"
          ],
          [
           0.35039370078740156,
           "rgb(175, 202, 251)"
          ],
          [
           0.3543307086614173,
           "rgb(176, 203, 251)"
          ],
          [
           0.35826771653543305,
           "rgb(178, 203, 251)"
          ],
          [
           0.36220472440944884,
           "rgb(179, 204, 250)"
          ],
          [
           0.3661417322834646,
           "rgb(180, 205, 250)"
          ],
          [
           0.3700787401574803,
           "rgb(182, 206, 249)"
          ],
          [
           0.37401574803149606,
           "rgb(183, 207, 249)"
          ],
          [
           0.3779527559055118,
           "rgb(184, 207, 248)"
          ],
          [
           0.38188976377952755,
           "rgb(185, 208, 248)"
          ],
          [
           0.3858267716535433,
           "rgb(187, 209, 247)"
          ],
          [
           0.38976377952755903,
           "rgb(188, 209, 246)"
          ],
          [
           0.39370078740157477,
           "rgb(189, 210, 246)"
          ],
          [
           0.39763779527559057,
           "rgb(190, 211, 245)"
          ],
          [
           0.4015748031496063,
           "rgb(192, 211, 245)"
          ],
          [
           0.40551181102362205,
           "rgb(193, 212, 244)"
          ],
          [
           0.4094488188976378,
           "rgb(194, 212, 243)"
          ],
          [
           0.41338582677165353,
           "rgb(195, 213, 242)"
          ],
          [
           0.41732283464566927,
           "rgb(197, 213, 242)"
          ],
          [
           0.421259842519685,
           "rgb(198, 214, 241)"
          ],
          [
           0.4251968503937008,
           "rgb(199, 214, 240)"
          ],
          [
           0.42913385826771655,
           "rgb(200, 215, 239)"
          ],
          [
           0.4330708661417323,
           "rgb(201, 215, 238)"
          ],
          [
           0.43700787401574803,
           "rgb(202, 216, 238)"
          ],
          [
           0.4409448818897638,
           "rgb(204, 216, 237)"
          ],
          [
           0.4448818897637795,
           "rgb(205, 217, 236)"
          ],
          [
           0.44881889763779526,
           "rgb(206, 217, 235)"
          ],
          [
           0.452755905511811,
           "rgb(207, 217, 234)"
          ],
          [
           0.45669291338582674,
           "rgb(208, 218, 233)"
          ],
          [
           0.46062992125984253,
           "rgb(209, 218, 232)"
          ],
          [
           0.4645669291338583,
           "rgb(210, 218, 231)"
          ],
          [
           0.468503937007874,
           "rgb(211, 219, 230)"
          ],
          [
           0.47244094488188976,
           "rgb(213, 219, 229)"
          ],
          [
           0.4763779527559055,
           "rgb(214, 219, 228)"
          ],
          [
           0.48031496062992124,
           "rgb(215, 219, 226)"
          ],
          [
           0.484251968503937,
           "rgb(216, 219, 225)"
          ],
          [
           0.4881889763779528,
           "rgb(217, 220, 224)"
          ],
          [
           0.4921259842519685,
           "rgb(218, 220, 223)"
          ],
          [
           0.49606299212598426,
           "rgb(219, 220, 222)"
          ],
          [
           0.5,
           "rgb(221, 220, 219)"
          ],
          [
           0.5039370078740157,
           "rgb(222, 219, 218)"
          ],
          [
           0.5078740157480315,
           "rgb(223, 219, 217)"
          ],
          [
           0.5118110236220472,
           "rgb(224, 218, 215)"
          ],
          [
           0.515748031496063,
           "rgb(225, 218, 214)"
          ],
          [
           0.5196850393700787,
           "rgb(226, 217, 212)"
          ],
          [
           0.5236220472440944,
           "rgb(227, 217, 211)"
          ],
          [
           0.5275590551181102,
           "rgb(228, 216, 209)"
          ],
          [
           0.5314960629921259,
           "rgb(229, 216, 208)"
          ],
          [
           0.5354330708661417,
           "rgb(230, 215, 207)"
          ],
          [
           0.5393700787401575,
           "rgb(231, 214, 205)"
          ],
          [
           0.5433070866141733,
           "rgb(231, 214, 204)"
          ],
          [
           0.547244094488189,
           "rgb(232, 213, 202)"
          ],
          [
           0.5511811023622047,
           "rgb(233, 212, 201)"
          ],
          [
           0.5551181102362205,
           "rgb(234, 211, 199)"
          ],
          [
           0.5590551181102362,
           "rgb(235, 211, 198)"
          ],
          [
           0.562992125984252,
           "rgb(236, 210, 196)"
          ],
          [
           0.5669291338582677,
           "rgb(236, 209, 195)"
          ],
          [
           0.5708661417322834,
           "rgb(237, 208, 193)"
          ],
          [
           0.5748031496062992,
           "rgb(237, 207, 192)"
          ],
          [
           0.5787401574803149,
           "rgb(238, 207, 190)"
          ],
          [
           0.5826771653543307,
           "rgb(239, 206, 188)"
          ],
          [
           0.5866141732283464,
           "rgb(239, 205, 187)"
          ],
          [
           0.5905511811023622,
           "rgb(240, 204, 185)"
          ],
          [
           0.5944881889763779,
           "rgb(241, 203, 184)"
          ],
          [
           0.5984251968503937,
           "rgb(241, 202, 182)"
          ],
          [
           0.6023622047244095,
           "rgb(242, 201, 181)"
          ],
          [
           0.6062992125984252,
           "rgb(242, 200, 179)"
          ],
          [
           0.610236220472441,
           "rgb(242, 199, 178)"
          ],
          [
           0.6141732283464567,
           "rgb(243, 198, 176)"
          ],
          [
           0.6181102362204725,
           "rgb(243, 197, 175)"
          ],
          [
           0.6220472440944882,
           "rgb(244, 196, 173)"
          ],
          [
           0.6259842519685039,
           "rgb(244, 195, 171)"
          ],
          [
           0.6299212598425197,
           "rgb(244, 194, 170)"
          ],
          [
           0.6338582677165354,
           "rgb(245, 193, 168)"
          ],
          [
           0.6377952755905512,
           "rgb(245, 192, 167)"
          ],
          [
           0.6417322834645669,
           "rgb(245, 191, 165)"
          ],
          [
           0.6456692913385826,
           "rgb(246, 189, 164)"
          ],
          [
           0.6496062992125984,
           "rgb(246, 188, 162)"
          ],
          [
           0.6535433070866141,
           "rgb(246, 187, 160)"
          ],
          [
           0.6574803149606299,
           "rgb(246, 186, 159)"
          ],
          [
           0.6614173228346456,
           "rgb(246, 185, 157)"
          ],
          [
           0.6653543307086615,
           "rgb(246, 183, 156)"
          ],
          [
           0.6692913385826772,
           "rgb(246, 182, 154)"
          ],
          [
           0.6732283464566929,
           "rgb(247, 181, 152)"
          ],
          [
           0.6771653543307087,
           "rgb(247, 179, 151)"
          ],
          [
           0.6811023622047244,
           "rgb(247, 178, 149)"
          ],
          [
           0.6850393700787402,
           "rgb(247, 177, 148)"
          ],
          [
           0.6889763779527559,
           "rgb(247, 176, 146)"
          ],
          [
           0.6929133858267716,
           "rgb(247, 174, 145)"
          ],
          [
           0.6968503937007874,
           "rgb(247, 173, 143)"
          ],
          [
           0.7007874015748031,
           "rgb(246, 171, 141)"
          ],
          [
           0.7047244094488189,
           "rgb(246, 170, 140)"
          ],
          [
           0.7086614173228346,
           "rgb(246, 169, 138)"
          ],
          [
           0.7125984251968503,
           "rgb(246, 167, 137)"
          ],
          [
           0.7165354330708661,
           "rgb(246, 166, 135)"
          ],
          [
           0.7204724409448818,
           "rgb(246, 164, 134)"
          ],
          [
           0.7244094488188977,
           "rgb(246, 163, 132)"
          ],
          [
           0.7283464566929134,
           "rgb(245, 161, 130)"
          ],
          [
           0.7322834645669292,
           "rgb(245, 160, 129)"
          ],
          [
           0.7362204724409449,
           "rgb(245, 158, 127)"
          ],
          [
           0.7401574803149606,
           "rgb(244, 157, 126)"
          ],
          [
           0.7440944881889764,
           "rgb(244, 155, 124)"
          ],
          [
           0.7480314960629921,
           "rgb(244, 154, 123)"
          ],
          [
           0.7519685039370079,
           "rgb(243, 152, 121)"
          ],
          [
           0.7559055118110236,
           "rgb(243, 150, 120)"
          ],
          [
           0.7598425196850394,
           "rgb(243, 149, 118)"
          ],
          [
           0.7637795275590551,
           "rgb(242, 147, 117)"
          ],
          [
           0.7677165354330708,
           "rgb(242, 145, 115)"
          ],
          [
           0.7716535433070866,
           "rgb(241, 144, 114)"
          ],
          [
           0.7755905511811023,
           "rgb(241, 142, 112)"
          ],
          [
           0.7795275590551181,
           "rgb(240, 141, 111)"
          ],
          [
           0.7834645669291338,
           "rgb(240, 139, 109)"
          ],
          [
           0.7874015748031495,
           "rgb(239, 137, 108)"
          ],
          [
           0.7913385826771654,
           "rgb(238, 135, 106)"
          ],
          [
           0.7952755905511811,
           "rgb(238, 134, 105)"
          ],
          [
           0.7992125984251969,
           "rgb(237, 132, 103)"
          ],
          [
           0.8031496062992126,
           "rgb(236, 130, 102)"
          ],
          [
           0.8070866141732284,
           "rgb(236, 128, 100)"
          ],
          [
           0.8110236220472441,
           "rgb(235, 127, 99)"
          ],
          [
           0.8149606299212598,
           "rgb(234, 125, 97)"
          ],
          [
           0.8188976377952756,
           "rgb(234, 123, 96)"
          ],
          [
           0.8228346456692913,
           "rgb(233, 121, 94)"
          ],
          [
           0.8267716535433071,
           "rgb(232, 119, 93)"
          ],
          [
           0.8307086614173228,
           "rgb(231, 117, 92)"
          ],
          [
           0.8346456692913385,
           "rgb(230, 116, 90)"
          ],
          [
           0.8385826771653543,
           "rgb(230, 114, 89)"
          ],
          [
           0.84251968503937,
           "rgb(229, 112, 87)"
          ],
          [
           0.8464566929133858,
           "rgb(228, 110, 86)"
          ],
          [
           0.8503937007874016,
           "rgb(227, 108, 84)"
          ],
          [
           0.8543307086614174,
           "rgb(226, 106, 83)"
          ],
          [
           0.8582677165354331,
           "rgb(225, 104, 82)"
          ],
          [
           0.8622047244094488,
           "rgb(224, 102, 80)"
          ],
          [
           0.8661417322834646,
           "rgb(223, 100, 79)"
          ],
          [
           0.8700787401574803,
           "rgb(222, 98, 78)"
          ],
          [
           0.8740157480314961,
           "rgb(221, 96, 76)"
          ],
          [
           0.8779527559055118,
           "rgb(220, 94, 75)"
          ],
          [
           0.8818897637795275,
           "rgb(219, 92, 74)"
          ],
          [
           0.8858267716535433,
           "rgb(218, 90, 72)"
          ],
          [
           0.889763779527559,
           "rgb(217, 88, 71)"
          ],
          [
           0.8937007874015748,
           "rgb(216, 86, 70)"
          ],
          [
           0.8976377952755905,
           "rgb(215, 84, 68)"
          ],
          [
           0.9015748031496063,
           "rgb(214, 82, 67)"
          ],
          [
           0.905511811023622,
           "rgb(212, 79, 66)"
          ],
          [
           0.9094488188976377,
           "rgb(211, 77, 64)"
          ],
          [
           0.9133858267716535,
           "rgb(210, 75, 63)"
          ],
          [
           0.9173228346456693,
           "rgb(209, 73, 62)"
          ],
          [
           0.9212598425196851,
           "rgb(207, 70, 61)"
          ],
          [
           0.9251968503937008,
           "rgb(206, 68, 60)"
          ],
          [
           0.9291338582677166,
           "rgb(205, 66, 58)"
          ],
          [
           0.9330708661417323,
           "rgb(204, 63, 57)"
          ],
          [
           0.937007874015748,
           "rgb(202, 61, 56)"
          ],
          [
           0.9409448818897638,
           "rgb(201, 59, 55)"
          ],
          [
           0.9448818897637795,
           "rgb(200, 56, 53)"
          ],
          [
           0.9488188976377953,
           "rgb(198, 53, 52)"
          ],
          [
           0.952755905511811,
           "rgb(197, 50, 51)"
          ],
          [
           0.9566929133858267,
           "rgb(196, 48, 50)"
          ],
          [
           0.9606299212598425,
           "rgb(194, 45, 49)"
          ],
          [
           0.9645669291338582,
           "rgb(193, 42, 48)"
          ],
          [
           0.968503937007874,
           "rgb(191, 40, 46)"
          ],
          [
           0.9724409448818897,
           "rgb(190, 35, 45)"
          ],
          [
           0.9763779527559056,
           "rgb(188, 31, 44)"
          ],
          [
           0.9803149606299213,
           "rgb(187, 26, 43)"
          ],
          [
           0.984251968503937,
           "rgb(185, 22, 42)"
          ],
          [
           0.9881889763779528,
           "rgb(184, 17, 41)"
          ],
          [
           0.9921259842519685,
           "rgb(182, 13, 40)"
          ],
          [
           0.9960629921259843,
           "rgb(181, 8, 39)"
          ],
          [
           1,
           "rgb(179, 3, 38)"
          ]
         ],
         "reversescale": false,
         "showscale": false,
         "type": "heatmap",
         "uid": "6faee11b-aae1-4b26-b13f-bdc398c0c584",
         "x": [
          "lat",
          "lon",
          "synecho_abundance",
          "picoeuk_abundance",
          "prochloro_abundance",
          "sst",
          "sss",
          "chl",
          "NO3",
          "Fe",
          "O2",
          "PO4",
          "density_WOA_clim",
          "nitrate_WOA_clim",
          "phosphate_WOA_clim",
          "silicate_WOA_clim"
         ],
         "y": [
          "lat",
          "lon",
          "synecho_abundance",
          "picoeuk_abundance",
          "prochloro_abundance",
          "sst",
          "sss",
          "chl",
          "NO3",
          "Fe",
          "O2",
          "PO4",
          "density_WOA_clim",
          "nitrate_WOA_clim",
          "phosphate_WOA_clim",
          "silicate_WOA_clim"
         ],
         "z": [
          [
           1,
           -0.029948480752416195,
           0.6575024577933616,
           0.8627956785586931,
           -0.8541240367696602,
           -0.9967461366499616,
           -0.9434814597661622,
           0.7949422479960567,
           0.9886421268385382,
           -0.45336085518970326,
           0.9971691171381422,
           0.8380923433883654,
           0.9308436658328566,
           0.6637160256360667,
           0.8194107206386306,
           0.2674373928441265
          ],
          [
           -0.029948480752416195,
           1,
           -0.0952251797713271,
           -0.08156197702066698,
           -0.06198971561708549,
           0.03605483096587718,
           -0.10774164325233063,
           -0.04395328443990521,
           -0.07001781148604423,
           0.1280215656371088,
           -0.032045687414871335,
           0.04447873885675151,
           0.08850606712363313,
           0.09332516279268616,
           -0.010493214696006345,
           -0.15232896096885004
          ],
          [
           0.6575024577933616,
           -0.0952251797713271,
           1,
           0.5774560299617608,
           -0.553692074953757,
           -0.6587441899062799,
           -0.6069461007636489,
           0.39126370161831614,
           0.658821436901263,
           -0.6388007459355262,
           0.6586036626483154,
           0.5725958219401904,
           0.5147124431194343,
           0.10889899367222299,
           0.361951194315589,
           0.48917157625764773
          ],
          [
           0.8627956785586931,
           -0.08156197702066698,
           0.5774560299617608,
           1,
           -0.8065627584841041,
           -0.8750340267038327,
           -0.8187394171413565,
           0.7529963969278314,
           0.8702478986792219,
           -0.1842763687677957,
           0.8704763696016458,
           0.7733705858819389,
           0.8609710269799273,
           0.6265118912495253,
           0.8186427347622753,
           0.1401663852062077
          ],
          [
           -0.8541240367696602,
           -0.06198971561708549,
           -0.553692074953757,
           -0.8065627584841041,
           1,
           0.8623286391030975,
           0.8895998073744454,
           -0.6361983234682761,
           -0.857182513064632,
           0.09077075891667206,
           -0.8560035169580026,
           -0.8843662460646412,
           -0.7988644820366344,
           -0.5288029938973862,
           -0.7770975181133706,
           -0.0056318067778219245
          ],
          [
           -0.9967461366499616,
           0.03605483096587718,
           -0.6587441899062799,
           -0.8750340267038327,
           0.8623286391030975,
           1,
           0.9383135807032484,
           -0.7914516090534259,
           -0.9884371935379379,
           0.4552641040992945,
           -0.9957925439409168,
           -0.8374190567694866,
           -0.9302425462983689,
           -0.6594634282409136,
           -0.8207143452254163,
           -0.2647055142890789
          ],
          [
           -0.9434814597661622,
           -0.10774164325233063,
           -0.6069461007636489,
           -0.8187394171413565,
           0.8895998073744454,
           0.9383135807032484,
           1,
           -0.7047559208317474,
           -0.9449954933726433,
           0.2473910180486539,
           -0.9395489084348503,
           -0.942321031523528,
           -0.8664039402483181,
           -0.5022923153130672,
           -0.8015518336163188,
           -0.13522030868278434
          ],
          [
           0.7949422479960567,
           -0.04395328443990521,
           0.39126370161831614,
           0.7529963969278314,
           -0.6361983234682761,
           -0.7914516090534259,
           -0.7047559208317474,
           1,
           0.7931876813563979,
           0.06212360980121913,
           0.7950155141284387,
           0.6539744910017589,
           0.7950330074254135,
           0.780952178539588,
           0.7885730914668045,
           -0.03558205236643087
          ],
          [
           0.9886421268385382,
           -0.07001781148604423,
           0.658821436901263,
           0.8702478986792219,
           -0.857182513064632,
           -0.9884371935379379,
           -0.9449954933726433,
           0.7931876813563979,
           1,
           -0.4435398990959123,
           0.9895221913962116,
           0.851326755642264,
           0.9249989825751611,
           0.6454447596434243,
           0.8279025027755257,
           0.26712569899975047
          ],
          [
           -0.45336085518970326,
           0.1280215656371088,
           -0.6388007459355262,
           -0.1842763687677957,
           0.09077075891667206,
           0.4552641040992945,
           0.2473910180486539,
           0.06212360980121913,
           -0.4435398990959123,
           1,
           -0.45255930634557506,
           -0.1668513977592777,
           -0.3057448699969626,
           0.18118941071488312,
           -0.022630144134379717,
           -0.8887799556467092
          ],
          [
           0.9971691171381422,
           -0.032045687414871335,
           0.6586036626483154,
           0.8704763696016458,
           -0.8560035169580026,
           -0.9957925439409168,
           -0.9395489084348503,
           0.7950155141284387,
           0.9895221913962116,
           -0.45255930634557506,
           1,
           0.8398851590458113,
           0.9407135691500198,
           0.6613426509994653,
           0.8335133054929124,
           0.2710829895412171
          ],
          [
           0.8380923433883654,
           0.04447873885675151,
           0.5725958219401904,
           0.7733705858819389,
           -0.8843662460646412,
           -0.8374190567694866,
           -0.942321031523528,
           0.6539744910017589,
           0.851326755642264,
           -0.1668513977592777,
           0.8398851590458113,
           1,
           0.7812807382335347,
           0.46631543789196717,
           0.7781158198183568,
           -0.03505094916231781
          ],
          [
           0.9308436658328566,
           0.08850606712363313,
           0.5147124431194343,
           0.8609710269799273,
           -0.7988644820366344,
           -0.9302425462983689,
           -0.8664039402483181,
           0.7950330074254135,
           0.9249989825751611,
           -0.3057448699969626,
           0.9407135691500198,
           0.7812807382335347,
           1,
           0.6715066103157546,
           0.9148461365702676,
           0.3005544127530783
          ],
          [
           0.6637160256360667,
           0.09332516279268616,
           0.10889899367222299,
           0.6265118912495253,
           -0.5288029938973862,
           -0.6594634282409136,
           -0.5022923153130672,
           0.780952178539588,
           0.6454447596434243,
           0.18118941071488312,
           0.6613426509994653,
           0.46631543789196717,
           0.6715066103157546,
           1,
           0.6714348576600919,
           -0.10957924442465525
          ],
          [
           0.8194107206386306,
           -0.010493214696006345,
           0.361951194315589,
           0.8186427347622753,
           -0.7770975181133706,
           -0.8207143452254163,
           -0.8015518336163188,
           0.7885730914668045,
           0.8279025027755257,
           -0.022630144134379717,
           0.8335133054929124,
           0.7781158198183568,
           0.9148461365702676,
           0.6714348576600919,
           1,
           0.027482057489206253
          ],
          [
           0.2674373928441265,
           -0.15232896096885004,
           0.48917157625764773,
           0.1401663852062077,
           -0.0056318067778219245,
           -0.2647055142890789,
           -0.13522030868278434,
           -0.03558205236643087,
           0.26712569899975047,
           -0.8887799556467092,
           0.2710829895412171,
           -0.03505094916231781,
           0.3005544127530783,
           -0.10957924442465525,
           0.027482057489206253,
           1
          ]
         ],
         "zmax": 1,
         "zmin": -1
        }
       ],
       "layout": {
        "annotations": [
         {
          "font": {
           "color": "#FFFFFF"
          },
          "showarrow": false,
          "text": "1.0",
          "x": "lat",
          "xref": "x",
          "y": "lat",
          "yref": "y"
         },
         {
          "font": {
           "color": "#FFFFFF"
          },
          "showarrow": false,
          "text": "-0.03",
          "x": "lon",
          "xref": "x",
          "y": "lat",
          "yref": "y"
         },
         {
          "font": {
           "color": "#FFFFFF"
          },
          "showarrow": false,
          "text": "0.66",
          "x": "synecho_abundance",
          "xref": "x",
          "y": "lat",
          "yref": "y"
         },
         {
          "font": {
           "color": "#FFFFFF"
          },
          "showarrow": false,
          "text": "0.86",
          "x": "picoeuk_abundance",
          "xref": "x",
          "y": "lat",
          "yref": "y"
         },
         {
          "font": {
           "color": "#FFFFFF"
          },
          "showarrow": false,
          "text": "-0.85",
          "x": "prochloro_abundance",
          "xref": "x",
          "y": "lat",
          "yref": "y"
         },
         {
          "font": {
           "color": "#FFFFFF"
          },
          "showarrow": false,
          "text": "-1.0",
          "x": "sst",
          "xref": "x",
          "y": "lat",
          "yref": "y"
         },
         {
          "font": {
           "color": "#FFFFFF"
          },
          "showarrow": false,
          "text": "-0.94",
          "x": "sss",
          "xref": "x",
          "y": "lat",
          "yref": "y"
         },
         {
          "font": {
           "color": "#FFFFFF"
          },
          "showarrow": false,
          "text": "0.79",
          "x": "chl",
          "xref": "x",
          "y": "lat",
          "yref": "y"
         },
         {
          "font": {
           "color": "#FFFFFF"
          },
          "showarrow": false,
          "text": "0.99",
          "x": "NO3",
          "xref": "x",
          "y": "lat",
          "yref": "y"
         },
         {
          "font": {
           "color": "#FFFFFF"
          },
          "showarrow": false,
          "text": "-0.45",
          "x": "Fe",
          "xref": "x",
          "y": "lat",
          "yref": "y"
         },
         {
          "font": {
           "color": "#FFFFFF"
          },
          "showarrow": false,
          "text": "1.0",
          "x": "O2",
          "xref": "x",
          "y": "lat",
          "yref": "y"
         },
         {
          "font": {
           "color": "#FFFFFF"
          },
          "showarrow": false,
          "text": "0.84",
          "x": "PO4",
          "xref": "x",
          "y": "lat",
          "yref": "y"
         },
         {
          "font": {
           "color": "#FFFFFF"
          },
          "showarrow": false,
          "text": "0.93",
          "x": "density_WOA_clim",
          "xref": "x",
          "y": "lat",
          "yref": "y"
         },
         {
          "font": {
           "color": "#FFFFFF"
          },
          "showarrow": false,
          "text": "0.66",
          "x": "nitrate_WOA_clim",
          "xref": "x",
          "y": "lat",
          "yref": "y"
         },
         {
          "font": {
           "color": "#FFFFFF"
          },
          "showarrow": false,
          "text": "0.82",
          "x": "phosphate_WOA_clim",
          "xref": "x",
          "y": "lat",
          "yref": "y"
         },
         {
          "font": {
           "color": "#FFFFFF"
          },
          "showarrow": false,
          "text": "0.27",
          "x": "silicate_WOA_clim",
          "xref": "x",
          "y": "lat",
          "yref": "y"
         },
         {
          "font": {
           "color": "#FFFFFF"
          },
          "showarrow": false,
          "text": "-0.03",
          "x": "lat",
          "xref": "x",
          "y": "lon",
          "yref": "y"
         },
         {
          "font": {
           "color": "#FFFFFF"
          },
          "showarrow": false,
          "text": "1.0",
          "x": "lon",
          "xref": "x",
          "y": "lon",
          "yref": "y"
         },
         {
          "font": {
           "color": "#FFFFFF"
          },
          "showarrow": false,
          "text": "-0.1",
          "x": "synecho_abundance",
          "xref": "x",
          "y": "lon",
          "yref": "y"
         },
         {
          "font": {
           "color": "#FFFFFF"
          },
          "showarrow": false,
          "text": "-0.08",
          "x": "picoeuk_abundance",
          "xref": "x",
          "y": "lon",
          "yref": "y"
         },
         {
          "font": {
           "color": "#FFFFFF"
          },
          "showarrow": false,
          "text": "-0.06",
          "x": "prochloro_abundance",
          "xref": "x",
          "y": "lon",
          "yref": "y"
         },
         {
          "font": {
           "color": "#FFFFFF"
          },
          "showarrow": false,
          "text": "0.04",
          "x": "sst",
          "xref": "x",
          "y": "lon",
          "yref": "y"
         },
         {
          "font": {
           "color": "#FFFFFF"
          },
          "showarrow": false,
          "text": "-0.11",
          "x": "sss",
          "xref": "x",
          "y": "lon",
          "yref": "y"
         },
         {
          "font": {
           "color": "#FFFFFF"
          },
          "showarrow": false,
          "text": "-0.04",
          "x": "chl",
          "xref": "x",
          "y": "lon",
          "yref": "y"
         },
         {
          "font": {
           "color": "#FFFFFF"
          },
          "showarrow": false,
          "text": "-0.07",
          "x": "NO3",
          "xref": "x",
          "y": "lon",
          "yref": "y"
         },
         {
          "font": {
           "color": "#FFFFFF"
          },
          "showarrow": false,
          "text": "0.13",
          "x": "Fe",
          "xref": "x",
          "y": "lon",
          "yref": "y"
         },
         {
          "font": {
           "color": "#FFFFFF"
          },
          "showarrow": false,
          "text": "-0.03",
          "x": "O2",
          "xref": "x",
          "y": "lon",
          "yref": "y"
         },
         {
          "font": {
           "color": "#FFFFFF"
          },
          "showarrow": false,
          "text": "0.04",
          "x": "PO4",
          "xref": "x",
          "y": "lon",
          "yref": "y"
         },
         {
          "font": {
           "color": "#FFFFFF"
          },
          "showarrow": false,
          "text": "0.09",
          "x": "density_WOA_clim",
          "xref": "x",
          "y": "lon",
          "yref": "y"
         },
         {
          "font": {
           "color": "#FFFFFF"
          },
          "showarrow": false,
          "text": "0.09",
          "x": "nitrate_WOA_clim",
          "xref": "x",
          "y": "lon",
          "yref": "y"
         },
         {
          "font": {
           "color": "#FFFFFF"
          },
          "showarrow": false,
          "text": "-0.01",
          "x": "phosphate_WOA_clim",
          "xref": "x",
          "y": "lon",
          "yref": "y"
         },
         {
          "font": {
           "color": "#FFFFFF"
          },
          "showarrow": false,
          "text": "-0.15",
          "x": "silicate_WOA_clim",
          "xref": "x",
          "y": "lon",
          "yref": "y"
         },
         {
          "font": {
           "color": "#FFFFFF"
          },
          "showarrow": false,
          "text": "0.66",
          "x": "lat",
          "xref": "x",
          "y": "synecho_abundance",
          "yref": "y"
         },
         {
          "font": {
           "color": "#FFFFFF"
          },
          "showarrow": false,
          "text": "-0.1",
          "x": "lon",
          "xref": "x",
          "y": "synecho_abundance",
          "yref": "y"
         },
         {
          "font": {
           "color": "#FFFFFF"
          },
          "showarrow": false,
          "text": "1.0",
          "x": "synecho_abundance",
          "xref": "x",
          "y": "synecho_abundance",
          "yref": "y"
         },
         {
          "font": {
           "color": "#FFFFFF"
          },
          "showarrow": false,
          "text": "0.58",
          "x": "picoeuk_abundance",
          "xref": "x",
          "y": "synecho_abundance",
          "yref": "y"
         },
         {
          "font": {
           "color": "#FFFFFF"
          },
          "showarrow": false,
          "text": "-0.55",
          "x": "prochloro_abundance",
          "xref": "x",
          "y": "synecho_abundance",
          "yref": "y"
         },
         {
          "font": {
           "color": "#FFFFFF"
          },
          "showarrow": false,
          "text": "-0.66",
          "x": "sst",
          "xref": "x",
          "y": "synecho_abundance",
          "yref": "y"
         },
         {
          "font": {
           "color": "#FFFFFF"
          },
          "showarrow": false,
          "text": "-0.61",
          "x": "sss",
          "xref": "x",
          "y": "synecho_abundance",
          "yref": "y"
         },
         {
          "font": {
           "color": "#FFFFFF"
          },
          "showarrow": false,
          "text": "0.39",
          "x": "chl",
          "xref": "x",
          "y": "synecho_abundance",
          "yref": "y"
         },
         {
          "font": {
           "color": "#FFFFFF"
          },
          "showarrow": false,
          "text": "0.66",
          "x": "NO3",
          "xref": "x",
          "y": "synecho_abundance",
          "yref": "y"
         },
         {
          "font": {
           "color": "#FFFFFF"
          },
          "showarrow": false,
          "text": "-0.64",
          "x": "Fe",
          "xref": "x",
          "y": "synecho_abundance",
          "yref": "y"
         },
         {
          "font": {
           "color": "#FFFFFF"
          },
          "showarrow": false,
          "text": "0.66",
          "x": "O2",
          "xref": "x",
          "y": "synecho_abundance",
          "yref": "y"
         },
         {
          "font": {
           "color": "#FFFFFF"
          },
          "showarrow": false,
          "text": "0.57",
          "x": "PO4",
          "xref": "x",
          "y": "synecho_abundance",
          "yref": "y"
         },
         {
          "font": {
           "color": "#FFFFFF"
          },
          "showarrow": false,
          "text": "0.51",
          "x": "density_WOA_clim",
          "xref": "x",
          "y": "synecho_abundance",
          "yref": "y"
         },
         {
          "font": {
           "color": "#FFFFFF"
          },
          "showarrow": false,
          "text": "0.11",
          "x": "nitrate_WOA_clim",
          "xref": "x",
          "y": "synecho_abundance",
          "yref": "y"
         },
         {
          "font": {
           "color": "#FFFFFF"
          },
          "showarrow": false,
          "text": "0.36",
          "x": "phosphate_WOA_clim",
          "xref": "x",
          "y": "synecho_abundance",
          "yref": "y"
         },
         {
          "font": {
           "color": "#FFFFFF"
          },
          "showarrow": false,
          "text": "0.49",
          "x": "silicate_WOA_clim",
          "xref": "x",
          "y": "synecho_abundance",
          "yref": "y"
         },
         {
          "font": {
           "color": "#FFFFFF"
          },
          "showarrow": false,
          "text": "0.86",
          "x": "lat",
          "xref": "x",
          "y": "picoeuk_abundance",
          "yref": "y"
         },
         {
          "font": {
           "color": "#FFFFFF"
          },
          "showarrow": false,
          "text": "-0.08",
          "x": "lon",
          "xref": "x",
          "y": "picoeuk_abundance",
          "yref": "y"
         },
         {
          "font": {
           "color": "#FFFFFF"
          },
          "showarrow": false,
          "text": "0.58",
          "x": "synecho_abundance",
          "xref": "x",
          "y": "picoeuk_abundance",
          "yref": "y"
         },
         {
          "font": {
           "color": "#FFFFFF"
          },
          "showarrow": false,
          "text": "1.0",
          "x": "picoeuk_abundance",
          "xref": "x",
          "y": "picoeuk_abundance",
          "yref": "y"
         },
         {
          "font": {
           "color": "#FFFFFF"
          },
          "showarrow": false,
          "text": "-0.81",
          "x": "prochloro_abundance",
          "xref": "x",
          "y": "picoeuk_abundance",
          "yref": "y"
         },
         {
          "font": {
           "color": "#FFFFFF"
          },
          "showarrow": false,
          "text": "-0.88",
          "x": "sst",
          "xref": "x",
          "y": "picoeuk_abundance",
          "yref": "y"
         },
         {
          "font": {
           "color": "#FFFFFF"
          },
          "showarrow": false,
          "text": "-0.82",
          "x": "sss",
          "xref": "x",
          "y": "picoeuk_abundance",
          "yref": "y"
         },
         {
          "font": {
           "color": "#FFFFFF"
          },
          "showarrow": false,
          "text": "0.75",
          "x": "chl",
          "xref": "x",
          "y": "picoeuk_abundance",
          "yref": "y"
         },
         {
          "font": {
           "color": "#FFFFFF"
          },
          "showarrow": false,
          "text": "0.87",
          "x": "NO3",
          "xref": "x",
          "y": "picoeuk_abundance",
          "yref": "y"
         },
         {
          "font": {
           "color": "#FFFFFF"
          },
          "showarrow": false,
          "text": "-0.18",
          "x": "Fe",
          "xref": "x",
          "y": "picoeuk_abundance",
          "yref": "y"
         },
         {
          "font": {
           "color": "#FFFFFF"
          },
          "showarrow": false,
          "text": "0.87",
          "x": "O2",
          "xref": "x",
          "y": "picoeuk_abundance",
          "yref": "y"
         },
         {
          "font": {
           "color": "#FFFFFF"
          },
          "showarrow": false,
          "text": "0.77",
          "x": "PO4",
          "xref": "x",
          "y": "picoeuk_abundance",
          "yref": "y"
         },
         {
          "font": {
           "color": "#FFFFFF"
          },
          "showarrow": false,
          "text": "0.86",
          "x": "density_WOA_clim",
          "xref": "x",
          "y": "picoeuk_abundance",
          "yref": "y"
         },
         {
          "font": {
           "color": "#FFFFFF"
          },
          "showarrow": false,
          "text": "0.63",
          "x": "nitrate_WOA_clim",
          "xref": "x",
          "y": "picoeuk_abundance",
          "yref": "y"
         },
         {
          "font": {
           "color": "#FFFFFF"
          },
          "showarrow": false,
          "text": "0.82",
          "x": "phosphate_WOA_clim",
          "xref": "x",
          "y": "picoeuk_abundance",
          "yref": "y"
         },
         {
          "font": {
           "color": "#FFFFFF"
          },
          "showarrow": false,
          "text": "0.14",
          "x": "silicate_WOA_clim",
          "xref": "x",
          "y": "picoeuk_abundance",
          "yref": "y"
         },
         {
          "font": {
           "color": "#FFFFFF"
          },
          "showarrow": false,
          "text": "-0.85",
          "x": "lat",
          "xref": "x",
          "y": "prochloro_abundance",
          "yref": "y"
         },
         {
          "font": {
           "color": "#FFFFFF"
          },
          "showarrow": false,
          "text": "-0.06",
          "x": "lon",
          "xref": "x",
          "y": "prochloro_abundance",
          "yref": "y"
         },
         {
          "font": {
           "color": "#FFFFFF"
          },
          "showarrow": false,
          "text": "-0.55",
          "x": "synecho_abundance",
          "xref": "x",
          "y": "prochloro_abundance",
          "yref": "y"
         },
         {
          "font": {
           "color": "#FFFFFF"
          },
          "showarrow": false,
          "text": "-0.81",
          "x": "picoeuk_abundance",
          "xref": "x",
          "y": "prochloro_abundance",
          "yref": "y"
         },
         {
          "font": {
           "color": "#FFFFFF"
          },
          "showarrow": false,
          "text": "1.0",
          "x": "prochloro_abundance",
          "xref": "x",
          "y": "prochloro_abundance",
          "yref": "y"
         },
         {
          "font": {
           "color": "#FFFFFF"
          },
          "showarrow": false,
          "text": "0.86",
          "x": "sst",
          "xref": "x",
          "y": "prochloro_abundance",
          "yref": "y"
         },
         {
          "font": {
           "color": "#FFFFFF"
          },
          "showarrow": false,
          "text": "0.89",
          "x": "sss",
          "xref": "x",
          "y": "prochloro_abundance",
          "yref": "y"
         },
         {
          "font": {
           "color": "#FFFFFF"
          },
          "showarrow": false,
          "text": "-0.64",
          "x": "chl",
          "xref": "x",
          "y": "prochloro_abundance",
          "yref": "y"
         },
         {
          "font": {
           "color": "#FFFFFF"
          },
          "showarrow": false,
          "text": "-0.86",
          "x": "NO3",
          "xref": "x",
          "y": "prochloro_abundance",
          "yref": "y"
         },
         {
          "font": {
           "color": "#FFFFFF"
          },
          "showarrow": false,
          "text": "0.09",
          "x": "Fe",
          "xref": "x",
          "y": "prochloro_abundance",
          "yref": "y"
         },
         {
          "font": {
           "color": "#FFFFFF"
          },
          "showarrow": false,
          "text": "-0.86",
          "x": "O2",
          "xref": "x",
          "y": "prochloro_abundance",
          "yref": "y"
         },
         {
          "font": {
           "color": "#FFFFFF"
          },
          "showarrow": false,
          "text": "-0.88",
          "x": "PO4",
          "xref": "x",
          "y": "prochloro_abundance",
          "yref": "y"
         },
         {
          "font": {
           "color": "#FFFFFF"
          },
          "showarrow": false,
          "text": "-0.8",
          "x": "density_WOA_clim",
          "xref": "x",
          "y": "prochloro_abundance",
          "yref": "y"
         },
         {
          "font": {
           "color": "#FFFFFF"
          },
          "showarrow": false,
          "text": "-0.53",
          "x": "nitrate_WOA_clim",
          "xref": "x",
          "y": "prochloro_abundance",
          "yref": "y"
         },
         {
          "font": {
           "color": "#FFFFFF"
          },
          "showarrow": false,
          "text": "-0.78",
          "x": "phosphate_WOA_clim",
          "xref": "x",
          "y": "prochloro_abundance",
          "yref": "y"
         },
         {
          "font": {
           "color": "#FFFFFF"
          },
          "showarrow": false,
          "text": "-0.01",
          "x": "silicate_WOA_clim",
          "xref": "x",
          "y": "prochloro_abundance",
          "yref": "y"
         },
         {
          "font": {
           "color": "#FFFFFF"
          },
          "showarrow": false,
          "text": "-1.0",
          "x": "lat",
          "xref": "x",
          "y": "sst",
          "yref": "y"
         },
         {
          "font": {
           "color": "#FFFFFF"
          },
          "showarrow": false,
          "text": "0.04",
          "x": "lon",
          "xref": "x",
          "y": "sst",
          "yref": "y"
         },
         {
          "font": {
           "color": "#FFFFFF"
          },
          "showarrow": false,
          "text": "-0.66",
          "x": "synecho_abundance",
          "xref": "x",
          "y": "sst",
          "yref": "y"
         },
         {
          "font": {
           "color": "#FFFFFF"
          },
          "showarrow": false,
          "text": "-0.88",
          "x": "picoeuk_abundance",
          "xref": "x",
          "y": "sst",
          "yref": "y"
         },
         {
          "font": {
           "color": "#FFFFFF"
          },
          "showarrow": false,
          "text": "0.86",
          "x": "prochloro_abundance",
          "xref": "x",
          "y": "sst",
          "yref": "y"
         },
         {
          "font": {
           "color": "#FFFFFF"
          },
          "showarrow": false,
          "text": "1.0",
          "x": "sst",
          "xref": "x",
          "y": "sst",
          "yref": "y"
         },
         {
          "font": {
           "color": "#FFFFFF"
          },
          "showarrow": false,
          "text": "0.94",
          "x": "sss",
          "xref": "x",
          "y": "sst",
          "yref": "y"
         },
         {
          "font": {
           "color": "#FFFFFF"
          },
          "showarrow": false,
          "text": "-0.79",
          "x": "chl",
          "xref": "x",
          "y": "sst",
          "yref": "y"
         },
         {
          "font": {
           "color": "#FFFFFF"
          },
          "showarrow": false,
          "text": "-0.99",
          "x": "NO3",
          "xref": "x",
          "y": "sst",
          "yref": "y"
         },
         {
          "font": {
           "color": "#FFFFFF"
          },
          "showarrow": false,
          "text": "0.46",
          "x": "Fe",
          "xref": "x",
          "y": "sst",
          "yref": "y"
         },
         {
          "font": {
           "color": "#FFFFFF"
          },
          "showarrow": false,
          "text": "-1.0",
          "x": "O2",
          "xref": "x",
          "y": "sst",
          "yref": "y"
         },
         {
          "font": {
           "color": "#FFFFFF"
          },
          "showarrow": false,
          "text": "-0.84",
          "x": "PO4",
          "xref": "x",
          "y": "sst",
          "yref": "y"
         },
         {
          "font": {
           "color": "#FFFFFF"
          },
          "showarrow": false,
          "text": "-0.93",
          "x": "density_WOA_clim",
          "xref": "x",
          "y": "sst",
          "yref": "y"
         },
         {
          "font": {
           "color": "#FFFFFF"
          },
          "showarrow": false,
          "text": "-0.66",
          "x": "nitrate_WOA_clim",
          "xref": "x",
          "y": "sst",
          "yref": "y"
         },
         {
          "font": {
           "color": "#FFFFFF"
          },
          "showarrow": false,
          "text": "-0.82",
          "x": "phosphate_WOA_clim",
          "xref": "x",
          "y": "sst",
          "yref": "y"
         },
         {
          "font": {
           "color": "#FFFFFF"
          },
          "showarrow": false,
          "text": "-0.26",
          "x": "silicate_WOA_clim",
          "xref": "x",
          "y": "sst",
          "yref": "y"
         },
         {
          "font": {
           "color": "#FFFFFF"
          },
          "showarrow": false,
          "text": "-0.94",
          "x": "lat",
          "xref": "x",
          "y": "sss",
          "yref": "y"
         },
         {
          "font": {
           "color": "#FFFFFF"
          },
          "showarrow": false,
          "text": "-0.11",
          "x": "lon",
          "xref": "x",
          "y": "sss",
          "yref": "y"
         },
         {
          "font": {
           "color": "#FFFFFF"
          },
          "showarrow": false,
          "text": "-0.61",
          "x": "synecho_abundance",
          "xref": "x",
          "y": "sss",
          "yref": "y"
         },
         {
          "font": {
           "color": "#FFFFFF"
          },
          "showarrow": false,
          "text": "-0.82",
          "x": "picoeuk_abundance",
          "xref": "x",
          "y": "sss",
          "yref": "y"
         },
         {
          "font": {
           "color": "#FFFFFF"
          },
          "showarrow": false,
          "text": "0.89",
          "x": "prochloro_abundance",
          "xref": "x",
          "y": "sss",
          "yref": "y"
         },
         {
          "font": {
           "color": "#FFFFFF"
          },
          "showarrow": false,
          "text": "0.94",
          "x": "sst",
          "xref": "x",
          "y": "sss",
          "yref": "y"
         },
         {
          "font": {
           "color": "#FFFFFF"
          },
          "showarrow": false,
          "text": "1.0",
          "x": "sss",
          "xref": "x",
          "y": "sss",
          "yref": "y"
         },
         {
          "font": {
           "color": "#FFFFFF"
          },
          "showarrow": false,
          "text": "-0.7",
          "x": "chl",
          "xref": "x",
          "y": "sss",
          "yref": "y"
         },
         {
          "font": {
           "color": "#FFFFFF"
          },
          "showarrow": false,
          "text": "-0.94",
          "x": "NO3",
          "xref": "x",
          "y": "sss",
          "yref": "y"
         },
         {
          "font": {
           "color": "#FFFFFF"
          },
          "showarrow": false,
          "text": "0.25",
          "x": "Fe",
          "xref": "x",
          "y": "sss",
          "yref": "y"
         },
         {
          "font": {
           "color": "#FFFFFF"
          },
          "showarrow": false,
          "text": "-0.94",
          "x": "O2",
          "xref": "x",
          "y": "sss",
          "yref": "y"
         },
         {
          "font": {
           "color": "#FFFFFF"
          },
          "showarrow": false,
          "text": "-0.94",
          "x": "PO4",
          "xref": "x",
          "y": "sss",
          "yref": "y"
         },
         {
          "font": {
           "color": "#FFFFFF"
          },
          "showarrow": false,
          "text": "-0.87",
          "x": "density_WOA_clim",
          "xref": "x",
          "y": "sss",
          "yref": "y"
         },
         {
          "font": {
           "color": "#FFFFFF"
          },
          "showarrow": false,
          "text": "-0.5",
          "x": "nitrate_WOA_clim",
          "xref": "x",
          "y": "sss",
          "yref": "y"
         },
         {
          "font": {
           "color": "#FFFFFF"
          },
          "showarrow": false,
          "text": "-0.8",
          "x": "phosphate_WOA_clim",
          "xref": "x",
          "y": "sss",
          "yref": "y"
         },
         {
          "font": {
           "color": "#FFFFFF"
          },
          "showarrow": false,
          "text": "-0.14",
          "x": "silicate_WOA_clim",
          "xref": "x",
          "y": "sss",
          "yref": "y"
         },
         {
          "font": {
           "color": "#FFFFFF"
          },
          "showarrow": false,
          "text": "0.79",
          "x": "lat",
          "xref": "x",
          "y": "chl",
          "yref": "y"
         },
         {
          "font": {
           "color": "#FFFFFF"
          },
          "showarrow": false,
          "text": "-0.04",
          "x": "lon",
          "xref": "x",
          "y": "chl",
          "yref": "y"
         },
         {
          "font": {
           "color": "#FFFFFF"
          },
          "showarrow": false,
          "text": "0.39",
          "x": "synecho_abundance",
          "xref": "x",
          "y": "chl",
          "yref": "y"
         },
         {
          "font": {
           "color": "#FFFFFF"
          },
          "showarrow": false,
          "text": "0.75",
          "x": "picoeuk_abundance",
          "xref": "x",
          "y": "chl",
          "yref": "y"
         },
         {
          "font": {
           "color": "#FFFFFF"
          },
          "showarrow": false,
          "text": "-0.64",
          "x": "prochloro_abundance",
          "xref": "x",
          "y": "chl",
          "yref": "y"
         },
         {
          "font": {
           "color": "#FFFFFF"
          },
          "showarrow": false,
          "text": "-0.79",
          "x": "sst",
          "xref": "x",
          "y": "chl",
          "yref": "y"
         },
         {
          "font": {
           "color": "#FFFFFF"
          },
          "showarrow": false,
          "text": "-0.7",
          "x": "sss",
          "xref": "x",
          "y": "chl",
          "yref": "y"
         },
         {
          "font": {
           "color": "#FFFFFF"
          },
          "showarrow": false,
          "text": "1.0",
          "x": "chl",
          "xref": "x",
          "y": "chl",
          "yref": "y"
         },
         {
          "font": {
           "color": "#FFFFFF"
          },
          "showarrow": false,
          "text": "0.79",
          "x": "NO3",
          "xref": "x",
          "y": "chl",
          "yref": "y"
         },
         {
          "font": {
           "color": "#FFFFFF"
          },
          "showarrow": false,
          "text": "0.06",
          "x": "Fe",
          "xref": "x",
          "y": "chl",
          "yref": "y"
         },
         {
          "font": {
           "color": "#FFFFFF"
          },
          "showarrow": false,
          "text": "0.8",
          "x": "O2",
          "xref": "x",
          "y": "chl",
          "yref": "y"
         },
         {
          "font": {
           "color": "#FFFFFF"
          },
          "showarrow": false,
          "text": "0.65",
          "x": "PO4",
          "xref": "x",
          "y": "chl",
          "yref": "y"
         },
         {
          "font": {
           "color": "#FFFFFF"
          },
          "showarrow": false,
          "text": "0.8",
          "x": "density_WOA_clim",
          "xref": "x",
          "y": "chl",
          "yref": "y"
         },
         {
          "font": {
           "color": "#FFFFFF"
          },
          "showarrow": false,
          "text": "0.78",
          "x": "nitrate_WOA_clim",
          "xref": "x",
          "y": "chl",
          "yref": "y"
         },
         {
          "font": {
           "color": "#FFFFFF"
          },
          "showarrow": false,
          "text": "0.79",
          "x": "phosphate_WOA_clim",
          "xref": "x",
          "y": "chl",
          "yref": "y"
         },
         {
          "font": {
           "color": "#FFFFFF"
          },
          "showarrow": false,
          "text": "-0.04",
          "x": "silicate_WOA_clim",
          "xref": "x",
          "y": "chl",
          "yref": "y"
         },
         {
          "font": {
           "color": "#FFFFFF"
          },
          "showarrow": false,
          "text": "0.99",
          "x": "lat",
          "xref": "x",
          "y": "NO3",
          "yref": "y"
         },
         {
          "font": {
           "color": "#FFFFFF"
          },
          "showarrow": false,
          "text": "-0.07",
          "x": "lon",
          "xref": "x",
          "y": "NO3",
          "yref": "y"
         },
         {
          "font": {
           "color": "#FFFFFF"
          },
          "showarrow": false,
          "text": "0.66",
          "x": "synecho_abundance",
          "xref": "x",
          "y": "NO3",
          "yref": "y"
         },
         {
          "font": {
           "color": "#FFFFFF"
          },
          "showarrow": false,
          "text": "0.87",
          "x": "picoeuk_abundance",
          "xref": "x",
          "y": "NO3",
          "yref": "y"
         },
         {
          "font": {
           "color": "#FFFFFF"
          },
          "showarrow": false,
          "text": "-0.86",
          "x": "prochloro_abundance",
          "xref": "x",
          "y": "NO3",
          "yref": "y"
         },
         {
          "font": {
           "color": "#FFFFFF"
          },
          "showarrow": false,
          "text": "-0.99",
          "x": "sst",
          "xref": "x",
          "y": "NO3",
          "yref": "y"
         },
         {
          "font": {
           "color": "#FFFFFF"
          },
          "showarrow": false,
          "text": "-0.94",
          "x": "sss",
          "xref": "x",
          "y": "NO3",
          "yref": "y"
         },
         {
          "font": {
           "color": "#FFFFFF"
          },
          "showarrow": false,
          "text": "0.79",
          "x": "chl",
          "xref": "x",
          "y": "NO3",
          "yref": "y"
         },
         {
          "font": {
           "color": "#FFFFFF"
          },
          "showarrow": false,
          "text": "1.0",
          "x": "NO3",
          "xref": "x",
          "y": "NO3",
          "yref": "y"
         },
         {
          "font": {
           "color": "#FFFFFF"
          },
          "showarrow": false,
          "text": "-0.44",
          "x": "Fe",
          "xref": "x",
          "y": "NO3",
          "yref": "y"
         },
         {
          "font": {
           "color": "#FFFFFF"
          },
          "showarrow": false,
          "text": "0.99",
          "x": "O2",
          "xref": "x",
          "y": "NO3",
          "yref": "y"
         },
         {
          "font": {
           "color": "#FFFFFF"
          },
          "showarrow": false,
          "text": "0.85",
          "x": "PO4",
          "xref": "x",
          "y": "NO3",
          "yref": "y"
         },
         {
          "font": {
           "color": "#FFFFFF"
          },
          "showarrow": false,
          "text": "0.92",
          "x": "density_WOA_clim",
          "xref": "x",
          "y": "NO3",
          "yref": "y"
         },
         {
          "font": {
           "color": "#FFFFFF"
          },
          "showarrow": false,
          "text": "0.65",
          "x": "nitrate_WOA_clim",
          "xref": "x",
          "y": "NO3",
          "yref": "y"
         },
         {
          "font": {
           "color": "#FFFFFF"
          },
          "showarrow": false,
          "text": "0.83",
          "x": "phosphate_WOA_clim",
          "xref": "x",
          "y": "NO3",
          "yref": "y"
         },
         {
          "font": {
           "color": "#FFFFFF"
          },
          "showarrow": false,
          "text": "0.27",
          "x": "silicate_WOA_clim",
          "xref": "x",
          "y": "NO3",
          "yref": "y"
         },
         {
          "font": {
           "color": "#FFFFFF"
          },
          "showarrow": false,
          "text": "-0.45",
          "x": "lat",
          "xref": "x",
          "y": "Fe",
          "yref": "y"
         },
         {
          "font": {
           "color": "#FFFFFF"
          },
          "showarrow": false,
          "text": "0.13",
          "x": "lon",
          "xref": "x",
          "y": "Fe",
          "yref": "y"
         },
         {
          "font": {
           "color": "#FFFFFF"
          },
          "showarrow": false,
          "text": "-0.64",
          "x": "synecho_abundance",
          "xref": "x",
          "y": "Fe",
          "yref": "y"
         },
         {
          "font": {
           "color": "#FFFFFF"
          },
          "showarrow": false,
          "text": "-0.18",
          "x": "picoeuk_abundance",
          "xref": "x",
          "y": "Fe",
          "yref": "y"
         },
         {
          "font": {
           "color": "#FFFFFF"
          },
          "showarrow": false,
          "text": "0.09",
          "x": "prochloro_abundance",
          "xref": "x",
          "y": "Fe",
          "yref": "y"
         },
         {
          "font": {
           "color": "#FFFFFF"
          },
          "showarrow": false,
          "text": "0.46",
          "x": "sst",
          "xref": "x",
          "y": "Fe",
          "yref": "y"
         },
         {
          "font": {
           "color": "#FFFFFF"
          },
          "showarrow": false,
          "text": "0.25",
          "x": "sss",
          "xref": "x",
          "y": "Fe",
          "yref": "y"
         },
         {
          "font": {
           "color": "#FFFFFF"
          },
          "showarrow": false,
          "text": "0.06",
          "x": "chl",
          "xref": "x",
          "y": "Fe",
          "yref": "y"
         },
         {
          "font": {
           "color": "#FFFFFF"
          },
          "showarrow": false,
          "text": "-0.44",
          "x": "NO3",
          "xref": "x",
          "y": "Fe",
          "yref": "y"
         },
         {
          "font": {
           "color": "#FFFFFF"
          },
          "showarrow": false,
          "text": "1.0",
          "x": "Fe",
          "xref": "x",
          "y": "Fe",
          "yref": "y"
         },
         {
          "font": {
           "color": "#FFFFFF"
          },
          "showarrow": false,
          "text": "-0.45",
          "x": "O2",
          "xref": "x",
          "y": "Fe",
          "yref": "y"
         },
         {
          "font": {
           "color": "#FFFFFF"
          },
          "showarrow": false,
          "text": "-0.17",
          "x": "PO4",
          "xref": "x",
          "y": "Fe",
          "yref": "y"
         },
         {
          "font": {
           "color": "#FFFFFF"
          },
          "showarrow": false,
          "text": "-0.31",
          "x": "density_WOA_clim",
          "xref": "x",
          "y": "Fe",
          "yref": "y"
         },
         {
          "font": {
           "color": "#FFFFFF"
          },
          "showarrow": false,
          "text": "0.18",
          "x": "nitrate_WOA_clim",
          "xref": "x",
          "y": "Fe",
          "yref": "y"
         },
         {
          "font": {
           "color": "#FFFFFF"
          },
          "showarrow": false,
          "text": "-0.02",
          "x": "phosphate_WOA_clim",
          "xref": "x",
          "y": "Fe",
          "yref": "y"
         },
         {
          "font": {
           "color": "#FFFFFF"
          },
          "showarrow": false,
          "text": "-0.89",
          "x": "silicate_WOA_clim",
          "xref": "x",
          "y": "Fe",
          "yref": "y"
         },
         {
          "font": {
           "color": "#FFFFFF"
          },
          "showarrow": false,
          "text": "1.0",
          "x": "lat",
          "xref": "x",
          "y": "O2",
          "yref": "y"
         },
         {
          "font": {
           "color": "#FFFFFF"
          },
          "showarrow": false,
          "text": "-0.03",
          "x": "lon",
          "xref": "x",
          "y": "O2",
          "yref": "y"
         },
         {
          "font": {
           "color": "#FFFFFF"
          },
          "showarrow": false,
          "text": "0.66",
          "x": "synecho_abundance",
          "xref": "x",
          "y": "O2",
          "yref": "y"
         },
         {
          "font": {
           "color": "#FFFFFF"
          },
          "showarrow": false,
          "text": "0.87",
          "x": "picoeuk_abundance",
          "xref": "x",
          "y": "O2",
          "yref": "y"
         },
         {
          "font": {
           "color": "#FFFFFF"
          },
          "showarrow": false,
          "text": "-0.86",
          "x": "prochloro_abundance",
          "xref": "x",
          "y": "O2",
          "yref": "y"
         },
         {
          "font": {
           "color": "#FFFFFF"
          },
          "showarrow": false,
          "text": "-1.0",
          "x": "sst",
          "xref": "x",
          "y": "O2",
          "yref": "y"
         },
         {
          "font": {
           "color": "#FFFFFF"
          },
          "showarrow": false,
          "text": "-0.94",
          "x": "sss",
          "xref": "x",
          "y": "O2",
          "yref": "y"
         },
         {
          "font": {
           "color": "#FFFFFF"
          },
          "showarrow": false,
          "text": "0.8",
          "x": "chl",
          "xref": "x",
          "y": "O2",
          "yref": "y"
         },
         {
          "font": {
           "color": "#FFFFFF"
          },
          "showarrow": false,
          "text": "0.99",
          "x": "NO3",
          "xref": "x",
          "y": "O2",
          "yref": "y"
         },
         {
          "font": {
           "color": "#FFFFFF"
          },
          "showarrow": false,
          "text": "-0.45",
          "x": "Fe",
          "xref": "x",
          "y": "O2",
          "yref": "y"
         },
         {
          "font": {
           "color": "#FFFFFF"
          },
          "showarrow": false,
          "text": "1.0",
          "x": "O2",
          "xref": "x",
          "y": "O2",
          "yref": "y"
         },
         {
          "font": {
           "color": "#FFFFFF"
          },
          "showarrow": false,
          "text": "0.84",
          "x": "PO4",
          "xref": "x",
          "y": "O2",
          "yref": "y"
         },
         {
          "font": {
           "color": "#FFFFFF"
          },
          "showarrow": false,
          "text": "0.94",
          "x": "density_WOA_clim",
          "xref": "x",
          "y": "O2",
          "yref": "y"
         },
         {
          "font": {
           "color": "#FFFFFF"
          },
          "showarrow": false,
          "text": "0.66",
          "x": "nitrate_WOA_clim",
          "xref": "x",
          "y": "O2",
          "yref": "y"
         },
         {
          "font": {
           "color": "#FFFFFF"
          },
          "showarrow": false,
          "text": "0.83",
          "x": "phosphate_WOA_clim",
          "xref": "x",
          "y": "O2",
          "yref": "y"
         },
         {
          "font": {
           "color": "#FFFFFF"
          },
          "showarrow": false,
          "text": "0.27",
          "x": "silicate_WOA_clim",
          "xref": "x",
          "y": "O2",
          "yref": "y"
         },
         {
          "font": {
           "color": "#FFFFFF"
          },
          "showarrow": false,
          "text": "0.84",
          "x": "lat",
          "xref": "x",
          "y": "PO4",
          "yref": "y"
         },
         {
          "font": {
           "color": "#FFFFFF"
          },
          "showarrow": false,
          "text": "0.04",
          "x": "lon",
          "xref": "x",
          "y": "PO4",
          "yref": "y"
         },
         {
          "font": {
           "color": "#FFFFFF"
          },
          "showarrow": false,
          "text": "0.57",
          "x": "synecho_abundance",
          "xref": "x",
          "y": "PO4",
          "yref": "y"
         },
         {
          "font": {
           "color": "#FFFFFF"
          },
          "showarrow": false,
          "text": "0.77",
          "x": "picoeuk_abundance",
          "xref": "x",
          "y": "PO4",
          "yref": "y"
         },
         {
          "font": {
           "color": "#FFFFFF"
          },
          "showarrow": false,
          "text": "-0.88",
          "x": "prochloro_abundance",
          "xref": "x",
          "y": "PO4",
          "yref": "y"
         },
         {
          "font": {
           "color": "#FFFFFF"
          },
          "showarrow": false,
          "text": "-0.84",
          "x": "sst",
          "xref": "x",
          "y": "PO4",
          "yref": "y"
         },
         {
          "font": {
           "color": "#FFFFFF"
          },
          "showarrow": false,
          "text": "-0.94",
          "x": "sss",
          "xref": "x",
          "y": "PO4",
          "yref": "y"
         },
         {
          "font": {
           "color": "#FFFFFF"
          },
          "showarrow": false,
          "text": "0.65",
          "x": "chl",
          "xref": "x",
          "y": "PO4",
          "yref": "y"
         },
         {
          "font": {
           "color": "#FFFFFF"
          },
          "showarrow": false,
          "text": "0.85",
          "x": "NO3",
          "xref": "x",
          "y": "PO4",
          "yref": "y"
         },
         {
          "font": {
           "color": "#FFFFFF"
          },
          "showarrow": false,
          "text": "-0.17",
          "x": "Fe",
          "xref": "x",
          "y": "PO4",
          "yref": "y"
         },
         {
          "font": {
           "color": "#FFFFFF"
          },
          "showarrow": false,
          "text": "0.84",
          "x": "O2",
          "xref": "x",
          "y": "PO4",
          "yref": "y"
         },
         {
          "font": {
           "color": "#FFFFFF"
          },
          "showarrow": false,
          "text": "1.0",
          "x": "PO4",
          "xref": "x",
          "y": "PO4",
          "yref": "y"
         },
         {
          "font": {
           "color": "#FFFFFF"
          },
          "showarrow": false,
          "text": "0.78",
          "x": "density_WOA_clim",
          "xref": "x",
          "y": "PO4",
          "yref": "y"
         },
         {
          "font": {
           "color": "#FFFFFF"
          },
          "showarrow": false,
          "text": "0.47",
          "x": "nitrate_WOA_clim",
          "xref": "x",
          "y": "PO4",
          "yref": "y"
         },
         {
          "font": {
           "color": "#FFFFFF"
          },
          "showarrow": false,
          "text": "0.78",
          "x": "phosphate_WOA_clim",
          "xref": "x",
          "y": "PO4",
          "yref": "y"
         },
         {
          "font": {
           "color": "#FFFFFF"
          },
          "showarrow": false,
          "text": "-0.04",
          "x": "silicate_WOA_clim",
          "xref": "x",
          "y": "PO4",
          "yref": "y"
         },
         {
          "font": {
           "color": "#FFFFFF"
          },
          "showarrow": false,
          "text": "0.93",
          "x": "lat",
          "xref": "x",
          "y": "density_WOA_clim",
          "yref": "y"
         },
         {
          "font": {
           "color": "#FFFFFF"
          },
          "showarrow": false,
          "text": "0.09",
          "x": "lon",
          "xref": "x",
          "y": "density_WOA_clim",
          "yref": "y"
         },
         {
          "font": {
           "color": "#FFFFFF"
          },
          "showarrow": false,
          "text": "0.51",
          "x": "synecho_abundance",
          "xref": "x",
          "y": "density_WOA_clim",
          "yref": "y"
         },
         {
          "font": {
           "color": "#FFFFFF"
          },
          "showarrow": false,
          "text": "0.86",
          "x": "picoeuk_abundance",
          "xref": "x",
          "y": "density_WOA_clim",
          "yref": "y"
         },
         {
          "font": {
           "color": "#FFFFFF"
          },
          "showarrow": false,
          "text": "-0.8",
          "x": "prochloro_abundance",
          "xref": "x",
          "y": "density_WOA_clim",
          "yref": "y"
         },
         {
          "font": {
           "color": "#FFFFFF"
          },
          "showarrow": false,
          "text": "-0.93",
          "x": "sst",
          "xref": "x",
          "y": "density_WOA_clim",
          "yref": "y"
         },
         {
          "font": {
           "color": "#FFFFFF"
          },
          "showarrow": false,
          "text": "-0.87",
          "x": "sss",
          "xref": "x",
          "y": "density_WOA_clim",
          "yref": "y"
         },
         {
          "font": {
           "color": "#FFFFFF"
          },
          "showarrow": false,
          "text": "0.8",
          "x": "chl",
          "xref": "x",
          "y": "density_WOA_clim",
          "yref": "y"
         },
         {
          "font": {
           "color": "#FFFFFF"
          },
          "showarrow": false,
          "text": "0.92",
          "x": "NO3",
          "xref": "x",
          "y": "density_WOA_clim",
          "yref": "y"
         },
         {
          "font": {
           "color": "#FFFFFF"
          },
          "showarrow": false,
          "text": "-0.31",
          "x": "Fe",
          "xref": "x",
          "y": "density_WOA_clim",
          "yref": "y"
         },
         {
          "font": {
           "color": "#FFFFFF"
          },
          "showarrow": false,
          "text": "0.94",
          "x": "O2",
          "xref": "x",
          "y": "density_WOA_clim",
          "yref": "y"
         },
         {
          "font": {
           "color": "#FFFFFF"
          },
          "showarrow": false,
          "text": "0.78",
          "x": "PO4",
          "xref": "x",
          "y": "density_WOA_clim",
          "yref": "y"
         },
         {
          "font": {
           "color": "#FFFFFF"
          },
          "showarrow": false,
          "text": "1.0",
          "x": "density_WOA_clim",
          "xref": "x",
          "y": "density_WOA_clim",
          "yref": "y"
         },
         {
          "font": {
           "color": "#FFFFFF"
          },
          "showarrow": false,
          "text": "0.67",
          "x": "nitrate_WOA_clim",
          "xref": "x",
          "y": "density_WOA_clim",
          "yref": "y"
         },
         {
          "font": {
           "color": "#FFFFFF"
          },
          "showarrow": false,
          "text": "0.91",
          "x": "phosphate_WOA_clim",
          "xref": "x",
          "y": "density_WOA_clim",
          "yref": "y"
         },
         {
          "font": {
           "color": "#FFFFFF"
          },
          "showarrow": false,
          "text": "0.3",
          "x": "silicate_WOA_clim",
          "xref": "x",
          "y": "density_WOA_clim",
          "yref": "y"
         },
         {
          "font": {
           "color": "#FFFFFF"
          },
          "showarrow": false,
          "text": "0.66",
          "x": "lat",
          "xref": "x",
          "y": "nitrate_WOA_clim",
          "yref": "y"
         },
         {
          "font": {
           "color": "#FFFFFF"
          },
          "showarrow": false,
          "text": "0.09",
          "x": "lon",
          "xref": "x",
          "y": "nitrate_WOA_clim",
          "yref": "y"
         },
         {
          "font": {
           "color": "#FFFFFF"
          },
          "showarrow": false,
          "text": "0.11",
          "x": "synecho_abundance",
          "xref": "x",
          "y": "nitrate_WOA_clim",
          "yref": "y"
         },
         {
          "font": {
           "color": "#FFFFFF"
          },
          "showarrow": false,
          "text": "0.63",
          "x": "picoeuk_abundance",
          "xref": "x",
          "y": "nitrate_WOA_clim",
          "yref": "y"
         },
         {
          "font": {
           "color": "#FFFFFF"
          },
          "showarrow": false,
          "text": "-0.53",
          "x": "prochloro_abundance",
          "xref": "x",
          "y": "nitrate_WOA_clim",
          "yref": "y"
         },
         {
          "font": {
           "color": "#FFFFFF"
          },
          "showarrow": false,
          "text": "-0.66",
          "x": "sst",
          "xref": "x",
          "y": "nitrate_WOA_clim",
          "yref": "y"
         },
         {
          "font": {
           "color": "#FFFFFF"
          },
          "showarrow": false,
          "text": "-0.5",
          "x": "sss",
          "xref": "x",
          "y": "nitrate_WOA_clim",
          "yref": "y"
         },
         {
          "font": {
           "color": "#FFFFFF"
          },
          "showarrow": false,
          "text": "0.78",
          "x": "chl",
          "xref": "x",
          "y": "nitrate_WOA_clim",
          "yref": "y"
         },
         {
          "font": {
           "color": "#FFFFFF"
          },
          "showarrow": false,
          "text": "0.65",
          "x": "NO3",
          "xref": "x",
          "y": "nitrate_WOA_clim",
          "yref": "y"
         },
         {
          "font": {
           "color": "#FFFFFF"
          },
          "showarrow": false,
          "text": "0.18",
          "x": "Fe",
          "xref": "x",
          "y": "nitrate_WOA_clim",
          "yref": "y"
         },
         {
          "font": {
           "color": "#FFFFFF"
          },
          "showarrow": false,
          "text": "0.66",
          "x": "O2",
          "xref": "x",
          "y": "nitrate_WOA_clim",
          "yref": "y"
         },
         {
          "font": {
           "color": "#FFFFFF"
          },
          "showarrow": false,
          "text": "0.47",
          "x": "PO4",
          "xref": "x",
          "y": "nitrate_WOA_clim",
          "yref": "y"
         },
         {
          "font": {
           "color": "#FFFFFF"
          },
          "showarrow": false,
          "text": "0.67",
          "x": "density_WOA_clim",
          "xref": "x",
          "y": "nitrate_WOA_clim",
          "yref": "y"
         },
         {
          "font": {
           "color": "#FFFFFF"
          },
          "showarrow": false,
          "text": "1.0",
          "x": "nitrate_WOA_clim",
          "xref": "x",
          "y": "nitrate_WOA_clim",
          "yref": "y"
         },
         {
          "font": {
           "color": "#FFFFFF"
          },
          "showarrow": false,
          "text": "0.67",
          "x": "phosphate_WOA_clim",
          "xref": "x",
          "y": "nitrate_WOA_clim",
          "yref": "y"
         },
         {
          "font": {
           "color": "#FFFFFF"
          },
          "showarrow": false,
          "text": "-0.11",
          "x": "silicate_WOA_clim",
          "xref": "x",
          "y": "nitrate_WOA_clim",
          "yref": "y"
         },
         {
          "font": {
           "color": "#FFFFFF"
          },
          "showarrow": false,
          "text": "0.82",
          "x": "lat",
          "xref": "x",
          "y": "phosphate_WOA_clim",
          "yref": "y"
         },
         {
          "font": {
           "color": "#FFFFFF"
          },
          "showarrow": false,
          "text": "-0.01",
          "x": "lon",
          "xref": "x",
          "y": "phosphate_WOA_clim",
          "yref": "y"
         },
         {
          "font": {
           "color": "#FFFFFF"
          },
          "showarrow": false,
          "text": "0.36",
          "x": "synecho_abundance",
          "xref": "x",
          "y": "phosphate_WOA_clim",
          "yref": "y"
         },
         {
          "font": {
           "color": "#FFFFFF"
          },
          "showarrow": false,
          "text": "0.82",
          "x": "picoeuk_abundance",
          "xref": "x",
          "y": "phosphate_WOA_clim",
          "yref": "y"
         },
         {
          "font": {
           "color": "#FFFFFF"
          },
          "showarrow": false,
          "text": "-0.78",
          "x": "prochloro_abundance",
          "xref": "x",
          "y": "phosphate_WOA_clim",
          "yref": "y"
         },
         {
          "font": {
           "color": "#FFFFFF"
          },
          "showarrow": false,
          "text": "-0.82",
          "x": "sst",
          "xref": "x",
          "y": "phosphate_WOA_clim",
          "yref": "y"
         },
         {
          "font": {
           "color": "#FFFFFF"
          },
          "showarrow": false,
          "text": "-0.8",
          "x": "sss",
          "xref": "x",
          "y": "phosphate_WOA_clim",
          "yref": "y"
         },
         {
          "font": {
           "color": "#FFFFFF"
          },
          "showarrow": false,
          "text": "0.79",
          "x": "chl",
          "xref": "x",
          "y": "phosphate_WOA_clim",
          "yref": "y"
         },
         {
          "font": {
           "color": "#FFFFFF"
          },
          "showarrow": false,
          "text": "0.83",
          "x": "NO3",
          "xref": "x",
          "y": "phosphate_WOA_clim",
          "yref": "y"
         },
         {
          "font": {
           "color": "#FFFFFF"
          },
          "showarrow": false,
          "text": "-0.02",
          "x": "Fe",
          "xref": "x",
          "y": "phosphate_WOA_clim",
          "yref": "y"
         },
         {
          "font": {
           "color": "#FFFFFF"
          },
          "showarrow": false,
          "text": "0.83",
          "x": "O2",
          "xref": "x",
          "y": "phosphate_WOA_clim",
          "yref": "y"
         },
         {
          "font": {
           "color": "#FFFFFF"
          },
          "showarrow": false,
          "text": "0.78",
          "x": "PO4",
          "xref": "x",
          "y": "phosphate_WOA_clim",
          "yref": "y"
         },
         {
          "font": {
           "color": "#FFFFFF"
          },
          "showarrow": false,
          "text": "0.91",
          "x": "density_WOA_clim",
          "xref": "x",
          "y": "phosphate_WOA_clim",
          "yref": "y"
         },
         {
          "font": {
           "color": "#FFFFFF"
          },
          "showarrow": false,
          "text": "0.67",
          "x": "nitrate_WOA_clim",
          "xref": "x",
          "y": "phosphate_WOA_clim",
          "yref": "y"
         },
         {
          "font": {
           "color": "#FFFFFF"
          },
          "showarrow": false,
          "text": "1.0",
          "x": "phosphate_WOA_clim",
          "xref": "x",
          "y": "phosphate_WOA_clim",
          "yref": "y"
         },
         {
          "font": {
           "color": "#FFFFFF"
          },
          "showarrow": false,
          "text": "0.03",
          "x": "silicate_WOA_clim",
          "xref": "x",
          "y": "phosphate_WOA_clim",
          "yref": "y"
         },
         {
          "font": {
           "color": "#FFFFFF"
          },
          "showarrow": false,
          "text": "0.27",
          "x": "lat",
          "xref": "x",
          "y": "silicate_WOA_clim",
          "yref": "y"
         },
         {
          "font": {
           "color": "#FFFFFF"
          },
          "showarrow": false,
          "text": "-0.15",
          "x": "lon",
          "xref": "x",
          "y": "silicate_WOA_clim",
          "yref": "y"
         },
         {
          "font": {
           "color": "#FFFFFF"
          },
          "showarrow": false,
          "text": "0.49",
          "x": "synecho_abundance",
          "xref": "x",
          "y": "silicate_WOA_clim",
          "yref": "y"
         },
         {
          "font": {
           "color": "#FFFFFF"
          },
          "showarrow": false,
          "text": "0.14",
          "x": "picoeuk_abundance",
          "xref": "x",
          "y": "silicate_WOA_clim",
          "yref": "y"
         },
         {
          "font": {
           "color": "#FFFFFF"
          },
          "showarrow": false,
          "text": "-0.01",
          "x": "prochloro_abundance",
          "xref": "x",
          "y": "silicate_WOA_clim",
          "yref": "y"
         },
         {
          "font": {
           "color": "#FFFFFF"
          },
          "showarrow": false,
          "text": "-0.26",
          "x": "sst",
          "xref": "x",
          "y": "silicate_WOA_clim",
          "yref": "y"
         },
         {
          "font": {
           "color": "#FFFFFF"
          },
          "showarrow": false,
          "text": "-0.14",
          "x": "sss",
          "xref": "x",
          "y": "silicate_WOA_clim",
          "yref": "y"
         },
         {
          "font": {
           "color": "#FFFFFF"
          },
          "showarrow": false,
          "text": "-0.04",
          "x": "chl",
          "xref": "x",
          "y": "silicate_WOA_clim",
          "yref": "y"
         },
         {
          "font": {
           "color": "#FFFFFF"
          },
          "showarrow": false,
          "text": "0.27",
          "x": "NO3",
          "xref": "x",
          "y": "silicate_WOA_clim",
          "yref": "y"
         },
         {
          "font": {
           "color": "#FFFFFF"
          },
          "showarrow": false,
          "text": "-0.89",
          "x": "Fe",
          "xref": "x",
          "y": "silicate_WOA_clim",
          "yref": "y"
         },
         {
          "font": {
           "color": "#FFFFFF"
          },
          "showarrow": false,
          "text": "0.27",
          "x": "O2",
          "xref": "x",
          "y": "silicate_WOA_clim",
          "yref": "y"
         },
         {
          "font": {
           "color": "#FFFFFF"
          },
          "showarrow": false,
          "text": "-0.04",
          "x": "PO4",
          "xref": "x",
          "y": "silicate_WOA_clim",
          "yref": "y"
         },
         {
          "font": {
           "color": "#FFFFFF"
          },
          "showarrow": false,
          "text": "0.3",
          "x": "density_WOA_clim",
          "xref": "x",
          "y": "silicate_WOA_clim",
          "yref": "y"
         },
         {
          "font": {
           "color": "#FFFFFF"
          },
          "showarrow": false,
          "text": "-0.11",
          "x": "nitrate_WOA_clim",
          "xref": "x",
          "y": "silicate_WOA_clim",
          "yref": "y"
         },
         {
          "font": {
           "color": "#FFFFFF"
          },
          "showarrow": false,
          "text": "0.03",
          "x": "phosphate_WOA_clim",
          "xref": "x",
          "y": "silicate_WOA_clim",
          "yref": "y"
         },
         {
          "font": {
           "color": "#FFFFFF"
          },
          "showarrow": false,
          "text": "1.0",
          "x": "silicate_WOA_clim",
          "xref": "x",
          "y": "silicate_WOA_clim",
          "yref": "y"
         }
        ],
        "autosize": false,
        "height": 700,
        "title": {
         "text": ""
        },
        "width": 700,
        "xaxis": {
         "dtick": 1,
         "gridcolor": "rgb(0, 0, 0)",
         "side": "top",
         "ticks": "",
         "title": {
          "text": ""
         }
        },
        "yaxis": {
         "autorange": "reversed",
         "dtick": 1,
         "ticks": "",
         "ticksuffix": "  ",
         "title": {
          "text": ""
         }
        }
       }
      },
      "text/html": [
       "<div>\n",
       "        \n",
       "        \n",
       "            <div id=\"17802cf7-3dec-4058-a814-1786d90d68fc\" class=\"plotly-graph-div\" style=\"height:700px; width:700px;\"></div>\n",
       "            <script type=\"text/javascript\">\n",
       "                require([\"plotly\"], function(Plotly) {\n",
       "                    window.PLOTLYENV=window.PLOTLYENV || {};\n",
       "                    window.PLOTLYENV.BASE_URL='https://plot.ly';\n",
       "                    \n",
       "                if (document.getElementById(\"17802cf7-3dec-4058-a814-1786d90d68fc\")) {\n",
       "                    Plotly.newPlot(\n",
       "                        '17802cf7-3dec-4058-a814-1786d90d68fc',\n",
       "                        [{\"colorscale\": [[0.0, \"rgb(58, 76, 192)\"], [0.003937007874015748, \"rgb(59, 77, 193)\"], [0.007874015748031496, \"rgb(60, 79, 195)\"], [0.011811023622047244, \"rgb(62, 81, 196)\"], [0.015748031496062992, \"rgb(63, 83, 198)\"], [0.01968503937007874, \"rgb(64, 84, 199)\"], [0.023622047244094488, \"rgb(65, 86, 201)\"], [0.027559055118110236, \"rgb(66, 88, 202)\"], [0.031496062992125984, \"rgb(67, 90, 204)\"], [0.03543307086614173, \"rgb(69, 91, 205)\"], [0.03937007874015748, \"rgb(70, 93, 207)\"], [0.04330708661417323, \"rgb(71, 95, 208)\"], [0.047244094488188976, \"rgb(72, 96, 209)\"], [0.051181102362204724, \"rgb(73, 98, 211)\"], [0.05511811023622047, \"rgb(75, 100, 212)\"], [0.05905511811023622, \"rgb(76, 102, 214)\"], [0.06299212598425197, \"rgb(77, 103, 215)\"], [0.06692913385826771, \"rgb(78, 105, 216)\"], [0.07086614173228346, \"rgb(80, 107, 218)\"], [0.07480314960629922, \"rgb(81, 108, 219)\"], [0.07874015748031496, \"rgb(82, 110, 220)\"], [0.0826771653543307, \"rgb(83, 112, 221)\"], [0.08661417322834646, \"rgb(85, 113, 222)\"], [0.09055118110236221, \"rgb(86, 115, 224)\"], [0.09448818897637795, \"rgb(87, 117, 225)\"], [0.09842519685039369, \"rgb(88, 118, 226)\"], [0.10236220472440945, \"rgb(90, 120, 227)\"], [0.1062992125984252, \"rgb(91, 121, 228)\"], [0.11023622047244094, \"rgb(92, 123, 229)\"], [0.11417322834645668, \"rgb(93, 125, 230)\"], [0.11811023622047244, \"rgb(95, 126, 231)\"], [0.1220472440944882, \"rgb(96, 128, 232)\"], [0.12598425196850394, \"rgb(97, 130, 234)\"], [0.12992125984251968, \"rgb(99, 131, 234)\"], [0.13385826771653542, \"rgb(100, 133, 235)\"], [0.1377952755905512, \"rgb(101, 134, 236)\"], [0.14173228346456693, \"rgb(103, 136, 237)\"], [0.14566929133858267, \"rgb(104, 137, 238)\"], [0.14960629921259844, \"rgb(105, 139, 239)\"], [0.15354330708661418, \"rgb(107, 141, 240)\"], [0.15748031496062992, \"rgb(108, 142, 241)\"], [0.16141732283464566, \"rgb(109, 144, 241)\"], [0.1653543307086614, \"rgb(111, 145, 242)\"], [0.16929133858267717, \"rgb(112, 147, 243)\"], [0.1732283464566929, \"rgb(113, 148, 244)\"], [0.17716535433070865, \"rgb(115, 149, 244)\"], [0.18110236220472442, \"rgb(116, 151, 245)\"], [0.18503937007874016, \"rgb(117, 152, 246)\"], [0.1889763779527559, \"rgb(119, 154, 246)\"], [0.19291338582677164, \"rgb(120, 155, 247)\"], [0.19685039370078738, \"rgb(122, 157, 248)\"], [0.20078740157480315, \"rgb(123, 158, 248)\"], [0.2047244094488189, \"rgb(124, 160, 249)\"], [0.20866141732283464, \"rgb(126, 161, 249)\"], [0.2125984251968504, \"rgb(127, 162, 250)\"], [0.21653543307086615, \"rgb(128, 164, 250)\"], [0.2204724409448819, \"rgb(130, 165, 251)\"], [0.22440944881889763, \"rgb(131, 166, 251)\"], [0.22834645669291337, \"rgb(133, 168, 251)\"], [0.23228346456692914, \"rgb(134, 169, 252)\"], [0.23622047244094488, \"rgb(135, 170, 252)\"], [0.24015748031496062, \"rgb(137, 172, 252)\"], [0.2440944881889764, \"rgb(138, 173, 253)\"], [0.24803149606299213, \"rgb(139, 174, 253)\"], [0.25196850393700787, \"rgb(141, 175, 253)\"], [0.2559055118110236, \"rgb(142, 177, 253)\"], [0.25984251968503935, \"rgb(144, 178, 254)\"], [0.2637795275590551, \"rgb(145, 179, 254)\"], [0.26771653543307083, \"rgb(146, 180, 254)\"], [0.27165354330708663, \"rgb(148, 181, 254)\"], [0.2755905511811024, \"rgb(149, 183, 254)\"], [0.2795275590551181, \"rgb(151, 184, 254)\"], [0.28346456692913385, \"rgb(152, 185, 254)\"], [0.2874015748031496, \"rgb(153, 186, 254)\"], [0.29133858267716534, \"rgb(155, 187, 254)\"], [0.2952755905511811, \"rgb(156, 188, 254)\"], [0.2992125984251969, \"rgb(157, 189, 254)\"], [0.3031496062992126, \"rgb(159, 190, 254)\"], [0.30708661417322836, \"rgb(160, 191, 254)\"], [0.3110236220472441, \"rgb(162, 192, 254)\"], [0.31496062992125984, \"rgb(163, 193, 254)\"], [0.3188976377952756, \"rgb(164, 194, 254)\"], [0.3228346456692913, \"rgb(166, 195, 253)\"], [0.32677165354330706, \"rgb(167, 196, 253)\"], [0.3307086614173228, \"rgb(168, 197, 253)\"], [0.3346456692913386, \"rgb(170, 198, 253)\"], [0.33858267716535434, \"rgb(171, 199, 252)\"], [0.3425196850393701, \"rgb(172, 200, 252)\"], [0.3464566929133858, \"rgb(174, 201, 252)\"], [0.35039370078740156, \"rgb(175, 202, 251)\"], [0.3543307086614173, \"rgb(176, 203, 251)\"], [0.35826771653543305, \"rgb(178, 203, 251)\"], [0.36220472440944884, \"rgb(179, 204, 250)\"], [0.3661417322834646, \"rgb(180, 205, 250)\"], [0.3700787401574803, \"rgb(182, 206, 249)\"], [0.37401574803149606, \"rgb(183, 207, 249)\"], [0.3779527559055118, \"rgb(184, 207, 248)\"], [0.38188976377952755, \"rgb(185, 208, 248)\"], [0.3858267716535433, \"rgb(187, 209, 247)\"], [0.38976377952755903, \"rgb(188, 209, 246)\"], [0.39370078740157477, \"rgb(189, 210, 246)\"], [0.39763779527559057, \"rgb(190, 211, 245)\"], [0.4015748031496063, \"rgb(192, 211, 245)\"], [0.40551181102362205, \"rgb(193, 212, 244)\"], [0.4094488188976378, \"rgb(194, 212, 243)\"], [0.41338582677165353, \"rgb(195, 213, 242)\"], [0.41732283464566927, \"rgb(197, 213, 242)\"], [0.421259842519685, \"rgb(198, 214, 241)\"], [0.4251968503937008, \"rgb(199, 214, 240)\"], [0.42913385826771655, \"rgb(200, 215, 239)\"], [0.4330708661417323, \"rgb(201, 215, 238)\"], [0.43700787401574803, \"rgb(202, 216, 238)\"], [0.4409448818897638, \"rgb(204, 216, 237)\"], [0.4448818897637795, \"rgb(205, 217, 236)\"], [0.44881889763779526, \"rgb(206, 217, 235)\"], [0.452755905511811, \"rgb(207, 217, 234)\"], [0.45669291338582674, \"rgb(208, 218, 233)\"], [0.46062992125984253, \"rgb(209, 218, 232)\"], [0.4645669291338583, \"rgb(210, 218, 231)\"], [0.468503937007874, \"rgb(211, 219, 230)\"], [0.47244094488188976, \"rgb(213, 219, 229)\"], [0.4763779527559055, \"rgb(214, 219, 228)\"], [0.48031496062992124, \"rgb(215, 219, 226)\"], [0.484251968503937, \"rgb(216, 219, 225)\"], [0.4881889763779528, \"rgb(217, 220, 224)\"], [0.4921259842519685, \"rgb(218, 220, 223)\"], [0.49606299212598426, \"rgb(219, 220, 222)\"], [0.5, \"rgb(221, 220, 219)\"], [0.5039370078740157, \"rgb(222, 219, 218)\"], [0.5078740157480315, \"rgb(223, 219, 217)\"], [0.5118110236220472, \"rgb(224, 218, 215)\"], [0.515748031496063, \"rgb(225, 218, 214)\"], [0.5196850393700787, \"rgb(226, 217, 212)\"], [0.5236220472440944, \"rgb(227, 217, 211)\"], [0.5275590551181102, \"rgb(228, 216, 209)\"], [0.5314960629921259, \"rgb(229, 216, 208)\"], [0.5354330708661417, \"rgb(230, 215, 207)\"], [0.5393700787401575, \"rgb(231, 214, 205)\"], [0.5433070866141733, \"rgb(231, 214, 204)\"], [0.547244094488189, \"rgb(232, 213, 202)\"], [0.5511811023622047, \"rgb(233, 212, 201)\"], [0.5551181102362205, \"rgb(234, 211, 199)\"], [0.5590551181102362, \"rgb(235, 211, 198)\"], [0.562992125984252, \"rgb(236, 210, 196)\"], [0.5669291338582677, \"rgb(236, 209, 195)\"], [0.5708661417322834, \"rgb(237, 208, 193)\"], [0.5748031496062992, \"rgb(237, 207, 192)\"], [0.5787401574803149, \"rgb(238, 207, 190)\"], [0.5826771653543307, \"rgb(239, 206, 188)\"], [0.5866141732283464, \"rgb(239, 205, 187)\"], [0.5905511811023622, \"rgb(240, 204, 185)\"], [0.5944881889763779, \"rgb(241, 203, 184)\"], [0.5984251968503937, \"rgb(241, 202, 182)\"], [0.6023622047244095, \"rgb(242, 201, 181)\"], [0.6062992125984252, \"rgb(242, 200, 179)\"], [0.610236220472441, \"rgb(242, 199, 178)\"], [0.6141732283464567, \"rgb(243, 198, 176)\"], [0.6181102362204725, \"rgb(243, 197, 175)\"], [0.6220472440944882, \"rgb(244, 196, 173)\"], [0.6259842519685039, \"rgb(244, 195, 171)\"], [0.6299212598425197, \"rgb(244, 194, 170)\"], [0.6338582677165354, \"rgb(245, 193, 168)\"], [0.6377952755905512, \"rgb(245, 192, 167)\"], [0.6417322834645669, \"rgb(245, 191, 165)\"], [0.6456692913385826, \"rgb(246, 189, 164)\"], [0.6496062992125984, \"rgb(246, 188, 162)\"], [0.6535433070866141, \"rgb(246, 187, 160)\"], [0.6574803149606299, \"rgb(246, 186, 159)\"], [0.6614173228346456, \"rgb(246, 185, 157)\"], [0.6653543307086615, \"rgb(246, 183, 156)\"], [0.6692913385826772, \"rgb(246, 182, 154)\"], [0.6732283464566929, \"rgb(247, 181, 152)\"], [0.6771653543307087, \"rgb(247, 179, 151)\"], [0.6811023622047244, \"rgb(247, 178, 149)\"], [0.6850393700787402, \"rgb(247, 177, 148)\"], [0.6889763779527559, \"rgb(247, 176, 146)\"], [0.6929133858267716, \"rgb(247, 174, 145)\"], [0.6968503937007874, \"rgb(247, 173, 143)\"], [0.7007874015748031, \"rgb(246, 171, 141)\"], [0.7047244094488189, \"rgb(246, 170, 140)\"], [0.7086614173228346, \"rgb(246, 169, 138)\"], [0.7125984251968503, \"rgb(246, 167, 137)\"], [0.7165354330708661, \"rgb(246, 166, 135)\"], [0.7204724409448818, \"rgb(246, 164, 134)\"], [0.7244094488188977, \"rgb(246, 163, 132)\"], [0.7283464566929134, \"rgb(245, 161, 130)\"], [0.7322834645669292, \"rgb(245, 160, 129)\"], [0.7362204724409449, \"rgb(245, 158, 127)\"], [0.7401574803149606, \"rgb(244, 157, 126)\"], [0.7440944881889764, \"rgb(244, 155, 124)\"], [0.7480314960629921, \"rgb(244, 154, 123)\"], [0.7519685039370079, \"rgb(243, 152, 121)\"], [0.7559055118110236, \"rgb(243, 150, 120)\"], [0.7598425196850394, \"rgb(243, 149, 118)\"], [0.7637795275590551, \"rgb(242, 147, 117)\"], [0.7677165354330708, \"rgb(242, 145, 115)\"], [0.7716535433070866, \"rgb(241, 144, 114)\"], [0.7755905511811023, \"rgb(241, 142, 112)\"], [0.7795275590551181, \"rgb(240, 141, 111)\"], [0.7834645669291338, \"rgb(240, 139, 109)\"], [0.7874015748031495, \"rgb(239, 137, 108)\"], [0.7913385826771654, \"rgb(238, 135, 106)\"], [0.7952755905511811, \"rgb(238, 134, 105)\"], [0.7992125984251969, \"rgb(237, 132, 103)\"], [0.8031496062992126, \"rgb(236, 130, 102)\"], [0.8070866141732284, \"rgb(236, 128, 100)\"], [0.8110236220472441, \"rgb(235, 127, 99)\"], [0.8149606299212598, \"rgb(234, 125, 97)\"], [0.8188976377952756, \"rgb(234, 123, 96)\"], [0.8228346456692913, \"rgb(233, 121, 94)\"], [0.8267716535433071, \"rgb(232, 119, 93)\"], [0.8307086614173228, \"rgb(231, 117, 92)\"], [0.8346456692913385, \"rgb(230, 116, 90)\"], [0.8385826771653543, \"rgb(230, 114, 89)\"], [0.84251968503937, \"rgb(229, 112, 87)\"], [0.8464566929133858, \"rgb(228, 110, 86)\"], [0.8503937007874016, \"rgb(227, 108, 84)\"], [0.8543307086614174, \"rgb(226, 106, 83)\"], [0.8582677165354331, \"rgb(225, 104, 82)\"], [0.8622047244094488, \"rgb(224, 102, 80)\"], [0.8661417322834646, \"rgb(223, 100, 79)\"], [0.8700787401574803, \"rgb(222, 98, 78)\"], [0.8740157480314961, \"rgb(221, 96, 76)\"], [0.8779527559055118, \"rgb(220, 94, 75)\"], [0.8818897637795275, \"rgb(219, 92, 74)\"], [0.8858267716535433, \"rgb(218, 90, 72)\"], [0.889763779527559, \"rgb(217, 88, 71)\"], [0.8937007874015748, \"rgb(216, 86, 70)\"], [0.8976377952755905, \"rgb(215, 84, 68)\"], [0.9015748031496063, \"rgb(214, 82, 67)\"], [0.905511811023622, \"rgb(212, 79, 66)\"], [0.9094488188976377, \"rgb(211, 77, 64)\"], [0.9133858267716535, \"rgb(210, 75, 63)\"], [0.9173228346456693, \"rgb(209, 73, 62)\"], [0.9212598425196851, \"rgb(207, 70, 61)\"], [0.9251968503937008, \"rgb(206, 68, 60)\"], [0.9291338582677166, \"rgb(205, 66, 58)\"], [0.9330708661417323, \"rgb(204, 63, 57)\"], [0.937007874015748, \"rgb(202, 61, 56)\"], [0.9409448818897638, \"rgb(201, 59, 55)\"], [0.9448818897637795, \"rgb(200, 56, 53)\"], [0.9488188976377953, \"rgb(198, 53, 52)\"], [0.952755905511811, \"rgb(197, 50, 51)\"], [0.9566929133858267, \"rgb(196, 48, 50)\"], [0.9606299212598425, \"rgb(194, 45, 49)\"], [0.9645669291338582, \"rgb(193, 42, 48)\"], [0.968503937007874, \"rgb(191, 40, 46)\"], [0.9724409448818897, \"rgb(190, 35, 45)\"], [0.9763779527559056, \"rgb(188, 31, 44)\"], [0.9803149606299213, \"rgb(187, 26, 43)\"], [0.984251968503937, \"rgb(185, 22, 42)\"], [0.9881889763779528, \"rgb(184, 17, 41)\"], [0.9921259842519685, \"rgb(182, 13, 40)\"], [0.9960629921259843, \"rgb(181, 8, 39)\"], [1.0, \"rgb(179, 3, 38)\"]], \"reversescale\": false, \"showscale\": false, \"type\": \"heatmap\", \"uid\": \"6faee11b-aae1-4b26-b13f-bdc398c0c584\", \"x\": [\"lat\", \"lon\", \"synecho_abundance\", \"picoeuk_abundance\", \"prochloro_abundance\", \"sst\", \"sss\", \"chl\", \"NO3\", \"Fe\", \"O2\", \"PO4\", \"density_WOA_clim\", \"nitrate_WOA_clim\", \"phosphate_WOA_clim\", \"silicate_WOA_clim\"], \"y\": [\"lat\", \"lon\", \"synecho_abundance\", \"picoeuk_abundance\", \"prochloro_abundance\", \"sst\", \"sss\", \"chl\", \"NO3\", \"Fe\", \"O2\", \"PO4\", \"density_WOA_clim\", \"nitrate_WOA_clim\", \"phosphate_WOA_clim\", \"silicate_WOA_clim\"], \"z\": [[1.0, -0.029948480752416195, 0.6575024577933616, 0.8627956785586931, -0.8541240367696602, -0.9967461366499616, -0.9434814597661622, 0.7949422479960567, 0.9886421268385382, -0.45336085518970326, 0.9971691171381422, 0.8380923433883654, 0.9308436658328566, 0.6637160256360667, 0.8194107206386306, 0.2674373928441265], [-0.029948480752416195, 1.0, -0.0952251797713271, -0.08156197702066698, -0.06198971561708549, 0.03605483096587718, -0.10774164325233063, -0.04395328443990521, -0.07001781148604423, 0.1280215656371088, -0.032045687414871335, 0.04447873885675151, 0.08850606712363313, 0.09332516279268616, -0.010493214696006345, -0.15232896096885004], [0.6575024577933616, -0.0952251797713271, 1.0, 0.5774560299617608, -0.553692074953757, -0.6587441899062799, -0.6069461007636489, 0.39126370161831614, 0.658821436901263, -0.6388007459355262, 0.6586036626483154, 0.5725958219401904, 0.5147124431194343, 0.10889899367222299, 0.361951194315589, 0.48917157625764773], [0.8627956785586931, -0.08156197702066698, 0.5774560299617608, 1.0, -0.8065627584841041, -0.8750340267038327, -0.8187394171413565, 0.7529963969278314, 0.8702478986792219, -0.1842763687677957, 0.8704763696016458, 0.7733705858819389, 0.8609710269799273, 0.6265118912495253, 0.8186427347622753, 0.1401663852062077], [-0.8541240367696602, -0.06198971561708549, -0.553692074953757, -0.8065627584841041, 1.0, 0.8623286391030975, 0.8895998073744454, -0.6361983234682761, -0.857182513064632, 0.09077075891667206, -0.8560035169580026, -0.8843662460646412, -0.7988644820366344, -0.5288029938973862, -0.7770975181133706, -0.0056318067778219245], [-0.9967461366499616, 0.03605483096587718, -0.6587441899062799, -0.8750340267038327, 0.8623286391030975, 1.0, 0.9383135807032484, -0.7914516090534259, -0.9884371935379379, 0.4552641040992945, -0.9957925439409168, -0.8374190567694866, -0.9302425462983689, -0.6594634282409136, -0.8207143452254163, -0.2647055142890789], [-0.9434814597661622, -0.10774164325233063, -0.6069461007636489, -0.8187394171413565, 0.8895998073744454, 0.9383135807032484, 1.0, -0.7047559208317474, -0.9449954933726433, 0.2473910180486539, -0.9395489084348503, -0.942321031523528, -0.8664039402483181, -0.5022923153130672, -0.8015518336163188, -0.13522030868278434], [0.7949422479960567, -0.04395328443990521, 0.39126370161831614, 0.7529963969278314, -0.6361983234682761, -0.7914516090534259, -0.7047559208317474, 1.0, 0.7931876813563979, 0.06212360980121913, 0.7950155141284387, 0.6539744910017589, 0.7950330074254135, 0.780952178539588, 0.7885730914668045, -0.03558205236643087], [0.9886421268385382, -0.07001781148604423, 0.658821436901263, 0.8702478986792219, -0.857182513064632, -0.9884371935379379, -0.9449954933726433, 0.7931876813563979, 1.0, -0.4435398990959123, 0.9895221913962116, 0.851326755642264, 0.9249989825751611, 0.6454447596434243, 0.8279025027755257, 0.26712569899975047], [-0.45336085518970326, 0.1280215656371088, -0.6388007459355262, -0.1842763687677957, 0.09077075891667206, 0.4552641040992945, 0.2473910180486539, 0.06212360980121913, -0.4435398990959123, 1.0, -0.45255930634557506, -0.1668513977592777, -0.3057448699969626, 0.18118941071488312, -0.022630144134379717, -0.8887799556467092], [0.9971691171381422, -0.032045687414871335, 0.6586036626483154, 0.8704763696016458, -0.8560035169580026, -0.9957925439409168, -0.9395489084348503, 0.7950155141284387, 0.9895221913962116, -0.45255930634557506, 1.0, 0.8398851590458113, 0.9407135691500198, 0.6613426509994653, 0.8335133054929124, 0.2710829895412171], [0.8380923433883654, 0.04447873885675151, 0.5725958219401904, 0.7733705858819389, -0.8843662460646412, -0.8374190567694866, -0.942321031523528, 0.6539744910017589, 0.851326755642264, -0.1668513977592777, 0.8398851590458113, 1.0, 0.7812807382335347, 0.46631543789196717, 0.7781158198183568, -0.03505094916231781], [0.9308436658328566, 0.08850606712363313, 0.5147124431194343, 0.8609710269799273, -0.7988644820366344, -0.9302425462983689, -0.8664039402483181, 0.7950330074254135, 0.9249989825751611, -0.3057448699969626, 0.9407135691500198, 0.7812807382335347, 1.0, 0.6715066103157546, 0.9148461365702676, 0.3005544127530783], [0.6637160256360667, 0.09332516279268616, 0.10889899367222299, 0.6265118912495253, -0.5288029938973862, -0.6594634282409136, -0.5022923153130672, 0.780952178539588, 0.6454447596434243, 0.18118941071488312, 0.6613426509994653, 0.46631543789196717, 0.6715066103157546, 1.0, 0.6714348576600919, -0.10957924442465525], [0.8194107206386306, -0.010493214696006345, 0.361951194315589, 0.8186427347622753, -0.7770975181133706, -0.8207143452254163, -0.8015518336163188, 0.7885730914668045, 0.8279025027755257, -0.022630144134379717, 0.8335133054929124, 0.7781158198183568, 0.9148461365702676, 0.6714348576600919, 1.0, 0.027482057489206253], [0.2674373928441265, -0.15232896096885004, 0.48917157625764773, 0.1401663852062077, -0.0056318067778219245, -0.2647055142890789, -0.13522030868278434, -0.03558205236643087, 0.26712569899975047, -0.8887799556467092, 0.2710829895412171, -0.03505094916231781, 0.3005544127530783, -0.10957924442465525, 0.027482057489206253, 1.0]], \"zmax\": 1, \"zmin\": -1}],\n",
       "                        {\"annotations\": [{\"font\": {\"color\": \"#FFFFFF\"}, \"showarrow\": false, \"text\": \"1.0\", \"x\": \"lat\", \"xref\": \"x\", \"y\": \"lat\", \"yref\": \"y\"}, {\"font\": {\"color\": \"#FFFFFF\"}, \"showarrow\": false, \"text\": \"-0.03\", \"x\": \"lon\", \"xref\": \"x\", \"y\": \"lat\", \"yref\": \"y\"}, {\"font\": {\"color\": \"#FFFFFF\"}, \"showarrow\": false, \"text\": \"0.66\", \"x\": \"synecho_abundance\", \"xref\": \"x\", \"y\": \"lat\", \"yref\": \"y\"}, {\"font\": {\"color\": \"#FFFFFF\"}, \"showarrow\": false, \"text\": \"0.86\", \"x\": \"picoeuk_abundance\", \"xref\": \"x\", \"y\": \"lat\", \"yref\": \"y\"}, {\"font\": {\"color\": \"#FFFFFF\"}, \"showarrow\": false, \"text\": \"-0.85\", \"x\": \"prochloro_abundance\", \"xref\": \"x\", \"y\": \"lat\", \"yref\": \"y\"}, {\"font\": {\"color\": \"#FFFFFF\"}, \"showarrow\": false, \"text\": \"-1.0\", \"x\": \"sst\", \"xref\": \"x\", \"y\": \"lat\", \"yref\": \"y\"}, {\"font\": {\"color\": \"#FFFFFF\"}, \"showarrow\": false, \"text\": \"-0.94\", \"x\": \"sss\", \"xref\": \"x\", \"y\": \"lat\", \"yref\": \"y\"}, {\"font\": {\"color\": \"#FFFFFF\"}, \"showarrow\": false, \"text\": \"0.79\", \"x\": \"chl\", \"xref\": \"x\", \"y\": \"lat\", \"yref\": \"y\"}, {\"font\": {\"color\": \"#FFFFFF\"}, \"showarrow\": false, \"text\": \"0.99\", \"x\": \"NO3\", \"xref\": \"x\", \"y\": \"lat\", \"yref\": \"y\"}, {\"font\": {\"color\": \"#FFFFFF\"}, \"showarrow\": false, \"text\": \"-0.45\", \"x\": \"Fe\", \"xref\": \"x\", \"y\": \"lat\", \"yref\": \"y\"}, {\"font\": {\"color\": \"#FFFFFF\"}, \"showarrow\": false, \"text\": \"1.0\", \"x\": \"O2\", \"xref\": \"x\", \"y\": \"lat\", \"yref\": \"y\"}, {\"font\": {\"color\": \"#FFFFFF\"}, \"showarrow\": false, \"text\": \"0.84\", \"x\": \"PO4\", \"xref\": \"x\", \"y\": \"lat\", \"yref\": \"y\"}, {\"font\": {\"color\": \"#FFFFFF\"}, \"showarrow\": false, \"text\": \"0.93\", \"x\": \"density_WOA_clim\", \"xref\": \"x\", \"y\": \"lat\", \"yref\": \"y\"}, {\"font\": {\"color\": \"#FFFFFF\"}, \"showarrow\": false, \"text\": \"0.66\", \"x\": \"nitrate_WOA_clim\", \"xref\": \"x\", \"y\": \"lat\", \"yref\": \"y\"}, {\"font\": {\"color\": \"#FFFFFF\"}, \"showarrow\": false, \"text\": \"0.82\", \"x\": \"phosphate_WOA_clim\", \"xref\": \"x\", \"y\": \"lat\", \"yref\": \"y\"}, {\"font\": {\"color\": \"#FFFFFF\"}, \"showarrow\": false, \"text\": \"0.27\", \"x\": \"silicate_WOA_clim\", \"xref\": \"x\", \"y\": \"lat\", \"yref\": \"y\"}, {\"font\": {\"color\": \"#FFFFFF\"}, \"showarrow\": false, \"text\": \"-0.03\", \"x\": \"lat\", \"xref\": \"x\", \"y\": \"lon\", \"yref\": \"y\"}, {\"font\": {\"color\": \"#FFFFFF\"}, \"showarrow\": false, \"text\": \"1.0\", \"x\": \"lon\", \"xref\": \"x\", \"y\": \"lon\", \"yref\": \"y\"}, {\"font\": {\"color\": \"#FFFFFF\"}, \"showarrow\": false, \"text\": \"-0.1\", \"x\": \"synecho_abundance\", \"xref\": \"x\", \"y\": \"lon\", \"yref\": \"y\"}, {\"font\": {\"color\": \"#FFFFFF\"}, \"showarrow\": false, \"text\": \"-0.08\", \"x\": \"picoeuk_abundance\", \"xref\": \"x\", \"y\": \"lon\", \"yref\": \"y\"}, {\"font\": {\"color\": \"#FFFFFF\"}, \"showarrow\": false, \"text\": \"-0.06\", \"x\": \"prochloro_abundance\", \"xref\": \"x\", \"y\": \"lon\", \"yref\": \"y\"}, {\"font\": {\"color\": \"#FFFFFF\"}, \"showarrow\": false, \"text\": \"0.04\", \"x\": \"sst\", \"xref\": \"x\", \"y\": \"lon\", \"yref\": \"y\"}, {\"font\": {\"color\": \"#FFFFFF\"}, \"showarrow\": false, \"text\": \"-0.11\", \"x\": \"sss\", \"xref\": \"x\", \"y\": \"lon\", \"yref\": \"y\"}, {\"font\": {\"color\": \"#FFFFFF\"}, \"showarrow\": false, \"text\": \"-0.04\", \"x\": \"chl\", \"xref\": \"x\", \"y\": \"lon\", \"yref\": \"y\"}, {\"font\": {\"color\": \"#FFFFFF\"}, \"showarrow\": false, \"text\": \"-0.07\", \"x\": \"NO3\", \"xref\": \"x\", \"y\": \"lon\", \"yref\": \"y\"}, {\"font\": {\"color\": \"#FFFFFF\"}, \"showarrow\": false, \"text\": \"0.13\", \"x\": \"Fe\", \"xref\": \"x\", \"y\": \"lon\", \"yref\": \"y\"}, {\"font\": {\"color\": \"#FFFFFF\"}, \"showarrow\": false, \"text\": \"-0.03\", \"x\": \"O2\", \"xref\": \"x\", \"y\": \"lon\", \"yref\": \"y\"}, {\"font\": {\"color\": \"#FFFFFF\"}, \"showarrow\": false, \"text\": \"0.04\", \"x\": \"PO4\", \"xref\": \"x\", \"y\": \"lon\", \"yref\": \"y\"}, {\"font\": {\"color\": \"#FFFFFF\"}, \"showarrow\": false, \"text\": \"0.09\", \"x\": \"density_WOA_clim\", \"xref\": \"x\", \"y\": \"lon\", \"yref\": \"y\"}, {\"font\": {\"color\": \"#FFFFFF\"}, \"showarrow\": false, \"text\": \"0.09\", \"x\": \"nitrate_WOA_clim\", \"xref\": \"x\", \"y\": \"lon\", \"yref\": \"y\"}, {\"font\": {\"color\": \"#FFFFFF\"}, \"showarrow\": false, \"text\": \"-0.01\", \"x\": \"phosphate_WOA_clim\", \"xref\": \"x\", \"y\": \"lon\", \"yref\": \"y\"}, {\"font\": {\"color\": \"#FFFFFF\"}, \"showarrow\": false, \"text\": \"-0.15\", \"x\": \"silicate_WOA_clim\", \"xref\": \"x\", \"y\": \"lon\", \"yref\": \"y\"}, {\"font\": {\"color\": \"#FFFFFF\"}, \"showarrow\": false, \"text\": \"0.66\", \"x\": \"lat\", \"xref\": \"x\", \"y\": \"synecho_abundance\", \"yref\": \"y\"}, {\"font\": {\"color\": \"#FFFFFF\"}, \"showarrow\": false, \"text\": \"-0.1\", \"x\": \"lon\", \"xref\": \"x\", \"y\": \"synecho_abundance\", \"yref\": \"y\"}, {\"font\": {\"color\": \"#FFFFFF\"}, \"showarrow\": false, \"text\": \"1.0\", \"x\": \"synecho_abundance\", \"xref\": \"x\", \"y\": \"synecho_abundance\", \"yref\": \"y\"}, {\"font\": {\"color\": \"#FFFFFF\"}, \"showarrow\": false, \"text\": \"0.58\", \"x\": \"picoeuk_abundance\", \"xref\": \"x\", \"y\": \"synecho_abundance\", \"yref\": \"y\"}, {\"font\": {\"color\": \"#FFFFFF\"}, \"showarrow\": false, \"text\": \"-0.55\", \"x\": \"prochloro_abundance\", \"xref\": \"x\", \"y\": \"synecho_abundance\", \"yref\": \"y\"}, {\"font\": {\"color\": \"#FFFFFF\"}, \"showarrow\": false, \"text\": \"-0.66\", \"x\": \"sst\", \"xref\": \"x\", \"y\": \"synecho_abundance\", \"yref\": \"y\"}, {\"font\": {\"color\": \"#FFFFFF\"}, \"showarrow\": false, \"text\": \"-0.61\", \"x\": \"sss\", \"xref\": \"x\", \"y\": \"synecho_abundance\", \"yref\": \"y\"}, {\"font\": {\"color\": \"#FFFFFF\"}, \"showarrow\": false, \"text\": \"0.39\", \"x\": \"chl\", \"xref\": \"x\", \"y\": \"synecho_abundance\", \"yref\": \"y\"}, {\"font\": {\"color\": \"#FFFFFF\"}, \"showarrow\": false, \"text\": \"0.66\", \"x\": \"NO3\", \"xref\": \"x\", \"y\": \"synecho_abundance\", \"yref\": \"y\"}, {\"font\": {\"color\": \"#FFFFFF\"}, \"showarrow\": false, \"text\": \"-0.64\", \"x\": \"Fe\", \"xref\": \"x\", \"y\": \"synecho_abundance\", \"yref\": \"y\"}, {\"font\": {\"color\": \"#FFFFFF\"}, \"showarrow\": false, \"text\": \"0.66\", \"x\": \"O2\", \"xref\": \"x\", \"y\": \"synecho_abundance\", \"yref\": \"y\"}, {\"font\": {\"color\": \"#FFFFFF\"}, \"showarrow\": false, \"text\": \"0.57\", \"x\": \"PO4\", \"xref\": \"x\", \"y\": \"synecho_abundance\", \"yref\": \"y\"}, {\"font\": {\"color\": \"#FFFFFF\"}, \"showarrow\": false, \"text\": \"0.51\", \"x\": \"density_WOA_clim\", \"xref\": \"x\", \"y\": \"synecho_abundance\", \"yref\": \"y\"}, {\"font\": {\"color\": \"#FFFFFF\"}, \"showarrow\": false, \"text\": \"0.11\", \"x\": \"nitrate_WOA_clim\", \"xref\": \"x\", \"y\": \"synecho_abundance\", \"yref\": \"y\"}, {\"font\": {\"color\": \"#FFFFFF\"}, \"showarrow\": false, \"text\": \"0.36\", \"x\": \"phosphate_WOA_clim\", \"xref\": \"x\", \"y\": \"synecho_abundance\", \"yref\": \"y\"}, {\"font\": {\"color\": \"#FFFFFF\"}, \"showarrow\": false, \"text\": \"0.49\", \"x\": \"silicate_WOA_clim\", \"xref\": \"x\", \"y\": \"synecho_abundance\", \"yref\": \"y\"}, {\"font\": {\"color\": \"#FFFFFF\"}, \"showarrow\": false, \"text\": \"0.86\", \"x\": \"lat\", \"xref\": \"x\", \"y\": \"picoeuk_abundance\", \"yref\": \"y\"}, {\"font\": {\"color\": \"#FFFFFF\"}, \"showarrow\": false, \"text\": \"-0.08\", \"x\": \"lon\", \"xref\": \"x\", \"y\": \"picoeuk_abundance\", \"yref\": \"y\"}, {\"font\": {\"color\": \"#FFFFFF\"}, \"showarrow\": false, \"text\": \"0.58\", \"x\": \"synecho_abundance\", \"xref\": \"x\", \"y\": \"picoeuk_abundance\", \"yref\": \"y\"}, {\"font\": {\"color\": \"#FFFFFF\"}, \"showarrow\": false, \"text\": \"1.0\", \"x\": \"picoeuk_abundance\", \"xref\": \"x\", \"y\": \"picoeuk_abundance\", \"yref\": \"y\"}, {\"font\": {\"color\": \"#FFFFFF\"}, \"showarrow\": false, \"text\": \"-0.81\", \"x\": \"prochloro_abundance\", \"xref\": \"x\", \"y\": \"picoeuk_abundance\", \"yref\": \"y\"}, {\"font\": {\"color\": \"#FFFFFF\"}, \"showarrow\": false, \"text\": \"-0.88\", \"x\": \"sst\", \"xref\": \"x\", \"y\": \"picoeuk_abundance\", \"yref\": \"y\"}, {\"font\": {\"color\": \"#FFFFFF\"}, \"showarrow\": false, \"text\": \"-0.82\", \"x\": \"sss\", \"xref\": \"x\", \"y\": \"picoeuk_abundance\", \"yref\": \"y\"}, {\"font\": {\"color\": \"#FFFFFF\"}, \"showarrow\": false, \"text\": \"0.75\", \"x\": \"chl\", \"xref\": \"x\", \"y\": \"picoeuk_abundance\", \"yref\": \"y\"}, {\"font\": {\"color\": \"#FFFFFF\"}, \"showarrow\": false, \"text\": \"0.87\", \"x\": \"NO3\", \"xref\": \"x\", \"y\": \"picoeuk_abundance\", \"yref\": \"y\"}, {\"font\": {\"color\": \"#FFFFFF\"}, \"showarrow\": false, \"text\": \"-0.18\", \"x\": \"Fe\", \"xref\": \"x\", \"y\": \"picoeuk_abundance\", \"yref\": \"y\"}, {\"font\": {\"color\": \"#FFFFFF\"}, \"showarrow\": false, \"text\": \"0.87\", \"x\": \"O2\", \"xref\": \"x\", \"y\": \"picoeuk_abundance\", \"yref\": \"y\"}, {\"font\": {\"color\": \"#FFFFFF\"}, \"showarrow\": false, \"text\": \"0.77\", \"x\": \"PO4\", \"xref\": \"x\", \"y\": \"picoeuk_abundance\", \"yref\": \"y\"}, {\"font\": {\"color\": \"#FFFFFF\"}, \"showarrow\": false, \"text\": \"0.86\", \"x\": \"density_WOA_clim\", \"xref\": \"x\", \"y\": \"picoeuk_abundance\", \"yref\": \"y\"}, {\"font\": {\"color\": \"#FFFFFF\"}, \"showarrow\": false, \"text\": \"0.63\", \"x\": \"nitrate_WOA_clim\", \"xref\": \"x\", \"y\": \"picoeuk_abundance\", \"yref\": \"y\"}, {\"font\": {\"color\": \"#FFFFFF\"}, \"showarrow\": false, \"text\": \"0.82\", \"x\": \"phosphate_WOA_clim\", \"xref\": \"x\", \"y\": \"picoeuk_abundance\", \"yref\": \"y\"}, {\"font\": {\"color\": \"#FFFFFF\"}, \"showarrow\": false, \"text\": \"0.14\", \"x\": \"silicate_WOA_clim\", \"xref\": \"x\", \"y\": \"picoeuk_abundance\", \"yref\": \"y\"}, {\"font\": {\"color\": \"#FFFFFF\"}, \"showarrow\": false, \"text\": \"-0.85\", \"x\": \"lat\", \"xref\": \"x\", \"y\": \"prochloro_abundance\", \"yref\": \"y\"}, {\"font\": {\"color\": \"#FFFFFF\"}, \"showarrow\": false, \"text\": \"-0.06\", \"x\": \"lon\", \"xref\": \"x\", \"y\": \"prochloro_abundance\", \"yref\": \"y\"}, {\"font\": {\"color\": \"#FFFFFF\"}, \"showarrow\": false, \"text\": \"-0.55\", \"x\": \"synecho_abundance\", \"xref\": \"x\", \"y\": \"prochloro_abundance\", \"yref\": \"y\"}, {\"font\": {\"color\": \"#FFFFFF\"}, \"showarrow\": false, \"text\": \"-0.81\", \"x\": \"picoeuk_abundance\", \"xref\": \"x\", \"y\": \"prochloro_abundance\", \"yref\": \"y\"}, {\"font\": {\"color\": \"#FFFFFF\"}, \"showarrow\": false, \"text\": \"1.0\", \"x\": \"prochloro_abundance\", \"xref\": \"x\", \"y\": \"prochloro_abundance\", \"yref\": \"y\"}, {\"font\": {\"color\": \"#FFFFFF\"}, \"showarrow\": false, \"text\": \"0.86\", \"x\": \"sst\", \"xref\": \"x\", \"y\": \"prochloro_abundance\", \"yref\": \"y\"}, {\"font\": {\"color\": \"#FFFFFF\"}, \"showarrow\": false, \"text\": \"0.89\", \"x\": \"sss\", \"xref\": \"x\", \"y\": \"prochloro_abundance\", \"yref\": \"y\"}, {\"font\": {\"color\": \"#FFFFFF\"}, \"showarrow\": false, \"text\": \"-0.64\", \"x\": \"chl\", \"xref\": \"x\", \"y\": \"prochloro_abundance\", \"yref\": \"y\"}, {\"font\": {\"color\": \"#FFFFFF\"}, \"showarrow\": false, \"text\": \"-0.86\", \"x\": \"NO3\", \"xref\": \"x\", \"y\": \"prochloro_abundance\", \"yref\": \"y\"}, {\"font\": {\"color\": \"#FFFFFF\"}, \"showarrow\": false, \"text\": \"0.09\", \"x\": \"Fe\", \"xref\": \"x\", \"y\": \"prochloro_abundance\", \"yref\": \"y\"}, {\"font\": {\"color\": \"#FFFFFF\"}, \"showarrow\": false, \"text\": \"-0.86\", \"x\": \"O2\", \"xref\": \"x\", \"y\": \"prochloro_abundance\", \"yref\": \"y\"}, {\"font\": {\"color\": \"#FFFFFF\"}, \"showarrow\": false, \"text\": \"-0.88\", \"x\": \"PO4\", \"xref\": \"x\", \"y\": \"prochloro_abundance\", \"yref\": \"y\"}, {\"font\": {\"color\": \"#FFFFFF\"}, \"showarrow\": false, \"text\": \"-0.8\", \"x\": \"density_WOA_clim\", \"xref\": \"x\", \"y\": \"prochloro_abundance\", \"yref\": \"y\"}, {\"font\": {\"color\": \"#FFFFFF\"}, \"showarrow\": false, \"text\": \"-0.53\", \"x\": \"nitrate_WOA_clim\", \"xref\": \"x\", \"y\": \"prochloro_abundance\", \"yref\": \"y\"}, {\"font\": {\"color\": \"#FFFFFF\"}, \"showarrow\": false, \"text\": \"-0.78\", \"x\": \"phosphate_WOA_clim\", \"xref\": \"x\", \"y\": \"prochloro_abundance\", \"yref\": \"y\"}, {\"font\": {\"color\": \"#FFFFFF\"}, \"showarrow\": false, \"text\": \"-0.01\", \"x\": \"silicate_WOA_clim\", \"xref\": \"x\", \"y\": \"prochloro_abundance\", \"yref\": \"y\"}, {\"font\": {\"color\": \"#FFFFFF\"}, \"showarrow\": false, \"text\": \"-1.0\", \"x\": \"lat\", \"xref\": \"x\", \"y\": \"sst\", \"yref\": \"y\"}, {\"font\": {\"color\": \"#FFFFFF\"}, \"showarrow\": false, \"text\": \"0.04\", \"x\": \"lon\", \"xref\": \"x\", \"y\": \"sst\", \"yref\": \"y\"}, {\"font\": {\"color\": \"#FFFFFF\"}, \"showarrow\": false, \"text\": \"-0.66\", \"x\": \"synecho_abundance\", \"xref\": \"x\", \"y\": \"sst\", \"yref\": \"y\"}, {\"font\": {\"color\": \"#FFFFFF\"}, \"showarrow\": false, \"text\": \"-0.88\", \"x\": \"picoeuk_abundance\", \"xref\": \"x\", \"y\": \"sst\", \"yref\": \"y\"}, {\"font\": {\"color\": \"#FFFFFF\"}, \"showarrow\": false, \"text\": \"0.86\", \"x\": \"prochloro_abundance\", \"xref\": \"x\", \"y\": \"sst\", \"yref\": \"y\"}, {\"font\": {\"color\": \"#FFFFFF\"}, \"showarrow\": false, \"text\": \"1.0\", \"x\": \"sst\", \"xref\": \"x\", \"y\": \"sst\", \"yref\": \"y\"}, {\"font\": {\"color\": \"#FFFFFF\"}, \"showarrow\": false, \"text\": \"0.94\", \"x\": \"sss\", \"xref\": \"x\", \"y\": \"sst\", \"yref\": \"y\"}, {\"font\": {\"color\": \"#FFFFFF\"}, \"showarrow\": false, \"text\": \"-0.79\", \"x\": \"chl\", \"xref\": \"x\", \"y\": \"sst\", \"yref\": \"y\"}, {\"font\": {\"color\": \"#FFFFFF\"}, \"showarrow\": false, \"text\": \"-0.99\", \"x\": \"NO3\", \"xref\": \"x\", \"y\": \"sst\", \"yref\": \"y\"}, {\"font\": {\"color\": \"#FFFFFF\"}, \"showarrow\": false, \"text\": \"0.46\", \"x\": \"Fe\", \"xref\": \"x\", \"y\": \"sst\", \"yref\": \"y\"}, {\"font\": {\"color\": \"#FFFFFF\"}, \"showarrow\": false, \"text\": \"-1.0\", \"x\": \"O2\", \"xref\": \"x\", \"y\": \"sst\", \"yref\": \"y\"}, {\"font\": {\"color\": \"#FFFFFF\"}, \"showarrow\": false, \"text\": \"-0.84\", \"x\": \"PO4\", \"xref\": \"x\", \"y\": \"sst\", \"yref\": \"y\"}, {\"font\": {\"color\": \"#FFFFFF\"}, \"showarrow\": false, \"text\": \"-0.93\", \"x\": \"density_WOA_clim\", \"xref\": \"x\", \"y\": \"sst\", \"yref\": \"y\"}, {\"font\": {\"color\": \"#FFFFFF\"}, \"showarrow\": false, \"text\": \"-0.66\", \"x\": \"nitrate_WOA_clim\", \"xref\": \"x\", \"y\": \"sst\", \"yref\": \"y\"}, {\"font\": {\"color\": \"#FFFFFF\"}, \"showarrow\": false, \"text\": \"-0.82\", \"x\": \"phosphate_WOA_clim\", \"xref\": \"x\", \"y\": \"sst\", \"yref\": \"y\"}, {\"font\": {\"color\": \"#FFFFFF\"}, \"showarrow\": false, \"text\": \"-0.26\", \"x\": \"silicate_WOA_clim\", \"xref\": \"x\", \"y\": \"sst\", \"yref\": \"y\"}, {\"font\": {\"color\": \"#FFFFFF\"}, \"showarrow\": false, \"text\": \"-0.94\", \"x\": \"lat\", \"xref\": \"x\", \"y\": \"sss\", \"yref\": \"y\"}, {\"font\": {\"color\": \"#FFFFFF\"}, \"showarrow\": false, \"text\": \"-0.11\", \"x\": \"lon\", \"xref\": \"x\", \"y\": \"sss\", \"yref\": \"y\"}, {\"font\": {\"color\": \"#FFFFFF\"}, \"showarrow\": false, \"text\": \"-0.61\", \"x\": \"synecho_abundance\", \"xref\": \"x\", \"y\": \"sss\", \"yref\": \"y\"}, {\"font\": {\"color\": \"#FFFFFF\"}, \"showarrow\": false, \"text\": \"-0.82\", \"x\": \"picoeuk_abundance\", \"xref\": \"x\", \"y\": \"sss\", \"yref\": \"y\"}, {\"font\": {\"color\": \"#FFFFFF\"}, \"showarrow\": false, \"text\": \"0.89\", \"x\": \"prochloro_abundance\", \"xref\": \"x\", \"y\": \"sss\", \"yref\": \"y\"}, {\"font\": {\"color\": \"#FFFFFF\"}, \"showarrow\": false, \"text\": \"0.94\", \"x\": \"sst\", \"xref\": \"x\", \"y\": \"sss\", \"yref\": \"y\"}, {\"font\": {\"color\": \"#FFFFFF\"}, \"showarrow\": false, \"text\": \"1.0\", \"x\": \"sss\", \"xref\": \"x\", \"y\": \"sss\", \"yref\": \"y\"}, {\"font\": {\"color\": \"#FFFFFF\"}, \"showarrow\": false, \"text\": \"-0.7\", \"x\": \"chl\", \"xref\": \"x\", \"y\": \"sss\", \"yref\": \"y\"}, {\"font\": {\"color\": \"#FFFFFF\"}, \"showarrow\": false, \"text\": \"-0.94\", \"x\": \"NO3\", \"xref\": \"x\", \"y\": \"sss\", \"yref\": \"y\"}, {\"font\": {\"color\": \"#FFFFFF\"}, \"showarrow\": false, \"text\": \"0.25\", \"x\": \"Fe\", \"xref\": \"x\", \"y\": \"sss\", \"yref\": \"y\"}, {\"font\": {\"color\": \"#FFFFFF\"}, \"showarrow\": false, \"text\": \"-0.94\", \"x\": \"O2\", \"xref\": \"x\", \"y\": \"sss\", \"yref\": \"y\"}, {\"font\": {\"color\": \"#FFFFFF\"}, \"showarrow\": false, \"text\": \"-0.94\", \"x\": \"PO4\", \"xref\": \"x\", \"y\": \"sss\", \"yref\": \"y\"}, {\"font\": {\"color\": \"#FFFFFF\"}, \"showarrow\": false, \"text\": \"-0.87\", \"x\": \"density_WOA_clim\", \"xref\": \"x\", \"y\": \"sss\", \"yref\": \"y\"}, {\"font\": {\"color\": \"#FFFFFF\"}, \"showarrow\": false, \"text\": \"-0.5\", \"x\": \"nitrate_WOA_clim\", \"xref\": \"x\", \"y\": \"sss\", \"yref\": \"y\"}, {\"font\": {\"color\": \"#FFFFFF\"}, \"showarrow\": false, \"text\": \"-0.8\", \"x\": \"phosphate_WOA_clim\", \"xref\": \"x\", \"y\": \"sss\", \"yref\": \"y\"}, {\"font\": {\"color\": \"#FFFFFF\"}, \"showarrow\": false, \"text\": \"-0.14\", \"x\": \"silicate_WOA_clim\", \"xref\": \"x\", \"y\": \"sss\", \"yref\": \"y\"}, {\"font\": {\"color\": \"#FFFFFF\"}, \"showarrow\": false, \"text\": \"0.79\", \"x\": \"lat\", \"xref\": \"x\", \"y\": \"chl\", \"yref\": \"y\"}, {\"font\": {\"color\": \"#FFFFFF\"}, \"showarrow\": false, \"text\": \"-0.04\", \"x\": \"lon\", \"xref\": \"x\", \"y\": \"chl\", \"yref\": \"y\"}, {\"font\": {\"color\": \"#FFFFFF\"}, \"showarrow\": false, \"text\": \"0.39\", \"x\": \"synecho_abundance\", \"xref\": \"x\", \"y\": \"chl\", \"yref\": \"y\"}, {\"font\": {\"color\": \"#FFFFFF\"}, \"showarrow\": false, \"text\": \"0.75\", \"x\": \"picoeuk_abundance\", \"xref\": \"x\", \"y\": \"chl\", \"yref\": \"y\"}, {\"font\": {\"color\": \"#FFFFFF\"}, \"showarrow\": false, \"text\": \"-0.64\", \"x\": \"prochloro_abundance\", \"xref\": \"x\", \"y\": \"chl\", \"yref\": \"y\"}, {\"font\": {\"color\": \"#FFFFFF\"}, \"showarrow\": false, \"text\": \"-0.79\", \"x\": \"sst\", \"xref\": \"x\", \"y\": \"chl\", \"yref\": \"y\"}, {\"font\": {\"color\": \"#FFFFFF\"}, \"showarrow\": false, \"text\": \"-0.7\", \"x\": \"sss\", \"xref\": \"x\", \"y\": \"chl\", \"yref\": \"y\"}, {\"font\": {\"color\": \"#FFFFFF\"}, \"showarrow\": false, \"text\": \"1.0\", \"x\": \"chl\", \"xref\": \"x\", \"y\": \"chl\", \"yref\": \"y\"}, {\"font\": {\"color\": \"#FFFFFF\"}, \"showarrow\": false, \"text\": \"0.79\", \"x\": \"NO3\", \"xref\": \"x\", \"y\": \"chl\", \"yref\": \"y\"}, {\"font\": {\"color\": \"#FFFFFF\"}, \"showarrow\": false, \"text\": \"0.06\", \"x\": \"Fe\", \"xref\": \"x\", \"y\": \"chl\", \"yref\": \"y\"}, {\"font\": {\"color\": \"#FFFFFF\"}, \"showarrow\": false, \"text\": \"0.8\", \"x\": \"O2\", \"xref\": \"x\", \"y\": \"chl\", \"yref\": \"y\"}, {\"font\": {\"color\": \"#FFFFFF\"}, \"showarrow\": false, \"text\": \"0.65\", \"x\": \"PO4\", \"xref\": \"x\", \"y\": \"chl\", \"yref\": \"y\"}, {\"font\": {\"color\": \"#FFFFFF\"}, \"showarrow\": false, \"text\": \"0.8\", \"x\": \"density_WOA_clim\", \"xref\": \"x\", \"y\": \"chl\", \"yref\": \"y\"}, {\"font\": {\"color\": \"#FFFFFF\"}, \"showarrow\": false, \"text\": \"0.78\", \"x\": \"nitrate_WOA_clim\", \"xref\": \"x\", \"y\": \"chl\", \"yref\": \"y\"}, {\"font\": {\"color\": \"#FFFFFF\"}, \"showarrow\": false, \"text\": \"0.79\", \"x\": \"phosphate_WOA_clim\", \"xref\": \"x\", \"y\": \"chl\", \"yref\": \"y\"}, {\"font\": {\"color\": \"#FFFFFF\"}, \"showarrow\": false, \"text\": \"-0.04\", \"x\": \"silicate_WOA_clim\", \"xref\": \"x\", \"y\": \"chl\", \"yref\": \"y\"}, {\"font\": {\"color\": \"#FFFFFF\"}, \"showarrow\": false, \"text\": \"0.99\", \"x\": \"lat\", \"xref\": \"x\", \"y\": \"NO3\", \"yref\": \"y\"}, {\"font\": {\"color\": \"#FFFFFF\"}, \"showarrow\": false, \"text\": \"-0.07\", \"x\": \"lon\", \"xref\": \"x\", \"y\": \"NO3\", \"yref\": \"y\"}, {\"font\": {\"color\": \"#FFFFFF\"}, \"showarrow\": false, \"text\": \"0.66\", \"x\": \"synecho_abundance\", \"xref\": \"x\", \"y\": \"NO3\", \"yref\": \"y\"}, {\"font\": {\"color\": \"#FFFFFF\"}, \"showarrow\": false, \"text\": \"0.87\", \"x\": \"picoeuk_abundance\", \"xref\": \"x\", \"y\": \"NO3\", \"yref\": \"y\"}, {\"font\": {\"color\": \"#FFFFFF\"}, \"showarrow\": false, \"text\": \"-0.86\", \"x\": \"prochloro_abundance\", \"xref\": \"x\", \"y\": \"NO3\", \"yref\": \"y\"}, {\"font\": {\"color\": \"#FFFFFF\"}, \"showarrow\": false, \"text\": \"-0.99\", \"x\": \"sst\", \"xref\": \"x\", \"y\": \"NO3\", \"yref\": \"y\"}, {\"font\": {\"color\": \"#FFFFFF\"}, \"showarrow\": false, \"text\": \"-0.94\", \"x\": \"sss\", \"xref\": \"x\", \"y\": \"NO3\", \"yref\": \"y\"}, {\"font\": {\"color\": \"#FFFFFF\"}, \"showarrow\": false, \"text\": \"0.79\", \"x\": \"chl\", \"xref\": \"x\", \"y\": \"NO3\", \"yref\": \"y\"}, {\"font\": {\"color\": \"#FFFFFF\"}, \"showarrow\": false, \"text\": \"1.0\", \"x\": \"NO3\", \"xref\": \"x\", \"y\": \"NO3\", \"yref\": \"y\"}, {\"font\": {\"color\": \"#FFFFFF\"}, \"showarrow\": false, \"text\": \"-0.44\", \"x\": \"Fe\", \"xref\": \"x\", \"y\": \"NO3\", \"yref\": \"y\"}, {\"font\": {\"color\": \"#FFFFFF\"}, \"showarrow\": false, \"text\": \"0.99\", \"x\": \"O2\", \"xref\": \"x\", \"y\": \"NO3\", \"yref\": \"y\"}, {\"font\": {\"color\": \"#FFFFFF\"}, \"showarrow\": false, \"text\": \"0.85\", \"x\": \"PO4\", \"xref\": \"x\", \"y\": \"NO3\", \"yref\": \"y\"}, {\"font\": {\"color\": \"#FFFFFF\"}, \"showarrow\": false, \"text\": \"0.92\", \"x\": \"density_WOA_clim\", \"xref\": \"x\", \"y\": \"NO3\", \"yref\": \"y\"}, {\"font\": {\"color\": \"#FFFFFF\"}, \"showarrow\": false, \"text\": \"0.65\", \"x\": \"nitrate_WOA_clim\", \"xref\": \"x\", \"y\": \"NO3\", \"yref\": \"y\"}, {\"font\": {\"color\": \"#FFFFFF\"}, \"showarrow\": false, \"text\": \"0.83\", \"x\": \"phosphate_WOA_clim\", \"xref\": \"x\", \"y\": \"NO3\", \"yref\": \"y\"}, {\"font\": {\"color\": \"#FFFFFF\"}, \"showarrow\": false, \"text\": \"0.27\", \"x\": \"silicate_WOA_clim\", \"xref\": \"x\", \"y\": \"NO3\", \"yref\": \"y\"}, {\"font\": {\"color\": \"#FFFFFF\"}, \"showarrow\": false, \"text\": \"-0.45\", \"x\": \"lat\", \"xref\": \"x\", \"y\": \"Fe\", \"yref\": \"y\"}, {\"font\": {\"color\": \"#FFFFFF\"}, \"showarrow\": false, \"text\": \"0.13\", \"x\": \"lon\", \"xref\": \"x\", \"y\": \"Fe\", \"yref\": \"y\"}, {\"font\": {\"color\": \"#FFFFFF\"}, \"showarrow\": false, \"text\": \"-0.64\", \"x\": \"synecho_abundance\", \"xref\": \"x\", \"y\": \"Fe\", \"yref\": \"y\"}, {\"font\": {\"color\": \"#FFFFFF\"}, \"showarrow\": false, \"text\": \"-0.18\", \"x\": \"picoeuk_abundance\", \"xref\": \"x\", \"y\": \"Fe\", \"yref\": \"y\"}, {\"font\": {\"color\": \"#FFFFFF\"}, \"showarrow\": false, \"text\": \"0.09\", \"x\": \"prochloro_abundance\", \"xref\": \"x\", \"y\": \"Fe\", \"yref\": \"y\"}, {\"font\": {\"color\": \"#FFFFFF\"}, \"showarrow\": false, \"text\": \"0.46\", \"x\": \"sst\", \"xref\": \"x\", \"y\": \"Fe\", \"yref\": \"y\"}, {\"font\": {\"color\": \"#FFFFFF\"}, \"showarrow\": false, \"text\": \"0.25\", \"x\": \"sss\", \"xref\": \"x\", \"y\": \"Fe\", \"yref\": \"y\"}, {\"font\": {\"color\": \"#FFFFFF\"}, \"showarrow\": false, \"text\": \"0.06\", \"x\": \"chl\", \"xref\": \"x\", \"y\": \"Fe\", \"yref\": \"y\"}, {\"font\": {\"color\": \"#FFFFFF\"}, \"showarrow\": false, \"text\": \"-0.44\", \"x\": \"NO3\", \"xref\": \"x\", \"y\": \"Fe\", \"yref\": \"y\"}, {\"font\": {\"color\": \"#FFFFFF\"}, \"showarrow\": false, \"text\": \"1.0\", \"x\": \"Fe\", \"xref\": \"x\", \"y\": \"Fe\", \"yref\": \"y\"}, {\"font\": {\"color\": \"#FFFFFF\"}, \"showarrow\": false, \"text\": \"-0.45\", \"x\": \"O2\", \"xref\": \"x\", \"y\": \"Fe\", \"yref\": \"y\"}, {\"font\": {\"color\": \"#FFFFFF\"}, \"showarrow\": false, \"text\": \"-0.17\", \"x\": \"PO4\", \"xref\": \"x\", \"y\": \"Fe\", \"yref\": \"y\"}, {\"font\": {\"color\": \"#FFFFFF\"}, \"showarrow\": false, \"text\": \"-0.31\", \"x\": \"density_WOA_clim\", \"xref\": \"x\", \"y\": \"Fe\", \"yref\": \"y\"}, {\"font\": {\"color\": \"#FFFFFF\"}, \"showarrow\": false, \"text\": \"0.18\", \"x\": \"nitrate_WOA_clim\", \"xref\": \"x\", \"y\": \"Fe\", \"yref\": \"y\"}, {\"font\": {\"color\": \"#FFFFFF\"}, \"showarrow\": false, \"text\": \"-0.02\", \"x\": \"phosphate_WOA_clim\", \"xref\": \"x\", \"y\": \"Fe\", \"yref\": \"y\"}, {\"font\": {\"color\": \"#FFFFFF\"}, \"showarrow\": false, \"text\": \"-0.89\", \"x\": \"silicate_WOA_clim\", \"xref\": \"x\", \"y\": \"Fe\", \"yref\": \"y\"}, {\"font\": {\"color\": \"#FFFFFF\"}, \"showarrow\": false, \"text\": \"1.0\", \"x\": \"lat\", \"xref\": \"x\", \"y\": \"O2\", \"yref\": \"y\"}, {\"font\": {\"color\": \"#FFFFFF\"}, \"showarrow\": false, \"text\": \"-0.03\", \"x\": \"lon\", \"xref\": \"x\", \"y\": \"O2\", \"yref\": \"y\"}, {\"font\": {\"color\": \"#FFFFFF\"}, \"showarrow\": false, \"text\": \"0.66\", \"x\": \"synecho_abundance\", \"xref\": \"x\", \"y\": \"O2\", \"yref\": \"y\"}, {\"font\": {\"color\": \"#FFFFFF\"}, \"showarrow\": false, \"text\": \"0.87\", \"x\": \"picoeuk_abundance\", \"xref\": \"x\", \"y\": \"O2\", \"yref\": \"y\"}, {\"font\": {\"color\": \"#FFFFFF\"}, \"showarrow\": false, \"text\": \"-0.86\", \"x\": \"prochloro_abundance\", \"xref\": \"x\", \"y\": \"O2\", \"yref\": \"y\"}, {\"font\": {\"color\": \"#FFFFFF\"}, \"showarrow\": false, \"text\": \"-1.0\", \"x\": \"sst\", \"xref\": \"x\", \"y\": \"O2\", \"yref\": \"y\"}, {\"font\": {\"color\": \"#FFFFFF\"}, \"showarrow\": false, \"text\": \"-0.94\", \"x\": \"sss\", \"xref\": \"x\", \"y\": \"O2\", \"yref\": \"y\"}, {\"font\": {\"color\": \"#FFFFFF\"}, \"showarrow\": false, \"text\": \"0.8\", \"x\": \"chl\", \"xref\": \"x\", \"y\": \"O2\", \"yref\": \"y\"}, {\"font\": {\"color\": \"#FFFFFF\"}, \"showarrow\": false, \"text\": \"0.99\", \"x\": \"NO3\", \"xref\": \"x\", \"y\": \"O2\", \"yref\": \"y\"}, {\"font\": {\"color\": \"#FFFFFF\"}, \"showarrow\": false, \"text\": \"-0.45\", \"x\": \"Fe\", \"xref\": \"x\", \"y\": \"O2\", \"yref\": \"y\"}, {\"font\": {\"color\": \"#FFFFFF\"}, \"showarrow\": false, \"text\": \"1.0\", \"x\": \"O2\", \"xref\": \"x\", \"y\": \"O2\", \"yref\": \"y\"}, {\"font\": {\"color\": \"#FFFFFF\"}, \"showarrow\": false, \"text\": \"0.84\", \"x\": \"PO4\", \"xref\": \"x\", \"y\": \"O2\", \"yref\": \"y\"}, {\"font\": {\"color\": \"#FFFFFF\"}, \"showarrow\": false, \"text\": \"0.94\", \"x\": \"density_WOA_clim\", \"xref\": \"x\", \"y\": \"O2\", \"yref\": \"y\"}, {\"font\": {\"color\": \"#FFFFFF\"}, \"showarrow\": false, \"text\": \"0.66\", \"x\": \"nitrate_WOA_clim\", \"xref\": \"x\", \"y\": \"O2\", \"yref\": \"y\"}, {\"font\": {\"color\": \"#FFFFFF\"}, \"showarrow\": false, \"text\": \"0.83\", \"x\": \"phosphate_WOA_clim\", \"xref\": \"x\", \"y\": \"O2\", \"yref\": \"y\"}, {\"font\": {\"color\": \"#FFFFFF\"}, \"showarrow\": false, \"text\": \"0.27\", \"x\": \"silicate_WOA_clim\", \"xref\": \"x\", \"y\": \"O2\", \"yref\": \"y\"}, {\"font\": {\"color\": \"#FFFFFF\"}, \"showarrow\": false, \"text\": \"0.84\", \"x\": \"lat\", \"xref\": \"x\", \"y\": \"PO4\", \"yref\": \"y\"}, {\"font\": {\"color\": \"#FFFFFF\"}, \"showarrow\": false, \"text\": \"0.04\", \"x\": \"lon\", \"xref\": \"x\", \"y\": \"PO4\", \"yref\": \"y\"}, {\"font\": {\"color\": \"#FFFFFF\"}, \"showarrow\": false, \"text\": \"0.57\", \"x\": \"synecho_abundance\", \"xref\": \"x\", \"y\": \"PO4\", \"yref\": \"y\"}, {\"font\": {\"color\": \"#FFFFFF\"}, \"showarrow\": false, \"text\": \"0.77\", \"x\": \"picoeuk_abundance\", \"xref\": \"x\", \"y\": \"PO4\", \"yref\": \"y\"}, {\"font\": {\"color\": \"#FFFFFF\"}, \"showarrow\": false, \"text\": \"-0.88\", \"x\": \"prochloro_abundance\", \"xref\": \"x\", \"y\": \"PO4\", \"yref\": \"y\"}, {\"font\": {\"color\": \"#FFFFFF\"}, \"showarrow\": false, \"text\": \"-0.84\", \"x\": \"sst\", \"xref\": \"x\", \"y\": \"PO4\", \"yref\": \"y\"}, {\"font\": {\"color\": \"#FFFFFF\"}, \"showarrow\": false, \"text\": \"-0.94\", \"x\": \"sss\", \"xref\": \"x\", \"y\": \"PO4\", \"yref\": \"y\"}, {\"font\": {\"color\": \"#FFFFFF\"}, \"showarrow\": false, \"text\": \"0.65\", \"x\": \"chl\", \"xref\": \"x\", \"y\": \"PO4\", \"yref\": \"y\"}, {\"font\": {\"color\": \"#FFFFFF\"}, \"showarrow\": false, \"text\": \"0.85\", \"x\": \"NO3\", \"xref\": \"x\", \"y\": \"PO4\", \"yref\": \"y\"}, {\"font\": {\"color\": \"#FFFFFF\"}, \"showarrow\": false, \"text\": \"-0.17\", \"x\": \"Fe\", \"xref\": \"x\", \"y\": \"PO4\", \"yref\": \"y\"}, {\"font\": {\"color\": \"#FFFFFF\"}, \"showarrow\": false, \"text\": \"0.84\", \"x\": \"O2\", \"xref\": \"x\", \"y\": \"PO4\", \"yref\": \"y\"}, {\"font\": {\"color\": \"#FFFFFF\"}, \"showarrow\": false, \"text\": \"1.0\", \"x\": \"PO4\", \"xref\": \"x\", \"y\": \"PO4\", \"yref\": \"y\"}, {\"font\": {\"color\": \"#FFFFFF\"}, \"showarrow\": false, \"text\": \"0.78\", \"x\": \"density_WOA_clim\", \"xref\": \"x\", \"y\": \"PO4\", \"yref\": \"y\"}, {\"font\": {\"color\": \"#FFFFFF\"}, \"showarrow\": false, \"text\": \"0.47\", \"x\": \"nitrate_WOA_clim\", \"xref\": \"x\", \"y\": \"PO4\", \"yref\": \"y\"}, {\"font\": {\"color\": \"#FFFFFF\"}, \"showarrow\": false, \"text\": \"0.78\", \"x\": \"phosphate_WOA_clim\", \"xref\": \"x\", \"y\": \"PO4\", \"yref\": \"y\"}, {\"font\": {\"color\": \"#FFFFFF\"}, \"showarrow\": false, \"text\": \"-0.04\", \"x\": \"silicate_WOA_clim\", \"xref\": \"x\", \"y\": \"PO4\", \"yref\": \"y\"}, {\"font\": {\"color\": \"#FFFFFF\"}, \"showarrow\": false, \"text\": \"0.93\", \"x\": \"lat\", \"xref\": \"x\", \"y\": \"density_WOA_clim\", \"yref\": \"y\"}, {\"font\": {\"color\": \"#FFFFFF\"}, \"showarrow\": false, \"text\": \"0.09\", \"x\": \"lon\", \"xref\": \"x\", \"y\": \"density_WOA_clim\", \"yref\": \"y\"}, {\"font\": {\"color\": \"#FFFFFF\"}, \"showarrow\": false, \"text\": \"0.51\", \"x\": \"synecho_abundance\", \"xref\": \"x\", \"y\": \"density_WOA_clim\", \"yref\": \"y\"}, {\"font\": {\"color\": \"#FFFFFF\"}, \"showarrow\": false, \"text\": \"0.86\", \"x\": \"picoeuk_abundance\", \"xref\": \"x\", \"y\": \"density_WOA_clim\", \"yref\": \"y\"}, {\"font\": {\"color\": \"#FFFFFF\"}, \"showarrow\": false, \"text\": \"-0.8\", \"x\": \"prochloro_abundance\", \"xref\": \"x\", \"y\": \"density_WOA_clim\", \"yref\": \"y\"}, {\"font\": {\"color\": \"#FFFFFF\"}, \"showarrow\": false, \"text\": \"-0.93\", \"x\": \"sst\", \"xref\": \"x\", \"y\": \"density_WOA_clim\", \"yref\": \"y\"}, {\"font\": {\"color\": \"#FFFFFF\"}, \"showarrow\": false, \"text\": \"-0.87\", \"x\": \"sss\", \"xref\": \"x\", \"y\": \"density_WOA_clim\", \"yref\": \"y\"}, {\"font\": {\"color\": \"#FFFFFF\"}, \"showarrow\": false, \"text\": \"0.8\", \"x\": \"chl\", \"xref\": \"x\", \"y\": \"density_WOA_clim\", \"yref\": \"y\"}, {\"font\": {\"color\": \"#FFFFFF\"}, \"showarrow\": false, \"text\": \"0.92\", \"x\": \"NO3\", \"xref\": \"x\", \"y\": \"density_WOA_clim\", \"yref\": \"y\"}, {\"font\": {\"color\": \"#FFFFFF\"}, \"showarrow\": false, \"text\": \"-0.31\", \"x\": \"Fe\", \"xref\": \"x\", \"y\": \"density_WOA_clim\", \"yref\": \"y\"}, {\"font\": {\"color\": \"#FFFFFF\"}, \"showarrow\": false, \"text\": \"0.94\", \"x\": \"O2\", \"xref\": \"x\", \"y\": \"density_WOA_clim\", \"yref\": \"y\"}, {\"font\": {\"color\": \"#FFFFFF\"}, \"showarrow\": false, \"text\": \"0.78\", \"x\": \"PO4\", \"xref\": \"x\", \"y\": \"density_WOA_clim\", \"yref\": \"y\"}, {\"font\": {\"color\": \"#FFFFFF\"}, \"showarrow\": false, \"text\": \"1.0\", \"x\": \"density_WOA_clim\", \"xref\": \"x\", \"y\": \"density_WOA_clim\", \"yref\": \"y\"}, {\"font\": {\"color\": \"#FFFFFF\"}, \"showarrow\": false, \"text\": \"0.67\", \"x\": \"nitrate_WOA_clim\", \"xref\": \"x\", \"y\": \"density_WOA_clim\", \"yref\": \"y\"}, {\"font\": {\"color\": \"#FFFFFF\"}, \"showarrow\": false, \"text\": \"0.91\", \"x\": \"phosphate_WOA_clim\", \"xref\": \"x\", \"y\": \"density_WOA_clim\", \"yref\": \"y\"}, {\"font\": {\"color\": \"#FFFFFF\"}, \"showarrow\": false, \"text\": \"0.3\", \"x\": \"silicate_WOA_clim\", \"xref\": \"x\", \"y\": \"density_WOA_clim\", \"yref\": \"y\"}, {\"font\": {\"color\": \"#FFFFFF\"}, \"showarrow\": false, \"text\": \"0.66\", \"x\": \"lat\", \"xref\": \"x\", \"y\": \"nitrate_WOA_clim\", \"yref\": \"y\"}, {\"font\": {\"color\": \"#FFFFFF\"}, \"showarrow\": false, \"text\": \"0.09\", \"x\": \"lon\", \"xref\": \"x\", \"y\": \"nitrate_WOA_clim\", \"yref\": \"y\"}, {\"font\": {\"color\": \"#FFFFFF\"}, \"showarrow\": false, \"text\": \"0.11\", \"x\": \"synecho_abundance\", \"xref\": \"x\", \"y\": \"nitrate_WOA_clim\", \"yref\": \"y\"}, {\"font\": {\"color\": \"#FFFFFF\"}, \"showarrow\": false, \"text\": \"0.63\", \"x\": \"picoeuk_abundance\", \"xref\": \"x\", \"y\": \"nitrate_WOA_clim\", \"yref\": \"y\"}, {\"font\": {\"color\": \"#FFFFFF\"}, \"showarrow\": false, \"text\": \"-0.53\", \"x\": \"prochloro_abundance\", \"xref\": \"x\", \"y\": \"nitrate_WOA_clim\", \"yref\": \"y\"}, {\"font\": {\"color\": \"#FFFFFF\"}, \"showarrow\": false, \"text\": \"-0.66\", \"x\": \"sst\", \"xref\": \"x\", \"y\": \"nitrate_WOA_clim\", \"yref\": \"y\"}, {\"font\": {\"color\": \"#FFFFFF\"}, \"showarrow\": false, \"text\": \"-0.5\", \"x\": \"sss\", \"xref\": \"x\", \"y\": \"nitrate_WOA_clim\", \"yref\": \"y\"}, {\"font\": {\"color\": \"#FFFFFF\"}, \"showarrow\": false, \"text\": \"0.78\", \"x\": \"chl\", \"xref\": \"x\", \"y\": \"nitrate_WOA_clim\", \"yref\": \"y\"}, {\"font\": {\"color\": \"#FFFFFF\"}, \"showarrow\": false, \"text\": \"0.65\", \"x\": \"NO3\", \"xref\": \"x\", \"y\": \"nitrate_WOA_clim\", \"yref\": \"y\"}, {\"font\": {\"color\": \"#FFFFFF\"}, \"showarrow\": false, \"text\": \"0.18\", \"x\": \"Fe\", \"xref\": \"x\", \"y\": \"nitrate_WOA_clim\", \"yref\": \"y\"}, {\"font\": {\"color\": \"#FFFFFF\"}, \"showarrow\": false, \"text\": \"0.66\", \"x\": \"O2\", \"xref\": \"x\", \"y\": \"nitrate_WOA_clim\", \"yref\": \"y\"}, {\"font\": {\"color\": \"#FFFFFF\"}, \"showarrow\": false, \"text\": \"0.47\", \"x\": \"PO4\", \"xref\": \"x\", \"y\": \"nitrate_WOA_clim\", \"yref\": \"y\"}, {\"font\": {\"color\": \"#FFFFFF\"}, \"showarrow\": false, \"text\": \"0.67\", \"x\": \"density_WOA_clim\", \"xref\": \"x\", \"y\": \"nitrate_WOA_clim\", \"yref\": \"y\"}, {\"font\": {\"color\": \"#FFFFFF\"}, \"showarrow\": false, \"text\": \"1.0\", \"x\": \"nitrate_WOA_clim\", \"xref\": \"x\", \"y\": \"nitrate_WOA_clim\", \"yref\": \"y\"}, {\"font\": {\"color\": \"#FFFFFF\"}, \"showarrow\": false, \"text\": \"0.67\", \"x\": \"phosphate_WOA_clim\", \"xref\": \"x\", \"y\": \"nitrate_WOA_clim\", \"yref\": \"y\"}, {\"font\": {\"color\": \"#FFFFFF\"}, \"showarrow\": false, \"text\": \"-0.11\", \"x\": \"silicate_WOA_clim\", \"xref\": \"x\", \"y\": \"nitrate_WOA_clim\", \"yref\": \"y\"}, {\"font\": {\"color\": \"#FFFFFF\"}, \"showarrow\": false, \"text\": \"0.82\", \"x\": \"lat\", \"xref\": \"x\", \"y\": \"phosphate_WOA_clim\", \"yref\": \"y\"}, {\"font\": {\"color\": \"#FFFFFF\"}, \"showarrow\": false, \"text\": \"-0.01\", \"x\": \"lon\", \"xref\": \"x\", \"y\": \"phosphate_WOA_clim\", \"yref\": \"y\"}, {\"font\": {\"color\": \"#FFFFFF\"}, \"showarrow\": false, \"text\": \"0.36\", \"x\": \"synecho_abundance\", \"xref\": \"x\", \"y\": \"phosphate_WOA_clim\", \"yref\": \"y\"}, {\"font\": {\"color\": \"#FFFFFF\"}, \"showarrow\": false, \"text\": \"0.82\", \"x\": \"picoeuk_abundance\", \"xref\": \"x\", \"y\": \"phosphate_WOA_clim\", \"yref\": \"y\"}, {\"font\": {\"color\": \"#FFFFFF\"}, \"showarrow\": false, \"text\": \"-0.78\", \"x\": \"prochloro_abundance\", \"xref\": \"x\", \"y\": \"phosphate_WOA_clim\", \"yref\": \"y\"}, {\"font\": {\"color\": \"#FFFFFF\"}, \"showarrow\": false, \"text\": \"-0.82\", \"x\": \"sst\", \"xref\": \"x\", \"y\": \"phosphate_WOA_clim\", \"yref\": \"y\"}, {\"font\": {\"color\": \"#FFFFFF\"}, \"showarrow\": false, \"text\": \"-0.8\", \"x\": \"sss\", \"xref\": \"x\", \"y\": \"phosphate_WOA_clim\", \"yref\": \"y\"}, {\"font\": {\"color\": \"#FFFFFF\"}, \"showarrow\": false, \"text\": \"0.79\", \"x\": \"chl\", \"xref\": \"x\", \"y\": \"phosphate_WOA_clim\", \"yref\": \"y\"}, {\"font\": {\"color\": \"#FFFFFF\"}, \"showarrow\": false, \"text\": \"0.83\", \"x\": \"NO3\", \"xref\": \"x\", \"y\": \"phosphate_WOA_clim\", \"yref\": \"y\"}, {\"font\": {\"color\": \"#FFFFFF\"}, \"showarrow\": false, \"text\": \"-0.02\", \"x\": \"Fe\", \"xref\": \"x\", \"y\": \"phosphate_WOA_clim\", \"yref\": \"y\"}, {\"font\": {\"color\": \"#FFFFFF\"}, \"showarrow\": false, \"text\": \"0.83\", \"x\": \"O2\", \"xref\": \"x\", \"y\": \"phosphate_WOA_clim\", \"yref\": \"y\"}, {\"font\": {\"color\": \"#FFFFFF\"}, \"showarrow\": false, \"text\": \"0.78\", \"x\": \"PO4\", \"xref\": \"x\", \"y\": \"phosphate_WOA_clim\", \"yref\": \"y\"}, {\"font\": {\"color\": \"#FFFFFF\"}, \"showarrow\": false, \"text\": \"0.91\", \"x\": \"density_WOA_clim\", \"xref\": \"x\", \"y\": \"phosphate_WOA_clim\", \"yref\": \"y\"}, {\"font\": {\"color\": \"#FFFFFF\"}, \"showarrow\": false, \"text\": \"0.67\", \"x\": \"nitrate_WOA_clim\", \"xref\": \"x\", \"y\": \"phosphate_WOA_clim\", \"yref\": \"y\"}, {\"font\": {\"color\": \"#FFFFFF\"}, \"showarrow\": false, \"text\": \"1.0\", \"x\": \"phosphate_WOA_clim\", \"xref\": \"x\", \"y\": \"phosphate_WOA_clim\", \"yref\": \"y\"}, {\"font\": {\"color\": \"#FFFFFF\"}, \"showarrow\": false, \"text\": \"0.03\", \"x\": \"silicate_WOA_clim\", \"xref\": \"x\", \"y\": \"phosphate_WOA_clim\", \"yref\": \"y\"}, {\"font\": {\"color\": \"#FFFFFF\"}, \"showarrow\": false, \"text\": \"0.27\", \"x\": \"lat\", \"xref\": \"x\", \"y\": \"silicate_WOA_clim\", \"yref\": \"y\"}, {\"font\": {\"color\": \"#FFFFFF\"}, \"showarrow\": false, \"text\": \"-0.15\", \"x\": \"lon\", \"xref\": \"x\", \"y\": \"silicate_WOA_clim\", \"yref\": \"y\"}, {\"font\": {\"color\": \"#FFFFFF\"}, \"showarrow\": false, \"text\": \"0.49\", \"x\": \"synecho_abundance\", \"xref\": \"x\", \"y\": \"silicate_WOA_clim\", \"yref\": \"y\"}, {\"font\": {\"color\": \"#FFFFFF\"}, \"showarrow\": false, \"text\": \"0.14\", \"x\": \"picoeuk_abundance\", \"xref\": \"x\", \"y\": \"silicate_WOA_clim\", \"yref\": \"y\"}, {\"font\": {\"color\": \"#FFFFFF\"}, \"showarrow\": false, \"text\": \"-0.01\", \"x\": \"prochloro_abundance\", \"xref\": \"x\", \"y\": \"silicate_WOA_clim\", \"yref\": \"y\"}, {\"font\": {\"color\": \"#FFFFFF\"}, \"showarrow\": false, \"text\": \"-0.26\", \"x\": \"sst\", \"xref\": \"x\", \"y\": \"silicate_WOA_clim\", \"yref\": \"y\"}, {\"font\": {\"color\": \"#FFFFFF\"}, \"showarrow\": false, \"text\": \"-0.14\", \"x\": \"sss\", \"xref\": \"x\", \"y\": \"silicate_WOA_clim\", \"yref\": \"y\"}, {\"font\": {\"color\": \"#FFFFFF\"}, \"showarrow\": false, \"text\": \"-0.04\", \"x\": \"chl\", \"xref\": \"x\", \"y\": \"silicate_WOA_clim\", \"yref\": \"y\"}, {\"font\": {\"color\": \"#FFFFFF\"}, \"showarrow\": false, \"text\": \"0.27\", \"x\": \"NO3\", \"xref\": \"x\", \"y\": \"silicate_WOA_clim\", \"yref\": \"y\"}, {\"font\": {\"color\": \"#FFFFFF\"}, \"showarrow\": false, \"text\": \"-0.89\", \"x\": \"Fe\", \"xref\": \"x\", \"y\": \"silicate_WOA_clim\", \"yref\": \"y\"}, {\"font\": {\"color\": \"#FFFFFF\"}, \"showarrow\": false, \"text\": \"0.27\", \"x\": \"O2\", \"xref\": \"x\", \"y\": \"silicate_WOA_clim\", \"yref\": \"y\"}, {\"font\": {\"color\": \"#FFFFFF\"}, \"showarrow\": false, \"text\": \"-0.04\", \"x\": \"PO4\", \"xref\": \"x\", \"y\": \"silicate_WOA_clim\", \"yref\": \"y\"}, {\"font\": {\"color\": \"#FFFFFF\"}, \"showarrow\": false, \"text\": \"0.3\", \"x\": \"density_WOA_clim\", \"xref\": \"x\", \"y\": \"silicate_WOA_clim\", \"yref\": \"y\"}, {\"font\": {\"color\": \"#FFFFFF\"}, \"showarrow\": false, \"text\": \"-0.11\", \"x\": \"nitrate_WOA_clim\", \"xref\": \"x\", \"y\": \"silicate_WOA_clim\", \"yref\": \"y\"}, {\"font\": {\"color\": \"#FFFFFF\"}, \"showarrow\": false, \"text\": \"0.03\", \"x\": \"phosphate_WOA_clim\", \"xref\": \"x\", \"y\": \"silicate_WOA_clim\", \"yref\": \"y\"}, {\"font\": {\"color\": \"#FFFFFF\"}, \"showarrow\": false, \"text\": \"1.0\", \"x\": \"silicate_WOA_clim\", \"xref\": \"x\", \"y\": \"silicate_WOA_clim\", \"yref\": \"y\"}], \"autosize\": false, \"height\": 700, \"title\": {\"text\": \"\"}, \"width\": 700, \"xaxis\": {\"dtick\": 1, \"gridcolor\": \"rgb(0, 0, 0)\", \"side\": \"top\", \"ticks\": \"\", \"title\": {\"text\": \"\"}}, \"yaxis\": {\"autorange\": \"reversed\", \"dtick\": 1, \"ticks\": \"\", \"ticksuffix\": \"  \", \"title\": {\"text\": \"\"}}},\n",
       "                        {\"showLink\": true, \"editable\": false, \"staticPlot\": false, \"linkText\": \"Export to plot.ly\", \"plotlyServerURL\": \"https://plot.ly\", \"responsive\": true}\n",
       "                    ).then(function(){\n",
       "                            \n",
       "var gd = document.getElementById('17802cf7-3dec-4058-a814-1786d90d68fc');\n",
       "var x = new MutationObserver(function (mutations, observer) {{\n",
       "        var display = window.getComputedStyle(gd).display;\n",
       "        if (!display || display === 'none') {{\n",
       "            console.log([gd, 'removed!']);\n",
       "            Plotly.purge(gd);\n",
       "            observer.disconnect();\n",
       "        }}\n",
       "}});\n",
       "\n",
       "// Listen for the removal of the full notebook cells\n",
       "var notebookContainer = gd.closest('#notebook-container');\n",
       "if (notebookContainer) {{\n",
       "    x.observe(notebookContainer, {childList: true});\n",
       "}}\n",
       "\n",
       "// Listen for the clearing of the current output cell\n",
       "var outputEl = gd.closest('.output');\n",
       "if (outputEl) {{\n",
       "    x.observe(outputEl, {childList: true});\n",
       "}}\n",
       "\n",
       "                        })\n",
       "                };\n",
       "                });\n",
       "            </script>\n",
       "        </div>"
      ]
     },
     "metadata": {},
     "output_type": "display_data"
    }
   ],
   "source": [
    "from pycmap.viz import plot_cruise_corr_map\n",
    "\n",
    "go = plot_cruise_corr_map(\n",
    "                    cruise='Gradients_2', \n",
    "                    targetTables=['tblSeaFlow', 'tblSeaFlow', 'tblSeaFlow', 'tblSST_AVHRR_OI_NRT', 'tblSSS_NRT', 'tblCHL_REP', 'tblPisces_NRT', 'tblPisces_NRT', 'tblPisces_NRT', 'tblPisces_NRT', 'tblWOA_Climatology', 'tblWOA_Climatology', 'tblWOA_Climatology', 'tblWOA_Climatology'], \n",
    "                    targetVars=['synecho_abundance', 'picoeuk_abundance', 'prochloro_abundance', 'sst', 'sss', 'chl', 'NO3', 'Fe', 'O2', 'PO4', 'density_WOA_clim', 'nitrate_WOA_clim', 'phosphate_WOA_clim', 'silicate_WOA_clim'], \n",
    "                    depth1 = 0,\n",
    "                    depth2 = 5,\n",
    "                    temporalTolerance=[0, 0, 0, 1, 1, 4, 4, 4, 4, 4, 0, 0, 0, 0], \n",
    "                    latTolerance=[0.1, 0.1, 0.1, 0.25, 0.25, 0.25, 0.5, 0.5, 0.5, 0.5, 0.5, 0.5, 0.5, 0.5], \n",
    "                    lonTolerance=[0.1,0.1, 0.1, 0.25, 0.25, 0.25, 0.5, 0.5, 0.5, 0.5, 0.5, 0.5, 0.5, 0.5], \n",
    "                    depthTolerance=5,\n",
    "                    method='spearman', \n",
    "                    exportDataFlag=False, \n",
    "                    show=True\n",
    "                 )"
   ]
  },
  {
   "cell_type": "markdown",
   "metadata": {},
   "source": [
    "<br>\n",
    "<br>\n",
    "<br>\n",
    "<br>\n",
    "<br>\n",
    "<br>\n",
    "<h1> Analysis (deepC) </h1>\n",
    "<br>\n",
    "<br>\n",
    "<br>\n",
    "<br>\n",
    "<br>\n",
    "<br>\n"
   ]
  },
  {
   "cell_type": "code",
   "execution_count": 9,
   "metadata": {
    "scrolled": false
   },
   "outputs": [
    {
     "data": {
      "application/vnd.jupyter.widget-view+json": {
       "model_id": "a386b47fae40435faa4a8a6d32a13df7",
       "version_major": 2,
       "version_minor": 0
      },
      "text/plain": [
       "HBox(children=(IntProgress(value=0, description='overall', max=14, style=ProgressStyle(description_width='init…"
      ]
     },
     "metadata": {},
     "output_type": "display_data"
    },
    {
     "name": "stdout",
     "output_type": "stream",
     "text": [
      "\n",
      "1: synecho_abundance matched.\n",
      "\n",
      "2: picoeuk_abundance matched.\n",
      "\n",
      "3: prochloro_abundance matched.\n",
      "\n",
      "4: sst matched.\n",
      "\n",
      "5: sss matched.\n",
      "\n",
      "6: chl matched.\n",
      "\n",
      "7: NO3 matched.\n",
      "\n",
      "8: Fe matched.\n",
      "\n",
      "9: O2 matched.\n",
      "\n",
      "10: PO4 matched.\n",
      "\n",
      "11: density_WOA_clim matched.\n",
      "\n",
      "12: nitrate_WOA_clim matched.\n",
      "\n",
      "13: phosphate_WOA_clim matched.\n",
      "\n",
      "14: silicate_WOA_clim matched.\n",
      "\n",
      "************************************\n",
      "Test size proportion: 0.20\n",
      "XTrain shape: (5321, 15)\n",
      "yTrain shape: (5321,)\n",
      "XTest shape: (1331, 15)\n",
      "yTest shape: (1331,)\n",
      "\n",
      "Evaluation Results:\n",
      "\n",
      "\tEvaluation Using split (R^2): 0.9993\n",
      "\tRoot Mean Squared Error: 0.52\n",
      "\tfeature_importances:  [('lat', 0.09743793753709915), ('lon', 0.0025226603588314263), ('picoeuk_abundance', 0.031243914098563755), ('prochloro_abundance', 0.14968599500727364), ('sst', 0.13092781287323474), ('sss', 0.11051866851466405), ('chl', 0.022968795187101165), ('NO3', 0.16376925989989322), ('Fe', 0.016096766869273433), ('O2', 0.07966347025717642), ('PO4', 0.0774937541473161), ('density_WOA_clim', 0.02675885190153403), ('nitrate_WOA_clim', 0.04537169833612256), ('phosphate_WOA_clim', 0.028159322515806745), ('silicate_WOA_clim', 0.017381092496109585)]\n",
      "************************************\n"
     ]
    }
   ],
   "source": [
    "\n",
    "from pycmap.supervised import ExtraTrees\n",
    "from pycmap.clean import Clean\n",
    "\n",
    "\n",
    "\n",
    "\n",
    "df = api.along_track(\n",
    "                    cruise='Gradients_2',     \n",
    "                    tables=['tblSeaFlow', 'tblSeaFlow', 'tblSeaFlow', 'tblSST_AVHRR_OI_NRT', 'tblSSS_NRT', 'tblCHL_REP', 'tblPisces_NRT', 'tblPisces_NRT', 'tblPisces_NRT', 'tblPisces_NRT', 'tblWOA_Climatology', 'tblWOA_Climatology', 'tblWOA_Climatology', 'tblWOA_Climatology'], \n",
    "                    variables=['synecho_abundance', 'picoeuk_abundance', 'prochloro_abundance', 'sst', 'sss', 'chl', 'NO3', 'Fe', 'O2', 'PO4', 'density_WOA_clim', 'nitrate_WOA_clim', 'phosphate_WOA_clim', 'silicate_WOA_clim'], \n",
    "                    depth1 = 0,\n",
    "                    depth2 = 5,\n",
    "                    temporalTolerance=[0, 0, 0, 1, 1, 4, 4, 4, 4, 4, 0, 0, 0, 0], \n",
    "                    latTolerance=[0.1, 0.1, 0.1, 0.25, 0.25, 0.25, 0.5, 0.5, 0.5, 0.5, 0.5, 0.5, 0.5, 0.5], \n",
    "                    lonTolerance=[0.1,0.1, 0.1, 0.25, 0.25, 0.25, 0.5, 0.5, 0.5, 0.5, 0.5, 0.5, 0.5, 0.5], \n",
    "                    depthTolerance=5\n",
    "                    )\n",
    "\n",
    "\n",
    "\n",
    "\n",
    "df = Clean(df).remove_nan_time_std()\n",
    "\n",
    "model = ExtraTrees(df, 'synecho_abundance')\n",
    "model.learn()\n",
    "model.report()\n",
    "\n"
   ]
  },
  {
   "cell_type": "code",
   "execution_count": null,
   "metadata": {},
   "outputs": [],
   "source": [
    "\n"
   ]
  },
  {
   "cell_type": "code",
   "execution_count": null,
   "metadata": {},
   "outputs": [],
   "source": []
  },
  {
   "cell_type": "code",
   "execution_count": 6,
   "metadata": {},
   "outputs": [
    {
     "data": {
      "application/vnd.jupyter.widget-view+json": {
       "model_id": "41fec66a5461410c94936729419e62ec",
       "version_major": 2,
       "version_minor": 0
      },
      "text/plain": [
       "HBox(children=(IntProgress(value=0, description='overall', max=1, style=ProgressStyle(description_width='initi…"
      ]
     },
     "metadata": {},
     "output_type": "display_data"
    },
    {
     "name": "stdout",
     "output_type": "stream",
     "text": [
      "\n",
      "1: synecho_abundance matched.\n",
      "\n",
      "************************************\n",
      "Test size proportion: 0.20\n",
      "XTrain shape: (4905, 2)\n",
      "yTrain shape: (4905,)\n",
      "XTest shape: (1227, 2)\n",
      "yTest shape: (1227,)\n",
      "\n",
      "Evaluation Results:\n",
      "\n",
      "\tEvaluation Using split (R^2): 0.9493\n",
      "\tRoot Mean Squared Error: 3.37\n",
      "\tfeature_importances:  [('lat', 0.8637510622047381), ('lon', 0.1362489377952625)]\n",
      "************************************\n"
     ]
    }
   ],
   "source": []
  },
  {
   "cell_type": "code",
   "execution_count": null,
   "metadata": {},
   "outputs": [],
   "source": []
  }
 ],
 "metadata": {
  "kernelspec": {
   "display_name": "Python 3",
   "language": "python",
   "name": "python3"
  },
  "language_info": {
   "codemirror_mode": {
    "name": "ipython",
    "version": 3
   },
   "file_extension": ".py",
   "mimetype": "text/x-python",
   "name": "python",
   "nbconvert_exporter": "python",
   "pygments_lexer": "ipython3",
   "version": "3.7.1"
  }
 },
 "nbformat": 4,
 "nbformat_minor": 2
}
