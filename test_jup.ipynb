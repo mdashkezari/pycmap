{
 "cells": [
  {
   "cell_type": "code",
   "execution_count": null,
   "metadata": {},
   "outputs": [],
   "source": [
    "import pycmap\n",
    "\n",
    "\n",
    "\n",
    "# def __init__(self,\n",
    "#              token=None,\n",
    "#              baseURL=None,\n",
    "#              headers=None,\n",
    "#              vizEngine=None,\n",
    "#              exportDir=None,\n",
    "#              exportFormat=None,\n",
    "#              figureDir=None,\n",
    "#              ):\n",
    "#     \"\"\"\n",
    "#     :param str token: access token to make client requests.\n",
    "#     :param str baseURL: root endpoint of Simons CMAP API.\n",
    "#     :param dict headers: additional headers to add to requests.\n",
    "#     :param str vizEngine: data visualization library used to render the graphs.\n",
    "#     :param str exportDir: path to local directory where the exported data are stored.\n",
    "#     :param str exportFormat: file format of the exported files.\n",
    "#     \"\"\"\n"
   ]
  },
  {
   "cell_type": "code",
   "execution_count": null,
   "metadata": {},
   "outputs": [],
   "source": [
    "api = pycmap.API(token='c7f10130-78f2-11e9-82a6-793e7fd02bc0', vizEngine='plotly')\n"
   ]
  },
  {
   "cell_type": "markdown",
   "metadata": {},
   "source": [
    "# catalog"
   ]
  },
  {
   "cell_type": "code",
   "execution_count": null,
   "metadata": {},
   "outputs": [],
   "source": [
    "api.get_catalog()\n"
   ]
  },
  {
   "cell_type": "markdown",
   "metadata": {},
   "source": [
    "# metadata"
   ]
  },
  {
   "cell_type": "code",
   "execution_count": null,
   "metadata": {},
   "outputs": [],
   "source": [
    "api.get_metadata(['tblsst_AVHRR_OI_NRT', 'tblArgoMerge_REP'], ['sst', 'argo_merge_salinity_adj'])"
   ]
  },
  {
   "cell_type": "markdown",
   "metadata": {},
   "source": [
    "# dataset head"
   ]
  },
  {
   "cell_type": "code",
   "execution_count": null,
   "metadata": {},
   "outputs": [],
   "source": [
    "api.head('tblFlombaum')"
   ]
  },
  {
   "cell_type": "markdown",
   "metadata": {},
   "source": [
    "# data set columns"
   ]
  },
  {
   "cell_type": "code",
   "execution_count": null,
   "metadata": {},
   "outputs": [],
   "source": [
    "api.columns('tblAMT13_Chisholm')"
   ]
  },
  {
   "cell_type": "markdown",
   "metadata": {},
   "source": [
    "# cruise list"
   ]
  },
  {
   "cell_type": "code",
   "execution_count": null,
   "metadata": {},
   "outputs": [],
   "source": [
    "api.cruises()"
   ]
  },
  {
   "cell_type": "markdown",
   "metadata": {},
   "source": [
    "# cruise track"
   ]
  },
  {
   "cell_type": "code",
   "execution_count": null,
   "metadata": {
    "scrolled": true
   },
   "outputs": [],
   "source": [
    "api.cruise_trajectory('scope_6')"
   ]
  },
  {
   "cell_type": "markdown",
   "metadata": {},
   "source": [
    "# cruise bounds"
   ]
  },
  {
   "cell_type": "code",
   "execution_count": null,
   "metadata": {},
   "outputs": [],
   "source": [
    "api.cruise_bounds('KOK1606')"
   ]
  },
  {
   "cell_type": "markdown",
   "metadata": {},
   "source": [
    "# custom query"
   ]
  },
  {
   "cell_type": "code",
   "execution_count": null,
   "metadata": {},
   "outputs": [],
   "source": [
    "api.query('select * from tblSensors')"
   ]
  },
  {
   "cell_type": "markdown",
   "metadata": {},
   "source": [
    "# stored procedure"
   ]
  },
  {
   "cell_type": "code",
   "execution_count": null,
   "metadata": {},
   "outputs": [],
   "source": [
    "\n",
    "api.subset(\n",
    "          spName='uspSpaceTime', \n",
    "          table='tblCHL_REP', \n",
    "          variable='chl', \n",
    "          dt1='2016-04-30', \n",
    "          dt2='2016-04-30', \n",
    "          lat1=10, \n",
    "          lat2=70, \n",
    "          lon1=-180, \n",
    "          lon2=-80, \n",
    "          depth1=0, \n",
    "          depth2=0.5\n",
    "          )\n"
   ]
  },
  {
   "cell_type": "code",
   "execution_count": null,
   "metadata": {},
   "outputs": [],
   "source": [
    "api.time_series(\n",
    "               table='tblCHL_REP', \n",
    "               variable='chl', \n",
    "               dt1='2016-04-30', \n",
    "               dt2='2017-04-30', \n",
    "               lat1=10, \n",
    "               lat2=70, \n",
    "               lon1=-180, \n",
    "               lon2=-80, \n",
    "               depth1=0, \n",
    "               depth2=0.5,\n",
    "               interval='weekly'  \n",
    "               )\n"
   ]
  },
  {
   "cell_type": "code",
   "execution_count": null,
   "metadata": {},
   "outputs": [],
   "source": [
    "api.match(\n",
    "         sourceTable='tblSeaFlow', \n",
    "         sourceVar='synecho_abundance', \n",
    "         targetTables=['tblCHL_REP', 'tblPisces_NRT'], \n",
    "         targetVars=['chl', 'Fe'], \n",
    "         dt1='2016-04-20', \n",
    "         dt2='2016-05-04', \n",
    "         lat1=20, \n",
    "         lat2=40, \n",
    "         lon1=-160, \n",
    "         lon2=-157, \n",
    "         depth1=0, \n",
    "         depth2=5, \n",
    "         temporalTolerance=4, \n",
    "         latTolerance=0.5, \n",
    "         lonTolerance=0.5, \n",
    "         depthTolerance=5\n",
    "         )"
   ]
  },
  {
   "cell_type": "markdown",
   "metadata": {},
   "source": [
    "# along cruise track"
   ]
  },
  {
   "cell_type": "code",
   "execution_count": null,
   "metadata": {
    "scrolled": true
   },
   "outputs": [],
   "source": [
    "\n",
    "# along = api.along_track(\n",
    "#                         cruise='KOK1606', \n",
    "#                         tables=['tblSeaFlow', 'tblSSS_NRT', 'tblCHL_REP'], \n",
    "#                         variables=['synecho_abundance', 'sss', 'chl'], \n",
    "#                         temporalTolerance=[1, 1, 4], \n",
    "#                         latTolerance=[0.1, 0.25, 0.25], \n",
    "#                         lonTolerance=[0.1, 0.25, 0.25], \n",
    "#                         depthTolerance=5\n",
    "#                         )\n",
    "\n",
    "\n",
    "along = api.along_track(\n",
    "                        cruise='Gradients_2', \n",
    "                        tables=['tblCHL_REP', 'tblSSS_NRT'], \n",
    "                        variables=['chl', 'sss'], \n",
    "                        temporalTolerance=[4, 1], \n",
    "                        latTolerance=[ 0.25, 0.25], \n",
    "                        lonTolerance=[0.25, 0.25], \n",
    "                        depthTolerance=5\n",
    "                        )\n",
    "\n",
    "\n",
    "along\n",
    "\n",
    "\n"
   ]
  },
  {
   "cell_type": "code",
   "execution_count": null,
   "metadata": {
    "scrolled": true
   },
   "outputs": [],
   "source": [
    "along = api.along_track(\n",
    "                        cruise='Gradients_2', \n",
    "                        tables=['tblSSS_NRT'], \n",
    "                        variables=['sss'], \n",
    "                        temporalTolerance=[1], \n",
    "                        latTolerance=[  0.25], \n",
    "                        lonTolerance=[0.25], \n",
    "                        depthTolerance=5\n",
    "                        )\n",
    "\n",
    "\n",
    "along"
   ]
  },
  {
   "cell_type": "markdown",
   "metadata": {},
   "source": [
    "<br>\n",
    "<br>\n",
    "<br>\n",
    "<br>\n",
    "<br>\n",
    "<br>\n",
    "<h1> Visualization </h1>\n",
    "<br>\n",
    "<br>\n",
    "<br>\n",
    "<br>\n",
    "<br>\n",
    "<br>\n"
   ]
  },
  {
   "cell_type": "markdown",
   "metadata": {},
   "source": [
    "# histogram"
   ]
  },
  {
   "cell_type": "code",
   "execution_count": null,
   "metadata": {},
   "outputs": [],
   "source": [
    "\n",
    "from pycmap.viz import plot_hist\n",
    "\n",
    "go = plot_hist(\n",
    "              tables=['tblArgoMerge_REP'], \n",
    "              variables=['argo_merge_salinity_adj'], \n",
    "              dt1='2016-04-30', \n",
    "              dt2='2016-06-30', \n",
    "              lat1=10, \n",
    "              lat2=70, \n",
    "              lon1=-180, \n",
    "              lon2=-80, \n",
    "              depth1=0, \n",
    "              depth2=100, \n",
    "              exportDataFlag=False,\n",
    "              show=True  \n",
    "              )"
   ]
  },
  {
   "cell_type": "code",
   "execution_count": null,
   "metadata": {},
   "outputs": [],
   "source": [
    "go[0].pdf=True\n",
    "go[0].xlabel = 'change xlable'\n",
    "go[0].title='change title'\n",
    "go[0].width = 500\n",
    "go[0].height = 500\n",
    "go[0].render()"
   ]
  },
  {
   "cell_type": "markdown",
   "metadata": {},
   "source": [
    "# time series"
   ]
  },
  {
   "cell_type": "code",
   "execution_count": null,
   "metadata": {},
   "outputs": [],
   "source": [
    "from pycmap.viz import plot_timeseries\n",
    "\n",
    "go = plot_timeseries(\n",
    "                    tables=['tblAltimetry_REP'], \n",
    "                    variables=['adt'], \n",
    "                    dt1='2016-04-30', \n",
    "                    dt2='2017-04-30', \n",
    "                    lat1=30, \n",
    "                    lat2=32, \n",
    "                    lon1=-160, \n",
    "                    lon2=-158, \n",
    "                    depth1=0, \n",
    "                    depth2=5, \n",
    "                    exportDataFlag=False,\n",
    "                    show=True  \n",
    "                    )\n"
   ]
  },
  {
   "cell_type": "code",
   "execution_count": null,
   "metadata": {},
   "outputs": [],
   "source": [
    "go[0].xlabel = 'change xlabel'\n",
    "go[0].ylabel = 'change ylabel'\n",
    "go[0].title='change title'\n",
    "go[0].width = 500\n",
    "go[0].height = 500\n",
    "go[0].msize= 5\n",
    "go[0].fillAlpha=0.8\n",
    "go[0].render()"
   ]
  },
  {
   "cell_type": "code",
   "execution_count": null,
   "metadata": {},
   "outputs": [],
   "source": [
    "from pycmap.viz import plot_timeseries\n",
    "\n",
    "go = plot_timeseries(\n",
    "                    tables=['tblAltimetry_REP'], \n",
    "                    variables=['adt'], \n",
    "                    dt1='1993-01-01', \n",
    "                    dt2='2018-12-31', \n",
    "                    lat1=30, \n",
    "                    lat2=32, \n",
    "                    lon1=-160, \n",
    "                    lon2=-158, \n",
    "                    depth1=0, \n",
    "                    depth2=5, \n",
    "                    exportDataFlag=False,\n",
    "                    show=True,\n",
    "                    interval='y'    \n",
    "                    )\n",
    "\n",
    "\n",
    "\n",
    "# interval options:\n",
    "# a/y/year/yearly/annual \n",
    "# q/s/season/seasonal/seasonality/quarterly  \n",
    "# m/month/monthly \n",
    "# w/week/weekly\n",
    "# '' (empty string for original temporal resolution)"
   ]
  },
  {
   "cell_type": "markdown",
   "metadata": {},
   "source": [
    "# plot XY"
   ]
  },
  {
   "cell_type": "code",
   "execution_count": null,
   "metadata": {
    "scrolled": true
   },
   "outputs": [],
   "source": [
    "from pycmap.viz import plot_xy\n",
    "go = plot_xy(\n",
    "            xTables=['tblsst_AVHRR_OI_NRT', 'tblPisces_NRT'], \n",
    "            xVars=['sst', 'NO3'],\n",
    "            yTables=['tblAltimetry_REP', 'tblsst_AVHRR_OI_NRT'], \n",
    "            yVars=['adt', 'sst'], \n",
    "            dt1='2016-04-20', \n",
    "            dt2='2016-05-20', \n",
    "            lat1=30, \n",
    "            lat2=32, \n",
    "            lon1=-160, \n",
    "            lon2=-158, \n",
    "            depth1=0, \n",
    "            depth2=0.5, \n",
    "            temporalTolerances=[4, 4],\n",
    "            latTolerances=[0.125, 0.125],\n",
    "            lonTolerances=[0.125, 0.125],\n",
    "            depthTolerances=[0.5, 0.5],\n",
    "            method='spearman', \n",
    "            exportDataFlag=False, \n",
    "            show=True\n",
    "            )\n",
    "\n",
    "# go[0].xlabel = 'change xlabel'\n",
    "# go[0].title='new title'\n",
    "# go[0].width = 300\n",
    "# go[0].height = 300\n",
    "# go[0].msize=10\n",
    "# go[0].fillAlpha=0.7\n",
    "# go[0].render()"
   ]
  },
  {
   "cell_type": "markdown",
   "metadata": {},
   "source": [
    "# cruise track"
   ]
  },
  {
   "cell_type": "code",
   "execution_count": null,
   "metadata": {},
   "outputs": [],
   "source": [
    "from pycmap.viz import plot_cruise_track\n",
    "plot_cruise_track('KM13')\n"
   ]
  },
  {
   "cell_type": "markdown",
   "metadata": {},
   "source": [
    "# basic regional map"
   ]
  },
  {
   "cell_type": "code",
   "execution_count": null,
   "metadata": {
    "scrolled": false
   },
   "outputs": [],
   "source": [
    "from pycmap.viz import plot_map\n",
    "\n",
    "go = plot_map(\n",
    "             tables=['tblsst_AVHRR_OI_NRT', 'tblPisces_NRT', 'tblWOA_Climatology'], \n",
    "             variables=['sst', 'Fe', 'phosphate_WOA_clim'], \n",
    "             dt1='2016-04-30', \n",
    "             dt2='2016-04-30', \n",
    "             lat1=10, \n",
    "             lat2=70, \n",
    "             lon1=-180, \n",
    "             lon2=-80, \n",
    "             depth1=0, \n",
    "             depth2=0.5, \n",
    "             exportDataFlag=False,\n",
    "             show=True\n",
    "             )"
   ]
  },
  {
   "cell_type": "code",
   "execution_count": null,
   "metadata": {},
   "outputs": [],
   "source": [
    "# change colormap: any matplotlib or cmocean colormap works\n",
    "# https://matplotlib.org/3.1.0/tutorials/colors/colormaps.html\n",
    "# https://matplotlib.org/cmocean/\n",
    "# go[1].cmap = cmocean.cm.thermal\n",
    "\n",
    "\n",
    "go[1].cmap = 'PRGn'\n",
    "go[1].vmin = 0\n",
    "go[1].vmax = 5e-5\n",
    "go[1].width = 900\n",
    "go[1].height = 540\n",
    "go[1].render()"
   ]
  },
  {
   "cell_type": "markdown",
   "metadata": {},
   "source": [
    "# conour"
   ]
  },
  {
   "cell_type": "code",
   "execution_count": null,
   "metadata": {},
   "outputs": [],
   "source": [
    "\n",
    "from pycmap.viz import plot_map\n",
    "\n",
    "go = plot_map(\n",
    "             tables=['tblsst_AVHRR_OI_NRT'], \n",
    "             variables=['sst'], \n",
    "             dt1='2016-04-30', \n",
    "             dt2='2016-04-30', \n",
    "             lat1=10, \n",
    "             lat2=70, \n",
    "             lon1=-180, \n",
    "             lon2=-80, \n",
    "             depth1=0, \n",
    "             depth2=500, \n",
    "             exportDataFlag=False,\n",
    "             show=True,   \n",
    "             levels=10\n",
    "             )"
   ]
  },
  {
   "cell_type": "markdown",
   "metadata": {},
   "source": [
    "# 3D surface"
   ]
  },
  {
   "cell_type": "code",
   "execution_count": null,
   "metadata": {
    "scrolled": false
   },
   "outputs": [],
   "source": [
    "\n",
    "from pycmap.viz import plot_map\n",
    "\n",
    "# table = ['tblPisces_NRT', 'tblWOA_Climatology', 'tblAltimetry_REP', 'tblsst_AVHRR_OI_NRT']\n",
    "# variable = ['NO3', 'density_WOA_clim', 'adt', 'sst']\n",
    "\n",
    "# go = plot_map(table, variable, '2016-04-30', '2016-04-30', -90, 90, -180, 180, 0, 0.5, exportDataFlag=False, surface3D=True)\n",
    "\n",
    "\n",
    "\n",
    "go = plot_map(\n",
    "             tables=['tblPisces_NRT', 'tblWOA_Climatology', 'tblAltimetry_REP', 'tblsst_AVHRR_OI_NRT'], \n",
    "             variables=['NO3', 'density_WOA_clim', 'adt', 'sst'], \n",
    "             dt1='2016-04-30', \n",
    "             dt2='2016-04-30', \n",
    "             lat1=-90, \n",
    "             lat2=90, \n",
    "             lon1=-180, \n",
    "             lon2=180, \n",
    "             depth1=0, \n",
    "             depth2=0.5, \n",
    "             exportDataFlag=False, \n",
    "             show=True,   \n",
    "             surface3D=True\n",
    "             )"
   ]
  },
  {
   "cell_type": "markdown",
   "metadata": {},
   "source": [
    "# section"
   ]
  },
  {
   "cell_type": "code",
   "execution_count": null,
   "metadata": {},
   "outputs": [],
   "source": [
    "from pycmap.viz import plot_section\n",
    "\n",
    "go = plot_section(\n",
    "                 tables=['tblPisces_NRT'], \n",
    "                 variables=['NO3'], \n",
    "                 dt1='2016-04-30', \n",
    "                 dt2='2016-04-30', \n",
    "                 lat1=10, \n",
    "                 lat2=60, \n",
    "                 lon1=-160, \n",
    "                 lon2=-158, \n",
    "                 depth1=0, \n",
    "                 depth2=5000, \n",
    "                 exportDataFlag=False, \n",
    "                 show=True\n",
    "                 )"
   ]
  },
  {
   "cell_type": "markdown",
   "metadata": {},
   "source": [
    "# section contour"
   ]
  },
  {
   "cell_type": "code",
   "execution_count": null,
   "metadata": {},
   "outputs": [],
   "source": [
    "from pycmap.viz import plot_section\n",
    "\n",
    "go = plot_section(\n",
    "                 tables=['tblPisces_NRT'], \n",
    "                 variables=['NO3'], \n",
    "                 dt1='2016-04-30', \n",
    "                 dt2='2016-04-30', \n",
    "                 lat1=10, \n",
    "                 lat2=60, \n",
    "                 lon1=-160, \n",
    "                 lon2=-158, \n",
    "                 depth1=0, \n",
    "                 depth2=5000, \n",
    "                 exportDataFlag=False, \n",
    "                 show=True,\n",
    "                 levels=10\n",
    "                 )"
   ]
  },
  {
   "cell_type": "code",
   "execution_count": null,
   "metadata": {},
   "outputs": [],
   "source": [
    "go[0].width = 800\n",
    "go[0].height = 700\n",
    "go[0].vmin = 5\n",
    "go[0].vmax = 40\n",
    "go[0].levels=20\n",
    "go[0].render()\n"
   ]
  },
  {
   "cell_type": "markdown",
   "metadata": {},
   "source": [
    "# correlation map"
   ]
  },
  {
   "cell_type": "code",
   "execution_count": null,
   "metadata": {},
   "outputs": [],
   "source": [
    "from pycmap.viz import plot_corr_map\n",
    "\n",
    "# grad1 cruise\n",
    "go = plot_corr_map(\n",
    "                sourceTable='tblSeaFlow', \n",
    "                sourceVar='synecho_abundance',\n",
    "                targetTables=['tblCHL_REP', 'tblPisces_NRT', 'tblPisces_NRT', 'tblSSS_NRT'], \n",
    "                targetVars=['chl', 'Fe', 'NO3', 'SSS'], \n",
    "                dt1='2016-04-20', \n",
    "                dt2='2016-05-04', \n",
    "                lat1=20, \n",
    "                lat2=40, \n",
    "                lon1=-160, \n",
    "                lon2=-157, \n",
    "                depth1=0, \n",
    "                depth2=5, \n",
    "                temporalTolerance=4,\n",
    "                latTolerance=0.25, \n",
    "                lonTolerance=0.25, \n",
    "                depthTolerance=5,\n",
    "                method='spearman', \n",
    "                exportDataFlag=False, \n",
    "                show=True\n",
    "                )"
   ]
  },
  {
   "cell_type": "code",
   "execution_count": null,
   "metadata": {},
   "outputs": [],
   "source": [
    "from pycmap.viz import plot_corr_map\n",
    "\n",
    "# grad1 cruise\n",
    "go = plot_corr_map(\n",
    "                sourceTable='tblSeaFlow', \n",
    "                sourceVar='synecho_abundance',\n",
    "                targetTables=['tblCHL_REP', 'tblPisces_NRT', 'tblPisces_NRT', 'tblSSS_NRT'], \n",
    "                targetVars=['chl', 'Fe', 'NO3', 'SSS'], \n",
    "                dt1='2016-04-20', \n",
    "                dt2='2016-05-04', \n",
    "                lat1=20, \n",
    "                lat2=40, \n",
    "                lon1=-160, \n",
    "                lon2=-157, \n",
    "                depth1=0, \n",
    "                depth2=5, \n",
    "                temporalTolerance=[\n",
    "                                  4, # tblCHL_REP\n",
    "                                  4, # tblPisces_NRT  \n",
    "                                  4, # tblPisces_NRT  \n",
    "                                  0 # tblSSS_NRT  \n",
    "                                  ],\n",
    "                latTolerance=[\n",
    "                             0.125, # tblCHL_REP\n",
    "                             0.25,  # tblPisces_NRT\n",
    "                             0.25,  # tblPisces_NRT\n",
    "                             0.125  # tblSSS_NRT\n",
    "                             ],\n",
    "                lonTolerance=[\n",
    "                             0.125, # tblCHL_REP\n",
    "                             0.25,  # tblPisces_NRT\n",
    "                             0.25,  # tblPisces_NRT\n",
    "                             0.125  # tblSSS_NRT\n",
    "                             ],\n",
    "                depthTolerance=[\n",
    "                               0, # tblCHL_REP\n",
    "                               5, # tblPisces_NRT  \n",
    "                               5, # tblPisces_NRT  \n",
    "                               0 # tblSSS_NRT  \n",
    "                               ],\n",
    "                method='spearman', \n",
    "                exportDataFlag=False, \n",
    "                show=True\n",
    "                )"
   ]
  },
  {
   "cell_type": "code",
   "execution_count": null,
   "metadata": {},
   "outputs": [],
   "source": [
    "from pycmap.viz import plot_corr_map\n",
    "\n",
    "# grad1 cruise\n",
    "go = plot_corr_map(\n",
    "                sourceTable='tblAMT13_Chisholm', \n",
    "                sourceVar='MIT9313PCR_Chisholm',\n",
    "                targetTables=[\n",
    "                             'tblAMT13_Chisholm', \n",
    "                             'tblAMT13_Chisholm', \n",
    "                             'tblAMT13_Chisholm', \n",
    "                             'tblAMT13_Chisholm', \n",
    "                             'tblAMT13_Chisholm', \n",
    "                             'tblAMT13_Chisholm', \n",
    "                             'tblAMT13_Chisholm', \n",
    "                             'tblAMT13_Chisholm', \n",
    "                             'tblAMT13_Chisholm', \n",
    "                             'tblWOA_Climatology', \n",
    "                             'tblWOA_Climatology', \n",
    "                             'tblWOA_Climatology'\n",
    "                             ], \n",
    "                targetVars=[\n",
    "                           'TQPCR_MED4_MIT9312_MIT9211_NATL2A_SS120_MIT9313_Chisholm', \n",
    "                           'MIT9312PCR_Chisholm', \n",
    "                           'MED4PCR_Chisholm', \n",
    "                           'NATL2APCR_Chisholm', \n",
    "                           'SS120PCR_Chisholm', \n",
    "                           'sbact_Chisholm', \n",
    "                           'temp_C_AMT13', \n",
    "                           'Light_Quanta_m2_sec_AMT13', \n",
    "                           'chlA_AMT13', \n",
    "                           'nitrate_WOA_clim', \n",
    "                           'phosphate_WOA_clim', \n",
    "                           'silicate_WOA_clim'\n",
    "                           ], \n",
    "                dt1='2003-09-14', \n",
    "                dt2='2003-10-12', \n",
    "                lat1=-48, \n",
    "                lat2=48, \n",
    "                lon1=-52, \n",
    "                lon2=-11, \n",
    "                depth1=0, \n",
    "                depth2=240, \n",
    "                temporalTolerance=[\n",
    "                                  0,\n",
    "                                  0,\n",
    "                                  0,\n",
    "                                  0,\n",
    "                                  0,\n",
    "                                  0,\n",
    "                                  0,\n",
    "                                  0,\n",
    "                                  0,\n",
    "                                  0,\n",
    "                                  0,\n",
    "                                  0  \n",
    "                                  ],\n",
    "                latTolerance=[\n",
    "                             0, \n",
    "                             0,  \n",
    "                             0,  \n",
    "                             0,\n",
    "                             0, \n",
    "                             0,  \n",
    "                             0,  \n",
    "                             0,\n",
    "                             0,   \n",
    "                             0.5,   \n",
    "                             0.5,   \n",
    "                             0.5   \n",
    "                             ],\n",
    "                lonTolerance=[\n",
    "                             0, \n",
    "                             0,  \n",
    "                             0,  \n",
    "                             0,\n",
    "                             0,\n",
    "                             0, \n",
    "                             0, \n",
    "                             0,\n",
    "                             0,   \n",
    "                             0.5,   \n",
    "                             0.5,   \n",
    "                             0.5   \n",
    "                             ],\n",
    "                depthTolerance=[\n",
    "                               0,\n",
    "                               0,\n",
    "                               0,\n",
    "                               0,\n",
    "                               0,\n",
    "                               0,\n",
    "                               0,\n",
    "                               0,\n",
    "                               0,\n",
    "                               5, \n",
    "                               5, \n",
    "                               5 \n",
    "                               ],\n",
    "                method='spearman', \n",
    "                exportDataFlag=True, \n",
    "                show=True\n",
    "                )"
   ]
  },
  {
   "cell_type": "code",
   "execution_count": null,
   "metadata": {},
   "outputs": [],
   "source": [
    "# print correlation values\n",
    "# print(go.z)\n",
    "# print(go.x)\n",
    "# print(go.y)\n",
    "import numpy as np\n",
    "\n",
    "go.z = np.abs(go.z)\n",
    "go.cmap = 'Greys'\n",
    "go.width = 1000\n",
    "go.height = 1000\n",
    "go.render()"
   ]
  },
  {
   "cell_type": "markdown",
   "metadata": {},
   "source": [
    "# Correlation Map (along Cruise Track)"
   ]
  },
  {
   "cell_type": "code",
   "execution_count": null,
   "metadata": {},
   "outputs": [],
   "source": [
    "from pycmap.viz import plot_cruise_corr_map\n",
    "\n",
    "go = plot_cruise_corr_map(\n",
    "                    cruise='Gradients_2', \n",
    "                    targetTables=['tblSeaFlow', 'tblSeaFlow', 'tblSeaFlow', 'tblSST_AVHRR_OI_NRT', 'tblSSS_NRT', 'tblCHL_REP', 'tblPisces_NRT', 'tblPisces_NRT', 'tblPisces_NRT', 'tblPisces_NRT', 'tblWOA_Climatology', 'tblWOA_Climatology', 'tblWOA_Climatology', 'tblWOA_Climatology'], \n",
    "                    targetVars=['synecho_abundance', 'picoeuk_abundance', 'prochloro_abundance', 'sst', 'sss', 'chl', 'NO3', 'Fe', 'O2', 'PO4', 'density_WOA_clim', 'nitrate_WOA_clim', 'phosphate_WOA_clim', 'silicate_WOA_clim'], \n",
    "                    depth1 = 0,\n",
    "                    depth2 = 5,\n",
    "                    temporalTolerance=[0, 0, 0, 1, 1, 4, 4, 4, 4, 4, 0, 0, 0, 0], \n",
    "                    latTolerance=[0.1, 0.1, 0.1, 0.25, 0.25, 0.25, 0.5, 0.5, 0.5, 0.5, 0.5, 0.5, 0.5, 0.5], \n",
    "                    lonTolerance=[0.1,0.1, 0.1, 0.25, 0.25, 0.25, 0.5, 0.5, 0.5, 0.5, 0.5, 0.5, 0.5, 0.5], \n",
    "                    depthTolerance=5,\n",
    "                    method='spearman', \n",
    "                    exportDataFlag=False, \n",
    "                    show=True\n",
    "                 )"
   ]
  },
  {
   "cell_type": "code",
   "execution_count": null,
   "metadata": {},
   "outputs": [],
   "source": [
    "api.columns('tblAMT13_Chisholm')"
   ]
  },
  {
   "cell_type": "code",
   "execution_count": null,
   "metadata": {},
   "outputs": [],
   "source": []
  }
 ],
 "metadata": {
  "kernelspec": {
   "display_name": "Python 3",
   "language": "python",
   "name": "python3"
  },
  "language_info": {
   "codemirror_mode": {
    "name": "ipython",
    "version": 3
   },
   "file_extension": ".py",
   "mimetype": "text/x-python",
   "name": "python",
   "nbconvert_exporter": "python",
   "pygments_lexer": "ipython3",
   "version": "3.7.0"
  }
 },
 "nbformat": 4,
 "nbformat_minor": 2
}
