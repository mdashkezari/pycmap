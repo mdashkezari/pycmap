{
 "cells": [
  {
   "cell_type": "code",
   "execution_count": null,
   "metadata": {},
   "outputs": [],
   "source": [
    "# def __init__(self,\n",
    "#              token=None,\n",
    "#              baseURL=None,\n",
    "#              headers=None,\n",
    "#              vizEngine=None,\n",
    "#              exportDir=None,\n",
    "#              exportFormat=None,\n",
    "#              figureDir=None,\n",
    "#              ):\n",
    "#     \"\"\"\n",
    "#     :param str token: access token to make client requests.\n",
    "#     :param str baseURL: root endpoint of Simons CMAP API.\n",
    "#     :param dict headers: additional headers to add to requests.\n",
    "#     :param str vizEngine: data visualization library used to render the graphs.\n",
    "#     :param str exportDir: path to local directory where the exported data are stored.\n",
    "#     :param str exportFormat: file format of the exported files.\n",
    "#     \"\"\"\n",
    "\n"
   ]
  },
  {
   "cell_type": "code",
   "execution_count": 2,
   "metadata": {},
   "outputs": [],
   "source": [
    "import pycmap\n",
    "api = pycmap.API(token='08d91d80-ae64-11e9-8f77-f3e8f5c1f730', vizEngine='plotly')\n"
   ]
  },
  {
   "cell_type": "markdown",
   "metadata": {},
   "source": [
    "# catalog"
   ]
  },
  {
   "cell_type": "code",
   "execution_count": null,
   "metadata": {},
   "outputs": [],
   "source": [
    "api.get_catalog()\n"
   ]
  },
  {
   "cell_type": "markdown",
   "metadata": {},
   "source": [
    "# metadata"
   ]
  },
  {
   "cell_type": "code",
   "execution_count": null,
   "metadata": {},
   "outputs": [],
   "source": [
    "api.get_metadata(['tblsst_AVHRR_OI_NRT', 'tblArgoMerge_REP'], ['sst', 'argo_merge_salinity_adj'])"
   ]
  },
  {
   "cell_type": "markdown",
   "metadata": {},
   "source": [
    "# dataset head"
   ]
  },
  {
   "cell_type": "code",
   "execution_count": null,
   "metadata": {},
   "outputs": [],
   "source": [
    "api.head('tblFlombaum')"
   ]
  },
  {
   "cell_type": "markdown",
   "metadata": {},
   "source": [
    "# data set columns"
   ]
  },
  {
   "cell_type": "code",
   "execution_count": null,
   "metadata": {},
   "outputs": [],
   "source": [
    "api.columns('tblAMT13_Chisholm')"
   ]
  },
  {
   "cell_type": "markdown",
   "metadata": {},
   "source": [
    "# cruise list"
   ]
  },
  {
   "cell_type": "code",
   "execution_count": null,
   "metadata": {},
   "outputs": [],
   "source": [
    "api.cruises()"
   ]
  },
  {
   "cell_type": "markdown",
   "metadata": {},
   "source": [
    "# cruise track"
   ]
  },
  {
   "cell_type": "code",
   "execution_count": null,
   "metadata": {
    "scrolled": true
   },
   "outputs": [],
   "source": [
    "api.cruise_trajectory('diel')"
   ]
  },
  {
   "cell_type": "markdown",
   "metadata": {},
   "source": [
    "# cruise bounds"
   ]
  },
  {
   "cell_type": "code",
   "execution_count": null,
   "metadata": {},
   "outputs": [],
   "source": [
    "api.cruise_bounds('KOK1606')"
   ]
  },
  {
   "cell_type": "markdown",
   "metadata": {},
   "source": [
    "# custom query"
   ]
  },
  {
   "cell_type": "code",
   "execution_count": null,
   "metadata": {},
   "outputs": [],
   "source": [
    "api.query('select * from tblSensors')"
   ]
  },
  {
   "cell_type": "markdown",
   "metadata": {},
   "source": [
    "# stored procedure"
   ]
  },
  {
   "cell_type": "code",
   "execution_count": null,
   "metadata": {},
   "outputs": [],
   "source": [
    "\n",
    "api.subset(\n",
    "          spName='uspSpaceTime', \n",
    "          table='tblCHL_REP', \n",
    "          variable='chl', \n",
    "          dt1='2016-04-30', \n",
    "          dt2='2016-04-30', \n",
    "          lat1=10, \n",
    "          lat2=70, \n",
    "          lon1=-180, \n",
    "          lon2=-80, \n",
    "          depth1=0, \n",
    "          depth2=0.5\n",
    "          )\n"
   ]
  },
  {
   "cell_type": "code",
   "execution_count": null,
   "metadata": {},
   "outputs": [],
   "source": [
    "api.time_series(\n",
    "               table='tblCHL_REP', \n",
    "               variable='chl', \n",
    "               dt1='2014-04-30', \n",
    "               dt2='2017-04-30', \n",
    "               lat1=10, \n",
    "               lat2=70, \n",
    "               lon1=-180, \n",
    "               lon2=-80, \n",
    "               depth1=0, \n",
    "               depth2=0.5,\n",
    "               interval='y'  \n",
    "               )\n"
   ]
  },
  {
   "cell_type": "code",
   "execution_count": null,
   "metadata": {
    "scrolled": false
   },
   "outputs": [],
   "source": [
    "api.match(\n",
    "         sourceTable='tblSeaFlow', \n",
    "         sourceVar='synecho_abundance', \n",
    "         targetTables=['tblCHL_REP', 'tblPisces_NRT'], \n",
    "         targetVars=['chl', 'Fe'], \n",
    "         dt1='2016-04-20', \n",
    "         dt2='2016-05-04', \n",
    "         lat1=20, \n",
    "         lat2=40, \n",
    "         lon1=-160, \n",
    "         lon2=-157, \n",
    "         depth1=0, \n",
    "         depth2=5, \n",
    "         temporalTolerance=4, \n",
    "         latTolerance=0.5, \n",
    "         lonTolerance=0.5, \n",
    "         depthTolerance=5\n",
    "         )"
   ]
  },
  {
   "cell_type": "markdown",
   "metadata": {},
   "source": [
    "# along cruise track"
   ]
  },
  {
   "cell_type": "code",
   "execution_count": null,
   "metadata": {
    "scrolled": true
   },
   "outputs": [],
   "source": [
    "\n",
    "# along = api.along_track(\n",
    "#                         cruise='KOK1606', \n",
    "#                         tables=['tblSeaFlow', 'tblSSS_NRT', 'tblCHL_REP'], \n",
    "#                         variables=['synecho_abundance', 'sss', 'chl'], \n",
    "#                         temporalTolerance=[1, 1, 4], \n",
    "#                         latTolerance=[0.1, 0.25, 0.25], \n",
    "#                         lonTolerance=[0.1, 0.25, 0.25], \n",
    "#                         depthTolerance=5\n",
    "#                         )\n",
    "\n",
    "\n",
    "along = api.along_track(\n",
    "                        cruise='KOK1606', \n",
    "                        tables=['tblSeaFlow', 'tblSeaFlow'], \n",
    "                        variables=['synecho_abundance', 'picoeuk_abundance'], \n",
    "                        temporalTolerance=[1, 1],\n",
    "                        depth1=0,\n",
    "                        depth2=5,\n",
    "                        latTolerance=[ 0.25, 0.25], \n",
    "                        lonTolerance=[0.25, 0.25], \n",
    "                        depthTolerance=5\n",
    "                        )\n",
    "\n",
    "\n",
    "\n",
    "\n",
    "\n",
    "\n",
    "\n"
   ]
  },
  {
   "cell_type": "code",
   "execution_count": null,
   "metadata": {},
   "outputs": [],
   "source": [
    "%matplotlib inline\n",
    "import matplotlib.pyplot as plt\n",
    "\n",
    "plt.plot(along.lat, along.synecho_abundance)"
   ]
  },
  {
   "cell_type": "code",
   "execution_count": null,
   "metadata": {
    "scrolled": true
   },
   "outputs": [],
   "source": [
    "along = api.along_track(\n",
    "                        cruise='Gradients_2', \n",
    "                        tables=['tblSSS_NRT'], \n",
    "                        variables=['sss'], \n",
    "    depth1=0,\n",
    "    depth2=5,\n",
    "                        temporalTolerance=[1], \n",
    "                        latTolerance=[  0.25], \n",
    "                        lonTolerance=[0.25], \n",
    "                        depthTolerance=5\n",
    "                        )\n",
    "\n",
    "\n",
    "along"
   ]
  },
  {
   "cell_type": "markdown",
   "metadata": {},
   "source": [
    "<br>\n",
    "<br>\n",
    "<br>\n",
    "<br>\n",
    "<br>\n",
    "<br>\n",
    "<h1> Visualization </h1>\n",
    "<br>\n",
    "<br>\n",
    "<br>\n",
    "<br>\n",
    "<br>\n",
    "<br>\n"
   ]
  },
  {
   "cell_type": "markdown",
   "metadata": {},
   "source": [
    "# histogram"
   ]
  },
  {
   "cell_type": "code",
   "execution_count": null,
   "metadata": {},
   "outputs": [],
   "source": [
    "\n",
    "from pycmap.viz import plot_hist\n",
    "\n",
    "go = plot_hist(\n",
    "              tables=['tblArgoMerge_REP'], \n",
    "              variables=['argo_merge_salinity_adj'], \n",
    "              dt1='2016-04-30', \n",
    "              dt2='2016-06-30', \n",
    "              lat1=10, \n",
    "              lat2=70, \n",
    "              lon1=-180, \n",
    "              lon2=-80, \n",
    "              depth1=0, \n",
    "              depth2=100, \n",
    "              exportDataFlag=False,\n",
    "              show=True  \n",
    "              )"
   ]
  },
  {
   "cell_type": "code",
   "execution_count": null,
   "metadata": {},
   "outputs": [],
   "source": [
    "go[0].pdf=True\n",
    "go[0].xlabel = 'change xlable'\n",
    "go[0].title='change title'\n",
    "go[0].width = 500\n",
    "go[0].height = 500\n",
    "go[0].render()"
   ]
  },
  {
   "cell_type": "markdown",
   "metadata": {},
   "source": [
    "# time series"
   ]
  },
  {
   "cell_type": "code",
   "execution_count": null,
   "metadata": {},
   "outputs": [],
   "source": [
    "from pycmap.viz import plot_timeseries\n",
    "\n",
    "go = plot_timeseries(\n",
    "                    tables=['tblAltimetry_REP'], \n",
    "                    variables=['adt'], \n",
    "                    dt1='2016-04-30', \n",
    "                    dt2='2017-04-30', \n",
    "                    lat1=30, \n",
    "                    lat2=32, \n",
    "                    lon1=-160, \n",
    "                    lon2=-158, \n",
    "                    depth1=0, \n",
    "                    depth2=5, \n",
    "                    exportDataFlag=False,\n",
    "                    show=True  \n",
    "                    )\n"
   ]
  },
  {
   "cell_type": "code",
   "execution_count": null,
   "metadata": {},
   "outputs": [],
   "source": [
    "go[0].xlabel = 'change xlabel'\n",
    "go[0].ylabel = 'change ylabel'\n",
    "go[0].title='change title'\n",
    "go[0].width = 500\n",
    "go[0].height = 500\n",
    "go[0].msize= 5\n",
    "go[0].fillAlpha=0.8\n",
    "go[0].render()"
   ]
  },
  {
   "cell_type": "code",
   "execution_count": 9,
   "metadata": {},
   "outputs": [
    {
     "data": {
      "application/vnd.jupyter.widget-view+json": {
       "model_id": "41bae05b898d42829b9c26612b3427fb",
       "version_major": 2,
       "version_minor": 0
      },
      "text/plain": [
       "HBox(children=(IntProgress(value=0, description='overall', max=1, style=ProgressStyle(description_width='initi…"
      ]
     },
     "metadata": {},
     "output_type": "display_data"
    },
    {
     "name": "stdout",
     "output_type": "stream",
     "text": [
      "\n",
      "1: adt retrieved (tblAltimetry_REP).\n"
     ]
    },
    {
     "data": {
      "text/html": [
       "        <script type=\"text/javascript\">\n",
       "        window.PlotlyConfig = {MathJaxConfig: 'local'};\n",
       "        if (window.MathJax) {MathJax.Hub.Config({SVG: {font: \"STIX-Web\"}});}\n",
       "        if (typeof require !== 'undefined') {\n",
       "        require.undef(\"plotly\");\n",
       "        requirejs.config({\n",
       "            paths: {\n",
       "                'plotly': ['https://cdn.plot.ly/plotly-latest.min']\n",
       "            }\n",
       "        });\n",
       "        require(['plotly'], function(Plotly) {\n",
       "            window._Plotly = Plotly;\n",
       "        });\n",
       "        }\n",
       "        </script>\n",
       "        "
      ]
     },
     "metadata": {},
     "output_type": "display_data"
    },
    {
     "data": {
      "application/vnd.plotly.v1+json": {
       "config": {
        "editable": false,
        "linkText": "Export to plot.ly",
        "plotlyServerURL": "https://plot.ly",
        "showLink": true,
        "staticPlot": false
       },
       "data": [
        {
         "error_y": {
          "array": [
           0.038861250780625384,
           0.02958190195476164,
           0.05660365072550732,
           0.04708804407451468,
           0.033530706362503736,
           0.02895320696771158,
           0.037687082716449466,
           0.03610577760904817,
           0.042664422239615925,
           0.0533523116187501,
           0.02871207853389972,
           0.04167599413518757,
           0.057206413808809656,
           0.04654500606760092,
           0.03313025605371973,
           0.028904544050313938,
           0.04841088461153874,
           0.04051131786280183,
           0.046872886959675855,
           0.030040840791215523,
           0.020439661926920115,
           0.024992391116675165,
           0.03249403515163228,
           0.03292831721868102,
           0.028543010845646703,
           0.04457026578935665,
           0.06241161986057152,
           0.056397089263081304,
           0.028299823731562056,
           0.03807531526054281,
           0.041059329886532235,
           0.0582232754040694,
           0.039974605417776775,
           0.037965247614354915,
           0.04994420552681312,
           0.03403508238397611,
           0.027063131062761456,
           0.041090194023529966,
           0.03311466592584706,
           0.033770157380669845,
           0.05070192532072082,
           0.03668266948412642,
           0.041518294584843796,
           0.041020710066055004,
           0.0511801424159274,
           0.03293646282660857,
           0.031286597513218065,
           0.046307140551572284,
           0.0402824133249931,
           0.03769762447495263,
           0.04286152390349089,
           0.04542217182047798,
           0.030691779161329515,
           0.07010747202711062,
           0.06524665020885073,
           0.04046884147891185,
           0.04737927074210617,
           0.0549983220508517,
           0.061265860175449056,
           0.06501736173393048,
           0.026860915748210323,
           0.02566179189005498
          ],
          "color": "rgba(7, 7, 7, .2)",
          "type": "data",
          "visible": true
         },
         "marker": {
          "color": "purple",
          "opacity": 0.6,
          "size": 15
         },
         "mode": "lines+markers",
         "name": "adt",
         "opacity": 0.6,
         "type": "scatter",
         "uid": "b33b6b61-30ba-4b80-af06-1b0f7fa6c958",
         "x": [
          "2003-quarter 1",
          "2003-quarter 2",
          "2003-quarter 3",
          "2003-quarter 4",
          "2004-quarter 1",
          "2004-quarter 2",
          "2004-quarter 3",
          "2004-quarter 4",
          "2005-quarter 1",
          "2005-quarter 2",
          "2005-quarter 3",
          "2005-quarter 4",
          "2006-quarter 1",
          "2006-quarter 2",
          "2006-quarter 3",
          "2006-quarter 4",
          "2007-quarter 1",
          "2007-quarter 2",
          "2007-quarter 3",
          "2007-quarter 4",
          "2008-quarter 1",
          "2008-quarter 2",
          "2008-quarter 3",
          "2008-quarter 4",
          "2009-quarter 1",
          "2009-quarter 2",
          "2009-quarter 3",
          "2009-quarter 4",
          "2010-quarter 1",
          "2010-quarter 2",
          "2010-quarter 3",
          "2010-quarter 4",
          "2011-quarter 1",
          "2011-quarter 2",
          "2011-quarter 3",
          "2011-quarter 4",
          "2012-quarter 1",
          "2012-quarter 2",
          "2012-quarter 3",
          "2012-quarter 4",
          "2013-quarter 1",
          "2013-quarter 2",
          "2013-quarter 3",
          "2013-quarter 4",
          "2014-quarter 1",
          "2014-quarter 2",
          "2014-quarter 3",
          "2014-quarter 4",
          "2015-quarter 1",
          "2015-quarter 2",
          "2015-quarter 3",
          "2015-quarter 4",
          "2016-quarter 1",
          "2016-quarter 2",
          "2016-quarter 3",
          "2016-quarter 4",
          "2017-quarter 1",
          "2017-quarter 2",
          "2017-quarter 3",
          "2017-quarter 4",
          "2018-quarter 1",
          "2018-quarter 2"
         ],
         "y": [
          0.8094958680555557,
          0.7785234031593405,
          0.8760826256793479,
          0.8630614470108695,
          0.8036867101648351,
          0.8147764938186813,
          0.885766219429348,
          0.8581587466032607,
          0.7833240972222222,
          0.8185902815934065,
          0.8633488451086955,
          0.9271364809782606,
          0.8369016666666667,
          0.8420469436813188,
          0.8992110563858695,
          0.9059200237771742,
          0.8403314583333332,
          0.8361943337912089,
          0.9088417629076089,
          0.9215314028532609,
          0.9061572115384615,
          0.9104164148351648,
          0.9508147418478263,
          0.953774524456522,
          0.8984350520833331,
          0.8761617616758243,
          0.9413810631793479,
          0.934533746603261,
          0.8825929513888892,
          0.8578880494505495,
          0.8703047724184785,
          0.910188383152174,
          0.8378386805555558,
          0.8647120535714287,
          0.9212804517663041,
          0.9442424592391305,
          0.8796298076923077,
          0.8998698145604395,
          1.0046951596467388,
          1.0028239300271742,
          0.942005486111111,
          0.8837101133241759,
          0.9497245244565214,
          0.9419816066576088,
          0.8813672569444446,
          0.8309485576923076,
          0.9005501019021741,
          0.9107730808423912,
          0.8092065972222225,
          0.812468904532967,
          0.8689928838315215,
          0.9180355468750001,
          0.8461104910714287,
          0.8585421703296702,
          0.9362788043478261,
          0.9395180197010871,
          0.9179486805555553,
          0.8323977163461538,
          0.9369011039402176,
          0.9027930197010868,
          0.8371653124999998,
          0.8392406029929578
         ]
        }
       ],
       "layout": {
        "autosize": false,
        "height": 400,
        "title": {
         "text": ""
        },
        "width": 800,
        "xaxis": {
         "title": {
          "text": ""
         }
        },
        "yaxis": {
         "title": {
          "text": "adt [m]"
         }
        }
       }
      },
      "text/html": [
       "<div>\n",
       "        \n",
       "        \n",
       "            <div id=\"b08bd707-14d4-4f66-8b76-ece57181c249\" class=\"plotly-graph-div\" style=\"height:400px; width:800px;\"></div>\n",
       "            <script type=\"text/javascript\">\n",
       "                require([\"plotly\"], function(Plotly) {\n",
       "                    window.PLOTLYENV=window.PLOTLYENV || {};\n",
       "                    window.PLOTLYENV.BASE_URL='https://plot.ly';\n",
       "                    \n",
       "                if (document.getElementById(\"b08bd707-14d4-4f66-8b76-ece57181c249\")) {\n",
       "                    Plotly.newPlot(\n",
       "                        'b08bd707-14d4-4f66-8b76-ece57181c249',\n",
       "                        [{\"error_y\": {\"array\": [0.038861250780625384, 0.02958190195476164, 0.05660365072550732, 0.04708804407451468, 0.033530706362503736, 0.02895320696771158, 0.037687082716449466, 0.03610577760904817, 0.042664422239615925, 0.0533523116187501, 0.02871207853389972, 0.04167599413518757, 0.057206413808809656, 0.04654500606760092, 0.03313025605371973, 0.028904544050313938, 0.04841088461153874, 0.04051131786280183, 0.046872886959675855, 0.030040840791215523, 0.020439661926920115, 0.024992391116675165, 0.03249403515163228, 0.03292831721868102, 0.028543010845646703, 0.04457026578935665, 0.06241161986057152, 0.056397089263081304, 0.028299823731562056, 0.03807531526054281, 0.041059329886532235, 0.0582232754040694, 0.039974605417776775, 0.037965247614354915, 0.04994420552681312, 0.03403508238397611, 0.027063131062761456, 0.041090194023529966, 0.03311466592584706, 0.033770157380669845, 0.05070192532072082, 0.03668266948412642, 0.041518294584843796, 0.041020710066055004, 0.0511801424159274, 0.03293646282660857, 0.031286597513218065, 0.046307140551572284, 0.0402824133249931, 0.03769762447495263, 0.04286152390349089, 0.04542217182047798, 0.030691779161329515, 0.07010747202711062, 0.06524665020885073, 0.04046884147891185, 0.04737927074210617, 0.0549983220508517, 0.061265860175449056, 0.06501736173393048, 0.026860915748210323, 0.02566179189005498], \"color\": \"rgba(7, 7, 7, .2)\", \"type\": \"data\", \"visible\": true}, \"marker\": {\"color\": \"purple\", \"opacity\": 0.6, \"size\": 15}, \"mode\": \"lines+markers\", \"name\": \"adt\", \"opacity\": 0.6, \"type\": \"scatter\", \"uid\": \"b33b6b61-30ba-4b80-af06-1b0f7fa6c958\", \"x\": [\"2003-quarter 1\", \"2003-quarter 2\", \"2003-quarter 3\", \"2003-quarter 4\", \"2004-quarter 1\", \"2004-quarter 2\", \"2004-quarter 3\", \"2004-quarter 4\", \"2005-quarter 1\", \"2005-quarter 2\", \"2005-quarter 3\", \"2005-quarter 4\", \"2006-quarter 1\", \"2006-quarter 2\", \"2006-quarter 3\", \"2006-quarter 4\", \"2007-quarter 1\", \"2007-quarter 2\", \"2007-quarter 3\", \"2007-quarter 4\", \"2008-quarter 1\", \"2008-quarter 2\", \"2008-quarter 3\", \"2008-quarter 4\", \"2009-quarter 1\", \"2009-quarter 2\", \"2009-quarter 3\", \"2009-quarter 4\", \"2010-quarter 1\", \"2010-quarter 2\", \"2010-quarter 3\", \"2010-quarter 4\", \"2011-quarter 1\", \"2011-quarter 2\", \"2011-quarter 3\", \"2011-quarter 4\", \"2012-quarter 1\", \"2012-quarter 2\", \"2012-quarter 3\", \"2012-quarter 4\", \"2013-quarter 1\", \"2013-quarter 2\", \"2013-quarter 3\", \"2013-quarter 4\", \"2014-quarter 1\", \"2014-quarter 2\", \"2014-quarter 3\", \"2014-quarter 4\", \"2015-quarter 1\", \"2015-quarter 2\", \"2015-quarter 3\", \"2015-quarter 4\", \"2016-quarter 1\", \"2016-quarter 2\", \"2016-quarter 3\", \"2016-quarter 4\", \"2017-quarter 1\", \"2017-quarter 2\", \"2017-quarter 3\", \"2017-quarter 4\", \"2018-quarter 1\", \"2018-quarter 2\"], \"y\": [0.8094958680555557, 0.7785234031593405, 0.8760826256793479, 0.8630614470108695, 0.8036867101648351, 0.8147764938186813, 0.885766219429348, 0.8581587466032607, 0.7833240972222222, 0.8185902815934065, 0.8633488451086955, 0.9271364809782606, 0.8369016666666667, 0.8420469436813188, 0.8992110563858695, 0.9059200237771742, 0.8403314583333332, 0.8361943337912089, 0.9088417629076089, 0.9215314028532609, 0.9061572115384615, 0.9104164148351648, 0.9508147418478263, 0.953774524456522, 0.8984350520833331, 0.8761617616758243, 0.9413810631793479, 0.934533746603261, 0.8825929513888892, 0.8578880494505495, 0.8703047724184785, 0.910188383152174, 0.8378386805555558, 0.8647120535714287, 0.9212804517663041, 0.9442424592391305, 0.8796298076923077, 0.8998698145604395, 1.0046951596467388, 1.0028239300271742, 0.942005486111111, 0.8837101133241759, 0.9497245244565214, 0.9419816066576088, 0.8813672569444446, 0.8309485576923076, 0.9005501019021741, 0.9107730808423912, 0.8092065972222225, 0.812468904532967, 0.8689928838315215, 0.9180355468750001, 0.8461104910714287, 0.8585421703296702, 0.9362788043478261, 0.9395180197010871, 0.9179486805555553, 0.8323977163461538, 0.9369011039402176, 0.9027930197010868, 0.8371653124999998, 0.8392406029929578]}],\n",
       "                        {\"autosize\": false, \"height\": 400, \"title\": {\"text\": \"\"}, \"width\": 800, \"xaxis\": {\"title\": {\"text\": \"\"}}, \"yaxis\": {\"title\": {\"text\": \"adt [m]\"}}},\n",
       "                        {\"showLink\": true, \"editable\": false, \"staticPlot\": false, \"linkText\": \"Export to plot.ly\", \"plotlyServerURL\": \"https://plot.ly\", \"responsive\": true}\n",
       "                    ).then(function(){\n",
       "                            \n",
       "var gd = document.getElementById('b08bd707-14d4-4f66-8b76-ece57181c249');\n",
       "var x = new MutationObserver(function (mutations, observer) {{\n",
       "        var display = window.getComputedStyle(gd).display;\n",
       "        if (!display || display === 'none') {{\n",
       "            console.log([gd, 'removed!']);\n",
       "            Plotly.purge(gd);\n",
       "            observer.disconnect();\n",
       "        }}\n",
       "}});\n",
       "\n",
       "// Listen for the removal of the full notebook cells\n",
       "var notebookContainer = gd.closest('#notebook-container');\n",
       "if (notebookContainer) {{\n",
       "    x.observe(notebookContainer, {childList: true});\n",
       "}}\n",
       "\n",
       "// Listen for the clearing of the current output cell\n",
       "var outputEl = gd.closest('.output');\n",
       "if (outputEl) {{\n",
       "    x.observe(outputEl, {childList: true});\n",
       "}}\n",
       "\n",
       "                        })\n",
       "                };\n",
       "                });\n",
       "            </script>\n",
       "        </div>"
      ]
     },
     "metadata": {},
     "output_type": "display_data"
    },
    {
     "name": "stdout",
     "output_type": "stream",
     "text": [
      "\n"
     ]
    }
   ],
   "source": [
    "from pycmap.viz import plot_timeseries\n",
    "\n",
    "go = plot_timeseries(\n",
    "                    tables=['tblAltimetry_REP'], \n",
    "                    variables=['adt'], \n",
    "                    dt1='2003-01-01', \n",
    "                    dt2='2018-12-31', \n",
    "                    lat1=30, \n",
    "                    lat2=32, \n",
    "                    lon1=-160, \n",
    "                    lon2=-158, \n",
    "                    depth1=0, \n",
    "                    depth2=5, \n",
    "                    exportDataFlag=False,\n",
    "                    show=True,\n",
    "                    interval='s'    \n",
    "                    )\n",
    "\n",
    "\n",
    "\n",
    "# interval options:\n",
    "# a/y/year/yearly/annual \n",
    "# q/s/season/seasonal/seasonality/quarterly  \n",
    "# m/month/monthly \n",
    "# w/week/weekly\n",
    "# '' (empty string for original temporal resolution)"
   ]
  },
  {
   "cell_type": "markdown",
   "metadata": {},
   "source": [
    "# plot XY"
   ]
  },
  {
   "cell_type": "code",
   "execution_count": null,
   "metadata": {
    "scrolled": true
   },
   "outputs": [],
   "source": [
    "from pycmap.viz import plot_xy\n",
    "go = plot_xy(\n",
    "            xTables=['tblsst_AVHRR_OI_NRT', 'tblPisces_NRT'], \n",
    "            xVars=['sst', 'NO3'],\n",
    "            yTables=['tblAltimetry_REP', 'tblsst_AVHRR_OI_NRT'], \n",
    "            yVars=['adt', 'sst'], \n",
    "            dt1='2016-04-20', \n",
    "            dt2='2016-05-20', \n",
    "            lat1=30, \n",
    "            lat2=32, \n",
    "            lon1=-160, \n",
    "            lon2=-158, \n",
    "            depth1=0, \n",
    "            depth2=0.5, \n",
    "            temporalTolerances=[4, 4],\n",
    "            latTolerances=[0.125, 0.125],\n",
    "            lonTolerances=[0.125, 0.125],\n",
    "            depthTolerances=[0.5, 0.5],\n",
    "            method='spearman', \n",
    "            exportDataFlag=False, \n",
    "            show=True\n",
    "            )\n",
    "\n",
    "# go[0].xlabel = 'change xlabel'\n",
    "# go[0].title='new title'\n",
    "# go[0].width = 300\n",
    "# go[0].height = 300\n",
    "# go[0].msize=10\n",
    "# go[0].fillAlpha=0.7\n",
    "# go[0].render()"
   ]
  },
  {
   "cell_type": "markdown",
   "metadata": {},
   "source": [
    "# cruise track"
   ]
  },
  {
   "cell_type": "code",
   "execution_count": null,
   "metadata": {},
   "outputs": [],
   "source": [
    "import pycmap\n",
    "\n",
    "from pycmap.viz import plot_cruise_track\n",
    "plot_cruise_track('meso_scope')\n"
   ]
  },
  {
   "cell_type": "markdown",
   "metadata": {},
   "source": [
    "# basic regional map"
   ]
  },
  {
   "cell_type": "code",
   "execution_count": null,
   "metadata": {
    "scrolled": false
   },
   "outputs": [],
   "source": [
    "from pycmap.viz import plot_map\n",
    "\n",
    "go = plot_map(\n",
    "             tables=['tblsst_A\n",
    "             dt1='2016-04-30', VHRR_OI_NRT', 'tblPisces_NRT', 'tblWOA_Climatology'], \n",
    "             variables=['sst', 'Fe', 'phosphate_WOA_clim'], \n",
    "             dt2='2016-04-30', \n",
    "             lat1=10, \n",
    "             lat2=70, \n",
    "             lon1=-180, \n",
    "             lon2=-80, \n",
    "             depth1=0, \n",
    "             depth2=0.5, \n",
    "             exportDataFlag=False,\n",
    "             show=True\n",
    "             )"
   ]
  },
  {
   "cell_type": "code",
   "execution_count": null,
   "metadata": {},
   "outputs": [],
   "source": [
    "# change colormap: any matplotlib or cmocean colormap works\n",
    "# https://matplotlib.org/3.1.0/tutorials/colors/colormaps.html\n",
    "# https://matplotlib.org/cmocean/\n",
    "# go[1].cmap = cmocean.cm.thermal\n",
    "\n",
    "\n",
    "go[1].cmap = 'PRGn'\n",
    "go[1].vmin = 0\n",
    "go[1].vmax = 5e-5\n",
    "go[1].width = 900\n",
    "go[1].height = 700\n",
    "go[1].render()"
   ]
  },
  {
   "cell_type": "markdown",
   "metadata": {},
   "source": [
    "# conour"
   ]
  },
  {
   "cell_type": "code",
   "execution_count": null,
   "metadata": {
    "scrolled": false
   },
   "outputs": [],
   "source": [
    "\n",
    "from pycmap.viz import plot_map\n",
    "\n",
    "go = plot_map(\n",
    "             tables=['tblsst_AVHRR_OI_NRT'], \n",
    "             variables=['sst'], \n",
    "             dt1='2016-04-30', \n",
    "             dt2='2016-04-30', \n",
    "             lat1=10, \n",
    "             lat2=70, \n",
    "             lon1=-180, \n",
    "             lon2=-80, \n",
    "             depth1=0, \n",
    "             depth2=500, \n",
    "             exportDataFlag=False,\n",
    "             show=True,   \n",
    "             levels=10\n",
    "             )"
   ]
  },
  {
   "cell_type": "markdown",
   "metadata": {},
   "source": [
    "# 3D surface"
   ]
  },
  {
   "cell_type": "code",
   "execution_count": null,
   "metadata": {
    "scrolled": false
   },
   "outputs": [],
   "source": [
    "\n",
    "from pycmap.viz import plot_map\n",
    "\n",
    "go = plot_map(\n",
    "             tables=['tblPisces_NRT', 'tblWOA_Climatology', 'tblAltimetry_REP', 'tblsst_AVHRR_OI_NRT'], \n",
    "             variables=['NO3', 'density_WOA_clim', 'adt', 'sst'], \n",
    "             dt1='2016-04-30', \n",
    "             dt2='2016-04-30', \n",
    "             lat1=-90, \n",
    "             lat2=90, \n",
    "             lon1=-180, \n",
    "             lon2=180, \n",
    "             depth1=0, \n",
    "             depth2=0.5, \n",
    "             exportDataFlag=False, \n",
    "             show=True,   \n",
    "             surface3D=True\n",
    "             )"
   ]
  },
  {
   "cell_type": "markdown",
   "metadata": {},
   "source": [
    "# section"
   ]
  },
  {
   "cell_type": "code",
   "execution_count": null,
   "metadata": {},
   "outputs": [],
   "source": [
    "from pycmap.viz import plot_section\n",
    "\n",
    "go = plot_section(\n",
    "                 tables=['tblPisces_NRT'], \n",
    "                 variables=['NO3'], \n",
    "                 dt1='2016-04-30', \n",
    "                 dt2='2016-04-30', \n",
    "                 lat1=10, \n",
    "                 lat2=60, \n",
    "                 lon1=-160, \n",
    "                 lon2=-158, \n",
    "                 depth1=0, \n",
    "                 depth2=5000, \n",
    "                 exportDataFlag=False, \n",
    "                 show=True\n",
    "                 )"
   ]
  },
  {
   "cell_type": "markdown",
   "metadata": {},
   "source": [
    "# section contour"
   ]
  },
  {
   "cell_type": "code",
   "execution_count": null,
   "metadata": {},
   "outputs": [],
   "source": [
    "from pycmap.viz import plot_section\n",
    "\n",
    "go = plot_section(\n",
    "                 tables=['tblPisces_NRT'], \n",
    "                 variables=['NO3'], \n",
    "                 dt1='2016-04-30', \n",
    "                 dt2='2016-04-30', \n",
    "                 lat1=10, \n",
    "                 lat2=60, \n",
    "                 lon1=-160, \n",
    "                 lon2=-158, \n",
    "                 depth1=0, \n",
    "                 depth2=5000, \n",
    "                 exportDataFlag=False, \n",
    "                 show=True,\n",
    "                 levels=10\n",
    "                 )"
   ]
  },
  {
   "cell_type": "code",
   "execution_count": null,
   "metadata": {},
   "outputs": [],
   "source": [
    "go[0].width = 800\n",
    "go[0].height = 700\n",
    "go[0].vmin = 5\n",
    "go[0].vmax = 40\n",
    "go[0].levels=20\n",
    "go[0].render()\n"
   ]
  },
  {
   "cell_type": "markdown",
   "metadata": {},
   "source": [
    "# correlation map"
   ]
  },
  {
   "cell_type": "code",
   "execution_count": null,
   "metadata": {},
   "outputs": [],
   "source": [
    "from pycmap.viz import plot_corr_map\n",
    "\n",
    "# grad1 cruise\n",
    "go = plot_corr_map(\n",
    "                sourceTable='tblSeaFlow', \n",
    "                sourceVar='synecho_abundance',\n",
    "                targetTables=['tblCHL_REP', 'tblPisces_NRT', 'tblPisces_NRT', 'tblSSS_NRT'], \n",
    "                targetVars=['chl', 'Fe', 'NO3', 'SSS'], \n",
    "                dt1='2016-04-20', \n",
    "                dt2='2016-05-04', \n",
    "                lat1=20, \n",
    "                lat2=40, \n",
    "                lon1=-160, \n",
    "                lon2=-157, \n",
    "                depth1=0, \n",
    "                depth2=5, \n",
    "                temporalTolerance=4,\n",
    "                latTolerance=0.25, \n",
    "                lonTolerance=0.25, \n",
    "                depthTolerance=5,\n",
    "                method='spearman', \n",
    "                exportDataFlag=False, \n",
    "                show=True\n",
    "                )"
   ]
  },
  {
   "cell_type": "code",
   "execution_count": null,
   "metadata": {},
   "outputs": [],
   "source": [
    "from pycmap.viz import plot_corr_map\n",
    "\n",
    "# grad1 cruise\n",
    "go = plot_corr_map(\n",
    "                sourceTable='tblSeaFlow', \n",
    "                sourceVar='synecho_abundance',\n",
    "                targetTables=['tblCHL_REP', 'tblPisces_NRT', 'tblPisces_NRT', 'tblSSS_NRT'], \n",
    "                targetVars=['chl', 'Fe', 'NO3', 'SSS'], \n",
    "                dt1='2016-04-20', \n",
    "                dt2='2016-05-04', \n",
    "                lat1=20, \n",
    "                lat2=40, \n",
    "                lon1=-160, \n",
    "                lon2=-157, \n",
    "                depth1=0, \n",
    "                depth2=5, \n",
    "                temporalTolerance=[\n",
    "                                  4, # tblCHL_REP\n",
    "                                  4, # tblPisces_NRT  \n",
    "                                  4, # tblPisces_NRT  \n",
    "                                  0 # tblSSS_NRT  \n",
    "                                  ],\n",
    "                latTolerance=[\n",
    "                             0.125, # tblCHL_REP\n",
    "                             0.25,  # tblPisces_NRT\n",
    "                             0.25,  # tblPisces_NRT\n",
    "                             0.125  # tblSSS_NRT\n",
    "                             ],\n",
    "                lonTolerance=[\n",
    "                             0.125, # tblCHL_REP\n",
    "                             0.25,  # tblPisces_NRT\n",
    "                             0.25,  # tblPisces_NRT\n",
    "                             0.125  # tblSSS_NRT\n",
    "                             ],\n",
    "                depthTolerance=[\n",
    "                               0, # tblCHL_REP\n",
    "                               5, # tblPisces_NRT  \n",
    "                               5, # tblPisces_NRT  \n",
    "                               0 # tblSSS_NRT  \n",
    "                               ],\n",
    "                method='spearman', \n",
    "                exportDataFlag=False, \n",
    "                show=True\n",
    "                )"
   ]
  },
  {
   "cell_type": "code",
   "execution_count": null,
   "metadata": {},
   "outputs": [],
   "source": [
    "from pycmap.viz import plot_corr_map\n",
    "\n",
    "# AMT13 cruise\n",
    "go = plot_corr_map(\n",
    "                sourceTable='tblAMT13_Chisholm', \n",
    "                sourceVar='MIT9313PCR_Chisholm',\n",
    "                targetTables=[\n",
    "                             'tblAMT13_Chisholm', \n",
    "                             'tblAMT13_Chisholm', \n",
    "                             'tblAMT13_Chisholm', \n",
    "                             'tblAMT13_Chisholm', \n",
    "                             'tblAMT13_Chisholm', \n",
    "                             'tblAMT13_Chisholm', \n",
    "                             'tblAMT13_Chisholm', \n",
    "                             'tblAMT13_Chisholm', \n",
    "                             'tblAMT13_Chisholm', \n",
    "                             'tblWOA_Climatology', \n",
    "                             'tblWOA_Climatology', \n",
    "                             'tblWOA_Climatology'\n",
    "                             ], \n",
    "                targetVars=[\n",
    "                           'TQPCR_MED4_MIT9312_MIT9211_NATL2A_SS120_MIT9313_Chisholm', \n",
    "                           'MIT9312PCR_Chisholm', \n",
    "                           'MED4PCR_Chisholm', \n",
    "                           'NATL2APCR_Chisholm', \n",
    "                           'SS120PCR_Chisholm', \n",
    "                           'sbact_Chisholm', \n",
    "                           'temp_C_AMT13', \n",
    "                           'Light_Quanta_m2_sec_AMT13', \n",
    "                           'chlA_AMT13', \n",
    "                           'nitrate_WOA_clim', \n",
    "                           'phosphate_WOA_clim', \n",
    "                           'silicate_WOA_clim'\n",
    "                           ], \n",
    "                dt1='2003-09-14', \n",
    "                dt2='2003-10-12', \n",
    "                lat1=-48, \n",
    "                lat2=48, \n",
    "                lon1=-52, \n",
    "                lon2=-11, \n",
    "                depth1=0, \n",
    "                depth2=240, \n",
    "                temporalTolerance=[\n",
    "                                  0,\n",
    "                                  0,\n",
    "                                  0,\n",
    "                                  0,\n",
    "                                  0,\n",
    "                                  0,\n",
    "                                  0,\n",
    "                                  0,\n",
    "                                  0,\n",
    "                                  0,\n",
    "                                  0,\n",
    "                                  0  \n",
    "                                  ],\n",
    "                latTolerance=[\n",
    "                             0, \n",
    "                             0,  \n",
    "                             0,  \n",
    "                             0,\n",
    "                             0, \n",
    "                             0,  \n",
    "                             0,  \n",
    "                             0,\n",
    "                             0,   \n",
    "                             0.5,   \n",
    "                             0.5,   \n",
    "                             0.5   \n",
    "                             ],\n",
    "                lonTolerance=[\n",
    "                             0, \n",
    "                             0,  \n",
    "                             0,  \n",
    "                             0,\n",
    "                             0,\n",
    "                             0, \n",
    "                             0, \n",
    "                             0,\n",
    "                             0,   \n",
    "                             0.5,   \n",
    "                             0.5,   \n",
    "                             0.5   \n",
    "                             ],\n",
    "                depthTolerance=[\n",
    "                               0,\n",
    "                               0,\n",
    "                               0,\n",
    "                               0,\n",
    "                               0,\n",
    "                               0,\n",
    "                               0,\n",
    "                               0,\n",
    "                               0,\n",
    "                               5, \n",
    "                               5, \n",
    "                               5 \n",
    "                               ],\n",
    "                method='spearman', \n",
    "                exportDataFlag=True, \n",
    "                show=True\n",
    "                )"
   ]
  },
  {
   "cell_type": "code",
   "execution_count": null,
   "metadata": {},
   "outputs": [],
   "source": [
    "# print correlation values\n",
    "# print(go.z)\n",
    "# print(go.x)\n",
    "# print(go.y)\n",
    "import numpy as np\n",
    "\n",
    "go.z = np.abs(go.z)\n",
    "go.cmap = 'Greys'\n",
    "go.width = 1000\n",
    "go.height = 1000\n",
    "go.render()"
   ]
  },
  {
   "cell_type": "markdown",
   "metadata": {},
   "source": [
    "# Correlation Map (along Cruise Track)"
   ]
  },
  {
   "cell_type": "code",
   "execution_count": null,
   "metadata": {},
   "outputs": [],
   "source": [
    "from pycmap.viz import plot_cruise_corr_map\n",
    "\n",
    "go = plot_cruise_corr_map(\n",
    "                    cruise='diel', \n",
    "                    targetTables=['tblSeaFlow', 'tblSeaFlow', 'tblSeaFlow', 'tblSST_AVHRR_OI_NRT', 'tblSSS_NRT', 'tblCHL_REP', 'tblPisces_NRT', 'tblPisces_NRT', 'tblPisces_NRT', 'tblPisces_NRT', 'tblWOA_Climatology', 'tblWOA_Climatology', 'tblWOA_Climatology', 'tblWOA_Climatology'], \n",
    "                    targetVars=['synecho_abundance', 'picoeuk_abundance', 'prochloro_abundance', 'sst', 'sss', 'chl', 'NO3', 'Fe', 'O2', 'PO4', 'density_WOA_clim', 'nitrate_WOA_clim', 'phosphate_WOA_clim', 'silicate_WOA_clim'], \n",
    "                    depth1 = 0,\n",
    "                    depth2 = 5,\n",
    "                    temporalTolerance=[0, 0, 0, 1, 1, 4, 4, 4, 4, 4, 0, 0, 0, 0], \n",
    "                    latTolerance=[0.1, 0.1, 0.1, 0.25, 0.25, 0.25, 0.5, 0.5, 0.5, 0.5, 0.5, 0.5, 0.5, 0.5], \n",
    "                    lonTolerance=[0.1,0.1, 0.1, 0.25, 0.25, 0.25, 0.5, 0.5, 0.5, 0.5, 0.5, 0.5, 0.5, 0.5], \n",
    "                    depthTolerance=5,\n",
    "                    method='spearman', \n",
    "                    exportDataFlag=False, \n",
    "                    show=True\n",
    "                 )"
   ]
  },
  {
   "cell_type": "markdown",
   "metadata": {},
   "source": [
    "<br>\n",
    "<br>\n",
    "<br>\n",
    "<br>\n",
    "<br>\n",
    "<br>\n",
    "<h1> Analysis (deepC) </h1>\n",
    "<br>\n",
    "<br>\n",
    "<br>\n",
    "<br>\n",
    "<br>\n",
    "<br>\n"
   ]
  },
  {
   "cell_type": "code",
   "execution_count": 3,
   "metadata": {
    "scrolled": false
   },
   "outputs": [
    {
     "name": "stdout",
     "output_type": "stream",
     "text": [
      "\n",
      "****************\n",
      "Preparing meso_scope cruise...\n",
      "****************\n"
     ]
    },
    {
     "data": {
      "application/vnd.jupyter.widget-view+json": {
       "model_id": "be1c463262614cacbb49b59d08529bed",
       "version_major": 2,
       "version_minor": 0
      },
      "text/plain": [
       "HBox(children=(IntProgress(value=0, description='overall', max=14, style=ProgressStyle(description_width='init…"
      ]
     },
     "metadata": {},
     "output_type": "display_data"
    },
    {
     "name": "stdout",
     "output_type": "stream",
     "text": [
      "\n",
      "1: synecho_abundance matched.\n",
      "\n",
      "2: picoeuk_abundance matched.\n",
      "\n",
      "3: prochloro_abundance matched.\n",
      "\n",
      "4: sst matched.\n",
      "\n",
      "5: sss matched.\n",
      "\n",
      "6: chl matched.\n",
      "\n",
      "7: NO3 matched.\n",
      "\n",
      "8: Fe matched.\n",
      "\n",
      "9: O2 matched.\n",
      "\n",
      "10: PO4 matched.\n",
      "\n",
      "11: density_WOA_clim matched.\n",
      "\n",
      "12: nitrate_WOA_clim matched.\n",
      "\n",
      "13: phosphate_WOA_clim matched.\n",
      "\n",
      "14: silicate_WOA_clim matched.\n",
      "\n",
      "\n",
      "****************\n",
      "Preparing diel cruise...\n",
      "****************\n"
     ]
    },
    {
     "data": {
      "application/vnd.jupyter.widget-view+json": {
       "model_id": "94d3b4c6b16f405292c51553dacf1560",
       "version_major": 2,
       "version_minor": 0
      },
      "text/plain": [
       "HBox(children=(IntProgress(value=0, description='overall', max=14, style=ProgressStyle(description_width='init…"
      ]
     },
     "metadata": {},
     "output_type": "display_data"
    },
    {
     "name": "stdout",
     "output_type": "stream",
     "text": [
      "\n",
      "1: synecho_abundance matched.\n",
      "\n",
      "2: picoeuk_abundance matched.\n",
      "\n",
      "3: prochloro_abundance matched.\n",
      "\n",
      "4: sst matched.\n",
      "\n",
      "5: sss matched.\n",
      "\n",
      "6: chl matched.\n",
      "\n",
      "7: NO3 matched.\n",
      "\n",
      "8: Fe matched.\n",
      "\n",
      "9: O2 matched.\n",
      "\n",
      "10: PO4 matched.\n",
      "\n",
      "11: density_WOA_clim matched.\n",
      "\n",
      "12: nitrate_WOA_clim matched.\n",
      "\n",
      "13: phosphate_WOA_clim matched.\n",
      "\n",
      "14: silicate_WOA_clim matched.\n",
      "\n"
     ]
    }
   ],
   "source": [
    "\n",
    "import pandas as pd\n",
    "from pycmap.clean import Clean\n",
    "\n",
    "\n",
    "cruises = ['Gradients_1', 'Gradients_2']\n",
    "cruises = ['meso_scope', 'diel']\n",
    "df = pd.DataFrame({})\n",
    "for cruise in cruises:\n",
    "    print('')\n",
    "    print('****************')\n",
    "    print('Preparing %s cruise...' % cruise)\n",
    "    print('****************')\n",
    "    data = api.along_track(\n",
    "                          cruise=cruise,     \n",
    "                          tables=['tblSeaFlow', 'tblSeaFlow', 'tblSeaFlow', 'tblSST_AVHRR_OI_NRT', 'tblSSS_NRT', 'tblCHL_REP', 'tblPisces_NRT', 'tblPisces_NRT', 'tblPisces_NRT', 'tblPisces_NRT', 'tblWOA_Climatology', 'tblWOA_Climatology', 'tblWOA_Climatology', 'tblWOA_Climatology'], \n",
    "                          variables=['synecho_abundance', 'picoeuk_abundance', 'prochloro_abundance', 'sst', 'sss', 'chl', 'NO3', 'Fe', 'O2', 'PO4', 'density_WOA_clim', 'nitrate_WOA_clim', 'phosphate_WOA_clim', 'silicate_WOA_clim'], \n",
    "                          depth1 = 0,\n",
    "                          depth2 = 5,\n",
    "                          temporalTolerance=[0, 0, 0, 1, 1, 4, 4, 4, 4, 4, 0, 0, 0, 0], \n",
    "                          latTolerance=[0.1, 0.1, 0.1, 0.25, 0.25, 0.25, 0.5, 0.5, 0.5, 0.5, 0.5, 0.5, 0.5, 0.5], \n",
    "                          lonTolerance=[0.1,0.1, 0.1, 0.25, 0.25, 0.25, 0.5, 0.5, 0.5, 0.5, 0.5, 0.5, 0.5, 0.5], \n",
    "                          depthTolerance=5\n",
    "                          )\n",
    "\n",
    "    if len(df) < 1:\n",
    "        df = data\n",
    "    else:\n",
    "        df = pd.concat([df, data], ignore_index=True)"
   ]
  },
  {
   "cell_type": "code",
   "execution_count": 4,
   "metadata": {},
   "outputs": [],
   "source": [
    "df = Clean(df).remove_nan_time_std()"
   ]
  },
  {
   "cell_type": "code",
   "execution_count": 6,
   "metadata": {
    "scrolled": false
   },
   "outputs": [
    {
     "data": {
      "text/html": [
       "        <script type=\"text/javascript\">\n",
       "        window.PlotlyConfig = {MathJaxConfig: 'local'};\n",
       "        if (window.MathJax) {MathJax.Hub.Config({SVG: {font: \"STIX-Web\"}});}\n",
       "        if (typeof require !== 'undefined') {\n",
       "        require.undef(\"plotly\");\n",
       "        requirejs.config({\n",
       "            paths: {\n",
       "                'plotly': ['https://cdn.plot.ly/plotly-latest.min']\n",
       "            }\n",
       "        });\n",
       "        require(['plotly'], function(Plotly) {\n",
       "            window._Plotly = Plotly;\n",
       "        });\n",
       "        }\n",
       "        </script>\n",
       "        "
      ]
     },
     "metadata": {},
     "output_type": "display_data"
    },
    {
     "data": {
      "application/vnd.plotly.v1+json": {
       "config": {
        "editable": false,
        "linkText": "Export to plot.ly",
        "plotlyServerURL": "https://plot.ly",
        "showLink": true,
        "staticPlot": false
       },
       "data": [
        {
         "error_y": {
          "array": [
           0.015106513611105854,
           0.002590282377997952,
           0.004286429606040465,
           0.013275517884394347,
           0.005135089042172237,
           0.007519339582425908,
           0.0025530189706532798,
           0.002270741971653446,
           0.005888040584014433,
           0.008326851014687197,
           0.001357822385570612,
           0.0009387121342485797,
           0.0014169839218040679,
           0.0013399780830285616,
           0
          ],
          "color": "rgba(7, 7, 7, .2)",
          "type": "data",
          "visible": true
         },
         "marker": {
          "color": "purple",
          "opacity": 0.6,
          "size": 15
         },
         "mode": "lines+markers",
         "name": "",
         "opacity": 0.6,
         "type": "scatter",
         "uid": "4d3d0f16-f0d1-4a79-84a8-df3ae9ce20d2",
         "x": [
          "Fe",
          "picoeuk_abundance",
          "prochloro_abundance",
          "lat",
          "sst",
          "lon",
          "chl",
          "sss",
          "density_WOA_clim",
          "PO4",
          "O2",
          "nitrate_WOA_clim",
          "phosphate_WOA_clim",
          "silicate_WOA_clim",
          "NO3"
         ],
         "y": [
          0.8199774178578966,
          0.07294800012769878,
          0.03006447000751916,
          0.028987281684367736,
          0.018136304716579003,
          0.011012546544142745,
          0.005293320438648497,
          0.004315224947335888,
          0.0030705513667143606,
          0.0023938938873727346,
          0.001713128761290204,
          0.0007745803041394171,
          0.0007562670705557587,
          0.0005570122857388543,
          0
         ]
        }
       ],
       "layout": {
        "autosize": false,
        "height": 400,
        "title": {
         "text": "Predictors For synecho_abundance"
        },
        "width": 800,
        "xaxis": {
         "title": {
          "text": ""
         }
        },
        "yaxis": {
         "title": {
          "text": "Feature Relative Importance"
         }
        }
       }
      },
      "text/html": [
       "<div>\n",
       "        \n",
       "        \n",
       "            <div id=\"8977c153-7be0-4f1d-b42e-31ba6b68067a\" class=\"plotly-graph-div\" style=\"height:400px; width:800px;\"></div>\n",
       "            <script type=\"text/javascript\">\n",
       "                require([\"plotly\"], function(Plotly) {\n",
       "                    window.PLOTLYENV=window.PLOTLYENV || {};\n",
       "                    window.PLOTLYENV.BASE_URL='https://plot.ly';\n",
       "                    \n",
       "                if (document.getElementById(\"8977c153-7be0-4f1d-b42e-31ba6b68067a\")) {\n",
       "                    Plotly.newPlot(\n",
       "                        '8977c153-7be0-4f1d-b42e-31ba6b68067a',\n",
       "                        [{\"error_y\": {\"array\": [0.015106513611105854, 0.002590282377997952, 0.004286429606040465, 0.013275517884394347, 0.005135089042172237, 0.007519339582425908, 0.0025530189706532798, 0.002270741971653446, 0.005888040584014433, 0.008326851014687197, 0.001357822385570612, 0.0009387121342485797, 0.0014169839218040679, 0.0013399780830285616, 0.0], \"color\": \"rgba(7, 7, 7, .2)\", \"type\": \"data\", \"visible\": true}, \"marker\": {\"color\": \"purple\", \"opacity\": 0.6, \"size\": 15}, \"mode\": \"lines+markers\", \"name\": \"\", \"opacity\": 0.6, \"type\": \"scatter\", \"uid\": \"4d3d0f16-f0d1-4a79-84a8-df3ae9ce20d2\", \"x\": [\"Fe\", \"picoeuk_abundance\", \"prochloro_abundance\", \"lat\", \"sst\", \"lon\", \"chl\", \"sss\", \"density_WOA_clim\", \"PO4\", \"O2\", \"nitrate_WOA_clim\", \"phosphate_WOA_clim\", \"silicate_WOA_clim\", \"NO3\"], \"y\": [0.8199774178578966, 0.07294800012769878, 0.03006447000751916, 0.028987281684367736, 0.018136304716579003, 0.011012546544142745, 0.005293320438648497, 0.004315224947335888, 0.0030705513667143606, 0.0023938938873727346, 0.001713128761290204, 0.0007745803041394171, 0.0007562670705557587, 0.0005570122857388543, 0.0]}],\n",
       "                        {\"autosize\": false, \"height\": 400, \"title\": {\"text\": \"Predictors For synecho_abundance\"}, \"width\": 800, \"xaxis\": {\"title\": {\"text\": \"\"}}, \"yaxis\": {\"title\": {\"text\": \"Feature Relative Importance\"}}},\n",
       "                        {\"showLink\": true, \"editable\": false, \"staticPlot\": false, \"linkText\": \"Export to plot.ly\", \"plotlyServerURL\": \"https://plot.ly\", \"responsive\": true}\n",
       "                    ).then(function(){\n",
       "                            \n",
       "var gd = document.getElementById('8977c153-7be0-4f1d-b42e-31ba6b68067a');\n",
       "var x = new MutationObserver(function (mutations, observer) {{\n",
       "        var display = window.getComputedStyle(gd).display;\n",
       "        if (!display || display === 'none') {{\n",
       "            console.log([gd, 'removed!']);\n",
       "            Plotly.purge(gd);\n",
       "            observer.disconnect();\n",
       "        }}\n",
       "}});\n",
       "\n",
       "// Listen for the removal of the full notebook cells\n",
       "var notebookContainer = gd.closest('#notebook-container');\n",
       "if (notebookContainer) {{\n",
       "    x.observe(notebookContainer, {childList: true});\n",
       "}}\n",
       "\n",
       "// Listen for the clearing of the current output cell\n",
       "var outputEl = gd.closest('.output');\n",
       "if (outputEl) {{\n",
       "    x.observe(outputEl, {childList: true});\n",
       "}}\n",
       "\n",
       "                        })\n",
       "                };\n",
       "                });\n",
       "            </script>\n",
       "        </div>"
      ]
     },
     "metadata": {},
     "output_type": "display_data"
    },
    {
     "name": "stdout",
     "output_type": "stream",
     "text": [
      "************************************\n",
      "Test size proportion: 0.20\n",
      "XTrain shape: (9783, 15)\n",
      "yTrain shape: (9783,)\n",
      "XTest shape: (2446, 15)\n",
      "yTest shape: (2446,)\n",
      "\n",
      "Evaluation Results:\n",
      "\n",
      "\tRoot Mean Squared Error: 0.01\n",
      "\tModel Score: 0.9995\n",
      "\n",
      "Feature Importance:\n",
      "\n",
      "\tFe                   Importance: 0.82\n",
      "\tpicoeuk_abundance    Importance: 0.07\n",
      "\tlat                  Importance: 0.03\n",
      "\tprochloro_abundance  Importance: 0.03\n",
      "\tsst                  Importance: 0.02\n",
      "\tlon                  Importance: 0.01\n",
      "\tchl                  Importance: 0.01\n",
      "\tsss                  Importance: 0.0\n",
      "\tNO3                  Importance: 0.0\n",
      "\tO2                   Importance: 0.0\n",
      "\tPO4                  Importance: 0.0\n",
      "\tdensity_WOA_clim     Importance: 0.0\n",
      "\tnitrate_WOA_clim     Importance: 0.0\n",
      "\tphosphate_WOA_clim   Importance: 0.0\n",
      "\tsilicate_WOA_clim    Importance: 0.0\n",
      "************************************\n"
     ]
    }
   ],
   "source": [
    "from pycmap.supervised import RandomForest\n",
    "\n",
    "model = RandomForest(df, 'synecho_abundance', max_features='auto', test_size=0.2)\n",
    "model.learn()\n",
    "model.plot_feature_importance()\n",
    "model.report()"
   ]
  },
  {
   "cell_type": "code",
   "execution_count": null,
   "metadata": {},
   "outputs": [],
   "source": [
    "from pycmap.supervised import RandomForest\n",
    "\n",
    "model = RandomForest(df, 'picoeuk_abundance', max_features='sqrt')\n",
    "model.learn()\n",
    "model.plot_feature_importance()\n",
    "model.report()"
   ]
  },
  {
   "cell_type": "code",
   "execution_count": null,
   "metadata": {},
   "outputs": [],
   "source": [
    "from pycmap.supervised import RandomForest\n",
    "\n",
    "model = RandomForest(df, 'prochloro_abundance')\n",
    "model.learn()\n",
    "model.plot_feature_importance()\n",
    "model.report()"
   ]
  },
  {
   "cell_type": "code",
   "execution_count": null,
   "metadata": {},
   "outputs": [],
   "source": [
    "from pycmap.annotatedHeatmap import AnnotatedHeatmap\n",
    "\n",
    "corr = df.corr(method='spearman')\n",
    "go = AnnotatedHeatmap().graph_obj()        \n",
    "go.x = list(corr.columns)\n",
    "go.y = list(corr.columns)\n",
    "go.z = corr.values\n",
    "go.cmap = 'coolwarm' \n",
    "go.vmin = -1\n",
    "go.vmax = 1\n",
    "go.variable = 'SeaFlow'\n",
    "go.xlabel = ''\n",
    "go.ylabel = ''\n",
    "go.width = 700\n",
    "go.height = 700\n",
    "go.render()"
   ]
  },
  {
   "cell_type": "code",
   "execution_count": null,
   "metadata": {},
   "outputs": [],
   "source": []
  },
  {
   "cell_type": "code",
   "execution_count": null,
   "metadata": {},
   "outputs": [],
   "source": []
  },
  {
   "cell_type": "code",
   "execution_count": null,
   "metadata": {},
   "outputs": [],
   "source": []
  },
  {
   "cell_type": "code",
   "execution_count": null,
   "metadata": {},
   "outputs": [],
   "source": []
  },
  {
   "cell_type": "code",
   "execution_count": null,
   "metadata": {},
   "outputs": [],
   "source": [
    "from pycmap.supervised import ExtraTrees\n",
    "\n",
    "model = ExtraTrees(df, 'synecho_abundance')\n",
    "model.learn()\n",
    "model.plot_feature_importance()\n",
    "model.report()"
   ]
  },
  {
   "cell_type": "code",
   "execution_count": null,
   "metadata": {},
   "outputs": [],
   "source": [
    "from pycmap.supervised import ExtraTrees\n",
    "\n",
    "model = ExtraTrees(df, 'picoeuk_abundance')\n",
    "model.learn()\n",
    "model.plot_feature_importance()\n",
    "model.report()"
   ]
  },
  {
   "cell_type": "code",
   "execution_count": null,
   "metadata": {},
   "outputs": [],
   "source": [
    "\n",
    "from pycmap.supervised import ExtraTrees\n",
    "\n",
    "model = ExtraTrees(df, 'prochloro_abundance')\n",
    "model.learn()\n",
    "model.plot_feature_importance()\n",
    "model.report()"
   ]
  },
  {
   "cell_type": "code",
   "execution_count": null,
   "metadata": {},
   "outputs": [],
   "source": [
    "from pycmap.supervised import GradientBoost\n",
    "\n",
    "model = GradientBoost(df, 'synecho_abundance')\n",
    "model.learn()\n",
    "\n",
    "model.report()"
   ]
  },
  {
   "cell_type": "code",
   "execution_count": null,
   "metadata": {},
   "outputs": [],
   "source": []
  },
  {
   "cell_type": "code",
   "execution_count": null,
   "metadata": {},
   "outputs": [],
   "source": [
    "api.query('select count(*) from tblPisces_NRT')"
   ]
  },
  {
   "cell_type": "code",
   "execution_count": null,
   "metadata": {},
   "outputs": [],
   "source": [
    "api.cruise_by_name('km13')"
   ]
  },
  {
   "cell_type": "code",
   "execution_count": null,
   "metadata": {},
   "outputs": [],
   "source": [
    "api.head('tblESV')"
   ]
  },
  {
   "cell_type": "code",
   "execution_count": null,
   "metadata": {},
   "outputs": [],
   "source": []
  }
 ],
 "metadata": {
  "kernelspec": {
   "display_name": "Python 3",
   "language": "python",
   "name": "python3"
  },
  "language_info": {
   "codemirror_mode": {
    "name": "ipython",
    "version": 3
   },
   "file_extension": ".py",
   "mimetype": "text/x-python",
   "name": "python",
   "nbconvert_exporter": "python",
   "pygments_lexer": "ipython3",
   "version": "3.7.1"
  }
 },
 "nbformat": 4,
 "nbformat_minor": 2
}
