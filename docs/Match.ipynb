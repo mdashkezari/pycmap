{
 "cells": [
  {
   "cell_type": "markdown",
   "metadata": {},
   "source": [
    "<!--NAVIGATION-->\n",
    "< [Cruise Trajectory](CruiseTrajectory.ipynb) | [Index](Index.ipynb) | [Match (colocalize) Cruise Track with Datasets](MatchCruise.ipynb) >\n",
    "\n",
    "<a href=\"https://colab.research.google.com/github/simonscmap/pycmap/blob/master/docs/Match.ipynb\"><img align=\"left\" src=\"https://colab.research.google.com/assets/colab-badge.svg\" alt=\"Open in Colab\" title=\"Open and Execute in Google Colaboratory\"></a>"
   ]
  },
  {
   "cell_type": "markdown",
   "metadata": {},
   "source": [
    "## *match(sourceTable, sourceVar, targetTables, targetVars, dt1, dt2, lat1, lat2, lon1, lon2, depth1, depth2, temporalTolerance, latTolerance, lonTolerance, depthTolerance)*\n",
    "\n",
    "Colocalizes the source variable (from source table) with the target variable (from target table). The matching results rely on the tolerance parameters because they set the matching boundaries between the source and target datasets. Notice the source has to be a single non-climatological variable. You may pass empty string ('') as source variable if you only want to get the time and location info from the source table. Please note that the number of matching entries between each target variable and the source variable might vary depending on the temporal and spatial resolutions of the target variable. In principle, if the source dataset is fully covered by the target variable's spatio-temporal range, there should always be matching results if the tolerance parameters are larger than half of their corresponding spatial/temporal resolutions. Please explore the [catalog](Catalog.ipynb) to find appropriate target  variables. \n",
    "\n",
    "<br />This method returns a dataframe containing the source variable joined with the target variable(s).\n"
   ]
  },
  {
   "cell_type": "markdown",
   "metadata": {},
   "source": [
    "### Note\n",
    "Currently, the 'match' method is not optimized for matching very large subsets of massive datasets such as models and satellites. It would be best to use this method to colocalize in-situ measurements such as station-based or underway cruise datasets (which are typically 'small') with any other datasets (models, satellites, or other observations). \n",
    "<br />Stay tuned!"
   ]
  },
  {
   "cell_type": "markdown",
   "metadata": {},
   "source": [
    "> **Parameters:** \n",
    ">> **sourceTable: string**\n",
    ">>  <br />Table name of the source dataset. A full list of table names can be found in [catalog](Catalog.ipynb).\n",
    ">> <br />\n",
    ">> <br />**sourceVar: string**\n",
    ">>  <br />The source variable short name. The target variables are matched (colocalized) with this variable. A full list of variable short names can be found in [catalog](Catalog.ipynb).\n",
    ">> <br />\n",
    ">> <br />**targetTables: list of string**\n",
    ">>  <br />Table names of the target datasets to be matched with the source data. Notice source dataset can be matched with multiple target datasets. A full list of table names can be found in [catalog](Catalog.ipynb).\n",
    ">> <br />\n",
    ">> <br />**targetVars: list of string**\n",
    ">>  <br />Variable short names to be matched with the source variable. A full list of variable short names can be found in [catalog](Catalog.ipynb).\n",
    ">> <br />\n",
    ">> <br />**dt1: string**\n",
    ">>  <br />Start date or datetime. Both source and target datasets are filtered before matching. This parameter sets the lower bound of the temporal cut.\n",
    ">> <br />\n",
    ">> <br />**dt2: string**\n",
    ">>  <br />End date or datetime. Both source and target datasets are filtered before matching. This parameter sets the upper bound of the temporal cut.\n",
    ">> <br />\n",
    ">> <br />**lat1: float**\n",
    ">>  <br />Start latitude [degree N]. Both source and target datasets are filtered before matching. This parameter sets the lower bound of the meridional cut. Note latitude ranges from -90 to 90 degrees.\n",
    ">> <br />\n",
    ">> <br />**lat2: float**\n",
    ">>  <br />End latitude [degree N]. Both source and target datasets are filtered before matching. This parameter sets the upper bound of the meridional cut. Note latitude ranges from -90 to 90 degrees.\n",
    ">> <br />\n",
    ">> <br />**lon1: float**\n",
    ">>  <br />Start longitude [degree E]. Both source and target datasets are filtered before matching. This parameter sets the lower bound of the zonal cut. Note longitude ranges from -180 to 180 degrees.\n",
    ">> <br />\n",
    ">> <br />**lon2: float**\n",
    ">>  <br />End longitude [degree E]. Both source and target datasets are filtered before matching. This parameter sets the upper bound of the zonal cut. Note longitude ranges from -180 to 180 degrees.\n",
    ">> <br />\n",
    ">> <br />**depth1: float**\n",
    ">>  <br />Start depth [m]. Both source and target datasets are filtered before matching. This parameter sets the lower bound of the vertical cut. Note depth is a positive number (depth is 0 at surface and grows towards ocean floor).\n",
    ">> <br />\n",
    ">> <br />**depth2: float**\n",
    ">>  <br />End depth [m]. Both source and target datasets are filtered before matching. This parameter sets the upper bound of the vertical cut. Note depth is a positive number (depth is 0 at surface and grows towards ocean floor).\n",
    ">> <br />\n",
    ">> <br />**temporalTolerance: list of int**\n",
    ">> <br />Temporal tolerance values between pairs of source and target datasets. The size and order of values in this list should match those of targetTables. If only a single integer value is given, that would be applied to all target datasets. This parameter is in day units except when the target variable represents monthly climatology data in which case it is in month units. Notice fractional values are not supported in the current version.\n",
    ">> <br />\n",
    ">> <br />**latTolerance: list of float or int**\n",
    ">> <br />Spatial tolerance values in meridional direction [deg] between pairs of source and target datasets. The size and order of values in this list should match those of targetTables. If only a single float value is given, that would be applied to all target datasets. A \"safe\" value for this parameter can be slightly larger than the half of the traget variable's spatial resolution.\n",
    ">> <br />\n",
    ">> <br />**lonTolerance: list of float or int**\n",
    ">> <br />Spatial tolerance values in zonal direction [deg] between pairs of source and target datasets. The size and order of values in this list should match those of targetTables. If only a single float value is given, that would be applied to all target datasets. A \"safe\" value for this parameter can be slightly larger than the half of the traget variable's spatial resolution.\n",
    ">> <br />\n",
    ">> <br />**depthTolerance: list of float or int**\n",
    ">> <br />Spatial tolerance values in vertical direction [m] between pairs of source and target datasets. The size and order of values in this list should match those of targetTables. If only a single float value is given, that would be applied to all target datasets. \n",
    "\n",
    ">**Returns:** \n",
    ">>  Pandas dataframe."
   ]
  },
  {
   "cell_type": "markdown",
   "metadata": {},
   "source": [
    "### Example 1\n",
    "\n",
    "In this example the abundance of a prochlorococcus strain (MIT9313PCR, see lines 5-6) measured by [Chisholm lab](https://chisholmlab.mit.edu/) during the AMT13 cruise (Atlantic Meridional Transect Cruise 13) is colocalized with 3 target variables (lines 7-8):<br />\n",
    "* 'MIT9312PCR_Chisholm' from the same source dataset\n",
    "* 'phosphate_WOA_clim' from World Ocean Atlas monthly climatology dataset\n",
    "* 'chl' (chlorophyll) from weekly averaged satellite dataset\n",
    "\n",
    "<br />**Tip1:**<br /> \n",
    "The space-time cut parameters (lines 9-16) have been set in such a way to encompass the entire source dataset 'tblAMT13_Chisholm' (see the [dataset page](https://cmap.readthedocs.io/en/latest/catalog/datasets/Chisholm_AMT13.html#chisholm-amt13) for more details). Notice that the last data point at the source dataset has been measured at '2003-10-12 12:44:00'. For simplicity dt2 has been set to '2003-10-13', but you could also use the exact date-time '2003-10-12 12:44:00'. \n",
    "\n",
    "<br />**Tip2:**<br /> \n",
    "AMT13 cruise trajectory is already in Simons CMAP database. Therefore, another way to find reasonable values for the space-time cut parameters (lines 9-16) is to use the outputs of the following command:<br />\n",
    "`api.cruise_bounds('AMT13')`\n",
    "\n",
    "<br />**Tip3:**<br /> \n",
    "The temporalTolerance parameter is set to [0, 0, 1] (line 17). This means:\n",
    "* &#177;0 day temporal tolerance when matching with 'MIT9312PCR_Chisholm' (exact date-time matching)\n",
    "* &#177;0 month temporal tolerance when matching with 'phosphate_WOA_clim'  (this is a monthly climatology dataset)\n",
    "* &#177;4 day temporal tolerance when matching with 'chl' (this is a weekly averaged dataset)\n",
    "\n",
    "<br />**Tip4:**<br /> \n",
    "The latTolerance and lonTolerance parameters are set to [0, 0.5, 0.25] (lines 18-19). This means:\n",
    "* &#177;0 degree spatial tolerances (in meridional and zonal directions) when matching with 'MIT9312PCR_Chisholm' (exact lat/lon matching)\n",
    "* &#177;0.5 degrees spatial tolerances (in meridional and zonal directions) when matching with 'phosphate_WOA_clim'  (this dataset has a 1 degree spatial resolution)\n",
    "* &#177;0.25 degrees spatial tolerances (in meridional and zonal directions) when matching with 'chl'. This dataset has 0.25 degree spatial resolution which means one may reduce the spatial tolerance for this target dataset down to 0.25/2 = 0.125 degrees.\n",
    "\n",
    "<br />**Tip5:**<br /> \n",
    "The depthTolerance parameter is set to [0, 5, 0] (line 20). This means:\n",
    "* &#177;0 meters vertical tolerances when matching with 'MIT9312PCR_Chisholm' (exact depth matching)\n",
    "* &#177;5 meters vertical tolerances when matching with 'phosphate_WOA_clim' (note that this dataset, similar to model outputs, does not have uniform depth levels)"
   ]
  },
  {
   "cell_type": "code",
   "execution_count": null,
   "metadata": {},
   "outputs": [],
   "source": [
    "#!pip install pycmap -q     #uncomment to install pycmap, if necessary\n",
    "\n",
    "import pycmap\n",
    "\n",
    "api = pycmap.API(token='<YOUR_API_KEY>')\n",
    "api.match(\n",
    "         sourceTable='tblAMT13_Chisholm', \n",
    "         sourceVar='MIT9313PCR_Chisholm',\n",
    "         targetTables=['tblAMT13_Chisholm', 'tblWOA_Climatology', 'tblChl_REP'],\n",
    "         targetVars=['MIT9312PCR_Chisholm', 'phosphate_WOA_clim', 'chl'],\n",
    "         dt1='2003-09-14', \n",
    "         dt2='2003-10-13', \n",
    "         lat1=-48, \n",
    "         lat2=48, \n",
    "         lon1=-52, \n",
    "         lon2=-11, \n",
    "         depth1=0, \n",
    "         depth2=240, \n",
    "         temporalTolerance=[0, 0, 1],\n",
    "         latTolerance=[0, 0.5, 0.25],\n",
    "         lonTolerance=[0, 0.5, 0.25],\n",
    "         depthTolerance=[0, 5, 0]\n",
    "         )"
   ]
  },
  {
   "cell_type": "markdown",
   "metadata": {},
   "source": [
    "<br /><br />\n",
    "\n",
    "\n",
    "### Example 2\n",
    "\n",
    "The source variable in this example is particulate pseudo cobalamin ('Me_PseudoCobalamin_Particulate_pM' see lines 5-6) measured by [Ingalls lab](https://sites.google.com/view/anitra-ingalls) during the KM1315 cruise (see [dataset page](https://cmap.readthedocs.io/en/latest/catalog/datasets/cobalamines.html#cobalamins) for more details). This variable is colocalized with one target variabele, 'picoprokaryote' concentration, from [Darwin model](http://darwinproject.mit.edu/) (lines 7-8). The colocalized data, then is visualized. please review the above Example 1, since the mentioned tips apply to this example too.\n",
    "\n",
    "\n",
    "<br />**Tip1:**<br /> \n",
    "The employed Darwin model outputs in this example is a 3-day averaged dataset, and therefore &#177;2 day temporal tolerance is used (line 17).\n",
    "\n",
    "<br />**Tip2:**<br /> \n",
    "The employed Darwin model outputs in this example has a 0.5 degree spatial resolution in zonal and meridional directions, and so &#177;0.25 degree spatial tolerance is used (line 18-19).\n",
    "\n",
    "<br />**Tip3:**<br /> \n",
    "Darwin model first depth level is at 5 m (not 0), and so &#177;5 meter vertical tolerance should cover all surface measurements (line 20).\n"
   ]
  },
  {
   "cell_type": "code",
   "execution_count": 3,
   "metadata": {},
   "outputs": [
    {
     "data": {
      "application/vnd.jupyter.widget-view+json": {
       "model_id": "327a553013fd4cc6b23f5256d1f2c5cc",
       "version_major": 2,
       "version_minor": 0
      },
      "text/plain": [
       "HBox(children=(IntProgress(value=0, description='overall', max=1, style=ProgressStyle(description_width='initi…"
      ]
     },
     "metadata": {},
     "output_type": "display_data"
    },
    {
     "name": "stdout",
     "output_type": "stream",
     "text": [
      "\n",
      "1: picoprokaryote matched.\n",
      "\n"
     ]
    },
    {
     "data": {
      "image/png": "[encoded data removed]",
      "text/plain": [
       "<Figure size 432x288 with 1 Axes>"
      ]
     },
     "metadata": {
      "needs_background": "light"
     },
     "output_type": "display_data"
    }
   ],
   "source": [
    "# !pip install pycmap -q     # uncomment to install pycmap, if necessary\n",
    "\n",
    "%matplotlib inline\n",
    "import matplotlib.pyplot as plt\n",
    "import pycmap\n",
    "\n",
    "api = pycmap.API(token='<YOUR_API_KEY>')\n",
    "df = api.match(\n",
    "              sourceTable='tblKM1314_Cobalmins', \n",
    "              sourceVar='Me_PseudoCobalamin_Particulate_pM',\n",
    "              targetTables=['tblDarwin_Phytoplankton'],\n",
    "              targetVars=['picoprokaryote'],\n",
    "              dt1='2013-08-11', \n",
    "              dt2='2013-09-05', \n",
    "              lat1=22.5, \n",
    "              lat2=50, \n",
    "              lon1=-159, \n",
    "              lon2=-128, \n",
    "              depth1=0, \n",
    "              depth2=300, \n",
    "              temporalTolerance=[2],\n",
    "              latTolerance=[0.25],\n",
    "              lonTolerance=[0.25],\n",
    "              depthTolerance=[5]\n",
    "              )\n",
    "\n",
    "\n",
    "plt.plot(df['picoprokaryote'], df['Me_PseudoCobalamin_Particulate_pM'], '.')\n",
    "plt.xlabel('picoprokaryote' + api.get_unit('tblDarwin_Phytoplankton', 'picoprokaryote'))\n",
    "plt.ylabel('Me_PseudoCobalamin_Particulate_pM' + api.get_unit('tblKM1314_Cobalmins', 'Me_PseudoCobalamin_Particulate_pM'))\n",
    "plt.show() "
   ]
  },
  {
   "cell_type": "code",
   "execution_count": null,
   "metadata": {},
   "outputs": [],
   "source": []
  }
 ],
 "metadata": {
  "kernelspec": {
   "display_name": "Python 3",
   "language": "python",
   "name": "python3"
  },
  "language_info": {
   "codemirror_mode": {
    "name": "ipython",
    "version": 3
   },
   "file_extension": ".py",
   "mimetype": "text/x-python",
   "name": "python",
   "nbconvert_exporter": "python",
   "pygments_lexer": "ipython3",
   "version": "3.7.3"
  }
 },
 "nbformat": 4,
 "nbformat_minor": 2
}
